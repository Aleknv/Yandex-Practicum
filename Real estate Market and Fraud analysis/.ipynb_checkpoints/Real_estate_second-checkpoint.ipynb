{
 "cells": [
  {
   "cell_type": "markdown",
   "id": "6f47c51e",
   "metadata": {
    "id": "6f47c51e"
   },
   "source": [
    "<div style=\"border-radius: 15px; border: 3px solid indigo; padding: 15px;\">\n",
    "<b> Комментарий ревьюера</b>\n",
    "    \n",
    "Привет! Меня зовут Светлана Носова, я буду проверять твой проект. Если не против, давай общаться на «ты». Если тебе такой стиль общения не нравится, напиши об этом, будем на «вы».\n",
    "\n",
    "Сразу хочу обратить внимание на цветовую разметку.\n",
    "\n",
    "<div class=\"alert alert-success\" style=\"border-radius: 15px; box-shadow: 4px 4px 4px; border: 1px solid \">\n",
    "\n",
    "Зеленым отмечены отличные решения и идеи, которые можно и нужно использовать в будущем.\n",
    "</div>\n",
    "    \n",
    "<div class=\"alert alert-warning\" style=\"border-radius: 15px; box-shadow: 4px 4px 4px; border: 1px solid \">\n",
    "\n",
    "Желтым отмечено то, что можно или нужно оптимизировать, в зависимости от контекста.</div>    \n",
    "    \n",
    "<div class=\"alert alert-danger\" style=\"border-radius: 15px; box-shadow: 4px 4px 4px; border: 1px solid \">\n",
    "\n",
    "Красным  обозначены пропущенные пункты задания и ошибки, которые обязательно надо будет исправить, чтобы результаты были верные.</div>\n",
    "    \n",
    "**Ответы на мои комментарии или доработки по моим рекомендациям попрошу выделить каким-нибудь цветом, кроме перечисленных.**\n",
    "Также я попрошу тебя **не менять, не передвигать и не удалять мои комментарии**, чтобы при последующей проверке мне было проще ориентироваться.\n",
    "    \n",
    "Кроме того, комментарии у меня обозначены как заголовки. Это сбивает содержание, но при последующей проверке я могу снять с них заголовок, если тебе так будет удобнее. При этом они удобны, поскольку ты сразу можешь перейти к ним.   \n",
    "        \n",
    "<hr>\n",
    "    \n",
    "**По проекту:** работа очень объемная и непростая, ты молодец. На первый взгляд, структура хорошая, много анализа и выводов. Хорошо проработаны пропущенные значения. К сожалению, указан локальный путь к файлу, поэтому я не могу проверить работу полность. Посмотрела лишь код заполнения пропусков и комментарии к нему. Буду ждать работу на повторное ревью.\n",
    "    \n",
    "\n",
    "</div>    "
   ]
  },
  {
   "cell_type": "markdown",
   "id": "16bcd826",
   "metadata": {
    "id": "16bcd826"
   },
   "source": [
    "<div class=\"alert alert-warning\" style=\"border-radius: 15px; box-shadow: 4px 4px 4px; border: 1px solid \">\n",
    "<b> Комментарий ревьюера</b>\n",
    "    \n",
    "Вводный параграф это неотъемлемая часть любого проекта, отчета, презентации или статьи. Будет очень здорово, если ты добавишь постановку задачи: краткое ее описание и описание данных.\n",
    "</div>"
   ]
  },
  {
   "cell_type": "markdown",
   "id": "cb88f296",
   "metadata": {},
   "source": [
    "# Real estate market research and fraud analysis"
   ]
  },
  {
   "cell_type": "markdown",
   "id": "e6b5a19f",
   "metadata": {},
   "source": [
    "## Summary\n",
    "\n",
    "<div style=\"border-radius: 15px; border: 3px solid indigo; padding: 15px; font-size: 20px;\">\n",
    "From the dataset of archived ads for the sale of apartments in St. Petersburg and nearby area, we need to determine the market value of real estate properties. \n",
    "\n",
    "We need to establish the parameters to build an automated system that detects anomalies and fraudulent activity.\n",
    "\n",
    "For each apartment listing, there are two types of data available. The first type is provided by the user, and the second type is automatically generated based on cartographic data.\n",
    "</div>"
   ]
  },
  {
   "cell_type": "markdown",
   "id": "7bb33bf2",
   "metadata": {
    "id": "7bb33bf2"
   },
   "source": [
    "<strong><em><h1>Step 1 and Step 2. Opening the table and preprocessing the data</em></strong></h1>"
   ]
  },
  {
   "cell_type": "markdown",
   "id": "6422f1c2",
   "metadata": {
    "id": "6422f1c2"
   },
   "source": [
    "<h4><div class=\"alert alert-block alert-info\">\n",
    "To start, let's import the table and analyze which columns have missing values.</div></h4>"
   ]
  },
  {
   "cell_type": "code",
   "execution_count": 1,
   "id": "1986c819",
   "metadata": {
    "id": "1986c819"
   },
   "outputs": [],
   "source": [
    "import pandas as pd\n",
    "import numpy as np\n",
    "import matplotlib.pyplot as plt"
   ]
  },
  {
   "cell_type": "code",
   "execution_count": 2,
   "id": "8552bf08",
   "metadata": {
    "colab": {
     "base_uri": "https://localhost:8080/",
     "height": 369
    },
    "id": "8552bf08",
    "outputId": "17734c29-7ef0-40ff-8b98-d7feb6ca864e"
   },
   "outputs": [
    {
     "data": {
      "text/html": [
       "<div>\n",
       "<style scoped>\n",
       "    .dataframe tbody tr th:only-of-type {\n",
       "        vertical-align: middle;\n",
       "    }\n",
       "\n",
       "    .dataframe tbody tr th {\n",
       "        vertical-align: top;\n",
       "    }\n",
       "\n",
       "    .dataframe thead th {\n",
       "        text-align: right;\n",
       "    }\n",
       "</style>\n",
       "<table border=\"1\" class=\"dataframe\">\n",
       "  <thead>\n",
       "    <tr style=\"text-align: right;\">\n",
       "      <th></th>\n",
       "      <th>total_images</th>\n",
       "      <th>last_price</th>\n",
       "      <th>total_area</th>\n",
       "      <th>first_day_exposition</th>\n",
       "      <th>rooms</th>\n",
       "      <th>ceiling_height</th>\n",
       "      <th>floors_total</th>\n",
       "      <th>living_area</th>\n",
       "      <th>floor</th>\n",
       "      <th>is_apartment</th>\n",
       "      <th>...</th>\n",
       "      <th>kitchen_area</th>\n",
       "      <th>balcony</th>\n",
       "      <th>locality_name</th>\n",
       "      <th>airports_nearest</th>\n",
       "      <th>cityCenters_nearest</th>\n",
       "      <th>parks_around3000</th>\n",
       "      <th>parks_nearest</th>\n",
       "      <th>ponds_around3000</th>\n",
       "      <th>ponds_nearest</th>\n",
       "      <th>days_exposition</th>\n",
       "    </tr>\n",
       "  </thead>\n",
       "  <tbody>\n",
       "    <tr>\n",
       "      <th>23694</th>\n",
       "      <td>9</td>\n",
       "      <td>9700000.0</td>\n",
       "      <td>133.81</td>\n",
       "      <td>2017-03-21T00:00:00</td>\n",
       "      <td>3</td>\n",
       "      <td>3.7</td>\n",
       "      <td>5.0</td>\n",
       "      <td>73.3</td>\n",
       "      <td>3</td>\n",
       "      <td>NaN</td>\n",
       "      <td>...</td>\n",
       "      <td>13.83</td>\n",
       "      <td>NaN</td>\n",
       "      <td>Санкт-Петербург</td>\n",
       "      <td>24665.0</td>\n",
       "      <td>4232.0</td>\n",
       "      <td>1.0</td>\n",
       "      <td>796.0</td>\n",
       "      <td>3.0</td>\n",
       "      <td>381.0</td>\n",
       "      <td>NaN</td>\n",
       "    </tr>\n",
       "    <tr>\n",
       "      <th>23695</th>\n",
       "      <td>14</td>\n",
       "      <td>3100000.0</td>\n",
       "      <td>59.00</td>\n",
       "      <td>2018-01-15T00:00:00</td>\n",
       "      <td>3</td>\n",
       "      <td>NaN</td>\n",
       "      <td>5.0</td>\n",
       "      <td>38.0</td>\n",
       "      <td>4</td>\n",
       "      <td>NaN</td>\n",
       "      <td>...</td>\n",
       "      <td>8.50</td>\n",
       "      <td>NaN</td>\n",
       "      <td>Тосно</td>\n",
       "      <td>NaN</td>\n",
       "      <td>NaN</td>\n",
       "      <td>NaN</td>\n",
       "      <td>NaN</td>\n",
       "      <td>NaN</td>\n",
       "      <td>NaN</td>\n",
       "      <td>45.0</td>\n",
       "    </tr>\n",
       "    <tr>\n",
       "      <th>23696</th>\n",
       "      <td>18</td>\n",
       "      <td>2500000.0</td>\n",
       "      <td>56.70</td>\n",
       "      <td>2018-02-11T00:00:00</td>\n",
       "      <td>2</td>\n",
       "      <td>NaN</td>\n",
       "      <td>3.0</td>\n",
       "      <td>29.7</td>\n",
       "      <td>1</td>\n",
       "      <td>NaN</td>\n",
       "      <td>...</td>\n",
       "      <td>NaN</td>\n",
       "      <td>NaN</td>\n",
       "      <td>село Рождествено</td>\n",
       "      <td>NaN</td>\n",
       "      <td>NaN</td>\n",
       "      <td>NaN</td>\n",
       "      <td>NaN</td>\n",
       "      <td>NaN</td>\n",
       "      <td>NaN</td>\n",
       "      <td>NaN</td>\n",
       "    </tr>\n",
       "    <tr>\n",
       "      <th>23697</th>\n",
       "      <td>13</td>\n",
       "      <td>11475000.0</td>\n",
       "      <td>76.75</td>\n",
       "      <td>2017-03-28T00:00:00</td>\n",
       "      <td>2</td>\n",
       "      <td>3.0</td>\n",
       "      <td>17.0</td>\n",
       "      <td>NaN</td>\n",
       "      <td>12</td>\n",
       "      <td>NaN</td>\n",
       "      <td>...</td>\n",
       "      <td>23.30</td>\n",
       "      <td>2.0</td>\n",
       "      <td>Санкт-Петербург</td>\n",
       "      <td>39140.0</td>\n",
       "      <td>10364.0</td>\n",
       "      <td>2.0</td>\n",
       "      <td>173.0</td>\n",
       "      <td>3.0</td>\n",
       "      <td>196.0</td>\n",
       "      <td>602.0</td>\n",
       "    </tr>\n",
       "    <tr>\n",
       "      <th>23698</th>\n",
       "      <td>4</td>\n",
       "      <td>1350000.0</td>\n",
       "      <td>32.30</td>\n",
       "      <td>2017-07-21T00:00:00</td>\n",
       "      <td>1</td>\n",
       "      <td>2.5</td>\n",
       "      <td>5.0</td>\n",
       "      <td>12.3</td>\n",
       "      <td>1</td>\n",
       "      <td>NaN</td>\n",
       "      <td>...</td>\n",
       "      <td>9.00</td>\n",
       "      <td>NaN</td>\n",
       "      <td>поселок Новый Учхоз</td>\n",
       "      <td>NaN</td>\n",
       "      <td>NaN</td>\n",
       "      <td>NaN</td>\n",
       "      <td>NaN</td>\n",
       "      <td>NaN</td>\n",
       "      <td>NaN</td>\n",
       "      <td>NaN</td>\n",
       "    </tr>\n",
       "  </tbody>\n",
       "</table>\n",
       "<p>5 rows × 22 columns</p>\n",
       "</div>"
      ],
      "text/plain": [
       "       total_images  last_price  total_area first_day_exposition  rooms  \\\n",
       "23694             9   9700000.0      133.81  2017-03-21T00:00:00      3   \n",
       "23695            14   3100000.0       59.00  2018-01-15T00:00:00      3   \n",
       "23696            18   2500000.0       56.70  2018-02-11T00:00:00      2   \n",
       "23697            13  11475000.0       76.75  2017-03-28T00:00:00      2   \n",
       "23698             4   1350000.0       32.30  2017-07-21T00:00:00      1   \n",
       "\n",
       "       ceiling_height  floors_total  living_area  floor is_apartment  ...  \\\n",
       "23694             3.7           5.0         73.3      3          NaN  ...   \n",
       "23695             NaN           5.0         38.0      4          NaN  ...   \n",
       "23696             NaN           3.0         29.7      1          NaN  ...   \n",
       "23697             3.0          17.0          NaN     12          NaN  ...   \n",
       "23698             2.5           5.0         12.3      1          NaN  ...   \n",
       "\n",
       "       kitchen_area  balcony        locality_name  airports_nearest  \\\n",
       "23694         13.83      NaN      Санкт-Петербург           24665.0   \n",
       "23695          8.50      NaN                Тосно               NaN   \n",
       "23696           NaN      NaN     село Рождествено               NaN   \n",
       "23697         23.30      2.0      Санкт-Петербург           39140.0   \n",
       "23698          9.00      NaN  поселок Новый Учхоз               NaN   \n",
       "\n",
       "      cityCenters_nearest  parks_around3000  parks_nearest  ponds_around3000  \\\n",
       "23694              4232.0               1.0          796.0               3.0   \n",
       "23695                 NaN               NaN            NaN               NaN   \n",
       "23696                 NaN               NaN            NaN               NaN   \n",
       "23697             10364.0               2.0          173.0               3.0   \n",
       "23698                 NaN               NaN            NaN               NaN   \n",
       "\n",
       "       ponds_nearest  days_exposition  \n",
       "23694          381.0              NaN  \n",
       "23695            NaN             45.0  \n",
       "23696            NaN              NaN  \n",
       "23697          196.0            602.0  \n",
       "23698            NaN              NaN  \n",
       "\n",
       "[5 rows x 22 columns]"
      ]
     },
     "execution_count": 2,
     "metadata": {},
     "output_type": "execute_result"
    }
   ],
   "source": [
    "real = pd.read_csv('https://code.s3.yandex.net/datasets/real_estate_data.csv', sep = '\\t')\n",
    "real.tail()"
   ]
  },
  {
   "cell_type": "code",
   "execution_count": 3,
   "id": "e5e2ec8b",
   "metadata": {
    "colab": {
     "base_uri": "https://localhost:8080/"
    },
    "id": "e5e2ec8b",
    "outputId": "410a4a32-858c-4ca6-a447-e059f409bb8b"
   },
   "outputs": [
    {
     "name": "stdout",
     "output_type": "stream",
     "text": [
      "<class 'pandas.core.frame.DataFrame'>\n",
      "RangeIndex: 23699 entries, 0 to 23698\n",
      "Data columns (total 22 columns):\n",
      " #   Column                Non-Null Count  Dtype  \n",
      "---  ------                --------------  -----  \n",
      " 0   total_images          23699 non-null  int64  \n",
      " 1   last_price            23699 non-null  float64\n",
      " 2   total_area            23699 non-null  float64\n",
      " 3   first_day_exposition  23699 non-null  object \n",
      " 4   rooms                 23699 non-null  int64  \n",
      " 5   ceiling_height        14504 non-null  float64\n",
      " 6   floors_total          23613 non-null  float64\n",
      " 7   living_area           21796 non-null  float64\n",
      " 8   floor                 23699 non-null  int64  \n",
      " 9   is_apartment          2775 non-null   object \n",
      " 10  studio                23699 non-null  bool   \n",
      " 11  open_plan             23699 non-null  bool   \n",
      " 12  kitchen_area          21421 non-null  float64\n",
      " 13  balcony               12180 non-null  float64\n",
      " 14  locality_name         23650 non-null  object \n",
      " 15  airports_nearest      18157 non-null  float64\n",
      " 16  cityCenters_nearest   18180 non-null  float64\n",
      " 17  parks_around3000      18181 non-null  float64\n",
      " 18  parks_nearest         8079 non-null   float64\n",
      " 19  ponds_around3000      18181 non-null  float64\n",
      " 20  ponds_nearest         9110 non-null   float64\n",
      " 21  days_exposition       20518 non-null  float64\n",
      "dtypes: bool(2), float64(14), int64(3), object(3)\n",
      "memory usage: 3.7+ MB\n"
     ]
    }
   ],
   "source": [
    "real.info()"
   ]
  },
  {
   "cell_type": "markdown",
   "id": "cffdf089",
   "metadata": {
    "id": "cffdf089"
   },
   "source": [
    "<div class=\"alert alert-block alert-info\">\n",
    "    <h5>Comments on the table:</h5>\n",
    "    \n",
    "1) The total number of rows is 23,699, which is confirmed by the large number of columns with the same count.\n",
    "    \n",
    "2) \"last price\" needs to be converted to an integer format since dealing with decimals in real estate can be confusing.\n",
    "\n",
    "3) \"first_day_exposition\" should be converted to a time format and rounded to the nearest day.\n",
    "    \n",
    "4) \"ceiling_height\" has missing values for more than half of the height indicators. We need to find analogs based on the address and fill in the height where possible.\n",
    "    \n",
    "5) \"floors_total\" has a small number of missing values.\n",
    "    \n",
    "6) \"living_area\" has missing values relative to the number of columns. There is a hypothesis that the absence of values in the living area and kitchen area may be related to the boolean parameter \"open-plan.\" If the layout is open-plan, there will be no kitchen or living area.\n",
    "    \n",
    "7) \"is_apartment\" has too few filled values. It is likely that changing the dtype to bool will resolve the issue.\n",
    "    \n",
    "8) \"kitchen_area\" has no missing values. We need to check if they are related to missing values in the living area. There is a hypothesis that in some apartments, the kitchen is combined with the living room, so there is no separate kitchen area. We will investigate further.\n",
    "    \n",
    "9) \"balcony\" has more than half of the values not filled in. Most likely, where there is no balcony, nothing was recorded.\n",
    "    \n",
    "10) \"locality_name\" has a small number of missing values. Since this parameter is important, we will omit the missing values.\n",
    "    \n",
    "11) \"airport_nearest,\" \"parks_around3000,\" \"ponds_around3000,\" \"parks_nearest,\" \"ponds_nearest,\" and \"cityCenters_nearest\" have a large number of missing values, which is likely due to human error during ad posting. I will try to find this information and incorporate it into the table.\n",
    "    \n",
    "12) \"days_exposition\" has almost 3000 missing values. I will try to fill them with the average value of similar objects with a known duration.</div>"
   ]
  },
  {
   "cell_type": "markdown",
   "id": "966acffd",
   "metadata": {
    "id": "966acffd"
   },
   "source": [
    "<div class=\"alert alert-block alert-info\">\n",
    "    <h5>Let's start with simple actions:</h5>\n",
    "2) Changing the data type of \"last_price\" to int.\n",
    "7) Changing the data type of \"is_apartment\" to bool.\n",
    "</div>"
   ]
  },
  {
   "cell_type": "code",
   "execution_count": 4,
   "id": "7a391db3",
   "metadata": {
    "colab": {
     "base_uri": "https://localhost:8080/"
    },
    "id": "7a391db3",
    "outputId": "26904828-6e29-4a6c-b8ef-8fee10ce769f"
   },
   "outputs": [
    {
     "name": "stdout",
     "output_type": "stream",
     "text": [
      "<class 'pandas.core.frame.DataFrame'>\n",
      "RangeIndex: 23699 entries, 0 to 23698\n",
      "Data columns (total 22 columns):\n",
      " #   Column                Non-Null Count  Dtype  \n",
      "---  ------                --------------  -----  \n",
      " 0   total_images          23699 non-null  int64  \n",
      " 1   last_price            23699 non-null  int64  \n",
      " 2   total_area            23699 non-null  float64\n",
      " 3   first_day_exposition  23699 non-null  object \n",
      " 4   rooms                 23699 non-null  int64  \n",
      " 5   ceiling_height        14504 non-null  float64\n",
      " 6   floors_total          23613 non-null  float64\n",
      " 7   living_area           21796 non-null  float64\n",
      " 8   floor                 23699 non-null  int64  \n",
      " 9   is_apartment          23699 non-null  bool   \n",
      " 10  studio                23699 non-null  bool   \n",
      " 11  open_plan             23699 non-null  bool   \n",
      " 12  kitchen_area          21421 non-null  float64\n",
      " 13  balcony               12180 non-null  float64\n",
      " 14  locality_name         23650 non-null  object \n",
      " 15  airports_nearest      18157 non-null  float64\n",
      " 16  cityCenters_nearest   18180 non-null  float64\n",
      " 17  parks_around3000      18181 non-null  float64\n",
      " 18  parks_nearest         8079 non-null   float64\n",
      " 19  ponds_around3000      18181 non-null  float64\n",
      " 20  ponds_nearest         9110 non-null   float64\n",
      " 21  days_exposition       20518 non-null  float64\n",
      "dtypes: bool(3), float64(13), int64(4), object(2)\n",
      "memory usage: 3.5+ MB\n"
     ]
    }
   ],
   "source": [
    "real['is_apartment'] = real['is_apartment'].astype(bool)\n",
    "real['last_price'] = real['last_price'].astype(int)\n",
    "real.info()"
   ]
  },
  {
   "cell_type": "markdown",
   "id": "a8b50f8f",
   "metadata": {
    "id": "a8b50f8f"
   },
   "source": [
    "<div class=\"alert alert-block alert-info\">\n",
    "3) Converting \"first_day_exposition\" to a datetime format and rounding it to the nearest day.</div>"
   ]
  },
  {
   "cell_type": "code",
   "execution_count": 5,
   "id": "dcef2f1d",
   "metadata": {
    "colab": {
     "base_uri": "https://localhost:8080/",
     "height": 386
    },
    "id": "dcef2f1d",
    "outputId": "daa7002c-0fdc-43f1-9015-33739a29b765"
   },
   "outputs": [
    {
     "data": {
      "text/html": [
       "<div>\n",
       "<style scoped>\n",
       "    .dataframe tbody tr th:only-of-type {\n",
       "        vertical-align: middle;\n",
       "    }\n",
       "\n",
       "    .dataframe tbody tr th {\n",
       "        vertical-align: top;\n",
       "    }\n",
       "\n",
       "    .dataframe thead th {\n",
       "        text-align: right;\n",
       "    }\n",
       "</style>\n",
       "<table border=\"1\" class=\"dataframe\">\n",
       "  <thead>\n",
       "    <tr style=\"text-align: right;\">\n",
       "      <th></th>\n",
       "      <th>total_images</th>\n",
       "      <th>last_price</th>\n",
       "      <th>total_area</th>\n",
       "      <th>first_day_exposition</th>\n",
       "      <th>rooms</th>\n",
       "      <th>ceiling_height</th>\n",
       "      <th>floors_total</th>\n",
       "      <th>living_area</th>\n",
       "      <th>floor</th>\n",
       "      <th>is_apartment</th>\n",
       "      <th>...</th>\n",
       "      <th>balcony</th>\n",
       "      <th>locality_name</th>\n",
       "      <th>airports_nearest</th>\n",
       "      <th>cityCenters_nearest</th>\n",
       "      <th>parks_around3000</th>\n",
       "      <th>parks_nearest</th>\n",
       "      <th>ponds_around3000</th>\n",
       "      <th>ponds_nearest</th>\n",
       "      <th>days_exposition</th>\n",
       "      <th>time_to_day</th>\n",
       "    </tr>\n",
       "  </thead>\n",
       "  <tbody>\n",
       "    <tr>\n",
       "      <th>0</th>\n",
       "      <td>20</td>\n",
       "      <td>13000000</td>\n",
       "      <td>108.0</td>\n",
       "      <td>2019-03-07T00:00:00</td>\n",
       "      <td>3</td>\n",
       "      <td>2.70</td>\n",
       "      <td>16.0</td>\n",
       "      <td>51.0</td>\n",
       "      <td>8</td>\n",
       "      <td>True</td>\n",
       "      <td>...</td>\n",
       "      <td>NaN</td>\n",
       "      <td>Санкт-Петербург</td>\n",
       "      <td>18863.0</td>\n",
       "      <td>16028.0</td>\n",
       "      <td>1.0</td>\n",
       "      <td>482.0</td>\n",
       "      <td>2.0</td>\n",
       "      <td>755.0</td>\n",
       "      <td>NaN</td>\n",
       "      <td>2019-03-07</td>\n",
       "    </tr>\n",
       "    <tr>\n",
       "      <th>1</th>\n",
       "      <td>7</td>\n",
       "      <td>3350000</td>\n",
       "      <td>40.4</td>\n",
       "      <td>2018-12-04T00:00:00</td>\n",
       "      <td>1</td>\n",
       "      <td>NaN</td>\n",
       "      <td>11.0</td>\n",
       "      <td>18.6</td>\n",
       "      <td>1</td>\n",
       "      <td>True</td>\n",
       "      <td>...</td>\n",
       "      <td>2.0</td>\n",
       "      <td>посёлок Шушары</td>\n",
       "      <td>12817.0</td>\n",
       "      <td>18603.0</td>\n",
       "      <td>0.0</td>\n",
       "      <td>NaN</td>\n",
       "      <td>0.0</td>\n",
       "      <td>NaN</td>\n",
       "      <td>81.0</td>\n",
       "      <td>2018-12-04</td>\n",
       "    </tr>\n",
       "    <tr>\n",
       "      <th>2</th>\n",
       "      <td>10</td>\n",
       "      <td>5196000</td>\n",
       "      <td>56.0</td>\n",
       "      <td>2015-08-20T00:00:00</td>\n",
       "      <td>2</td>\n",
       "      <td>NaN</td>\n",
       "      <td>5.0</td>\n",
       "      <td>34.3</td>\n",
       "      <td>4</td>\n",
       "      <td>True</td>\n",
       "      <td>...</td>\n",
       "      <td>0.0</td>\n",
       "      <td>Санкт-Петербург</td>\n",
       "      <td>21741.0</td>\n",
       "      <td>13933.0</td>\n",
       "      <td>1.0</td>\n",
       "      <td>90.0</td>\n",
       "      <td>2.0</td>\n",
       "      <td>574.0</td>\n",
       "      <td>558.0</td>\n",
       "      <td>2015-08-20</td>\n",
       "    </tr>\n",
       "    <tr>\n",
       "      <th>3</th>\n",
       "      <td>0</td>\n",
       "      <td>64900000</td>\n",
       "      <td>159.0</td>\n",
       "      <td>2015-07-24T00:00:00</td>\n",
       "      <td>3</td>\n",
       "      <td>NaN</td>\n",
       "      <td>14.0</td>\n",
       "      <td>NaN</td>\n",
       "      <td>9</td>\n",
       "      <td>True</td>\n",
       "      <td>...</td>\n",
       "      <td>0.0</td>\n",
       "      <td>Санкт-Петербург</td>\n",
       "      <td>28098.0</td>\n",
       "      <td>6800.0</td>\n",
       "      <td>2.0</td>\n",
       "      <td>84.0</td>\n",
       "      <td>3.0</td>\n",
       "      <td>234.0</td>\n",
       "      <td>424.0</td>\n",
       "      <td>2015-07-24</td>\n",
       "    </tr>\n",
       "    <tr>\n",
       "      <th>4</th>\n",
       "      <td>2</td>\n",
       "      <td>10000000</td>\n",
       "      <td>100.0</td>\n",
       "      <td>2018-06-19T00:00:00</td>\n",
       "      <td>2</td>\n",
       "      <td>3.03</td>\n",
       "      <td>14.0</td>\n",
       "      <td>32.0</td>\n",
       "      <td>13</td>\n",
       "      <td>True</td>\n",
       "      <td>...</td>\n",
       "      <td>NaN</td>\n",
       "      <td>Санкт-Петербург</td>\n",
       "      <td>31856.0</td>\n",
       "      <td>8098.0</td>\n",
       "      <td>2.0</td>\n",
       "      <td>112.0</td>\n",
       "      <td>1.0</td>\n",
       "      <td>48.0</td>\n",
       "      <td>121.0</td>\n",
       "      <td>2018-06-19</td>\n",
       "    </tr>\n",
       "  </tbody>\n",
       "</table>\n",
       "<p>5 rows × 23 columns</p>\n",
       "</div>"
      ],
      "text/plain": [
       "   total_images  last_price  total_area first_day_exposition  rooms  \\\n",
       "0            20    13000000       108.0  2019-03-07T00:00:00      3   \n",
       "1             7     3350000        40.4  2018-12-04T00:00:00      1   \n",
       "2            10     5196000        56.0  2015-08-20T00:00:00      2   \n",
       "3             0    64900000       159.0  2015-07-24T00:00:00      3   \n",
       "4             2    10000000       100.0  2018-06-19T00:00:00      2   \n",
       "\n",
       "   ceiling_height  floors_total  living_area  floor  is_apartment  ...  \\\n",
       "0            2.70          16.0         51.0      8          True  ...   \n",
       "1             NaN          11.0         18.6      1          True  ...   \n",
       "2             NaN           5.0         34.3      4          True  ...   \n",
       "3             NaN          14.0          NaN      9          True  ...   \n",
       "4            3.03          14.0         32.0     13          True  ...   \n",
       "\n",
       "   balcony    locality_name  airports_nearest  cityCenters_nearest  \\\n",
       "0      NaN  Санкт-Петербург           18863.0              16028.0   \n",
       "1      2.0   посёлок Шушары           12817.0              18603.0   \n",
       "2      0.0  Санкт-Петербург           21741.0              13933.0   \n",
       "3      0.0  Санкт-Петербург           28098.0               6800.0   \n",
       "4      NaN  Санкт-Петербург           31856.0               8098.0   \n",
       "\n",
       "  parks_around3000  parks_nearest  ponds_around3000  ponds_nearest  \\\n",
       "0              1.0          482.0               2.0          755.0   \n",
       "1              0.0            NaN               0.0            NaN   \n",
       "2              1.0           90.0               2.0          574.0   \n",
       "3              2.0           84.0               3.0          234.0   \n",
       "4              2.0          112.0               1.0           48.0   \n",
       "\n",
       "   days_exposition  time_to_day  \n",
       "0              NaN   2019-03-07  \n",
       "1             81.0   2018-12-04  \n",
       "2            558.0   2015-08-20  \n",
       "3            424.0   2015-07-24  \n",
       "4            121.0   2018-06-19  \n",
       "\n",
       "[5 rows x 23 columns]"
      ]
     },
     "execution_count": 5,
     "metadata": {},
     "output_type": "execute_result"
    }
   ],
   "source": [
    "real['time_to_day'] = pd.to_datetime(real['first_day_exposition'], format='%Y-%m-%dT%H:%M:%S')\n",
    "#real['time_to_day'] = real['first_day_exposition'].real.round('1D')\n",
    "real.head()"
   ]
  },
  {
   "cell_type": "markdown",
   "id": "1913b823",
   "metadata": {
    "id": "1913b823"
   },
   "source": [
    "<div class=\"alert alert-block alert-info\">\n",
    "Note: Rounding was not necessary since the time was already set to zeros in all cases. The system automatically removed the hours.</div>"
   ]
  },
  {
   "cell_type": "markdown",
   "id": "7379e0f8",
   "metadata": {
    "id": "7379e0f8"
   },
   "source": [
    "<div class=\"alert alert-block alert-info\">\n",
    "4) \"ceiling_height\" has a large number of missing values. Let's look for correlations:</div>"
   ]
  },
  {
   "cell_type": "code",
   "execution_count": 6,
   "id": "ef3bf806",
   "metadata": {
    "colab": {
     "base_uri": "https://localhost:8080/"
    },
    "id": "ef3bf806",
    "outputId": "716407c4-1eee-4cb3-d6c6-3429baff51e3"
   },
   "outputs": [
    {
     "data": {
      "text/plain": [
       "array([  2.7 ,    nan,   3.03,   2.5 ,   2.67,   2.56,   3.05,   2.75,\n",
       "         2.6 ,   2.9 ,   2.8 ,   2.55,   3.  ,   2.65,   3.2 ,   2.61,\n",
       "         3.25,   3.45,   2.77,   2.85,   2.64,   2.57,   4.15,   3.5 ,\n",
       "         3.3 ,   2.71,   4.  ,   2.47,   2.73,   2.84,   3.1 ,   2.34,\n",
       "         3.4 ,   3.06,   2.72,   2.54,   2.51,   2.78,   2.76,  25.  ,\n",
       "         2.58,   3.7 ,   2.52,   5.2 ,   2.87,   2.66,   2.59,   2.  ,\n",
       "         2.45,   3.6 ,   2.92,   3.11,   3.13,   3.8 ,   3.15,   3.55,\n",
       "         3.16,   3.62,   3.12,   2.53,   2.74,   2.96,   2.46,   5.3 ,\n",
       "         5.  ,   2.79,   2.95,   4.06,   2.94,   3.82,   3.54,   3.53,\n",
       "         2.83,   4.7 ,   2.4 ,   3.38,   3.01,   5.6 ,   3.65,   3.9 ,\n",
       "         3.18,   3.35,   2.3 ,   3.57,   2.48,   2.62,   2.82,   3.98,\n",
       "         2.63,   3.83,   3.52,   3.95,   3.75,   2.88,   3.67,   3.87,\n",
       "         3.66,   3.85,   3.86,   4.19,   3.24,   4.8 ,   4.5 ,   4.2 ,\n",
       "         3.36,  32.  ,   3.08,   3.68,   3.07,   3.37,   3.09,   8.  ,\n",
       "         3.26,   3.34,   2.81,   3.44,   2.97,   3.14,   4.37,   2.68,\n",
       "         3.22,   3.27,  27.  ,   4.1 ,   2.93,   3.46,  24.  ,   3.47,\n",
       "         3.33,   3.63,   3.32,  26.  ,   1.2 ,   8.3 ,   2.98,   2.86,\n",
       "         3.17,   4.4 ,   3.28,   3.04,   4.45,   5.5 ,   3.84,   3.23,\n",
       "         3.02,   3.21,   3.43,   3.78,   4.3 ,   3.39,   2.69,   3.31,\n",
       "         4.65,   3.56,   2.2 ,   3.51,   3.93,   3.42,   2.99,   3.49,\n",
       "        14.  ,   4.14,   2.91,   3.88,   1.75,   4.25,   3.29,  20.  ,\n",
       "         2.25,   3.76,   3.69,   6.  ,  22.6 ,   2.89,   3.58,   5.8 ,\n",
       "        27.5 ,   2.49,   4.9 ,   3.48,  10.3 ,   1.  , 100.  ,   3.59])"
      ]
     },
     "execution_count": 6,
     "metadata": {},
     "output_type": "execute_result"
    }
   ],
   "source": [
    "real['ceiling_height'].unique()"
   ]
  },
  {
   "cell_type": "code",
   "execution_count": 7,
   "id": "40572526",
   "metadata": {
    "colab": {
     "base_uri": "https://localhost:8080/"
    },
    "id": "40572526",
    "outputId": "66a2b5ae-5718-4be9-a8b1-b7fd09d9f2d2"
   },
   "outputs": [
    {
     "data": {
      "text/plain": [
       "27.0     8\n",
       "25.0     7\n",
       "8.0      3\n",
       "5.3      2\n",
       "32.0     2\n",
       "14.0     1\n",
       "5.2      1\n",
       "6.0      1\n",
       "8.3      1\n",
       "5.6      1\n",
       "5.8      1\n",
       "10.3     1\n",
       "5.5      1\n",
       "20.0     1\n",
       "26.0     1\n",
       "22.6     1\n",
       "27.5     1\n",
       "24.0     1\n",
       "100.0    1\n",
       "Name: ceiling_height, dtype: int64"
      ]
     },
     "execution_count": 7,
     "metadata": {},
     "output_type": "execute_result"
    }
   ],
   "source": [
    "real['ceiling_height'].loc[real['ceiling_height'] > 5].value_counts()\n",
    "#.sort_values(by = 'ceiling_height', ascending = True)"
   ]
  },
  {
   "cell_type": "markdown",
   "id": "4350f0da",
   "metadata": {
    "id": "4350f0da"
   },
   "source": [
    "<div class=\"alert alert-block alert-info\">\n",
    "By examining the boundary between reasonable and unreasonable values, it appears to fall between 5.2 (an expensive 300 sqm apartment in St. Petersburg) and 5.3 (50 sqm with such high ceilings is unreasonable).\n",
    "The hypothesis is as follows: values in the range of 20.0 to 32.0 can be explained by incorrect placement of the decimal point, so these values should be corrected by dividing them by 10.</div>"
   ]
  },
  {
   "cell_type": "code",
   "execution_count": 8,
   "id": "7feffa38",
   "metadata": {
    "colab": {
     "base_uri": "https://localhost:8080/",
     "height": 498
    },
    "id": "7feffa38",
    "outputId": "12f6160a-2371-435f-ec9d-95c24356b818"
   },
   "outputs": [
    {
     "data": {
      "text/html": [
       "<div>\n",
       "<style scoped>\n",
       "    .dataframe tbody tr th:only-of-type {\n",
       "        vertical-align: middle;\n",
       "    }\n",
       "\n",
       "    .dataframe tbody tr th {\n",
       "        vertical-align: top;\n",
       "    }\n",
       "\n",
       "    .dataframe thead th {\n",
       "        text-align: right;\n",
       "    }\n",
       "</style>\n",
       "<table border=\"1\" class=\"dataframe\">\n",
       "  <thead>\n",
       "    <tr style=\"text-align: right;\">\n",
       "      <th></th>\n",
       "      <th>total_images</th>\n",
       "      <th>last_price</th>\n",
       "      <th>total_area</th>\n",
       "      <th>first_day_exposition</th>\n",
       "      <th>rooms</th>\n",
       "      <th>ceiling_height</th>\n",
       "      <th>floors_total</th>\n",
       "      <th>living_area</th>\n",
       "      <th>floor</th>\n",
       "      <th>is_apartment</th>\n",
       "      <th>...</th>\n",
       "      <th>balcony</th>\n",
       "      <th>locality_name</th>\n",
       "      <th>airports_nearest</th>\n",
       "      <th>cityCenters_nearest</th>\n",
       "      <th>parks_around3000</th>\n",
       "      <th>parks_nearest</th>\n",
       "      <th>ponds_around3000</th>\n",
       "      <th>ponds_nearest</th>\n",
       "      <th>days_exposition</th>\n",
       "      <th>time_to_day</th>\n",
       "    </tr>\n",
       "  </thead>\n",
       "  <tbody>\n",
       "    <tr>\n",
       "      <th>4876</th>\n",
       "      <td>7</td>\n",
       "      <td>3000000</td>\n",
       "      <td>25.0</td>\n",
       "      <td>2017-09-27T00:00:00</td>\n",
       "      <td>0</td>\n",
       "      <td>27.0</td>\n",
       "      <td>25.0</td>\n",
       "      <td>17.0</td>\n",
       "      <td>17</td>\n",
       "      <td>True</td>\n",
       "      <td>...</td>\n",
       "      <td>2.0</td>\n",
       "      <td>посёлок Мурино</td>\n",
       "      <td>NaN</td>\n",
       "      <td>NaN</td>\n",
       "      <td>NaN</td>\n",
       "      <td>NaN</td>\n",
       "      <td>NaN</td>\n",
       "      <td>NaN</td>\n",
       "      <td>28.0</td>\n",
       "      <td>2017-09-27</td>\n",
       "    </tr>\n",
       "    <tr>\n",
       "      <th>5246</th>\n",
       "      <td>0</td>\n",
       "      <td>2500000</td>\n",
       "      <td>54.0</td>\n",
       "      <td>2017-10-13T00:00:00</td>\n",
       "      <td>2</td>\n",
       "      <td>27.0</td>\n",
       "      <td>5.0</td>\n",
       "      <td>30.0</td>\n",
       "      <td>3</td>\n",
       "      <td>True</td>\n",
       "      <td>...</td>\n",
       "      <td>2.0</td>\n",
       "      <td>деревня Мины</td>\n",
       "      <td>NaN</td>\n",
       "      <td>NaN</td>\n",
       "      <td>NaN</td>\n",
       "      <td>NaN</td>\n",
       "      <td>NaN</td>\n",
       "      <td>NaN</td>\n",
       "      <td>540.0</td>\n",
       "      <td>2017-10-13</td>\n",
       "    </tr>\n",
       "    <tr>\n",
       "      <th>5807</th>\n",
       "      <td>17</td>\n",
       "      <td>8150000</td>\n",
       "      <td>80.0</td>\n",
       "      <td>2019-01-09T00:00:00</td>\n",
       "      <td>2</td>\n",
       "      <td>27.0</td>\n",
       "      <td>36.0</td>\n",
       "      <td>41.0</td>\n",
       "      <td>13</td>\n",
       "      <td>True</td>\n",
       "      <td>...</td>\n",
       "      <td>5.0</td>\n",
       "      <td>Санкт-Петербург</td>\n",
       "      <td>18732.0</td>\n",
       "      <td>20444.0</td>\n",
       "      <td>0.0</td>\n",
       "      <td>NaN</td>\n",
       "      <td>3.0</td>\n",
       "      <td>80.0</td>\n",
       "      <td>38.0</td>\n",
       "      <td>2019-01-09</td>\n",
       "    </tr>\n",
       "    <tr>\n",
       "      <th>10773</th>\n",
       "      <td>8</td>\n",
       "      <td>3800000</td>\n",
       "      <td>58.0</td>\n",
       "      <td>2017-10-13T00:00:00</td>\n",
       "      <td>2</td>\n",
       "      <td>27.0</td>\n",
       "      <td>10.0</td>\n",
       "      <td>30.1</td>\n",
       "      <td>3</td>\n",
       "      <td>False</td>\n",
       "      <td>...</td>\n",
       "      <td>2.0</td>\n",
       "      <td>посёлок Мурино</td>\n",
       "      <td>NaN</td>\n",
       "      <td>NaN</td>\n",
       "      <td>NaN</td>\n",
       "      <td>NaN</td>\n",
       "      <td>NaN</td>\n",
       "      <td>NaN</td>\n",
       "      <td>71.0</td>\n",
       "      <td>2017-10-13</td>\n",
       "    </tr>\n",
       "    <tr>\n",
       "      <th>17857</th>\n",
       "      <td>1</td>\n",
       "      <td>3900000</td>\n",
       "      <td>56.0</td>\n",
       "      <td>2017-12-22T00:00:00</td>\n",
       "      <td>3</td>\n",
       "      <td>27.0</td>\n",
       "      <td>5.0</td>\n",
       "      <td>33.0</td>\n",
       "      <td>4</td>\n",
       "      <td>False</td>\n",
       "      <td>...</td>\n",
       "      <td>NaN</td>\n",
       "      <td>Санкт-Петербург</td>\n",
       "      <td>41030.0</td>\n",
       "      <td>15543.0</td>\n",
       "      <td>0.0</td>\n",
       "      <td>NaN</td>\n",
       "      <td>0.0</td>\n",
       "      <td>NaN</td>\n",
       "      <td>73.0</td>\n",
       "      <td>2017-12-22</td>\n",
       "    </tr>\n",
       "    <tr>\n",
       "      <th>20478</th>\n",
       "      <td>11</td>\n",
       "      <td>8000000</td>\n",
       "      <td>45.0</td>\n",
       "      <td>2017-07-18T00:00:00</td>\n",
       "      <td>1</td>\n",
       "      <td>27.0</td>\n",
       "      <td>4.0</td>\n",
       "      <td>22.0</td>\n",
       "      <td>2</td>\n",
       "      <td>True</td>\n",
       "      <td>...</td>\n",
       "      <td>1.0</td>\n",
       "      <td>Санкт-Петербург</td>\n",
       "      <td>18975.0</td>\n",
       "      <td>3246.0</td>\n",
       "      <td>0.0</td>\n",
       "      <td>NaN</td>\n",
       "      <td>3.0</td>\n",
       "      <td>449.0</td>\n",
       "      <td>429.0</td>\n",
       "      <td>2017-07-18</td>\n",
       "    </tr>\n",
       "    <tr>\n",
       "      <th>21824</th>\n",
       "      <td>20</td>\n",
       "      <td>2450000</td>\n",
       "      <td>44.0</td>\n",
       "      <td>2019-02-12T00:00:00</td>\n",
       "      <td>2</td>\n",
       "      <td>27.0</td>\n",
       "      <td>2.0</td>\n",
       "      <td>38.0</td>\n",
       "      <td>2</td>\n",
       "      <td>False</td>\n",
       "      <td>...</td>\n",
       "      <td>2.0</td>\n",
       "      <td>городской поселок Большая Ижора</td>\n",
       "      <td>NaN</td>\n",
       "      <td>NaN</td>\n",
       "      <td>NaN</td>\n",
       "      <td>NaN</td>\n",
       "      <td>NaN</td>\n",
       "      <td>NaN</td>\n",
       "      <td>NaN</td>\n",
       "      <td>2019-02-12</td>\n",
       "    </tr>\n",
       "    <tr>\n",
       "      <th>22938</th>\n",
       "      <td>14</td>\n",
       "      <td>4000000</td>\n",
       "      <td>98.0</td>\n",
       "      <td>2018-03-15T00:00:00</td>\n",
       "      <td>4</td>\n",
       "      <td>27.0</td>\n",
       "      <td>2.0</td>\n",
       "      <td>73.0</td>\n",
       "      <td>2</td>\n",
       "      <td>True</td>\n",
       "      <td>...</td>\n",
       "      <td>1.0</td>\n",
       "      <td>деревня Нижняя</td>\n",
       "      <td>NaN</td>\n",
       "      <td>NaN</td>\n",
       "      <td>NaN</td>\n",
       "      <td>NaN</td>\n",
       "      <td>NaN</td>\n",
       "      <td>NaN</td>\n",
       "      <td>27.0</td>\n",
       "      <td>2018-03-15</td>\n",
       "    </tr>\n",
       "  </tbody>\n",
       "</table>\n",
       "<p>8 rows × 23 columns</p>\n",
       "</div>"
      ],
      "text/plain": [
       "       total_images  last_price  total_area first_day_exposition  rooms  \\\n",
       "4876              7     3000000        25.0  2017-09-27T00:00:00      0   \n",
       "5246              0     2500000        54.0  2017-10-13T00:00:00      2   \n",
       "5807             17     8150000        80.0  2019-01-09T00:00:00      2   \n",
       "10773             8     3800000        58.0  2017-10-13T00:00:00      2   \n",
       "17857             1     3900000        56.0  2017-12-22T00:00:00      3   \n",
       "20478            11     8000000        45.0  2017-07-18T00:00:00      1   \n",
       "21824            20     2450000        44.0  2019-02-12T00:00:00      2   \n",
       "22938            14     4000000        98.0  2018-03-15T00:00:00      4   \n",
       "\n",
       "       ceiling_height  floors_total  living_area  floor  is_apartment  ...  \\\n",
       "4876             27.0          25.0         17.0     17          True  ...   \n",
       "5246             27.0           5.0         30.0      3          True  ...   \n",
       "5807             27.0          36.0         41.0     13          True  ...   \n",
       "10773            27.0          10.0         30.1      3         False  ...   \n",
       "17857            27.0           5.0         33.0      4         False  ...   \n",
       "20478            27.0           4.0         22.0      2          True  ...   \n",
       "21824            27.0           2.0         38.0      2         False  ...   \n",
       "22938            27.0           2.0         73.0      2          True  ...   \n",
       "\n",
       "       balcony                    locality_name  airports_nearest  \\\n",
       "4876       2.0                   посёлок Мурино               NaN   \n",
       "5246       2.0                     деревня Мины               NaN   \n",
       "5807       5.0                  Санкт-Петербург           18732.0   \n",
       "10773      2.0                   посёлок Мурино               NaN   \n",
       "17857      NaN                  Санкт-Петербург           41030.0   \n",
       "20478      1.0                  Санкт-Петербург           18975.0   \n",
       "21824      2.0  городской поселок Большая Ижора               NaN   \n",
       "22938      1.0                   деревня Нижняя               NaN   \n",
       "\n",
       "       cityCenters_nearest parks_around3000  parks_nearest  ponds_around3000  \\\n",
       "4876                   NaN              NaN            NaN               NaN   \n",
       "5246                   NaN              NaN            NaN               NaN   \n",
       "5807               20444.0              0.0            NaN               3.0   \n",
       "10773                  NaN              NaN            NaN               NaN   \n",
       "17857              15543.0              0.0            NaN               0.0   \n",
       "20478               3246.0              0.0            NaN               3.0   \n",
       "21824                  NaN              NaN            NaN               NaN   \n",
       "22938                  NaN              NaN            NaN               NaN   \n",
       "\n",
       "       ponds_nearest  days_exposition  time_to_day  \n",
       "4876             NaN             28.0   2017-09-27  \n",
       "5246             NaN            540.0   2017-10-13  \n",
       "5807            80.0             38.0   2019-01-09  \n",
       "10773            NaN             71.0   2017-10-13  \n",
       "17857            NaN             73.0   2017-12-22  \n",
       "20478          449.0            429.0   2017-07-18  \n",
       "21824            NaN              NaN   2019-02-12  \n",
       "22938            NaN             27.0   2018-03-15  \n",
       "\n",
       "[8 rows x 23 columns]"
      ]
     },
     "execution_count": 8,
     "metadata": {},
     "output_type": "execute_result"
    }
   ],
   "source": [
    "real.query('ceiling_height == 27.0').sort_values(by = 'ceiling_height', ascending = False)"
   ]
  },
  {
   "cell_type": "markdown",
   "id": "4f41ba93",
   "metadata": {
    "id": "4f41ba93"
   },
   "source": [
    "<div class=\"alert alert-block alert-info\">\n",
    "In apartments with 27-meter ceilings, nothing unusual was observed - typical area, typical price. Therefore, the hypothesis is confirmed, and we will make the change accordingly.</div>"
   ]
  },
  {
   "cell_type": "code",
   "execution_count": 9,
   "id": "f36dd74f",
   "metadata": {
    "id": "f36dd74f"
   },
   "outputs": [],
   "source": [
    "import numpy as np"
   ]
  },
  {
   "cell_type": "code",
   "execution_count": 10,
   "id": "b9b529a1",
   "metadata": {
    "colab": {
     "base_uri": "https://localhost:8080/",
     "height": 143
    },
    "id": "b9b529a1",
    "outputId": "e1947a19-c81b-4caf-c78b-36534538babb",
    "scrolled": true
   },
   "outputs": [
    {
     "data": {
      "text/html": [
       "<div>\n",
       "<style scoped>\n",
       "    .dataframe tbody tr th:only-of-type {\n",
       "        vertical-align: middle;\n",
       "    }\n",
       "\n",
       "    .dataframe tbody tr th {\n",
       "        vertical-align: top;\n",
       "    }\n",
       "\n",
       "    .dataframe thead th {\n",
       "        text-align: right;\n",
       "    }\n",
       "</style>\n",
       "<table border=\"1\" class=\"dataframe\">\n",
       "  <thead>\n",
       "    <tr style=\"text-align: right;\">\n",
       "      <th></th>\n",
       "      <th>total_images</th>\n",
       "      <th>last_price</th>\n",
       "      <th>total_area</th>\n",
       "      <th>first_day_exposition</th>\n",
       "      <th>rooms</th>\n",
       "      <th>ceiling_height</th>\n",
       "      <th>floors_total</th>\n",
       "      <th>living_area</th>\n",
       "      <th>floor</th>\n",
       "      <th>is_apartment</th>\n",
       "      <th>...</th>\n",
       "      <th>balcony</th>\n",
       "      <th>locality_name</th>\n",
       "      <th>airports_nearest</th>\n",
       "      <th>cityCenters_nearest</th>\n",
       "      <th>parks_around3000</th>\n",
       "      <th>parks_nearest</th>\n",
       "      <th>ponds_around3000</th>\n",
       "      <th>ponds_nearest</th>\n",
       "      <th>days_exposition</th>\n",
       "      <th>time_to_day</th>\n",
       "    </tr>\n",
       "  </thead>\n",
       "  <tbody>\n",
       "  </tbody>\n",
       "</table>\n",
       "<p>0 rows × 23 columns</p>\n",
       "</div>"
      ],
      "text/plain": [
       "Empty DataFrame\n",
       "Columns: [total_images, last_price, total_area, first_day_exposition, rooms, ceiling_height, floors_total, living_area, floor, is_apartment, studio, open_plan, kitchen_area, balcony, locality_name, airports_nearest, cityCenters_nearest, parks_around3000, parks_nearest, ponds_around3000, ponds_nearest, days_exposition, time_to_day]\n",
       "Index: []\n",
       "\n",
       "[0 rows x 23 columns]"
      ]
     },
     "execution_count": 10,
     "metadata": {},
     "output_type": "execute_result"
    }
   ],
   "source": [
    "#real2 = real['ceiling_height']/10\n",
    "#real1 = real['ceiling_height'].query>\n",
    "#real['ceiling_height'] = np.where(real['ceiling_height']>20, real2)\n",
    "#real.head()\n",
    "real.loc[real['ceiling_height'] > 23 , 'ceiling_height'] /= 10\n",
    "real.query('ceiling_height > 23')\n",
    "\n"
   ]
  },
  {
   "cell_type": "markdown",
   "id": "ceb81cc2",
   "metadata": {
    "id": "ceb81cc2"
   },
   "source": [
    "<div class=\"alert alert-block alert-info\">\n",
    "We have eliminated values with human error, but there are still a few values in the range beyond 5.3 that cannot be explained reasonably. Therefore, it is more reliable to \"zero\" them out and then fill them with the median based on several features.</div>"
   ]
  },
  {
   "cell_type": "code",
   "execution_count": 11,
   "id": "cf03dbea",
   "metadata": {
    "colab": {
     "base_uri": "https://localhost:8080/",
     "height": 839
    },
    "id": "cf03dbea",
    "outputId": "5ed26803-d3a3-448e-a068-71f82c7ec179"
   },
   "outputs": [
    {
     "data": {
      "text/html": [
       "<div>\n",
       "<style scoped>\n",
       "    .dataframe tbody tr th:only-of-type {\n",
       "        vertical-align: middle;\n",
       "    }\n",
       "\n",
       "    .dataframe tbody tr th {\n",
       "        vertical-align: top;\n",
       "    }\n",
       "\n",
       "    .dataframe thead th {\n",
       "        text-align: right;\n",
       "    }\n",
       "</style>\n",
       "<table border=\"1\" class=\"dataframe\">\n",
       "  <thead>\n",
       "    <tr style=\"text-align: right;\">\n",
       "      <th></th>\n",
       "      <th>total_images</th>\n",
       "      <th>last_price</th>\n",
       "      <th>total_area</th>\n",
       "      <th>first_day_exposition</th>\n",
       "      <th>rooms</th>\n",
       "      <th>ceiling_height</th>\n",
       "      <th>floors_total</th>\n",
       "      <th>living_area</th>\n",
       "      <th>floor</th>\n",
       "      <th>is_apartment</th>\n",
       "      <th>...</th>\n",
       "      <th>balcony</th>\n",
       "      <th>locality_name</th>\n",
       "      <th>airports_nearest</th>\n",
       "      <th>cityCenters_nearest</th>\n",
       "      <th>parks_around3000</th>\n",
       "      <th>parks_nearest</th>\n",
       "      <th>ponds_around3000</th>\n",
       "      <th>ponds_nearest</th>\n",
       "      <th>days_exposition</th>\n",
       "      <th>time_to_day</th>\n",
       "    </tr>\n",
       "  </thead>\n",
       "  <tbody>\n",
       "    <tr>\n",
       "      <th>20507</th>\n",
       "      <td>12</td>\n",
       "      <td>5950000</td>\n",
       "      <td>60.0</td>\n",
       "      <td>2018-02-19T00:00:00</td>\n",
       "      <td>2</td>\n",
       "      <td>22.6</td>\n",
       "      <td>14.0</td>\n",
       "      <td>35.0</td>\n",
       "      <td>11</td>\n",
       "      <td>True</td>\n",
       "      <td>...</td>\n",
       "      <td>1.0</td>\n",
       "      <td>Санкт-Петербург</td>\n",
       "      <td>27028.0</td>\n",
       "      <td>12570.0</td>\n",
       "      <td>0.0</td>\n",
       "      <td>NaN</td>\n",
       "      <td>0.0</td>\n",
       "      <td>NaN</td>\n",
       "      <td>40.0</td>\n",
       "      <td>2018-02-19</td>\n",
       "    </tr>\n",
       "    <tr>\n",
       "      <th>17496</th>\n",
       "      <td>15</td>\n",
       "      <td>6700000</td>\n",
       "      <td>92.9</td>\n",
       "      <td>2019-02-19T00:00:00</td>\n",
       "      <td>3</td>\n",
       "      <td>20.0</td>\n",
       "      <td>17.0</td>\n",
       "      <td>53.2</td>\n",
       "      <td>14</td>\n",
       "      <td>True</td>\n",
       "      <td>...</td>\n",
       "      <td>5.0</td>\n",
       "      <td>Санкт-Петербург</td>\n",
       "      <td>16295.0</td>\n",
       "      <td>15092.0</td>\n",
       "      <td>1.0</td>\n",
       "      <td>967.0</td>\n",
       "      <td>0.0</td>\n",
       "      <td>NaN</td>\n",
       "      <td>NaN</td>\n",
       "      <td>2019-02-19</td>\n",
       "    </tr>\n",
       "    <tr>\n",
       "      <th>15061</th>\n",
       "      <td>19</td>\n",
       "      <td>5600000</td>\n",
       "      <td>56.4</td>\n",
       "      <td>2018-05-11T00:00:00</td>\n",
       "      <td>2</td>\n",
       "      <td>14.0</td>\n",
       "      <td>14.0</td>\n",
       "      <td>32.4</td>\n",
       "      <td>5</td>\n",
       "      <td>True</td>\n",
       "      <td>...</td>\n",
       "      <td>2.0</td>\n",
       "      <td>Санкт-Петербург</td>\n",
       "      <td>14814.0</td>\n",
       "      <td>13610.0</td>\n",
       "      <td>0.0</td>\n",
       "      <td>NaN</td>\n",
       "      <td>0.0</td>\n",
       "      <td>NaN</td>\n",
       "      <td>315.0</td>\n",
       "      <td>2018-05-11</td>\n",
       "    </tr>\n",
       "    <tr>\n",
       "      <th>22309</th>\n",
       "      <td>20</td>\n",
       "      <td>5300000</td>\n",
       "      <td>45.0</td>\n",
       "      <td>2017-09-30T00:00:00</td>\n",
       "      <td>1</td>\n",
       "      <td>10.3</td>\n",
       "      <td>16.0</td>\n",
       "      <td>15.5</td>\n",
       "      <td>15</td>\n",
       "      <td>True</td>\n",
       "      <td>...</td>\n",
       "      <td>NaN</td>\n",
       "      <td>Санкт-Петербург</td>\n",
       "      <td>36353.0</td>\n",
       "      <td>11936.0</td>\n",
       "      <td>2.0</td>\n",
       "      <td>440.0</td>\n",
       "      <td>2.0</td>\n",
       "      <td>450.0</td>\n",
       "      <td>136.0</td>\n",
       "      <td>2017-09-30</td>\n",
       "    </tr>\n",
       "    <tr>\n",
       "      <th>22869</th>\n",
       "      <td>0</td>\n",
       "      <td>15000000</td>\n",
       "      <td>25.0</td>\n",
       "      <td>2018-07-25T00:00:00</td>\n",
       "      <td>1</td>\n",
       "      <td>10.0</td>\n",
       "      <td>5.0</td>\n",
       "      <td>14.0</td>\n",
       "      <td>5</td>\n",
       "      <td>True</td>\n",
       "      <td>...</td>\n",
       "      <td>5.0</td>\n",
       "      <td>Санкт-Петербург</td>\n",
       "      <td>34963.0</td>\n",
       "      <td>8283.0</td>\n",
       "      <td>1.0</td>\n",
       "      <td>223.0</td>\n",
       "      <td>3.0</td>\n",
       "      <td>30.0</td>\n",
       "      <td>19.0</td>\n",
       "      <td>2018-07-25</td>\n",
       "    </tr>\n",
       "    <tr>\n",
       "      <th>5863</th>\n",
       "      <td>20</td>\n",
       "      <td>5650000</td>\n",
       "      <td>45.0</td>\n",
       "      <td>2018-08-15T00:00:00</td>\n",
       "      <td>1</td>\n",
       "      <td>8.3</td>\n",
       "      <td>16.0</td>\n",
       "      <td>19.3</td>\n",
       "      <td>14</td>\n",
       "      <td>True</td>\n",
       "      <td>...</td>\n",
       "      <td>1.0</td>\n",
       "      <td>Санкт-Петербург</td>\n",
       "      <td>13069.0</td>\n",
       "      <td>10763.0</td>\n",
       "      <td>0.0</td>\n",
       "      <td>NaN</td>\n",
       "      <td>1.0</td>\n",
       "      <td>613.0</td>\n",
       "      <td>14.0</td>\n",
       "      <td>2018-08-15</td>\n",
       "    </tr>\n",
       "    <tr>\n",
       "      <th>3474</th>\n",
       "      <td>3</td>\n",
       "      <td>1400000</td>\n",
       "      <td>30.0</td>\n",
       "      <td>2018-03-16T00:00:00</td>\n",
       "      <td>1</td>\n",
       "      <td>8.0</td>\n",
       "      <td>5.0</td>\n",
       "      <td>15.3</td>\n",
       "      <td>2</td>\n",
       "      <td>False</td>\n",
       "      <td>...</td>\n",
       "      <td>NaN</td>\n",
       "      <td>деревня Нурма</td>\n",
       "      <td>NaN</td>\n",
       "      <td>NaN</td>\n",
       "      <td>NaN</td>\n",
       "      <td>NaN</td>\n",
       "      <td>NaN</td>\n",
       "      <td>NaN</td>\n",
       "      <td>125.0</td>\n",
       "      <td>2018-03-16</td>\n",
       "    </tr>\n",
       "    <tr>\n",
       "      <th>15743</th>\n",
       "      <td>14</td>\n",
       "      <td>5600000</td>\n",
       "      <td>67.0</td>\n",
       "      <td>2016-11-11T00:00:00</td>\n",
       "      <td>3</td>\n",
       "      <td>8.0</td>\n",
       "      <td>16.0</td>\n",
       "      <td>41.0</td>\n",
       "      <td>1</td>\n",
       "      <td>True</td>\n",
       "      <td>...</td>\n",
       "      <td>NaN</td>\n",
       "      <td>Санкт-Петербург</td>\n",
       "      <td>32691.0</td>\n",
       "      <td>11035.0</td>\n",
       "      <td>1.0</td>\n",
       "      <td>723.0</td>\n",
       "      <td>0.0</td>\n",
       "      <td>NaN</td>\n",
       "      <td>474.0</td>\n",
       "      <td>2016-11-11</td>\n",
       "    </tr>\n",
       "    <tr>\n",
       "      <th>17442</th>\n",
       "      <td>0</td>\n",
       "      <td>5350000</td>\n",
       "      <td>54.0</td>\n",
       "      <td>2015-06-16T00:00:00</td>\n",
       "      <td>2</td>\n",
       "      <td>8.0</td>\n",
       "      <td>5.0</td>\n",
       "      <td>29.0</td>\n",
       "      <td>2</td>\n",
       "      <td>True</td>\n",
       "      <td>...</td>\n",
       "      <td>1.0</td>\n",
       "      <td>Красное Село</td>\n",
       "      <td>24638.0</td>\n",
       "      <td>28062.0</td>\n",
       "      <td>0.0</td>\n",
       "      <td>NaN</td>\n",
       "      <td>0.0</td>\n",
       "      <td>NaN</td>\n",
       "      <td>469.0</td>\n",
       "      <td>2015-06-16</td>\n",
       "    </tr>\n",
       "    <tr>\n",
       "      <th>20264</th>\n",
       "      <td>17</td>\n",
       "      <td>119000000</td>\n",
       "      <td>187.6</td>\n",
       "      <td>2017-07-10T00:00:00</td>\n",
       "      <td>4</td>\n",
       "      <td>6.0</td>\n",
       "      <td>7.0</td>\n",
       "      <td>147.0</td>\n",
       "      <td>7</td>\n",
       "      <td>True</td>\n",
       "      <td>...</td>\n",
       "      <td>NaN</td>\n",
       "      <td>Санкт-Петербург</td>\n",
       "      <td>26902.0</td>\n",
       "      <td>5605.0</td>\n",
       "      <td>3.0</td>\n",
       "      <td>484.0</td>\n",
       "      <td>1.0</td>\n",
       "      <td>305.0</td>\n",
       "      <td>259.0</td>\n",
       "      <td>2017-07-10</td>\n",
       "    </tr>\n",
       "    <tr>\n",
       "      <th>21227</th>\n",
       "      <td>0</td>\n",
       "      <td>8200000</td>\n",
       "      <td>71.0</td>\n",
       "      <td>2017-07-21T00:00:00</td>\n",
       "      <td>0</td>\n",
       "      <td>5.8</td>\n",
       "      <td>5.0</td>\n",
       "      <td>68.0</td>\n",
       "      <td>5</td>\n",
       "      <td>True</td>\n",
       "      <td>...</td>\n",
       "      <td>0.0</td>\n",
       "      <td>Санкт-Петербург</td>\n",
       "      <td>20170.0</td>\n",
       "      <td>1261.0</td>\n",
       "      <td>2.0</td>\n",
       "      <td>295.0</td>\n",
       "      <td>3.0</td>\n",
       "      <td>366.0</td>\n",
       "      <td>30.0</td>\n",
       "      <td>2017-07-21</td>\n",
       "    </tr>\n",
       "    <tr>\n",
       "      <th>1388</th>\n",
       "      <td>20</td>\n",
       "      <td>59800000</td>\n",
       "      <td>399.0</td>\n",
       "      <td>2015-01-21T00:00:00</td>\n",
       "      <td>5</td>\n",
       "      <td>5.6</td>\n",
       "      <td>6.0</td>\n",
       "      <td>NaN</td>\n",
       "      <td>6</td>\n",
       "      <td>True</td>\n",
       "      <td>...</td>\n",
       "      <td>0.0</td>\n",
       "      <td>Санкт-Петербург</td>\n",
       "      <td>26204.0</td>\n",
       "      <td>6934.0</td>\n",
       "      <td>2.0</td>\n",
       "      <td>149.0</td>\n",
       "      <td>2.0</td>\n",
       "      <td>577.0</td>\n",
       "      <td>719.0</td>\n",
       "      <td>2015-01-21</td>\n",
       "    </tr>\n",
       "    <tr>\n",
       "      <th>7578</th>\n",
       "      <td>17</td>\n",
       "      <td>38000000</td>\n",
       "      <td>143.0</td>\n",
       "      <td>2017-11-02T00:00:00</td>\n",
       "      <td>3</td>\n",
       "      <td>5.5</td>\n",
       "      <td>5.0</td>\n",
       "      <td>83.0</td>\n",
       "      <td>5</td>\n",
       "      <td>True</td>\n",
       "      <td>...</td>\n",
       "      <td>1.0</td>\n",
       "      <td>Санкт-Петербург</td>\n",
       "      <td>26333.0</td>\n",
       "      <td>6448.0</td>\n",
       "      <td>3.0</td>\n",
       "      <td>479.0</td>\n",
       "      <td>0.0</td>\n",
       "      <td>NaN</td>\n",
       "      <td>NaN</td>\n",
       "      <td>2017-11-02</td>\n",
       "    </tr>\n",
       "    <tr>\n",
       "      <th>1026</th>\n",
       "      <td>20</td>\n",
       "      <td>155000000</td>\n",
       "      <td>310.0</td>\n",
       "      <td>2018-10-12T00:00:00</td>\n",
       "      <td>5</td>\n",
       "      <td>5.3</td>\n",
       "      <td>3.0</td>\n",
       "      <td>190.0</td>\n",
       "      <td>3</td>\n",
       "      <td>True</td>\n",
       "      <td>...</td>\n",
       "      <td>2.0</td>\n",
       "      <td>Санкт-Петербург</td>\n",
       "      <td>24899.0</td>\n",
       "      <td>4785.0</td>\n",
       "      <td>0.0</td>\n",
       "      <td>NaN</td>\n",
       "      <td>1.0</td>\n",
       "      <td>603.0</td>\n",
       "      <td>NaN</td>\n",
       "      <td>2018-10-12</td>\n",
       "    </tr>\n",
       "    <tr>\n",
       "      <th>12628</th>\n",
       "      <td>14</td>\n",
       "      <td>3900000</td>\n",
       "      <td>50.0</td>\n",
       "      <td>2018-03-29T00:00:00</td>\n",
       "      <td>1</td>\n",
       "      <td>5.3</td>\n",
       "      <td>5.0</td>\n",
       "      <td>NaN</td>\n",
       "      <td>5</td>\n",
       "      <td>True</td>\n",
       "      <td>...</td>\n",
       "      <td>NaN</td>\n",
       "      <td>Санкт-Петербург</td>\n",
       "      <td>19644.0</td>\n",
       "      <td>3918.0</td>\n",
       "      <td>1.0</td>\n",
       "      <td>505.0</td>\n",
       "      <td>1.0</td>\n",
       "      <td>92.0</td>\n",
       "      <td>8.0</td>\n",
       "      <td>2018-03-29</td>\n",
       "    </tr>\n",
       "  </tbody>\n",
       "</table>\n",
       "<p>15 rows × 23 columns</p>\n",
       "</div>"
      ],
      "text/plain": [
       "       total_images  last_price  total_area first_day_exposition  rooms  \\\n",
       "20507            12     5950000        60.0  2018-02-19T00:00:00      2   \n",
       "17496            15     6700000        92.9  2019-02-19T00:00:00      3   \n",
       "15061            19     5600000        56.4  2018-05-11T00:00:00      2   \n",
       "22309            20     5300000        45.0  2017-09-30T00:00:00      1   \n",
       "22869             0    15000000        25.0  2018-07-25T00:00:00      1   \n",
       "5863             20     5650000        45.0  2018-08-15T00:00:00      1   \n",
       "3474              3     1400000        30.0  2018-03-16T00:00:00      1   \n",
       "15743            14     5600000        67.0  2016-11-11T00:00:00      3   \n",
       "17442             0     5350000        54.0  2015-06-16T00:00:00      2   \n",
       "20264            17   119000000       187.6  2017-07-10T00:00:00      4   \n",
       "21227             0     8200000        71.0  2017-07-21T00:00:00      0   \n",
       "1388             20    59800000       399.0  2015-01-21T00:00:00      5   \n",
       "7578             17    38000000       143.0  2017-11-02T00:00:00      3   \n",
       "1026             20   155000000       310.0  2018-10-12T00:00:00      5   \n",
       "12628            14     3900000        50.0  2018-03-29T00:00:00      1   \n",
       "\n",
       "       ceiling_height  floors_total  living_area  floor  is_apartment  ...  \\\n",
       "20507            22.6          14.0         35.0     11          True  ...   \n",
       "17496            20.0          17.0         53.2     14          True  ...   \n",
       "15061            14.0          14.0         32.4      5          True  ...   \n",
       "22309            10.3          16.0         15.5     15          True  ...   \n",
       "22869            10.0           5.0         14.0      5          True  ...   \n",
       "5863              8.3          16.0         19.3     14          True  ...   \n",
       "3474              8.0           5.0         15.3      2         False  ...   \n",
       "15743             8.0          16.0         41.0      1          True  ...   \n",
       "17442             8.0           5.0         29.0      2          True  ...   \n",
       "20264             6.0           7.0        147.0      7          True  ...   \n",
       "21227             5.8           5.0         68.0      5          True  ...   \n",
       "1388              5.6           6.0          NaN      6          True  ...   \n",
       "7578              5.5           5.0         83.0      5          True  ...   \n",
       "1026              5.3           3.0        190.0      3          True  ...   \n",
       "12628             5.3           5.0          NaN      5          True  ...   \n",
       "\n",
       "       balcony    locality_name  airports_nearest  cityCenters_nearest  \\\n",
       "20507      1.0  Санкт-Петербург           27028.0              12570.0   \n",
       "17496      5.0  Санкт-Петербург           16295.0              15092.0   \n",
       "15061      2.0  Санкт-Петербург           14814.0              13610.0   \n",
       "22309      NaN  Санкт-Петербург           36353.0              11936.0   \n",
       "22869      5.0  Санкт-Петербург           34963.0               8283.0   \n",
       "5863       1.0  Санкт-Петербург           13069.0              10763.0   \n",
       "3474       NaN    деревня Нурма               NaN                  NaN   \n",
       "15743      NaN  Санкт-Петербург           32691.0              11035.0   \n",
       "17442      1.0     Красное Село           24638.0              28062.0   \n",
       "20264      NaN  Санкт-Петербург           26902.0               5605.0   \n",
       "21227      0.0  Санкт-Петербург           20170.0               1261.0   \n",
       "1388       0.0  Санкт-Петербург           26204.0               6934.0   \n",
       "7578       1.0  Санкт-Петербург           26333.0               6448.0   \n",
       "1026       2.0  Санкт-Петербург           24899.0               4785.0   \n",
       "12628      NaN  Санкт-Петербург           19644.0               3918.0   \n",
       "\n",
       "      parks_around3000  parks_nearest  ponds_around3000  ponds_nearest  \\\n",
       "20507              0.0            NaN               0.0            NaN   \n",
       "17496              1.0          967.0               0.0            NaN   \n",
       "15061              0.0            NaN               0.0            NaN   \n",
       "22309              2.0          440.0               2.0          450.0   \n",
       "22869              1.0          223.0               3.0           30.0   \n",
       "5863               0.0            NaN               1.0          613.0   \n",
       "3474               NaN            NaN               NaN            NaN   \n",
       "15743              1.0          723.0               0.0            NaN   \n",
       "17442              0.0            NaN               0.0            NaN   \n",
       "20264              3.0          484.0               1.0          305.0   \n",
       "21227              2.0          295.0               3.0          366.0   \n",
       "1388               2.0          149.0               2.0          577.0   \n",
       "7578               3.0          479.0               0.0            NaN   \n",
       "1026               0.0            NaN               1.0          603.0   \n",
       "12628              1.0          505.0               1.0           92.0   \n",
       "\n",
       "       days_exposition  time_to_day  \n",
       "20507             40.0   2018-02-19  \n",
       "17496              NaN   2019-02-19  \n",
       "15061            315.0   2018-05-11  \n",
       "22309            136.0   2017-09-30  \n",
       "22869             19.0   2018-07-25  \n",
       "5863              14.0   2018-08-15  \n",
       "3474             125.0   2018-03-16  \n",
       "15743            474.0   2016-11-11  \n",
       "17442            469.0   2015-06-16  \n",
       "20264            259.0   2017-07-10  \n",
       "21227             30.0   2017-07-21  \n",
       "1388             719.0   2015-01-21  \n",
       "7578               NaN   2017-11-02  \n",
       "1026               NaN   2018-10-12  \n",
       "12628              8.0   2018-03-29  \n",
       "\n",
       "[15 rows x 23 columns]"
      ]
     },
     "execution_count": 11,
     "metadata": {},
     "output_type": "execute_result"
    }
   ],
   "source": [
    "real_see = real.query('ceiling_height > 5.2').sort_values(by = 'ceiling_height', ascending = False)\n",
    "real_see"
   ]
  },
  {
   "cell_type": "code",
   "execution_count": 12,
   "id": "ea4fe187",
   "metadata": {
    "id": "ea4fe187"
   },
   "outputs": [],
   "source": [
    "real['ceiling_height'] = np.where(real.ceiling_height > 5.2, 0, real.ceiling_height)\n",
    "\n"
   ]
  },
  {
   "cell_type": "code",
   "execution_count": 13,
   "id": "4c265a23",
   "metadata": {
    "colab": {
     "base_uri": "https://localhost:8080/"
    },
    "id": "4c265a23",
    "outputId": "27455e65-fca7-43c4-ba6e-d2af2094c2af"
   },
   "outputs": [
    {
     "data": {
      "text/plain": [
       "9195"
      ]
     },
     "execution_count": 13,
     "metadata": {},
     "output_type": "execute_result"
    }
   ],
   "source": [
    "real['ceiling_height'].isna().sum()"
   ]
  },
  {
   "cell_type": "markdown",
   "id": "d766d408",
   "metadata": {
    "id": "d766d408"
   },
   "source": [
    "<div class=\"alert alert-block alert-info\">\n",
    "Thus, we have a large number of NaN values, which we will fill with the mean value.</div>"
   ]
  },
  {
   "cell_type": "markdown",
   "id": "d4f8cd46",
   "metadata": {
    "id": "d4f8cd46"
   },
   "source": [
    "<div class=\"alert alert-block alert-info\">\n",
    "We will apply the transform method to several columns with complete data to achieve maximum data recovery.</div>"
   ]
  },
  {
   "cell_type": "code",
   "execution_count": 14,
   "id": "b2b8a259",
   "metadata": {
    "colab": {
     "base_uri": "https://localhost:8080/",
     "height": 550
    },
    "id": "b2b8a259",
    "outputId": "897ac843-3281-4d10-ec11-65bc61abfff8"
   },
   "outputs": [
    {
     "data": {
      "text/html": [
       "<div>\n",
       "<style scoped>\n",
       "    .dataframe tbody tr th:only-of-type {\n",
       "        vertical-align: middle;\n",
       "    }\n",
       "\n",
       "    .dataframe tbody tr th {\n",
       "        vertical-align: top;\n",
       "    }\n",
       "\n",
       "    .dataframe thead th {\n",
       "        text-align: right;\n",
       "    }\n",
       "</style>\n",
       "<table border=\"1\" class=\"dataframe\">\n",
       "  <thead>\n",
       "    <tr style=\"text-align: right;\">\n",
       "      <th></th>\n",
       "      <th>total_images</th>\n",
       "      <th>last_price</th>\n",
       "      <th>total_area</th>\n",
       "      <th>first_day_exposition</th>\n",
       "      <th>rooms</th>\n",
       "      <th>ceiling_height</th>\n",
       "      <th>floors_total</th>\n",
       "      <th>living_area</th>\n",
       "      <th>floor</th>\n",
       "      <th>is_apartment</th>\n",
       "      <th>...</th>\n",
       "      <th>balcony</th>\n",
       "      <th>locality_name</th>\n",
       "      <th>airports_nearest</th>\n",
       "      <th>cityCenters_nearest</th>\n",
       "      <th>parks_around3000</th>\n",
       "      <th>parks_nearest</th>\n",
       "      <th>ponds_around3000</th>\n",
       "      <th>ponds_nearest</th>\n",
       "      <th>days_exposition</th>\n",
       "      <th>time_to_day</th>\n",
       "    </tr>\n",
       "  </thead>\n",
       "  <tbody>\n",
       "    <tr>\n",
       "      <th>0</th>\n",
       "      <td>20</td>\n",
       "      <td>13000000</td>\n",
       "      <td>108.0</td>\n",
       "      <td>2019-03-07T00:00:00</td>\n",
       "      <td>3</td>\n",
       "      <td>2.700</td>\n",
       "      <td>16.0</td>\n",
       "      <td>51.0</td>\n",
       "      <td>8</td>\n",
       "      <td>True</td>\n",
       "      <td>...</td>\n",
       "      <td>NaN</td>\n",
       "      <td>Санкт-Петербург</td>\n",
       "      <td>18863.0</td>\n",
       "      <td>16028.0</td>\n",
       "      <td>1.0</td>\n",
       "      <td>482.0</td>\n",
       "      <td>2.0</td>\n",
       "      <td>755.0</td>\n",
       "      <td>NaN</td>\n",
       "      <td>2019-03-07</td>\n",
       "    </tr>\n",
       "    <tr>\n",
       "      <th>1</th>\n",
       "      <td>7</td>\n",
       "      <td>3350000</td>\n",
       "      <td>40.4</td>\n",
       "      <td>2018-12-04T00:00:00</td>\n",
       "      <td>1</td>\n",
       "      <td>2.700</td>\n",
       "      <td>11.0</td>\n",
       "      <td>18.6</td>\n",
       "      <td>1</td>\n",
       "      <td>True</td>\n",
       "      <td>...</td>\n",
       "      <td>2.0</td>\n",
       "      <td>посёлок Шушары</td>\n",
       "      <td>12817.0</td>\n",
       "      <td>18603.0</td>\n",
       "      <td>0.0</td>\n",
       "      <td>NaN</td>\n",
       "      <td>0.0</td>\n",
       "      <td>NaN</td>\n",
       "      <td>81.0</td>\n",
       "      <td>2018-12-04</td>\n",
       "    </tr>\n",
       "    <tr>\n",
       "      <th>2</th>\n",
       "      <td>10</td>\n",
       "      <td>5196000</td>\n",
       "      <td>56.0</td>\n",
       "      <td>2015-08-20T00:00:00</td>\n",
       "      <td>2</td>\n",
       "      <td>2.600</td>\n",
       "      <td>5.0</td>\n",
       "      <td>34.3</td>\n",
       "      <td>4</td>\n",
       "      <td>True</td>\n",
       "      <td>...</td>\n",
       "      <td>0.0</td>\n",
       "      <td>Санкт-Петербург</td>\n",
       "      <td>21741.0</td>\n",
       "      <td>13933.0</td>\n",
       "      <td>1.0</td>\n",
       "      <td>90.0</td>\n",
       "      <td>2.0</td>\n",
       "      <td>574.0</td>\n",
       "      <td>558.0</td>\n",
       "      <td>2015-08-20</td>\n",
       "    </tr>\n",
       "    <tr>\n",
       "      <th>3</th>\n",
       "      <td>0</td>\n",
       "      <td>64900000</td>\n",
       "      <td>159.0</td>\n",
       "      <td>2015-07-24T00:00:00</td>\n",
       "      <td>3</td>\n",
       "      <td>3.140</td>\n",
       "      <td>14.0</td>\n",
       "      <td>NaN</td>\n",
       "      <td>9</td>\n",
       "      <td>True</td>\n",
       "      <td>...</td>\n",
       "      <td>0.0</td>\n",
       "      <td>Санкт-Петербург</td>\n",
       "      <td>28098.0</td>\n",
       "      <td>6800.0</td>\n",
       "      <td>2.0</td>\n",
       "      <td>84.0</td>\n",
       "      <td>3.0</td>\n",
       "      <td>234.0</td>\n",
       "      <td>424.0</td>\n",
       "      <td>2015-07-24</td>\n",
       "    </tr>\n",
       "    <tr>\n",
       "      <th>4</th>\n",
       "      <td>2</td>\n",
       "      <td>10000000</td>\n",
       "      <td>100.0</td>\n",
       "      <td>2018-06-19T00:00:00</td>\n",
       "      <td>2</td>\n",
       "      <td>3.030</td>\n",
       "      <td>14.0</td>\n",
       "      <td>32.0</td>\n",
       "      <td>13</td>\n",
       "      <td>True</td>\n",
       "      <td>...</td>\n",
       "      <td>NaN</td>\n",
       "      <td>Санкт-Петербург</td>\n",
       "      <td>31856.0</td>\n",
       "      <td>8098.0</td>\n",
       "      <td>2.0</td>\n",
       "      <td>112.0</td>\n",
       "      <td>1.0</td>\n",
       "      <td>48.0</td>\n",
       "      <td>121.0</td>\n",
       "      <td>2018-06-19</td>\n",
       "    </tr>\n",
       "    <tr>\n",
       "      <th>5</th>\n",
       "      <td>10</td>\n",
       "      <td>2890000</td>\n",
       "      <td>30.4</td>\n",
       "      <td>2018-09-10T00:00:00</td>\n",
       "      <td>1</td>\n",
       "      <td>2.520</td>\n",
       "      <td>12.0</td>\n",
       "      <td>14.4</td>\n",
       "      <td>5</td>\n",
       "      <td>True</td>\n",
       "      <td>...</td>\n",
       "      <td>NaN</td>\n",
       "      <td>городской посёлок Янино-1</td>\n",
       "      <td>NaN</td>\n",
       "      <td>NaN</td>\n",
       "      <td>NaN</td>\n",
       "      <td>NaN</td>\n",
       "      <td>NaN</td>\n",
       "      <td>NaN</td>\n",
       "      <td>55.0</td>\n",
       "      <td>2018-09-10</td>\n",
       "    </tr>\n",
       "    <tr>\n",
       "      <th>6</th>\n",
       "      <td>6</td>\n",
       "      <td>3700000</td>\n",
       "      <td>37.3</td>\n",
       "      <td>2017-11-02T00:00:00</td>\n",
       "      <td>1</td>\n",
       "      <td>2.650</td>\n",
       "      <td>26.0</td>\n",
       "      <td>10.6</td>\n",
       "      <td>6</td>\n",
       "      <td>True</td>\n",
       "      <td>...</td>\n",
       "      <td>1.0</td>\n",
       "      <td>посёлок Парголово</td>\n",
       "      <td>52996.0</td>\n",
       "      <td>19143.0</td>\n",
       "      <td>0.0</td>\n",
       "      <td>NaN</td>\n",
       "      <td>0.0</td>\n",
       "      <td>NaN</td>\n",
       "      <td>155.0</td>\n",
       "      <td>2017-11-02</td>\n",
       "    </tr>\n",
       "    <tr>\n",
       "      <th>7</th>\n",
       "      <td>5</td>\n",
       "      <td>7915000</td>\n",
       "      <td>71.6</td>\n",
       "      <td>2019-04-18T00:00:00</td>\n",
       "      <td>2</td>\n",
       "      <td>2.775</td>\n",
       "      <td>24.0</td>\n",
       "      <td>NaN</td>\n",
       "      <td>22</td>\n",
       "      <td>True</td>\n",
       "      <td>...</td>\n",
       "      <td>2.0</td>\n",
       "      <td>Санкт-Петербург</td>\n",
       "      <td>23982.0</td>\n",
       "      <td>11634.0</td>\n",
       "      <td>0.0</td>\n",
       "      <td>NaN</td>\n",
       "      <td>0.0</td>\n",
       "      <td>NaN</td>\n",
       "      <td>NaN</td>\n",
       "      <td>2019-04-18</td>\n",
       "    </tr>\n",
       "  </tbody>\n",
       "</table>\n",
       "<p>8 rows × 23 columns</p>\n",
       "</div>"
      ],
      "text/plain": [
       "   total_images  last_price  total_area first_day_exposition  rooms  \\\n",
       "0            20    13000000       108.0  2019-03-07T00:00:00      3   \n",
       "1             7     3350000        40.4  2018-12-04T00:00:00      1   \n",
       "2            10     5196000        56.0  2015-08-20T00:00:00      2   \n",
       "3             0    64900000       159.0  2015-07-24T00:00:00      3   \n",
       "4             2    10000000       100.0  2018-06-19T00:00:00      2   \n",
       "5            10     2890000        30.4  2018-09-10T00:00:00      1   \n",
       "6             6     3700000        37.3  2017-11-02T00:00:00      1   \n",
       "7             5     7915000        71.6  2019-04-18T00:00:00      2   \n",
       "\n",
       "   ceiling_height  floors_total  living_area  floor  is_apartment  ...  \\\n",
       "0           2.700          16.0         51.0      8          True  ...   \n",
       "1           2.700          11.0         18.6      1          True  ...   \n",
       "2           2.600           5.0         34.3      4          True  ...   \n",
       "3           3.140          14.0          NaN      9          True  ...   \n",
       "4           3.030          14.0         32.0     13          True  ...   \n",
       "5           2.520          12.0         14.4      5          True  ...   \n",
       "6           2.650          26.0         10.6      6          True  ...   \n",
       "7           2.775          24.0          NaN     22          True  ...   \n",
       "\n",
       "   balcony              locality_name  airports_nearest  cityCenters_nearest  \\\n",
       "0      NaN            Санкт-Петербург           18863.0              16028.0   \n",
       "1      2.0             посёлок Шушары           12817.0              18603.0   \n",
       "2      0.0            Санкт-Петербург           21741.0              13933.0   \n",
       "3      0.0            Санкт-Петербург           28098.0               6800.0   \n",
       "4      NaN            Санкт-Петербург           31856.0               8098.0   \n",
       "5      NaN  городской посёлок Янино-1               NaN                  NaN   \n",
       "6      1.0          посёлок Парголово           52996.0              19143.0   \n",
       "7      2.0            Санкт-Петербург           23982.0              11634.0   \n",
       "\n",
       "  parks_around3000  parks_nearest  ponds_around3000  ponds_nearest  \\\n",
       "0              1.0          482.0               2.0          755.0   \n",
       "1              0.0            NaN               0.0            NaN   \n",
       "2              1.0           90.0               2.0          574.0   \n",
       "3              2.0           84.0               3.0          234.0   \n",
       "4              2.0          112.0               1.0           48.0   \n",
       "5              NaN            NaN               NaN            NaN   \n",
       "6              0.0            NaN               0.0            NaN   \n",
       "7              0.0            NaN               0.0            NaN   \n",
       "\n",
       "   days_exposition  time_to_day  \n",
       "0              NaN   2019-03-07  \n",
       "1             81.0   2018-12-04  \n",
       "2            558.0   2015-08-20  \n",
       "3            424.0   2015-07-24  \n",
       "4            121.0   2018-06-19  \n",
       "5             55.0   2018-09-10  \n",
       "6            155.0   2017-11-02  \n",
       "7              NaN   2019-04-18  \n",
       "\n",
       "[8 rows x 23 columns]"
      ]
     },
     "execution_count": 14,
     "metadata": {},
     "output_type": "execute_result"
    }
   ],
   "source": [
    "real['ceiling_height'] = real['ceiling_height'].fillna(real.groupby('total_area')['ceiling_height'].transform('median'))\n",
    "real.head(8)"
   ]
  },
  {
   "cell_type": "code",
   "execution_count": 15,
   "id": "6217bc30",
   "metadata": {
    "colab": {
     "base_uri": "https://localhost:8080/"
    },
    "id": "6217bc30",
    "outputId": "e5e93459-ca3e-4b7c-f87b-f3ddc9a4b2ff"
   },
   "outputs": [
    {
     "data": {
      "text/plain": [
       "627"
      ]
     },
     "execution_count": 15,
     "metadata": {},
     "output_type": "execute_result"
    }
   ],
   "source": [
    "real['ceiling_height'].isna().sum()"
   ]
  },
  {
   "cell_type": "code",
   "execution_count": 16,
   "id": "1cf343b6",
   "metadata": {
    "colab": {
     "base_uri": "https://localhost:8080/",
     "height": 520
    },
    "id": "1cf343b6",
    "outputId": "8727d717-cbce-4d90-a6dd-b7d7686bffc4",
    "scrolled": true
   },
   "outputs": [
    {
     "data": {
      "text/html": [
       "<div>\n",
       "<style scoped>\n",
       "    .dataframe tbody tr th:only-of-type {\n",
       "        vertical-align: middle;\n",
       "    }\n",
       "\n",
       "    .dataframe tbody tr th {\n",
       "        vertical-align: top;\n",
       "    }\n",
       "\n",
       "    .dataframe thead th {\n",
       "        text-align: right;\n",
       "    }\n",
       "</style>\n",
       "<table border=\"1\" class=\"dataframe\">\n",
       "  <thead>\n",
       "    <tr style=\"text-align: right;\">\n",
       "      <th></th>\n",
       "      <th>last_price</th>\n",
       "      <th>total_area</th>\n",
       "      <th>ceiling_height</th>\n",
       "    </tr>\n",
       "  </thead>\n",
       "  <tbody>\n",
       "    <tr>\n",
       "      <th>0</th>\n",
       "      <td>13000000</td>\n",
       "      <td>108.00</td>\n",
       "      <td>2.700</td>\n",
       "    </tr>\n",
       "    <tr>\n",
       "      <th>1</th>\n",
       "      <td>3350000</td>\n",
       "      <td>40.40</td>\n",
       "      <td>2.700</td>\n",
       "    </tr>\n",
       "    <tr>\n",
       "      <th>2</th>\n",
       "      <td>5196000</td>\n",
       "      <td>56.00</td>\n",
       "      <td>2.600</td>\n",
       "    </tr>\n",
       "    <tr>\n",
       "      <th>3</th>\n",
       "      <td>64900000</td>\n",
       "      <td>159.00</td>\n",
       "      <td>3.140</td>\n",
       "    </tr>\n",
       "    <tr>\n",
       "      <th>4</th>\n",
       "      <td>10000000</td>\n",
       "      <td>100.00</td>\n",
       "      <td>3.030</td>\n",
       "    </tr>\n",
       "    <tr>\n",
       "      <th>5</th>\n",
       "      <td>2890000</td>\n",
       "      <td>30.40</td>\n",
       "      <td>2.520</td>\n",
       "    </tr>\n",
       "    <tr>\n",
       "      <th>6</th>\n",
       "      <td>3700000</td>\n",
       "      <td>37.30</td>\n",
       "      <td>2.650</td>\n",
       "    </tr>\n",
       "    <tr>\n",
       "      <th>7</th>\n",
       "      <td>7915000</td>\n",
       "      <td>71.60</td>\n",
       "      <td>2.775</td>\n",
       "    </tr>\n",
       "    <tr>\n",
       "      <th>8</th>\n",
       "      <td>2900000</td>\n",
       "      <td>33.16</td>\n",
       "      <td>2.600</td>\n",
       "    </tr>\n",
       "    <tr>\n",
       "      <th>9</th>\n",
       "      <td>5400000</td>\n",
       "      <td>61.00</td>\n",
       "      <td>2.500</td>\n",
       "    </tr>\n",
       "    <tr>\n",
       "      <th>10</th>\n",
       "      <td>5050000</td>\n",
       "      <td>39.60</td>\n",
       "      <td>2.670</td>\n",
       "    </tr>\n",
       "    <tr>\n",
       "      <th>11</th>\n",
       "      <td>3300000</td>\n",
       "      <td>44.00</td>\n",
       "      <td>2.500</td>\n",
       "    </tr>\n",
       "    <tr>\n",
       "      <th>12</th>\n",
       "      <td>3890000</td>\n",
       "      <td>54.00</td>\n",
       "      <td>2.600</td>\n",
       "    </tr>\n",
       "    <tr>\n",
       "      <th>13</th>\n",
       "      <td>3550000</td>\n",
       "      <td>42.80</td>\n",
       "      <td>2.560</td>\n",
       "    </tr>\n",
       "    <tr>\n",
       "      <th>14</th>\n",
       "      <td>4400000</td>\n",
       "      <td>36.00</td>\n",
       "      <td>2.600</td>\n",
       "    </tr>\n",
       "  </tbody>\n",
       "</table>\n",
       "</div>"
      ],
      "text/plain": [
       "    last_price  total_area  ceiling_height\n",
       "0     13000000      108.00           2.700\n",
       "1      3350000       40.40           2.700\n",
       "2      5196000       56.00           2.600\n",
       "3     64900000      159.00           3.140\n",
       "4     10000000      100.00           3.030\n",
       "5      2890000       30.40           2.520\n",
       "6      3700000       37.30           2.650\n",
       "7      7915000       71.60           2.775\n",
       "8      2900000       33.16           2.600\n",
       "9      5400000       61.00           2.500\n",
       "10     5050000       39.60           2.670\n",
       "11     3300000       44.00           2.500\n",
       "12     3890000       54.00           2.600\n",
       "13     3550000       42.80           2.560\n",
       "14     4400000       36.00           2.600"
      ]
     },
     "execution_count": 16,
     "metadata": {},
     "output_type": "execute_result"
    }
   ],
   "source": [
    "real['ceiling_height'] = real['ceiling_height'].fillna(real.groupby('rooms')['ceiling_height'].transform('median'))\n",
    "real[['last_price','total_area','ceiling_height']].head(15)"
   ]
  },
  {
   "cell_type": "code",
   "execution_count": 17,
   "id": "506d0076",
   "metadata": {
    "colab": {
     "base_uri": "https://localhost:8080/"
    },
    "id": "506d0076",
    "outputId": "5c1fad40-85a6-45b5-f839-f82ee600b726"
   },
   "outputs": [
    {
     "data": {
      "text/plain": [
       "1"
      ]
     },
     "execution_count": 17,
     "metadata": {},
     "output_type": "execute_result"
    }
   ],
   "source": [
    "real['ceiling_height'].isna().sum()"
   ]
  },
  {
   "cell_type": "code",
   "execution_count": 18,
   "id": "103348ed",
   "metadata": {
    "colab": {
     "base_uri": "https://localhost:8080/"
    },
    "id": "103348ed",
    "outputId": "ee997967-8ca3-4195-fd52-f70e7225be51"
   },
   "outputs": [
    {
     "data": {
      "text/plain": [
       "array([2.7  , 2.6  , 3.14 , 3.03 , 2.52 , 2.65 , 2.775, 2.5  , 2.67 ,\n",
       "       2.56 , 2.65 , 3.05 , 2.75 , 2.725, 2.9  , 2.8  , 2.53 , 2.55 ,\n",
       "       3.   , 3.2  , 2.675, 2.61 , 2.565, 3.25 , 3.45 , 2.77 , 2.85 ,\n",
       "       2.64 , 2.57 , 4.15 , 3.5  , 2.585, 2.625, 2.725, 3.3  , 2.71 ,\n",
       "       4.   , 2.47 , 2.59 , 2.73 , 2.84 , 3.1  , 2.58 , 2.34 , 2.555,\n",
       "       3.4  , 3.06 , 2.72 , 2.54 , 2.51 , 2.78 , 2.575, 2.76 , 3.7  ,\n",
       "       5.2  , 2.825, 3.33 , 2.87 , 2.66 , 2.   , 2.755, 2.985, 3.11 ,\n",
       "       2.45 , 3.6  , 2.69 , 2.92 , 3.355, 2.545, 2.605, 3.13 , 3.8  ,\n",
       "       3.15 , 3.55 , 2.74 , 3.16 , 2.875, 3.62 , 2.525, 3.12 , 2.53 ,\n",
       "       2.62 , 2.96 , 2.46 , 0.   , 2.535, 5.   , 2.79 , 2.615, 2.95 ,\n",
       "       3.125, 4.06 , 2.94 , 3.82 , 3.54 , 2.915, 3.53 , 2.83 , 3.04 ,\n",
       "       4.7  , 2.4  , 3.38 , 3.01 , 3.65 , 3.025, 3.9  , 2.635, 3.18 ,\n",
       "       3.35 , 2.3  , 3.57 , 2.48 , 2.82 , 2.57 , 2.63 , 3.98 , 2.85 ,\n",
       "       2.655, 3.83 , 3.52 , 3.95 , 2.975, 3.75 , 2.88 , 3.67 , 2.505,\n",
       "       3.87 , 3.66 , 3.85 , 3.86 , 2.82 , 2.735, 4.19 , 3.24 , 4.8  ,\n",
       "       4.5  , 4.2  , 3.36 , 3.695, 3.08 , 2.695, 3.68 , 3.07 , 3.37 ,\n",
       "       3.115, 3.09 , 3.035, 2.2  , 2.81 , 3.26 , 3.34 , 3.44 , 2.97 ,\n",
       "       2.56 , 3.14 , 4.37 , 2.68 , 3.22 , 3.27 , 2.925, 4.1  , 2.93 ,\n",
       "       3.46 , 2.785, 3.47 , 2.975, 3.63 , 2.685, 3.32 , 4.4  , 1.2  ,\n",
       "       2.9  , 2.6  , 2.98 , 2.86 , 3.17 , 2.645, 3.28 , 3.085, 2.955,\n",
       "       4.45 , 3.075, 3.84 , 2.835, 3.23 , 3.02 , 3.58 , 3.21 , 3.43 ,\n",
       "       3.78 , 4.3  , 3.39 , 2.69 , 2.99 , 3.31 , 4.65 , 3.56 , 2.855,\n",
       "       3.51 , 3.93 , 3.435, 3.42 ,   nan, 3.49 , 4.14 , 2.91 , 3.88 ,\n",
       "       1.75 , 4.25 , 3.29 , 2.715, 3.1  , 2.25 , 3.76 , 3.69 , 2.745,\n",
       "       2.89 , 2.64 , 2.49 , 4.9  , 3.48 , 2.965, 3.625, 1.   , 3.59 ,\n",
       "       3.475, 3.225, 2.665])"
      ]
     },
     "execution_count": 18,
     "metadata": {},
     "output_type": "execute_result"
    }
   ],
   "source": [
    "real['ceiling_height'].unique()"
   ]
  },
  {
   "cell_type": "markdown",
   "id": "a9e9d9ef",
   "metadata": {
    "id": "a9e9d9ef"
   },
   "source": [
    "<div class=\"alert alert-block alert-info\">\n",
    "There are still values of 0 and 1 remaining in the column, which are clearly not reasonable. However, since there are not many of them, we will simply remove them.</div>"
   ]
  },
  {
   "cell_type": "code",
   "execution_count": 19,
   "id": "48ce54cb",
   "metadata": {
    "id": "48ce54cb"
   },
   "outputs": [],
   "source": [
    "real = real.query('ceiling_height > 2.2 ')"
   ]
  },
  {
   "cell_type": "code",
   "execution_count": 20,
   "id": "c1977f69",
   "metadata": {
    "colab": {
     "base_uri": "https://localhost:8080/",
     "height": 630
    },
    "id": "c1977f69",
    "outputId": "88e0eaae-b028-48e9-ea5c-98e043512f97"
   },
   "outputs": [
    {
     "data": {
      "text/html": [
       "<div>\n",
       "<style scoped>\n",
       "    .dataframe tbody tr th:only-of-type {\n",
       "        vertical-align: middle;\n",
       "    }\n",
       "\n",
       "    .dataframe tbody tr th {\n",
       "        vertical-align: top;\n",
       "    }\n",
       "\n",
       "    .dataframe thead th {\n",
       "        text-align: right;\n",
       "    }\n",
       "</style>\n",
       "<table border=\"1\" class=\"dataframe\">\n",
       "  <thead>\n",
       "    <tr style=\"text-align: right;\">\n",
       "      <th></th>\n",
       "      <th>total_images</th>\n",
       "      <th>last_price</th>\n",
       "      <th>total_area</th>\n",
       "      <th>first_day_exposition</th>\n",
       "      <th>rooms</th>\n",
       "      <th>ceiling_height</th>\n",
       "      <th>floors_total</th>\n",
       "      <th>living_area</th>\n",
       "      <th>floor</th>\n",
       "      <th>is_apartment</th>\n",
       "      <th>...</th>\n",
       "      <th>balcony</th>\n",
       "      <th>locality_name</th>\n",
       "      <th>airports_nearest</th>\n",
       "      <th>cityCenters_nearest</th>\n",
       "      <th>parks_around3000</th>\n",
       "      <th>parks_nearest</th>\n",
       "      <th>ponds_around3000</th>\n",
       "      <th>ponds_nearest</th>\n",
       "      <th>days_exposition</th>\n",
       "      <th>time_to_day</th>\n",
       "    </tr>\n",
       "  </thead>\n",
       "  <tbody>\n",
       "    <tr>\n",
       "      <th>0</th>\n",
       "      <td>20</td>\n",
       "      <td>13000000</td>\n",
       "      <td>108.00</td>\n",
       "      <td>2019-03-07T00:00:00</td>\n",
       "      <td>3</td>\n",
       "      <td>2.700</td>\n",
       "      <td>16.0</td>\n",
       "      <td>51.00</td>\n",
       "      <td>8</td>\n",
       "      <td>True</td>\n",
       "      <td>...</td>\n",
       "      <td>NaN</td>\n",
       "      <td>Санкт-Петербург</td>\n",
       "      <td>18863.0</td>\n",
       "      <td>16028.0</td>\n",
       "      <td>1.0</td>\n",
       "      <td>482.0</td>\n",
       "      <td>2.0</td>\n",
       "      <td>755.0</td>\n",
       "      <td>NaN</td>\n",
       "      <td>2019-03-07</td>\n",
       "    </tr>\n",
       "    <tr>\n",
       "      <th>1</th>\n",
       "      <td>7</td>\n",
       "      <td>3350000</td>\n",
       "      <td>40.40</td>\n",
       "      <td>2018-12-04T00:00:00</td>\n",
       "      <td>1</td>\n",
       "      <td>2.700</td>\n",
       "      <td>11.0</td>\n",
       "      <td>18.60</td>\n",
       "      <td>1</td>\n",
       "      <td>True</td>\n",
       "      <td>...</td>\n",
       "      <td>2.0</td>\n",
       "      <td>посёлок Шушары</td>\n",
       "      <td>12817.0</td>\n",
       "      <td>18603.0</td>\n",
       "      <td>0.0</td>\n",
       "      <td>NaN</td>\n",
       "      <td>0.0</td>\n",
       "      <td>NaN</td>\n",
       "      <td>81.0</td>\n",
       "      <td>2018-12-04</td>\n",
       "    </tr>\n",
       "    <tr>\n",
       "      <th>2</th>\n",
       "      <td>10</td>\n",
       "      <td>5196000</td>\n",
       "      <td>56.00</td>\n",
       "      <td>2015-08-20T00:00:00</td>\n",
       "      <td>2</td>\n",
       "      <td>2.600</td>\n",
       "      <td>5.0</td>\n",
       "      <td>34.30</td>\n",
       "      <td>4</td>\n",
       "      <td>True</td>\n",
       "      <td>...</td>\n",
       "      <td>0.0</td>\n",
       "      <td>Санкт-Петербург</td>\n",
       "      <td>21741.0</td>\n",
       "      <td>13933.0</td>\n",
       "      <td>1.0</td>\n",
       "      <td>90.0</td>\n",
       "      <td>2.0</td>\n",
       "      <td>574.0</td>\n",
       "      <td>558.0</td>\n",
       "      <td>2015-08-20</td>\n",
       "    </tr>\n",
       "    <tr>\n",
       "      <th>3</th>\n",
       "      <td>0</td>\n",
       "      <td>64900000</td>\n",
       "      <td>159.00</td>\n",
       "      <td>2015-07-24T00:00:00</td>\n",
       "      <td>3</td>\n",
       "      <td>3.140</td>\n",
       "      <td>14.0</td>\n",
       "      <td>NaN</td>\n",
       "      <td>9</td>\n",
       "      <td>True</td>\n",
       "      <td>...</td>\n",
       "      <td>0.0</td>\n",
       "      <td>Санкт-Петербург</td>\n",
       "      <td>28098.0</td>\n",
       "      <td>6800.0</td>\n",
       "      <td>2.0</td>\n",
       "      <td>84.0</td>\n",
       "      <td>3.0</td>\n",
       "      <td>234.0</td>\n",
       "      <td>424.0</td>\n",
       "      <td>2015-07-24</td>\n",
       "    </tr>\n",
       "    <tr>\n",
       "      <th>4</th>\n",
       "      <td>2</td>\n",
       "      <td>10000000</td>\n",
       "      <td>100.00</td>\n",
       "      <td>2018-06-19T00:00:00</td>\n",
       "      <td>2</td>\n",
       "      <td>3.030</td>\n",
       "      <td>14.0</td>\n",
       "      <td>32.00</td>\n",
       "      <td>13</td>\n",
       "      <td>True</td>\n",
       "      <td>...</td>\n",
       "      <td>NaN</td>\n",
       "      <td>Санкт-Петербург</td>\n",
       "      <td>31856.0</td>\n",
       "      <td>8098.0</td>\n",
       "      <td>2.0</td>\n",
       "      <td>112.0</td>\n",
       "      <td>1.0</td>\n",
       "      <td>48.0</td>\n",
       "      <td>121.0</td>\n",
       "      <td>2018-06-19</td>\n",
       "    </tr>\n",
       "    <tr>\n",
       "      <th>5</th>\n",
       "      <td>10</td>\n",
       "      <td>2890000</td>\n",
       "      <td>30.40</td>\n",
       "      <td>2018-09-10T00:00:00</td>\n",
       "      <td>1</td>\n",
       "      <td>2.520</td>\n",
       "      <td>12.0</td>\n",
       "      <td>14.40</td>\n",
       "      <td>5</td>\n",
       "      <td>True</td>\n",
       "      <td>...</td>\n",
       "      <td>NaN</td>\n",
       "      <td>городской посёлок Янино-1</td>\n",
       "      <td>NaN</td>\n",
       "      <td>NaN</td>\n",
       "      <td>NaN</td>\n",
       "      <td>NaN</td>\n",
       "      <td>NaN</td>\n",
       "      <td>NaN</td>\n",
       "      <td>55.0</td>\n",
       "      <td>2018-09-10</td>\n",
       "    </tr>\n",
       "    <tr>\n",
       "      <th>6</th>\n",
       "      <td>6</td>\n",
       "      <td>3700000</td>\n",
       "      <td>37.30</td>\n",
       "      <td>2017-11-02T00:00:00</td>\n",
       "      <td>1</td>\n",
       "      <td>2.650</td>\n",
       "      <td>26.0</td>\n",
       "      <td>10.60</td>\n",
       "      <td>6</td>\n",
       "      <td>True</td>\n",
       "      <td>...</td>\n",
       "      <td>1.0</td>\n",
       "      <td>посёлок Парголово</td>\n",
       "      <td>52996.0</td>\n",
       "      <td>19143.0</td>\n",
       "      <td>0.0</td>\n",
       "      <td>NaN</td>\n",
       "      <td>0.0</td>\n",
       "      <td>NaN</td>\n",
       "      <td>155.0</td>\n",
       "      <td>2017-11-02</td>\n",
       "    </tr>\n",
       "    <tr>\n",
       "      <th>7</th>\n",
       "      <td>5</td>\n",
       "      <td>7915000</td>\n",
       "      <td>71.60</td>\n",
       "      <td>2019-04-18T00:00:00</td>\n",
       "      <td>2</td>\n",
       "      <td>2.775</td>\n",
       "      <td>24.0</td>\n",
       "      <td>NaN</td>\n",
       "      <td>22</td>\n",
       "      <td>True</td>\n",
       "      <td>...</td>\n",
       "      <td>2.0</td>\n",
       "      <td>Санкт-Петербург</td>\n",
       "      <td>23982.0</td>\n",
       "      <td>11634.0</td>\n",
       "      <td>0.0</td>\n",
       "      <td>NaN</td>\n",
       "      <td>0.0</td>\n",
       "      <td>NaN</td>\n",
       "      <td>NaN</td>\n",
       "      <td>2019-04-18</td>\n",
       "    </tr>\n",
       "    <tr>\n",
       "      <th>8</th>\n",
       "      <td>20</td>\n",
       "      <td>2900000</td>\n",
       "      <td>33.16</td>\n",
       "      <td>2018-05-23T00:00:00</td>\n",
       "      <td>1</td>\n",
       "      <td>2.600</td>\n",
       "      <td>27.0</td>\n",
       "      <td>15.43</td>\n",
       "      <td>26</td>\n",
       "      <td>True</td>\n",
       "      <td>...</td>\n",
       "      <td>NaN</td>\n",
       "      <td>посёлок Мурино</td>\n",
       "      <td>NaN</td>\n",
       "      <td>NaN</td>\n",
       "      <td>NaN</td>\n",
       "      <td>NaN</td>\n",
       "      <td>NaN</td>\n",
       "      <td>NaN</td>\n",
       "      <td>189.0</td>\n",
       "      <td>2018-05-23</td>\n",
       "    </tr>\n",
       "    <tr>\n",
       "      <th>9</th>\n",
       "      <td>18</td>\n",
       "      <td>5400000</td>\n",
       "      <td>61.00</td>\n",
       "      <td>2017-02-26T00:00:00</td>\n",
       "      <td>3</td>\n",
       "      <td>2.500</td>\n",
       "      <td>9.0</td>\n",
       "      <td>43.60</td>\n",
       "      <td>7</td>\n",
       "      <td>True</td>\n",
       "      <td>...</td>\n",
       "      <td>2.0</td>\n",
       "      <td>Санкт-Петербург</td>\n",
       "      <td>50898.0</td>\n",
       "      <td>15008.0</td>\n",
       "      <td>0.0</td>\n",
       "      <td>NaN</td>\n",
       "      <td>0.0</td>\n",
       "      <td>NaN</td>\n",
       "      <td>289.0</td>\n",
       "      <td>2017-02-26</td>\n",
       "    </tr>\n",
       "  </tbody>\n",
       "</table>\n",
       "<p>10 rows × 23 columns</p>\n",
       "</div>"
      ],
      "text/plain": [
       "   total_images  last_price  total_area first_day_exposition  rooms  \\\n",
       "0            20    13000000      108.00  2019-03-07T00:00:00      3   \n",
       "1             7     3350000       40.40  2018-12-04T00:00:00      1   \n",
       "2            10     5196000       56.00  2015-08-20T00:00:00      2   \n",
       "3             0    64900000      159.00  2015-07-24T00:00:00      3   \n",
       "4             2    10000000      100.00  2018-06-19T00:00:00      2   \n",
       "5            10     2890000       30.40  2018-09-10T00:00:00      1   \n",
       "6             6     3700000       37.30  2017-11-02T00:00:00      1   \n",
       "7             5     7915000       71.60  2019-04-18T00:00:00      2   \n",
       "8            20     2900000       33.16  2018-05-23T00:00:00      1   \n",
       "9            18     5400000       61.00  2017-02-26T00:00:00      3   \n",
       "\n",
       "   ceiling_height  floors_total  living_area  floor  is_apartment  ...  \\\n",
       "0           2.700          16.0        51.00      8          True  ...   \n",
       "1           2.700          11.0        18.60      1          True  ...   \n",
       "2           2.600           5.0        34.30      4          True  ...   \n",
       "3           3.140          14.0          NaN      9          True  ...   \n",
       "4           3.030          14.0        32.00     13          True  ...   \n",
       "5           2.520          12.0        14.40      5          True  ...   \n",
       "6           2.650          26.0        10.60      6          True  ...   \n",
       "7           2.775          24.0          NaN     22          True  ...   \n",
       "8           2.600          27.0        15.43     26          True  ...   \n",
       "9           2.500           9.0        43.60      7          True  ...   \n",
       "\n",
       "   balcony              locality_name  airports_nearest  cityCenters_nearest  \\\n",
       "0      NaN            Санкт-Петербург           18863.0              16028.0   \n",
       "1      2.0             посёлок Шушары           12817.0              18603.0   \n",
       "2      0.0            Санкт-Петербург           21741.0              13933.0   \n",
       "3      0.0            Санкт-Петербург           28098.0               6800.0   \n",
       "4      NaN            Санкт-Петербург           31856.0               8098.0   \n",
       "5      NaN  городской посёлок Янино-1               NaN                  NaN   \n",
       "6      1.0          посёлок Парголово           52996.0              19143.0   \n",
       "7      2.0            Санкт-Петербург           23982.0              11634.0   \n",
       "8      NaN             посёлок Мурино               NaN                  NaN   \n",
       "9      2.0            Санкт-Петербург           50898.0              15008.0   \n",
       "\n",
       "  parks_around3000  parks_nearest  ponds_around3000  ponds_nearest  \\\n",
       "0              1.0          482.0               2.0          755.0   \n",
       "1              0.0            NaN               0.0            NaN   \n",
       "2              1.0           90.0               2.0          574.0   \n",
       "3              2.0           84.0               3.0          234.0   \n",
       "4              2.0          112.0               1.0           48.0   \n",
       "5              NaN            NaN               NaN            NaN   \n",
       "6              0.0            NaN               0.0            NaN   \n",
       "7              0.0            NaN               0.0            NaN   \n",
       "8              NaN            NaN               NaN            NaN   \n",
       "9              0.0            NaN               0.0            NaN   \n",
       "\n",
       "   days_exposition  time_to_day  \n",
       "0              NaN   2019-03-07  \n",
       "1             81.0   2018-12-04  \n",
       "2            558.0   2015-08-20  \n",
       "3            424.0   2015-07-24  \n",
       "4            121.0   2018-06-19  \n",
       "5             55.0   2018-09-10  \n",
       "6            155.0   2017-11-02  \n",
       "7              NaN   2019-04-18  \n",
       "8            189.0   2018-05-23  \n",
       "9            289.0   2017-02-26  \n",
       "\n",
       "[10 rows x 23 columns]"
      ]
     },
     "execution_count": 20,
     "metadata": {},
     "output_type": "execute_result"
    }
   ],
   "source": [
    "real.head(10)"
   ]
  },
  {
   "cell_type": "code",
   "execution_count": 21,
   "id": "cf6701c7",
   "metadata": {
    "colab": {
     "base_uri": "https://localhost:8080/"
    },
    "id": "cf6701c7",
    "outputId": "59dee19e-9178-4ae3-f228-ccb9915119d1"
   },
   "outputs": [
    {
     "name": "stdout",
     "output_type": "stream",
     "text": [
      "<class 'pandas.core.frame.DataFrame'>\n",
      "Int64Index: 23665 entries, 0 to 23698\n",
      "Data columns (total 23 columns):\n",
      " #   Column                Non-Null Count  Dtype         \n",
      "---  ------                --------------  -----         \n",
      " 0   total_images          23665 non-null  int64         \n",
      " 1   last_price            23665 non-null  int64         \n",
      " 2   total_area            23665 non-null  float64       \n",
      " 3   first_day_exposition  23665 non-null  object        \n",
      " 4   rooms                 23665 non-null  int64         \n",
      " 5   ceiling_height        23665 non-null  float64       \n",
      " 6   floors_total          23579 non-null  float64       \n",
      " 7   living_area           21767 non-null  float64       \n",
      " 8   floor                 23665 non-null  int64         \n",
      " 9   is_apartment          23665 non-null  bool          \n",
      " 10  studio                23665 non-null  bool          \n",
      " 11  open_plan             23665 non-null  bool          \n",
      " 12  kitchen_area          21397 non-null  float64       \n",
      " 13  balcony               12162 non-null  float64       \n",
      " 14  locality_name         23616 non-null  object        \n",
      " 15  airports_nearest      18137 non-null  float64       \n",
      " 16  cityCenters_nearest   18160 non-null  float64       \n",
      " 17  parks_around3000      18161 non-null  float64       \n",
      " 18  parks_nearest         8067 non-null   float64       \n",
      " 19  ponds_around3000      18161 non-null  float64       \n",
      " 20  ponds_nearest         9097 non-null   float64       \n",
      " 21  days_exposition       20490 non-null  float64       \n",
      " 22  time_to_day           23665 non-null  datetime64[ns]\n",
      "dtypes: bool(3), datetime64[ns](1), float64(13), int64(4), object(2)\n",
      "memory usage: 3.9+ MB\n"
     ]
    }
   ],
   "source": [
    "real.info()"
   ]
  },
  {
   "cell_type": "markdown",
   "id": "5a78b076",
   "metadata": {
    "id": "5a78b076"
   },
   "source": [
    "<div class=\"alert alert-block alert-info\">\n",
    "Now, the number of variables in the \"ceiling_height_tran\" column matches the number of rows.</div>"
   ]
  },
  {
   "cell_type": "markdown",
   "id": "txU2c10DSQdL",
   "metadata": {
    "id": "txU2c10DSQdL"
   },
   "source": [
    "5) Let`s refine \"floors_total\" column"
   ]
  },
  {
   "cell_type": "code",
   "execution_count": 22,
   "id": "7950f3d0",
   "metadata": {
    "colab": {
     "base_uri": "https://localhost:8080/"
    },
    "id": "7950f3d0",
    "outputId": "c3a6c59c-87c3-4fe2-aefb-bb5b8331981b"
   },
   "outputs": [
    {
     "data": {
      "text/plain": [
       "86"
      ]
     },
     "execution_count": 22,
     "metadata": {},
     "output_type": "execute_result"
    }
   ],
   "source": [
    "real['floors_total'].isna().sum()"
   ]
  },
  {
   "cell_type": "markdown",
   "id": "ead63525",
   "metadata": {
    "id": "ead63525"
   },
   "source": [
    "<div class=\"alert alert-block alert-info\">\n",
    "There are a few missing values in the \"floors_total\" column, but let's check the adequacy of the entered data.</div>"
   ]
  },
  {
   "cell_type": "code",
   "execution_count": 23,
   "id": "1c47f3dd",
   "metadata": {
    "colab": {
     "base_uri": "https://localhost:8080/"
    },
    "id": "1c47f3dd",
    "outputId": "2a1f3114-51f8-4725-cbeb-fad52d3e1ec5",
    "scrolled": true
   },
   "outputs": [
    {
     "data": {
      "text/plain": [
       "array([16., 11.,  5., 14., 12., 26., 24., 27.,  9.,  6., 17., 25.,  3.,\n",
       "       23., 19., 18.,  4., 22.,  8.,  2., 10.,  7., 13., 15., nan, 20.,\n",
       "       28., 36., 21., 35., 34., 60.,  1., 29., 33., 52.])"
      ]
     },
     "execution_count": 23,
     "metadata": {},
     "output_type": "execute_result"
    }
   ],
   "source": [
    "real['floors_total'].unique()"
   ]
  },
  {
   "cell_type": "markdown",
   "id": "7ca9ac2a",
   "metadata": {
    "id": "7ca9ac2a"
   },
   "source": [
    "<div class=\"alert alert-block alert-info\">\n",
    "Apart from the missing values, everything looks realistic, so we can simply replace them.</div>\n"
   ]
  },
  {
   "cell_type": "code",
   "execution_count": 24,
   "id": "a729445d",
   "metadata": {
    "colab": {
     "base_uri": "https://localhost:8080/"
    },
    "id": "a729445d",
    "outputId": "65a23b2a-5de6-4e4e-c8e5-40ef8108a712"
   },
   "outputs": [
    {
     "data": {
      "text/plain": [
       "array([16., 11.,  5., 14., 12., 26., 24., 27.,  9.,  6., 17., 25.,  3.,\n",
       "       23., 19., 18.,  4., 22.,  8.,  2., 10.,  7., 13., 15., 20., 28.,\n",
       "       36., 21., 35., 34., 60.,  1., 29., 33., 52.])"
      ]
     },
     "execution_count": 24,
     "metadata": {},
     "output_type": "execute_result"
    }
   ],
   "source": [
    "real['floors_total'] = real['floors_total'].fillna(real.groupby('floor')['floors_total'].transform('median'))\n",
    "real['floors_total'].unique()"
   ]
  },
  {
   "cell_type": "code",
   "execution_count": 25,
   "id": "d611ef77",
   "metadata": {
    "colab": {
     "base_uri": "https://localhost:8080/"
    },
    "id": "d611ef77",
    "outputId": "6a115a8b-5d5a-45d6-d08f-fd55edea2dd2"
   },
   "outputs": [
    {
     "data": {
      "text/plain": [
       "0"
      ]
     },
     "execution_count": 25,
     "metadata": {},
     "output_type": "execute_result"
    }
   ],
   "source": [
    "real['floors_total'].isna().sum()"
   ]
  },
  {
   "cell_type": "code",
   "execution_count": 26,
   "id": "744b615e",
   "metadata": {
    "colab": {
     "base_uri": "https://localhost:8080/"
    },
    "id": "744b615e",
    "outputId": "257993f8-d13d-4eb8-cdd9-733d1f267174"
   },
   "outputs": [
    {
     "name": "stdout",
     "output_type": "stream",
     "text": [
      "<class 'pandas.core.frame.DataFrame'>\n",
      "Int64Index: 23665 entries, 0 to 23698\n",
      "Data columns (total 23 columns):\n",
      " #   Column                Non-Null Count  Dtype         \n",
      "---  ------                --------------  -----         \n",
      " 0   total_images          23665 non-null  int64         \n",
      " 1   last_price            23665 non-null  int64         \n",
      " 2   total_area            23665 non-null  float64       \n",
      " 3   first_day_exposition  23665 non-null  object        \n",
      " 4   rooms                 23665 non-null  int64         \n",
      " 5   ceiling_height        23665 non-null  float64       \n",
      " 6   floors_total          23665 non-null  float64       \n",
      " 7   living_area           21767 non-null  float64       \n",
      " 8   floor                 23665 non-null  int64         \n",
      " 9   is_apartment          23665 non-null  bool          \n",
      " 10  studio                23665 non-null  bool          \n",
      " 11  open_plan             23665 non-null  bool          \n",
      " 12  kitchen_area          21397 non-null  float64       \n",
      " 13  balcony               12162 non-null  float64       \n",
      " 14  locality_name         23616 non-null  object        \n",
      " 15  airports_nearest      18137 non-null  float64       \n",
      " 16  cityCenters_nearest   18160 non-null  float64       \n",
      " 17  parks_around3000      18161 non-null  float64       \n",
      " 18  parks_nearest         8067 non-null   float64       \n",
      " 19  ponds_around3000      18161 non-null  float64       \n",
      " 20  ponds_nearest         9097 non-null   float64       \n",
      " 21  days_exposition       20490 non-null  float64       \n",
      " 22  time_to_day           23665 non-null  datetime64[ns]\n",
      "dtypes: bool(3), datetime64[ns](1), float64(13), int64(4), object(2)\n",
      "memory usage: 3.9+ MB\n"
     ]
    }
   ],
   "source": [
    "real.info()"
   ]
  },
  {
   "cell_type": "markdown",
   "id": "18f6afd7",
   "metadata": {
    "id": "18f6afd7"
   },
   "source": [
    "<div class=\"alert alert-block alert-info\">\n",
    "Now there are no missing values in the \"floors_total\" column, so we can continue.</div>"
   ]
  },
  {
   "cell_type": "code",
   "execution_count": 27,
   "id": "263d1661",
   "metadata": {
    "colab": {
     "base_uri": "https://localhost:8080/"
    },
    "id": "263d1661",
    "outputId": "b10f408c-63ba-4846-e089-9a27014efdbd"
   },
   "outputs": [
    {
     "data": {
      "text/plain": [
       "1898"
      ]
     },
     "execution_count": 27,
     "metadata": {},
     "output_type": "execute_result"
    }
   ],
   "source": [
    "\n",
    "real['living_area'].isna().sum()\n",
    "\n"
   ]
  },
  {
   "cell_type": "markdown",
   "id": "6c94a057",
   "metadata": {
    "id": "6c94a057"
   },
   "source": [
    "<div class=\"alert alert-block alert-info\">\n",
    "6) Let's remove the missing values in the \"living_area\" column.</div>"
   ]
  },
  {
   "cell_type": "code",
   "execution_count": 28,
   "id": "f7c00b1c",
   "metadata": {
    "colab": {
     "base_uri": "https://localhost:8080/"
    },
    "id": "f7c00b1c",
    "outputId": "9a9c3e48-9c34-4879-b050-fe841dbe8584"
   },
   "outputs": [
    {
     "data": {
      "text/plain": [
       "142"
      ]
     },
     "execution_count": 28,
     "metadata": {},
     "output_type": "execute_result"
    }
   ],
   "source": [
    "real['living_area'] = real['living_area'].fillna(real.groupby('total_area')['living_area'].transform('median'))\n",
    "real['living_area'].isna().sum()"
   ]
  },
  {
   "cell_type": "code",
   "execution_count": 29,
   "id": "41ba3c28",
   "metadata": {
    "colab": {
     "base_uri": "https://localhost:8080/"
    },
    "id": "41ba3c28",
    "outputId": "c957d57a-4bd0-4695-b461-bd997c4ae52e"
   },
   "outputs": [
    {
     "data": {
      "text/plain": [
       "0"
      ]
     },
     "execution_count": 29,
     "metadata": {},
     "output_type": "execute_result"
    }
   ],
   "source": [
    "real['living_area'] = real['living_area'].fillna(real.groupby('rooms')['living_area'].transform('median'))\n",
    "real['living_area'].isna().sum()"
   ]
  },
  {
   "cell_type": "code",
   "execution_count": 30,
   "id": "4f7c05b1",
   "metadata": {
    "colab": {
     "base_uri": "https://localhost:8080/"
    },
    "id": "4f7c05b1",
    "outputId": "6cdcbb49-5eca-4c71-8e66-24e4c1e49ddc"
   },
   "outputs": [
    {
     "name": "stdout",
     "output_type": "stream",
     "text": [
      "<class 'pandas.core.frame.DataFrame'>\n",
      "Int64Index: 23665 entries, 0 to 23698\n",
      "Data columns (total 23 columns):\n",
      " #   Column                Non-Null Count  Dtype         \n",
      "---  ------                --------------  -----         \n",
      " 0   total_images          23665 non-null  int64         \n",
      " 1   last_price            23665 non-null  int64         \n",
      " 2   total_area            23665 non-null  float64       \n",
      " 3   first_day_exposition  23665 non-null  object        \n",
      " 4   rooms                 23665 non-null  int64         \n",
      " 5   ceiling_height        23665 non-null  float64       \n",
      " 6   floors_total          23665 non-null  float64       \n",
      " 7   living_area           23665 non-null  float64       \n",
      " 8   floor                 23665 non-null  int64         \n",
      " 9   is_apartment          23665 non-null  bool          \n",
      " 10  studio                23665 non-null  bool          \n",
      " 11  open_plan             23665 non-null  bool          \n",
      " 12  kitchen_area          21397 non-null  float64       \n",
      " 13  balcony               12162 non-null  float64       \n",
      " 14  locality_name         23616 non-null  object        \n",
      " 15  airports_nearest      18137 non-null  float64       \n",
      " 16  cityCenters_nearest   18160 non-null  float64       \n",
      " 17  parks_around3000      18161 non-null  float64       \n",
      " 18  parks_nearest         8067 non-null   float64       \n",
      " 19  ponds_around3000      18161 non-null  float64       \n",
      " 20  ponds_nearest         9097 non-null   float64       \n",
      " 21  days_exposition       20490 non-null  float64       \n",
      " 22  time_to_day           23665 non-null  datetime64[ns]\n",
      "dtypes: bool(3), datetime64[ns](1), float64(13), int64(4), object(2)\n",
      "memory usage: 3.9+ MB\n"
     ]
    }
   ],
   "source": [
    "real.info()"
   ]
  },
  {
   "cell_type": "markdown",
   "id": "81aee52f",
   "metadata": {
    "id": "81aee52f"
   },
   "source": [
    "<div class=\"alert alert-block alert-info\">\n",
    "I applied the transform method twice to achieve complete replacement of missing values.</div>"
   ]
  },
  {
   "cell_type": "markdown",
   "id": "5d6c8fd5",
   "metadata": {
    "id": "5d6c8fd5"
   },
   "source": [
    "<div class=\"alert alert-block alert-info\">\n",
    "8) We fill in the missing values in the \"kitchen_area\" column using the transform method based on the \"total_area\" column.</div>"
   ]
  },
  {
   "cell_type": "code",
   "execution_count": 31,
   "id": "a394e699",
   "metadata": {
    "colab": {
     "base_uri": "https://localhost:8080/"
    },
    "id": "a394e699",
    "outputId": "30256392-7576-4a28-9cad-abb20a5664ee"
   },
   "outputs": [
    {
     "data": {
      "text/plain": [
       "2268"
      ]
     },
     "execution_count": 31,
     "metadata": {},
     "output_type": "execute_result"
    }
   ],
   "source": [
    "real['kitchen_area'].isna().sum()"
   ]
  },
  {
   "cell_type": "code",
   "execution_count": 32,
   "id": "6d99326b",
   "metadata": {
    "colab": {
     "base_uri": "https://localhost:8080/"
    },
    "id": "6d99326b",
    "outputId": "14f962a7-d3d1-4d7e-93a6-f1aa40225792"
   },
   "outputs": [
    {
     "data": {
      "text/plain": [
       "144      0.0\n",
       "440      0.0\n",
       "608      0.0\n",
       "697      0.0\n",
       "716      0.0\n",
       "        ... \n",
       "22867    0.0\n",
       "22877    0.0\n",
       "23210    0.0\n",
       "23554    0.0\n",
       "23637    0.0\n",
       "Name: kitchen_area, Length: 148, dtype: float64"
      ]
     },
     "execution_count": 32,
     "metadata": {},
     "output_type": "execute_result"
    }
   ],
   "source": [
    "real[real['kitchen_area'].isna()].query('studio == True')['kitchen_area'].fillna(0)"
   ]
  },
  {
   "cell_type": "code",
   "execution_count": 33,
   "id": "e98e1f40",
   "metadata": {
    "colab": {
     "base_uri": "https://localhost:8080/"
    },
    "id": "e98e1f40",
    "outputId": "8a45e943-591a-449f-f05b-9eb3ffb5c6a4"
   },
   "outputs": [
    {
     "data": {
      "text/plain": [
       "148"
      ]
     },
     "execution_count": 33,
     "metadata": {},
     "output_type": "execute_result"
    }
   ],
   "source": [
    "real[real['kitchen_area'].isna()].query('studio == True')['kitchen_area'].isna().sum()"
   ]
  },
  {
   "cell_type": "code",
   "execution_count": 34,
   "id": "cc4ff8c1",
   "metadata": {
    "colab": {
     "base_uri": "https://localhost:8080/"
    },
    "id": "cc4ff8c1",
    "outputId": "47100582-5596-4b8a-d359-93d9e9f5695e"
   },
   "outputs": [
    {
     "data": {
      "text/plain": [
       "204"
      ]
     },
     "execution_count": 34,
     "metadata": {},
     "output_type": "execute_result"
    }
   ],
   "source": [
    "real['kitchen_area'] = real['kitchen_area'].fillna(real.groupby('total_area')['kitchen_area'].transform('median'))\n",
    "real['kitchen_area'].isna().sum()"
   ]
  },
  {
   "cell_type": "code",
   "execution_count": 35,
   "id": "a98ec573",
   "metadata": {
    "colab": {
     "base_uri": "https://localhost:8080/"
    },
    "id": "a98ec573",
    "outputId": "2c932e02-46a3-443c-9e9e-c6cdd4d40f94"
   },
   "outputs": [
    {
     "data": {
      "text/plain": [
       "24"
      ]
     },
     "execution_count": 35,
     "metadata": {},
     "output_type": "execute_result"
    }
   ],
   "source": [
    "real['kitchen_area'] = real['kitchen_area'].fillna(real.groupby('living_area')['kitchen_area'].transform('median'))\n",
    "real['kitchen_area'].isna().sum()"
   ]
  },
  {
   "cell_type": "code",
   "execution_count": 36,
   "id": "7aea4cb6",
   "metadata": {
    "colab": {
     "base_uri": "https://localhost:8080/",
     "height": 1000
    },
    "id": "7aea4cb6",
    "outputId": "90044214-879b-488d-cf93-5bd6cec2557b"
   },
   "outputs": [
    {
     "data": {
      "text/html": [
       "<div>\n",
       "<style scoped>\n",
       "    .dataframe tbody tr th:only-of-type {\n",
       "        vertical-align: middle;\n",
       "    }\n",
       "\n",
       "    .dataframe tbody tr th {\n",
       "        vertical-align: top;\n",
       "    }\n",
       "\n",
       "    .dataframe thead th {\n",
       "        text-align: right;\n",
       "    }\n",
       "</style>\n",
       "<table border=\"1\" class=\"dataframe\">\n",
       "  <thead>\n",
       "    <tr style=\"text-align: right;\">\n",
       "      <th></th>\n",
       "      <th>total_images</th>\n",
       "      <th>last_price</th>\n",
       "      <th>total_area</th>\n",
       "      <th>first_day_exposition</th>\n",
       "      <th>rooms</th>\n",
       "      <th>ceiling_height</th>\n",
       "      <th>floors_total</th>\n",
       "      <th>living_area</th>\n",
       "      <th>floor</th>\n",
       "      <th>is_apartment</th>\n",
       "      <th>...</th>\n",
       "      <th>balcony</th>\n",
       "      <th>locality_name</th>\n",
       "      <th>airports_nearest</th>\n",
       "      <th>cityCenters_nearest</th>\n",
       "      <th>parks_around3000</th>\n",
       "      <th>parks_nearest</th>\n",
       "      <th>ponds_around3000</th>\n",
       "      <th>ponds_nearest</th>\n",
       "      <th>days_exposition</th>\n",
       "      <th>time_to_day</th>\n",
       "    </tr>\n",
       "  </thead>\n",
       "  <tbody>\n",
       "    <tr>\n",
       "      <th>155</th>\n",
       "      <td>8</td>\n",
       "      <td>96000000</td>\n",
       "      <td>317.00</td>\n",
       "      <td>2017-07-07T00:00:00</td>\n",
       "      <td>4</td>\n",
       "      <td>3.50</td>\n",
       "      <td>3.0</td>\n",
       "      <td>183.00</td>\n",
       "      <td>3</td>\n",
       "      <td>True</td>\n",
       "      <td>...</td>\n",
       "      <td>1.0</td>\n",
       "      <td>Санкт-Петербург</td>\n",
       "      <td>22673.0</td>\n",
       "      <td>1771.0</td>\n",
       "      <td>2.0</td>\n",
       "      <td>508.0</td>\n",
       "      <td>3.0</td>\n",
       "      <td>366.0</td>\n",
       "      <td>62.0</td>\n",
       "      <td>2017-07-07</td>\n",
       "    </tr>\n",
       "    <tr>\n",
       "      <th>440</th>\n",
       "      <td>8</td>\n",
       "      <td>2480000</td>\n",
       "      <td>27.11</td>\n",
       "      <td>2018-03-12T00:00:00</td>\n",
       "      <td>0</td>\n",
       "      <td>2.70</td>\n",
       "      <td>17.0</td>\n",
       "      <td>24.75</td>\n",
       "      <td>4</td>\n",
       "      <td>True</td>\n",
       "      <td>...</td>\n",
       "      <td>2.0</td>\n",
       "      <td>Санкт-Петербург</td>\n",
       "      <td>38171.0</td>\n",
       "      <td>15015.0</td>\n",
       "      <td>0.0</td>\n",
       "      <td>NaN</td>\n",
       "      <td>2.0</td>\n",
       "      <td>982.0</td>\n",
       "      <td>64.0</td>\n",
       "      <td>2018-03-12</td>\n",
       "    </tr>\n",
       "    <tr>\n",
       "      <th>1588</th>\n",
       "      <td>3</td>\n",
       "      <td>1900000</td>\n",
       "      <td>21.89</td>\n",
       "      <td>2018-11-01T00:00:00</td>\n",
       "      <td>1</td>\n",
       "      <td>2.60</td>\n",
       "      <td>19.0</td>\n",
       "      <td>10.93</td>\n",
       "      <td>17</td>\n",
       "      <td>True</td>\n",
       "      <td>...</td>\n",
       "      <td>NaN</td>\n",
       "      <td>посёлок Бугры</td>\n",
       "      <td>NaN</td>\n",
       "      <td>NaN</td>\n",
       "      <td>NaN</td>\n",
       "      <td>NaN</td>\n",
       "      <td>NaN</td>\n",
       "      <td>NaN</td>\n",
       "      <td>22.0</td>\n",
       "      <td>2018-11-01</td>\n",
       "    </tr>\n",
       "    <tr>\n",
       "      <th>3311</th>\n",
       "      <td>3</td>\n",
       "      <td>2385000</td>\n",
       "      <td>24.62</td>\n",
       "      <td>2018-11-22T00:00:00</td>\n",
       "      <td>1</td>\n",
       "      <td>2.60</td>\n",
       "      <td>19.0</td>\n",
       "      <td>15.61</td>\n",
       "      <td>17</td>\n",
       "      <td>True</td>\n",
       "      <td>...</td>\n",
       "      <td>NaN</td>\n",
       "      <td>посёлок Мурино</td>\n",
       "      <td>NaN</td>\n",
       "      <td>NaN</td>\n",
       "      <td>NaN</td>\n",
       "      <td>NaN</td>\n",
       "      <td>NaN</td>\n",
       "      <td>NaN</td>\n",
       "      <td>32.0</td>\n",
       "      <td>2018-11-22</td>\n",
       "    </tr>\n",
       "    <tr>\n",
       "      <th>3618</th>\n",
       "      <td>16</td>\n",
       "      <td>4000000</td>\n",
       "      <td>75.03</td>\n",
       "      <td>2014-12-15T00:00:00</td>\n",
       "      <td>2</td>\n",
       "      <td>2.53</td>\n",
       "      <td>3.0</td>\n",
       "      <td>66.22</td>\n",
       "      <td>3</td>\n",
       "      <td>True</td>\n",
       "      <td>...</td>\n",
       "      <td>0.0</td>\n",
       "      <td>Всеволожск</td>\n",
       "      <td>NaN</td>\n",
       "      <td>NaN</td>\n",
       "      <td>NaN</td>\n",
       "      <td>NaN</td>\n",
       "      <td>NaN</td>\n",
       "      <td>NaN</td>\n",
       "      <td>588.0</td>\n",
       "      <td>2014-12-15</td>\n",
       "    </tr>\n",
       "    <tr>\n",
       "      <th>3836</th>\n",
       "      <td>15</td>\n",
       "      <td>6700000</td>\n",
       "      <td>41.82</td>\n",
       "      <td>2018-11-22T00:00:00</td>\n",
       "      <td>1</td>\n",
       "      <td>2.60</td>\n",
       "      <td>14.0</td>\n",
       "      <td>17.03</td>\n",
       "      <td>14</td>\n",
       "      <td>True</td>\n",
       "      <td>...</td>\n",
       "      <td>NaN</td>\n",
       "      <td>Санкт-Петербург</td>\n",
       "      <td>18893.0</td>\n",
       "      <td>4358.0</td>\n",
       "      <td>0.0</td>\n",
       "      <td>NaN</td>\n",
       "      <td>1.0</td>\n",
       "      <td>665.0</td>\n",
       "      <td>26.0</td>\n",
       "      <td>2018-11-22</td>\n",
       "    </tr>\n",
       "    <tr>\n",
       "      <th>4998</th>\n",
       "      <td>4</td>\n",
       "      <td>3720000</td>\n",
       "      <td>26.60</td>\n",
       "      <td>2018-09-20T00:00:00</td>\n",
       "      <td>1</td>\n",
       "      <td>2.60</td>\n",
       "      <td>22.0</td>\n",
       "      <td>13.27</td>\n",
       "      <td>4</td>\n",
       "      <td>True</td>\n",
       "      <td>...</td>\n",
       "      <td>NaN</td>\n",
       "      <td>Санкт-Петербург</td>\n",
       "      <td>35756.0</td>\n",
       "      <td>9329.0</td>\n",
       "      <td>0.0</td>\n",
       "      <td>NaN</td>\n",
       "      <td>1.0</td>\n",
       "      <td>379.0</td>\n",
       "      <td>40.0</td>\n",
       "      <td>2018-09-20</td>\n",
       "    </tr>\n",
       "    <tr>\n",
       "      <th>7577</th>\n",
       "      <td>11</td>\n",
       "      <td>2000000</td>\n",
       "      <td>20.60</td>\n",
       "      <td>2018-09-19T00:00:00</td>\n",
       "      <td>1</td>\n",
       "      <td>2.60</td>\n",
       "      <td>18.0</td>\n",
       "      <td>10.55</td>\n",
       "      <td>17</td>\n",
       "      <td>True</td>\n",
       "      <td>...</td>\n",
       "      <td>NaN</td>\n",
       "      <td>Никольское</td>\n",
       "      <td>NaN</td>\n",
       "      <td>NaN</td>\n",
       "      <td>NaN</td>\n",
       "      <td>NaN</td>\n",
       "      <td>NaN</td>\n",
       "      <td>NaN</td>\n",
       "      <td>NaN</td>\n",
       "      <td>2018-09-19</td>\n",
       "    </tr>\n",
       "    <tr>\n",
       "      <th>7921</th>\n",
       "      <td>1</td>\n",
       "      <td>2204000</td>\n",
       "      <td>27.55</td>\n",
       "      <td>2019-04-01T00:00:00</td>\n",
       "      <td>1</td>\n",
       "      <td>2.75</td>\n",
       "      <td>12.0</td>\n",
       "      <td>16.41</td>\n",
       "      <td>12</td>\n",
       "      <td>True</td>\n",
       "      <td>...</td>\n",
       "      <td>2.0</td>\n",
       "      <td>посёлок Мурино</td>\n",
       "      <td>NaN</td>\n",
       "      <td>NaN</td>\n",
       "      <td>NaN</td>\n",
       "      <td>NaN</td>\n",
       "      <td>NaN</td>\n",
       "      <td>NaN</td>\n",
       "      <td>7.0</td>\n",
       "      <td>2019-04-01</td>\n",
       "    </tr>\n",
       "    <tr>\n",
       "      <th>8737</th>\n",
       "      <td>0</td>\n",
       "      <td>2900000</td>\n",
       "      <td>27.36</td>\n",
       "      <td>2016-03-25T00:00:00</td>\n",
       "      <td>1</td>\n",
       "      <td>2.60</td>\n",
       "      <td>25.0</td>\n",
       "      <td>23.19</td>\n",
       "      <td>19</td>\n",
       "      <td>True</td>\n",
       "      <td>...</td>\n",
       "      <td>0.0</td>\n",
       "      <td>Санкт-Петербург</td>\n",
       "      <td>11761.0</td>\n",
       "      <td>13378.0</td>\n",
       "      <td>0.0</td>\n",
       "      <td>NaN</td>\n",
       "      <td>0.0</td>\n",
       "      <td>NaN</td>\n",
       "      <td>157.0</td>\n",
       "      <td>2016-03-25</td>\n",
       "    </tr>\n",
       "    <tr>\n",
       "      <th>8806</th>\n",
       "      <td>4</td>\n",
       "      <td>25779030</td>\n",
       "      <td>116.70</td>\n",
       "      <td>2019-01-11T00:00:00</td>\n",
       "      <td>4</td>\n",
       "      <td>3.00</td>\n",
       "      <td>22.0</td>\n",
       "      <td>68.48</td>\n",
       "      <td>19</td>\n",
       "      <td>True</td>\n",
       "      <td>...</td>\n",
       "      <td>NaN</td>\n",
       "      <td>Санкт-Петербург</td>\n",
       "      <td>9222.0</td>\n",
       "      <td>11340.0</td>\n",
       "      <td>0.0</td>\n",
       "      <td>NaN</td>\n",
       "      <td>0.0</td>\n",
       "      <td>NaN</td>\n",
       "      <td>NaN</td>\n",
       "      <td>2019-01-11</td>\n",
       "    </tr>\n",
       "    <tr>\n",
       "      <th>10351</th>\n",
       "      <td>4</td>\n",
       "      <td>5380992</td>\n",
       "      <td>110.72</td>\n",
       "      <td>2015-10-09T00:00:00</td>\n",
       "      <td>4</td>\n",
       "      <td>2.80</td>\n",
       "      <td>5.0</td>\n",
       "      <td>80.39</td>\n",
       "      <td>4</td>\n",
       "      <td>True</td>\n",
       "      <td>...</td>\n",
       "      <td>0.0</td>\n",
       "      <td>поселок городского типа Токсово</td>\n",
       "      <td>NaN</td>\n",
       "      <td>NaN</td>\n",
       "      <td>NaN</td>\n",
       "      <td>NaN</td>\n",
       "      <td>NaN</td>\n",
       "      <td>NaN</td>\n",
       "      <td>251.0</td>\n",
       "      <td>2015-10-09</td>\n",
       "    </tr>\n",
       "    <tr>\n",
       "      <th>11715</th>\n",
       "      <td>6</td>\n",
       "      <td>4700000</td>\n",
       "      <td>47.81</td>\n",
       "      <td>2019-03-29T00:00:00</td>\n",
       "      <td>2</td>\n",
       "      <td>3.00</td>\n",
       "      <td>5.0</td>\n",
       "      <td>28.54</td>\n",
       "      <td>2</td>\n",
       "      <td>True</td>\n",
       "      <td>...</td>\n",
       "      <td>NaN</td>\n",
       "      <td>Санкт-Петербург</td>\n",
       "      <td>13553.0</td>\n",
       "      <td>9058.0</td>\n",
       "      <td>0.0</td>\n",
       "      <td>NaN</td>\n",
       "      <td>0.0</td>\n",
       "      <td>NaN</td>\n",
       "      <td>19.0</td>\n",
       "      <td>2019-03-29</td>\n",
       "    </tr>\n",
       "    <tr>\n",
       "      <th>12921</th>\n",
       "      <td>12</td>\n",
       "      <td>4900000</td>\n",
       "      <td>60.45</td>\n",
       "      <td>2015-11-18T00:00:00</td>\n",
       "      <td>3</td>\n",
       "      <td>2.70</td>\n",
       "      <td>9.0</td>\n",
       "      <td>43.62</td>\n",
       "      <td>3</td>\n",
       "      <td>True</td>\n",
       "      <td>...</td>\n",
       "      <td>0.0</td>\n",
       "      <td>Санкт-Петербург</td>\n",
       "      <td>44855.0</td>\n",
       "      <td>17093.0</td>\n",
       "      <td>0.0</td>\n",
       "      <td>NaN</td>\n",
       "      <td>0.0</td>\n",
       "      <td>NaN</td>\n",
       "      <td>212.0</td>\n",
       "      <td>2015-11-18</td>\n",
       "    </tr>\n",
       "    <tr>\n",
       "      <th>14535</th>\n",
       "      <td>7</td>\n",
       "      <td>2450000</td>\n",
       "      <td>24.05</td>\n",
       "      <td>2018-09-20T00:00:00</td>\n",
       "      <td>0</td>\n",
       "      <td>2.70</td>\n",
       "      <td>12.0</td>\n",
       "      <td>16.68</td>\n",
       "      <td>7</td>\n",
       "      <td>True</td>\n",
       "      <td>...</td>\n",
       "      <td>NaN</td>\n",
       "      <td>посёлок Мурино</td>\n",
       "      <td>NaN</td>\n",
       "      <td>NaN</td>\n",
       "      <td>NaN</td>\n",
       "      <td>NaN</td>\n",
       "      <td>NaN</td>\n",
       "      <td>NaN</td>\n",
       "      <td>29.0</td>\n",
       "      <td>2018-09-20</td>\n",
       "    </tr>\n",
       "    <tr>\n",
       "      <th>14610</th>\n",
       "      <td>4</td>\n",
       "      <td>2170000</td>\n",
       "      <td>25.33</td>\n",
       "      <td>2018-10-25T00:00:00</td>\n",
       "      <td>1</td>\n",
       "      <td>2.60</td>\n",
       "      <td>19.0</td>\n",
       "      <td>18.04</td>\n",
       "      <td>10</td>\n",
       "      <td>True</td>\n",
       "      <td>...</td>\n",
       "      <td>NaN</td>\n",
       "      <td>посёлок Бугры</td>\n",
       "      <td>NaN</td>\n",
       "      <td>NaN</td>\n",
       "      <td>NaN</td>\n",
       "      <td>NaN</td>\n",
       "      <td>NaN</td>\n",
       "      <td>NaN</td>\n",
       "      <td>12.0</td>\n",
       "      <td>2018-10-25</td>\n",
       "    </tr>\n",
       "    <tr>\n",
       "      <th>17944</th>\n",
       "      <td>0</td>\n",
       "      <td>17900000</td>\n",
       "      <td>155.30</td>\n",
       "      <td>2016-10-05T00:00:00</td>\n",
       "      <td>4</td>\n",
       "      <td>2.80</td>\n",
       "      <td>5.0</td>\n",
       "      <td>81.10</td>\n",
       "      <td>3</td>\n",
       "      <td>True</td>\n",
       "      <td>...</td>\n",
       "      <td>NaN</td>\n",
       "      <td>Санкт-Петербург</td>\n",
       "      <td>24653.0</td>\n",
       "      <td>2368.0</td>\n",
       "      <td>3.0</td>\n",
       "      <td>281.0</td>\n",
       "      <td>3.0</td>\n",
       "      <td>412.0</td>\n",
       "      <td>726.0</td>\n",
       "      <td>2016-10-05</td>\n",
       "    </tr>\n",
       "    <tr>\n",
       "      <th>18236</th>\n",
       "      <td>7</td>\n",
       "      <td>2426000</td>\n",
       "      <td>29.99</td>\n",
       "      <td>2017-07-28T00:00:00</td>\n",
       "      <td>1</td>\n",
       "      <td>2.70</td>\n",
       "      <td>5.0</td>\n",
       "      <td>17.49</td>\n",
       "      <td>1</td>\n",
       "      <td>True</td>\n",
       "      <td>...</td>\n",
       "      <td>NaN</td>\n",
       "      <td>Колпино</td>\n",
       "      <td>28667.0</td>\n",
       "      <td>34453.0</td>\n",
       "      <td>0.0</td>\n",
       "      <td>NaN</td>\n",
       "      <td>2.0</td>\n",
       "      <td>412.0</td>\n",
       "      <td>414.0</td>\n",
       "      <td>2017-07-28</td>\n",
       "    </tr>\n",
       "    <tr>\n",
       "      <th>18250</th>\n",
       "      <td>15</td>\n",
       "      <td>18990000</td>\n",
       "      <td>76.82</td>\n",
       "      <td>2017-07-01T00:00:00</td>\n",
       "      <td>2</td>\n",
       "      <td>3.00</td>\n",
       "      <td>9.0</td>\n",
       "      <td>36.35</td>\n",
       "      <td>5</td>\n",
       "      <td>True</td>\n",
       "      <td>...</td>\n",
       "      <td>0.0</td>\n",
       "      <td>Санкт-Петербург</td>\n",
       "      <td>25490.0</td>\n",
       "      <td>6597.0</td>\n",
       "      <td>1.0</td>\n",
       "      <td>543.0</td>\n",
       "      <td>0.0</td>\n",
       "      <td>NaN</td>\n",
       "      <td>126.0</td>\n",
       "      <td>2017-07-01</td>\n",
       "    </tr>\n",
       "    <tr>\n",
       "      <th>18365</th>\n",
       "      <td>4</td>\n",
       "      <td>5300000</td>\n",
       "      <td>48.03</td>\n",
       "      <td>2015-11-06T00:00:00</td>\n",
       "      <td>1</td>\n",
       "      <td>2.60</td>\n",
       "      <td>10.0</td>\n",
       "      <td>20.03</td>\n",
       "      <td>1</td>\n",
       "      <td>True</td>\n",
       "      <td>...</td>\n",
       "      <td>NaN</td>\n",
       "      <td>Санкт-Петербург</td>\n",
       "      <td>39946.0</td>\n",
       "      <td>10720.0</td>\n",
       "      <td>1.0</td>\n",
       "      <td>2102.0</td>\n",
       "      <td>3.0</td>\n",
       "      <td>303.0</td>\n",
       "      <td>1103.0</td>\n",
       "      <td>2015-11-06</td>\n",
       "    </tr>\n",
       "    <tr>\n",
       "      <th>19072</th>\n",
       "      <td>1</td>\n",
       "      <td>1950000</td>\n",
       "      <td>24.42</td>\n",
       "      <td>2017-06-30T00:00:00</td>\n",
       "      <td>1</td>\n",
       "      <td>2.60</td>\n",
       "      <td>18.0</td>\n",
       "      <td>15.13</td>\n",
       "      <td>4</td>\n",
       "      <td>True</td>\n",
       "      <td>...</td>\n",
       "      <td>NaN</td>\n",
       "      <td>посёлок Мурино</td>\n",
       "      <td>NaN</td>\n",
       "      <td>NaN</td>\n",
       "      <td>NaN</td>\n",
       "      <td>NaN</td>\n",
       "      <td>NaN</td>\n",
       "      <td>NaN</td>\n",
       "      <td>156.0</td>\n",
       "      <td>2017-06-30</td>\n",
       "    </tr>\n",
       "    <tr>\n",
       "      <th>21381</th>\n",
       "      <td>5</td>\n",
       "      <td>2655000</td>\n",
       "      <td>26.18</td>\n",
       "      <td>2018-11-11T00:00:00</td>\n",
       "      <td>1</td>\n",
       "      <td>2.60</td>\n",
       "      <td>25.0</td>\n",
       "      <td>18.23</td>\n",
       "      <td>11</td>\n",
       "      <td>True</td>\n",
       "      <td>...</td>\n",
       "      <td>2.0</td>\n",
       "      <td>Санкт-Петербург</td>\n",
       "      <td>34495.0</td>\n",
       "      <td>15129.0</td>\n",
       "      <td>0.0</td>\n",
       "      <td>NaN</td>\n",
       "      <td>0.0</td>\n",
       "      <td>NaN</td>\n",
       "      <td>45.0</td>\n",
       "      <td>2018-11-11</td>\n",
       "    </tr>\n",
       "    <tr>\n",
       "      <th>22106</th>\n",
       "      <td>2</td>\n",
       "      <td>3577388</td>\n",
       "      <td>28.86</td>\n",
       "      <td>2017-06-29T00:00:00</td>\n",
       "      <td>1</td>\n",
       "      <td>2.75</td>\n",
       "      <td>14.0</td>\n",
       "      <td>18.28</td>\n",
       "      <td>9</td>\n",
       "      <td>True</td>\n",
       "      <td>...</td>\n",
       "      <td>0.0</td>\n",
       "      <td>Санкт-Петербург</td>\n",
       "      <td>18039.0</td>\n",
       "      <td>4352.0</td>\n",
       "      <td>0.0</td>\n",
       "      <td>NaN</td>\n",
       "      <td>0.0</td>\n",
       "      <td>NaN</td>\n",
       "      <td>3.0</td>\n",
       "      <td>2017-06-29</td>\n",
       "    </tr>\n",
       "    <tr>\n",
       "      <th>22391</th>\n",
       "      <td>15</td>\n",
       "      <td>2650000</td>\n",
       "      <td>26.05</td>\n",
       "      <td>2018-03-06T00:00:00</td>\n",
       "      <td>0</td>\n",
       "      <td>2.70</td>\n",
       "      <td>17.0</td>\n",
       "      <td>14.25</td>\n",
       "      <td>12</td>\n",
       "      <td>True</td>\n",
       "      <td>...</td>\n",
       "      <td>1.0</td>\n",
       "      <td>посёлок Мурино</td>\n",
       "      <td>NaN</td>\n",
       "      <td>NaN</td>\n",
       "      <td>NaN</td>\n",
       "      <td>NaN</td>\n",
       "      <td>NaN</td>\n",
       "      <td>NaN</td>\n",
       "      <td>23.0</td>\n",
       "      <td>2018-03-06</td>\n",
       "    </tr>\n",
       "  </tbody>\n",
       "</table>\n",
       "<p>24 rows × 23 columns</p>\n",
       "</div>"
      ],
      "text/plain": [
       "       total_images  last_price  total_area first_day_exposition  rooms  \\\n",
       "155               8    96000000      317.00  2017-07-07T00:00:00      4   \n",
       "440               8     2480000       27.11  2018-03-12T00:00:00      0   \n",
       "1588              3     1900000       21.89  2018-11-01T00:00:00      1   \n",
       "3311              3     2385000       24.62  2018-11-22T00:00:00      1   \n",
       "3618             16     4000000       75.03  2014-12-15T00:00:00      2   \n",
       "3836             15     6700000       41.82  2018-11-22T00:00:00      1   \n",
       "4998              4     3720000       26.60  2018-09-20T00:00:00      1   \n",
       "7577             11     2000000       20.60  2018-09-19T00:00:00      1   \n",
       "7921              1     2204000       27.55  2019-04-01T00:00:00      1   \n",
       "8737              0     2900000       27.36  2016-03-25T00:00:00      1   \n",
       "8806              4    25779030      116.70  2019-01-11T00:00:00      4   \n",
       "10351             4     5380992      110.72  2015-10-09T00:00:00      4   \n",
       "11715             6     4700000       47.81  2019-03-29T00:00:00      2   \n",
       "12921            12     4900000       60.45  2015-11-18T00:00:00      3   \n",
       "14535             7     2450000       24.05  2018-09-20T00:00:00      0   \n",
       "14610             4     2170000       25.33  2018-10-25T00:00:00      1   \n",
       "17944             0    17900000      155.30  2016-10-05T00:00:00      4   \n",
       "18236             7     2426000       29.99  2017-07-28T00:00:00      1   \n",
       "18250            15    18990000       76.82  2017-07-01T00:00:00      2   \n",
       "18365             4     5300000       48.03  2015-11-06T00:00:00      1   \n",
       "19072             1     1950000       24.42  2017-06-30T00:00:00      1   \n",
       "21381             5     2655000       26.18  2018-11-11T00:00:00      1   \n",
       "22106             2     3577388       28.86  2017-06-29T00:00:00      1   \n",
       "22391            15     2650000       26.05  2018-03-06T00:00:00      0   \n",
       "\n",
       "       ceiling_height  floors_total  living_area  floor  is_apartment  ...  \\\n",
       "155              3.50           3.0       183.00      3          True  ...   \n",
       "440              2.70          17.0        24.75      4          True  ...   \n",
       "1588             2.60          19.0        10.93     17          True  ...   \n",
       "3311             2.60          19.0        15.61     17          True  ...   \n",
       "3618             2.53           3.0        66.22      3          True  ...   \n",
       "3836             2.60          14.0        17.03     14          True  ...   \n",
       "4998             2.60          22.0        13.27      4          True  ...   \n",
       "7577             2.60          18.0        10.55     17          True  ...   \n",
       "7921             2.75          12.0        16.41     12          True  ...   \n",
       "8737             2.60          25.0        23.19     19          True  ...   \n",
       "8806             3.00          22.0        68.48     19          True  ...   \n",
       "10351            2.80           5.0        80.39      4          True  ...   \n",
       "11715            3.00           5.0        28.54      2          True  ...   \n",
       "12921            2.70           9.0        43.62      3          True  ...   \n",
       "14535            2.70          12.0        16.68      7          True  ...   \n",
       "14610            2.60          19.0        18.04     10          True  ...   \n",
       "17944            2.80           5.0        81.10      3          True  ...   \n",
       "18236            2.70           5.0        17.49      1          True  ...   \n",
       "18250            3.00           9.0        36.35      5          True  ...   \n",
       "18365            2.60          10.0        20.03      1          True  ...   \n",
       "19072            2.60          18.0        15.13      4          True  ...   \n",
       "21381            2.60          25.0        18.23     11          True  ...   \n",
       "22106            2.75          14.0        18.28      9          True  ...   \n",
       "22391            2.70          17.0        14.25     12          True  ...   \n",
       "\n",
       "       balcony                    locality_name  airports_nearest  \\\n",
       "155        1.0                  Санкт-Петербург           22673.0   \n",
       "440        2.0                  Санкт-Петербург           38171.0   \n",
       "1588       NaN                    посёлок Бугры               NaN   \n",
       "3311       NaN                   посёлок Мурино               NaN   \n",
       "3618       0.0                       Всеволожск               NaN   \n",
       "3836       NaN                  Санкт-Петербург           18893.0   \n",
       "4998       NaN                  Санкт-Петербург           35756.0   \n",
       "7577       NaN                       Никольское               NaN   \n",
       "7921       2.0                   посёлок Мурино               NaN   \n",
       "8737       0.0                  Санкт-Петербург           11761.0   \n",
       "8806       NaN                  Санкт-Петербург            9222.0   \n",
       "10351      0.0  поселок городского типа Токсово               NaN   \n",
       "11715      NaN                  Санкт-Петербург           13553.0   \n",
       "12921      0.0                  Санкт-Петербург           44855.0   \n",
       "14535      NaN                   посёлок Мурино               NaN   \n",
       "14610      NaN                    посёлок Бугры               NaN   \n",
       "17944      NaN                  Санкт-Петербург           24653.0   \n",
       "18236      NaN                          Колпино           28667.0   \n",
       "18250      0.0                  Санкт-Петербург           25490.0   \n",
       "18365      NaN                  Санкт-Петербург           39946.0   \n",
       "19072      NaN                   посёлок Мурино               NaN   \n",
       "21381      2.0                  Санкт-Петербург           34495.0   \n",
       "22106      0.0                  Санкт-Петербург           18039.0   \n",
       "22391      1.0                   посёлок Мурино               NaN   \n",
       "\n",
       "       cityCenters_nearest parks_around3000  parks_nearest  ponds_around3000  \\\n",
       "155                 1771.0              2.0          508.0               3.0   \n",
       "440                15015.0              0.0            NaN               2.0   \n",
       "1588                   NaN              NaN            NaN               NaN   \n",
       "3311                   NaN              NaN            NaN               NaN   \n",
       "3618                   NaN              NaN            NaN               NaN   \n",
       "3836                4358.0              0.0            NaN               1.0   \n",
       "4998                9329.0              0.0            NaN               1.0   \n",
       "7577                   NaN              NaN            NaN               NaN   \n",
       "7921                   NaN              NaN            NaN               NaN   \n",
       "8737               13378.0              0.0            NaN               0.0   \n",
       "8806               11340.0              0.0            NaN               0.0   \n",
       "10351                  NaN              NaN            NaN               NaN   \n",
       "11715               9058.0              0.0            NaN               0.0   \n",
       "12921              17093.0              0.0            NaN               0.0   \n",
       "14535                  NaN              NaN            NaN               NaN   \n",
       "14610                  NaN              NaN            NaN               NaN   \n",
       "17944               2368.0              3.0          281.0               3.0   \n",
       "18236              34453.0              0.0            NaN               2.0   \n",
       "18250               6597.0              1.0          543.0               0.0   \n",
       "18365              10720.0              1.0         2102.0               3.0   \n",
       "19072                  NaN              NaN            NaN               NaN   \n",
       "21381              15129.0              0.0            NaN               0.0   \n",
       "22106               4352.0              0.0            NaN               0.0   \n",
       "22391                  NaN              NaN            NaN               NaN   \n",
       "\n",
       "       ponds_nearest  days_exposition  time_to_day  \n",
       "155            366.0             62.0   2017-07-07  \n",
       "440            982.0             64.0   2018-03-12  \n",
       "1588             NaN             22.0   2018-11-01  \n",
       "3311             NaN             32.0   2018-11-22  \n",
       "3618             NaN            588.0   2014-12-15  \n",
       "3836           665.0             26.0   2018-11-22  \n",
       "4998           379.0             40.0   2018-09-20  \n",
       "7577             NaN              NaN   2018-09-19  \n",
       "7921             NaN              7.0   2019-04-01  \n",
       "8737             NaN            157.0   2016-03-25  \n",
       "8806             NaN              NaN   2019-01-11  \n",
       "10351            NaN            251.0   2015-10-09  \n",
       "11715            NaN             19.0   2019-03-29  \n",
       "12921            NaN            212.0   2015-11-18  \n",
       "14535            NaN             29.0   2018-09-20  \n",
       "14610            NaN             12.0   2018-10-25  \n",
       "17944          412.0            726.0   2016-10-05  \n",
       "18236          412.0            414.0   2017-07-28  \n",
       "18250            NaN            126.0   2017-07-01  \n",
       "18365          303.0           1103.0   2015-11-06  \n",
       "19072            NaN            156.0   2017-06-30  \n",
       "21381            NaN             45.0   2018-11-11  \n",
       "22106            NaN              3.0   2017-06-29  \n",
       "22391            NaN             23.0   2018-03-06  \n",
       "\n",
       "[24 rows x 23 columns]"
      ]
     },
     "execution_count": 36,
     "metadata": {},
     "output_type": "execute_result"
    }
   ],
   "source": [
    "real[real['kitchen_area'].isna()]"
   ]
  },
  {
   "cell_type": "code",
   "execution_count": 37,
   "id": "9cc154f4",
   "metadata": {
    "colab": {
     "base_uri": "https://localhost:8080/",
     "height": 254
    },
    "id": "9cc154f4",
    "outputId": "8eaf1c2b-b9d7-4b40-b2a5-2f03f198c800"
   },
   "outputs": [
    {
     "data": {
      "text/html": [
       "<div>\n",
       "<style scoped>\n",
       "    .dataframe tbody tr th:only-of-type {\n",
       "        vertical-align: middle;\n",
       "    }\n",
       "\n",
       "    .dataframe tbody tr th {\n",
       "        vertical-align: top;\n",
       "    }\n",
       "\n",
       "    .dataframe thead th {\n",
       "        text-align: right;\n",
       "    }\n",
       "</style>\n",
       "<table border=\"1\" class=\"dataframe\">\n",
       "  <thead>\n",
       "    <tr style=\"text-align: right;\">\n",
       "      <th></th>\n",
       "      <th>total_images</th>\n",
       "      <th>last_price</th>\n",
       "      <th>total_area</th>\n",
       "      <th>first_day_exposition</th>\n",
       "      <th>rooms</th>\n",
       "      <th>ceiling_height</th>\n",
       "      <th>floors_total</th>\n",
       "      <th>living_area</th>\n",
       "      <th>floor</th>\n",
       "      <th>is_apartment</th>\n",
       "      <th>...</th>\n",
       "      <th>balcony</th>\n",
       "      <th>locality_name</th>\n",
       "      <th>airports_nearest</th>\n",
       "      <th>cityCenters_nearest</th>\n",
       "      <th>parks_around3000</th>\n",
       "      <th>parks_nearest</th>\n",
       "      <th>ponds_around3000</th>\n",
       "      <th>ponds_nearest</th>\n",
       "      <th>days_exposition</th>\n",
       "      <th>time_to_day</th>\n",
       "    </tr>\n",
       "  </thead>\n",
       "  <tbody>\n",
       "    <tr>\n",
       "      <th>440</th>\n",
       "      <td>8</td>\n",
       "      <td>2480000</td>\n",
       "      <td>27.11</td>\n",
       "      <td>2018-03-12T00:00:00</td>\n",
       "      <td>0</td>\n",
       "      <td>2.7</td>\n",
       "      <td>17.0</td>\n",
       "      <td>24.75</td>\n",
       "      <td>4</td>\n",
       "      <td>True</td>\n",
       "      <td>...</td>\n",
       "      <td>2.0</td>\n",
       "      <td>Санкт-Петербург</td>\n",
       "      <td>38171.0</td>\n",
       "      <td>15015.0</td>\n",
       "      <td>0.0</td>\n",
       "      <td>NaN</td>\n",
       "      <td>2.0</td>\n",
       "      <td>982.0</td>\n",
       "      <td>64.0</td>\n",
       "      <td>2018-03-12</td>\n",
       "    </tr>\n",
       "    <tr>\n",
       "      <th>14535</th>\n",
       "      <td>7</td>\n",
       "      <td>2450000</td>\n",
       "      <td>24.05</td>\n",
       "      <td>2018-09-20T00:00:00</td>\n",
       "      <td>0</td>\n",
       "      <td>2.7</td>\n",
       "      <td>12.0</td>\n",
       "      <td>16.68</td>\n",
       "      <td>7</td>\n",
       "      <td>True</td>\n",
       "      <td>...</td>\n",
       "      <td>NaN</td>\n",
       "      <td>посёлок Мурино</td>\n",
       "      <td>NaN</td>\n",
       "      <td>NaN</td>\n",
       "      <td>NaN</td>\n",
       "      <td>NaN</td>\n",
       "      <td>NaN</td>\n",
       "      <td>NaN</td>\n",
       "      <td>29.0</td>\n",
       "      <td>2018-09-20</td>\n",
       "    </tr>\n",
       "    <tr>\n",
       "      <th>22391</th>\n",
       "      <td>15</td>\n",
       "      <td>2650000</td>\n",
       "      <td>26.05</td>\n",
       "      <td>2018-03-06T00:00:00</td>\n",
       "      <td>0</td>\n",
       "      <td>2.7</td>\n",
       "      <td>17.0</td>\n",
       "      <td>14.25</td>\n",
       "      <td>12</td>\n",
       "      <td>True</td>\n",
       "      <td>...</td>\n",
       "      <td>1.0</td>\n",
       "      <td>посёлок Мурино</td>\n",
       "      <td>NaN</td>\n",
       "      <td>NaN</td>\n",
       "      <td>NaN</td>\n",
       "      <td>NaN</td>\n",
       "      <td>NaN</td>\n",
       "      <td>NaN</td>\n",
       "      <td>23.0</td>\n",
       "      <td>2018-03-06</td>\n",
       "    </tr>\n",
       "  </tbody>\n",
       "</table>\n",
       "<p>3 rows × 23 columns</p>\n",
       "</div>"
      ],
      "text/plain": [
       "       total_images  last_price  total_area first_day_exposition  rooms  \\\n",
       "440               8     2480000       27.11  2018-03-12T00:00:00      0   \n",
       "14535             7     2450000       24.05  2018-09-20T00:00:00      0   \n",
       "22391            15     2650000       26.05  2018-03-06T00:00:00      0   \n",
       "\n",
       "       ceiling_height  floors_total  living_area  floor  is_apartment  ...  \\\n",
       "440               2.7          17.0        24.75      4          True  ...   \n",
       "14535             2.7          12.0        16.68      7          True  ...   \n",
       "22391             2.7          17.0        14.25     12          True  ...   \n",
       "\n",
       "       balcony    locality_name  airports_nearest  cityCenters_nearest  \\\n",
       "440        2.0  Санкт-Петербург           38171.0              15015.0   \n",
       "14535      NaN   посёлок Мурино               NaN                  NaN   \n",
       "22391      1.0   посёлок Мурино               NaN                  NaN   \n",
       "\n",
       "      parks_around3000  parks_nearest  ponds_around3000  ponds_nearest  \\\n",
       "440                0.0            NaN               2.0          982.0   \n",
       "14535              NaN            NaN               NaN            NaN   \n",
       "22391              NaN            NaN               NaN            NaN   \n",
       "\n",
       "       days_exposition  time_to_day  \n",
       "440               64.0   2018-03-12  \n",
       "14535             29.0   2018-09-20  \n",
       "22391             23.0   2018-03-06  \n",
       "\n",
       "[3 rows x 23 columns]"
      ]
     },
     "execution_count": 37,
     "metadata": {},
     "output_type": "execute_result"
    }
   ],
   "source": [
    "real[real['kitchen_area'].isna()].query('studio == True')"
   ]
  },
  {
   "cell_type": "markdown",
   "id": "773d55a4",
   "metadata": {
    "id": "773d55a4"
   },
   "source": [
    "\n",
    "<div class=\"alert alert-block alert-info\">\n",
    "Since we cannot come up with logical replacements for the missing values in terms of living area, other than using the mean value based on total area, and they did not cover a significant portion of the data (24 rows), we will simply remove those rows.</div>"
   ]
  },
  {
   "cell_type": "code",
   "execution_count": 38,
   "id": "11bad7c0",
   "metadata": {
    "colab": {
     "base_uri": "https://localhost:8080/",
     "height": 424
    },
    "id": "11bad7c0",
    "outputId": "dbf9566d-12a1-4e3b-f603-1b0531753cae"
   },
   "outputs": [
    {
     "data": {
      "text/html": [
       "<div>\n",
       "<style scoped>\n",
       "    .dataframe tbody tr th:only-of-type {\n",
       "        vertical-align: middle;\n",
       "    }\n",
       "\n",
       "    .dataframe tbody tr th {\n",
       "        vertical-align: top;\n",
       "    }\n",
       "\n",
       "    .dataframe thead th {\n",
       "        text-align: right;\n",
       "    }\n",
       "</style>\n",
       "<table border=\"1\" class=\"dataframe\">\n",
       "  <thead>\n",
       "    <tr style=\"text-align: right;\">\n",
       "      <th></th>\n",
       "      <th>total_area</th>\n",
       "      <th>living_area</th>\n",
       "      <th>kitchen_area</th>\n",
       "    </tr>\n",
       "  </thead>\n",
       "  <tbody>\n",
       "    <tr>\n",
       "      <th>0</th>\n",
       "      <td>108.00</td>\n",
       "      <td>51.0</td>\n",
       "      <td>25.00</td>\n",
       "    </tr>\n",
       "    <tr>\n",
       "      <th>1</th>\n",
       "      <td>40.40</td>\n",
       "      <td>18.6</td>\n",
       "      <td>11.00</td>\n",
       "    </tr>\n",
       "    <tr>\n",
       "      <th>2</th>\n",
       "      <td>56.00</td>\n",
       "      <td>34.3</td>\n",
       "      <td>8.30</td>\n",
       "    </tr>\n",
       "    <tr>\n",
       "      <th>3</th>\n",
       "      <td>159.00</td>\n",
       "      <td>95.0</td>\n",
       "      <td>15.00</td>\n",
       "    </tr>\n",
       "    <tr>\n",
       "      <th>4</th>\n",
       "      <td>100.00</td>\n",
       "      <td>32.0</td>\n",
       "      <td>41.00</td>\n",
       "    </tr>\n",
       "    <tr>\n",
       "      <th>...</th>\n",
       "      <td>...</td>\n",
       "      <td>...</td>\n",
       "      <td>...</td>\n",
       "    </tr>\n",
       "    <tr>\n",
       "      <th>23694</th>\n",
       "      <td>133.81</td>\n",
       "      <td>73.3</td>\n",
       "      <td>13.83</td>\n",
       "    </tr>\n",
       "    <tr>\n",
       "      <th>23695</th>\n",
       "      <td>59.00</td>\n",
       "      <td>38.0</td>\n",
       "      <td>8.50</td>\n",
       "    </tr>\n",
       "    <tr>\n",
       "      <th>23696</th>\n",
       "      <td>56.70</td>\n",
       "      <td>29.7</td>\n",
       "      <td>8.40</td>\n",
       "    </tr>\n",
       "    <tr>\n",
       "      <th>23697</th>\n",
       "      <td>76.75</td>\n",
       "      <td>30.5</td>\n",
       "      <td>23.30</td>\n",
       "    </tr>\n",
       "    <tr>\n",
       "      <th>23698</th>\n",
       "      <td>32.30</td>\n",
       "      <td>12.3</td>\n",
       "      <td>9.00</td>\n",
       "    </tr>\n",
       "  </tbody>\n",
       "</table>\n",
       "<p>23356 rows × 3 columns</p>\n",
       "</div>"
      ],
      "text/plain": [
       "       total_area  living_area  kitchen_area\n",
       "0          108.00         51.0         25.00\n",
       "1           40.40         18.6         11.00\n",
       "2           56.00         34.3          8.30\n",
       "3          159.00         95.0         15.00\n",
       "4          100.00         32.0         41.00\n",
       "...           ...          ...           ...\n",
       "23694      133.81         73.3         13.83\n",
       "23695       59.00         38.0          8.50\n",
       "23696       56.70         29.7          8.40\n",
       "23697       76.75         30.5         23.30\n",
       "23698       32.30         12.3          9.00\n",
       "\n",
       "[23356 rows x 3 columns]"
      ]
     },
     "execution_count": 38,
     "metadata": {},
     "output_type": "execute_result"
    }
   ],
   "source": [
    "real.query('total_area > (living_area + kitchen_area)')[['total_area','living_area','kitchen_area']]"
   ]
  },
  {
   "cell_type": "code",
   "execution_count": 39,
   "id": "fb826880",
   "metadata": {
    "colab": {
     "base_uri": "https://localhost:8080/"
    },
    "id": "fb826880",
    "outputId": "f0be68af-4aeb-4225-a933-1b9f2d705afb"
   },
   "outputs": [
    {
     "data": {
      "text/plain": [
       "0"
      ]
     },
     "execution_count": 39,
     "metadata": {},
     "output_type": "execute_result"
    }
   ],
   "source": [
    "real.dropna(subset = ['kitchen_area'],inplace = True)\n",
    "real['kitchen_area'].isna().sum()"
   ]
  },
  {
   "cell_type": "markdown",
   "id": "08a00dd0",
   "metadata": {
    "id": "08a00dd0"
   },
   "source": [
    "<div class=\"alert alert-block alert-info\">\n",
    "9) Let's fill in half of the empty values in the \"balcony\" column. First, let's see which variables are mentioned using the unique method.</div>"
   ]
  },
  {
   "cell_type": "code",
   "execution_count": 40,
   "id": "3d546de2",
   "metadata": {
    "colab": {
     "base_uri": "https://localhost:8080/"
    },
    "id": "3d546de2",
    "outputId": "8773db91-eb81-41a9-c712-c613a98c592f"
   },
   "outputs": [
    {
     "name": "stdout",
     "output_type": "stream",
     "text": [
      "<class 'pandas.core.frame.DataFrame'>\n",
      "Int64Index: 23641 entries, 0 to 23698\n",
      "Data columns (total 23 columns):\n",
      " #   Column                Non-Null Count  Dtype         \n",
      "---  ------                --------------  -----         \n",
      " 0   total_images          23641 non-null  int64         \n",
      " 1   last_price            23641 non-null  int64         \n",
      " 2   total_area            23641 non-null  float64       \n",
      " 3   first_day_exposition  23641 non-null  object        \n",
      " 4   rooms                 23641 non-null  int64         \n",
      " 5   ceiling_height        23641 non-null  float64       \n",
      " 6   floors_total          23641 non-null  float64       \n",
      " 7   living_area           23641 non-null  float64       \n",
      " 8   floor                 23641 non-null  int64         \n",
      " 9   is_apartment          23641 non-null  bool          \n",
      " 10  studio                23641 non-null  bool          \n",
      " 11  open_plan             23641 non-null  bool          \n",
      " 12  kitchen_area          23641 non-null  float64       \n",
      " 13  balcony               12151 non-null  float64       \n",
      " 14  locality_name         23592 non-null  object        \n",
      " 15  airports_nearest      18123 non-null  float64       \n",
      " 16  cityCenters_nearest   18146 non-null  float64       \n",
      " 17  parks_around3000      18147 non-null  float64       \n",
      " 18  parks_nearest         8063 non-null   float64       \n",
      " 19  ponds_around3000      18147 non-null  float64       \n",
      " 20  ponds_nearest         9090 non-null   float64       \n",
      " 21  days_exposition       20468 non-null  float64       \n",
      " 22  time_to_day           23641 non-null  datetime64[ns]\n",
      "dtypes: bool(3), datetime64[ns](1), float64(13), int64(4), object(2)\n",
      "memory usage: 3.9+ MB\n"
     ]
    }
   ],
   "source": [
    "real.info()"
   ]
  },
  {
   "cell_type": "code",
   "execution_count": 41,
   "id": "5374b4f5",
   "metadata": {
    "colab": {
     "base_uri": "https://localhost:8080/"
    },
    "id": "5374b4f5",
    "outputId": "8f14739d-6390-4c86-bf1e-44c9dfc117cd"
   },
   "outputs": [
    {
     "data": {
      "text/plain": [
       "1.0    4186\n",
       "0.0    3747\n",
       "2.0    3652\n",
       "5.0     302\n",
       "4.0     183\n",
       "3.0      81\n",
       "Name: balcony, dtype: int64"
      ]
     },
     "execution_count": 41,
     "metadata": {},
     "output_type": "execute_result"
    }
   ],
   "source": [
    "real['balcony'].value_counts()"
   ]
  },
  {
   "cell_type": "markdown",
   "id": "f5367f94",
   "metadata": {
    "id": "f5367f94"
   },
   "source": [
    "<div class=\"alert alert-block alert-info\">\n",
    "Filled parameters look adequate, except 0.5 parameter which we would move to 1 for our research .\n",
    "Based on this info,  we can presume that missing values are just reflection of missing balconies in the apartment, that`s why we change all Nan values to 0\n",
    "</div>"
   ]
  },
  {
   "cell_type": "code",
   "execution_count": 42,
   "id": "nmg3_amx1UQQ",
   "metadata": {
    "id": "nmg3_amx1UQQ"
   },
   "outputs": [],
   "source": [
    "real['balcony'] = np.where(real.balcony == 0.5, 1.0, real.balcony)"
   ]
  },
  {
   "cell_type": "code",
   "execution_count": 43,
   "id": "e3dccf50",
   "metadata": {
    "colab": {
     "base_uri": "https://localhost:8080/"
    },
    "id": "e3dccf50",
    "outputId": "2631720f-de95-433a-84b9-8248d67e557f"
   },
   "outputs": [
    {
     "data": {
      "text/plain": [
       "11490"
      ]
     },
     "execution_count": 43,
     "metadata": {},
     "output_type": "execute_result"
    }
   ],
   "source": [
    "real['balcony'].isna().sum()"
   ]
  },
  {
   "cell_type": "code",
   "execution_count": 44,
   "id": "93bc0e9d",
   "metadata": {
    "colab": {
     "base_uri": "https://localhost:8080/"
    },
    "id": "93bc0e9d",
    "outputId": "9a3cc655-504e-4fe5-e62a-c632876e2005"
   },
   "outputs": [
    {
     "data": {
      "text/plain": [
       "0"
      ]
     },
     "execution_count": 44,
     "metadata": {},
     "output_type": "execute_result"
    }
   ],
   "source": [
    "real['balcony'] = real['balcony'].fillna(0)\n",
    "real['kitchen_area'].isna().sum()"
   ]
  },
  {
   "cell_type": "code",
   "execution_count": 45,
   "id": "b36b40b1",
   "metadata": {
    "colab": {
     "base_uri": "https://localhost:8080/"
    },
    "id": "b36b40b1",
    "outputId": "a2c18653-0b9b-4927-a0a9-7ed1e90b6424"
   },
   "outputs": [
    {
     "data": {
      "text/plain": [
       "array([0., 2., 1., 5., 4., 3.])"
      ]
     },
     "execution_count": 45,
     "metadata": {},
     "output_type": "execute_result"
    }
   ],
   "source": [
    "real['balcony'].unique()"
   ]
  },
  {
   "cell_type": "code",
   "execution_count": 46,
   "id": "ec6b8f5f",
   "metadata": {
    "id": "ec6b8f5f"
   },
   "outputs": [],
   "source": [
    "real['balcony'] = real['balcony'].astype(int)"
   ]
  },
  {
   "cell_type": "code",
   "execution_count": 47,
   "id": "19281dff",
   "metadata": {
    "colab": {
     "base_uri": "https://localhost:8080/"
    },
    "id": "19281dff",
    "outputId": "d805d624-83f2-447e-c075-54d5e6bbf2d2",
    "scrolled": true
   },
   "outputs": [
    {
     "name": "stdout",
     "output_type": "stream",
     "text": [
      "<class 'pandas.core.frame.DataFrame'>\n",
      "Int64Index: 23641 entries, 0 to 23698\n",
      "Data columns (total 23 columns):\n",
      " #   Column                Non-Null Count  Dtype         \n",
      "---  ------                --------------  -----         \n",
      " 0   total_images          23641 non-null  int64         \n",
      " 1   last_price            23641 non-null  int64         \n",
      " 2   total_area            23641 non-null  float64       \n",
      " 3   first_day_exposition  23641 non-null  object        \n",
      " 4   rooms                 23641 non-null  int64         \n",
      " 5   ceiling_height        23641 non-null  float64       \n",
      " 6   floors_total          23641 non-null  float64       \n",
      " 7   living_area           23641 non-null  float64       \n",
      " 8   floor                 23641 non-null  int64         \n",
      " 9   is_apartment          23641 non-null  bool          \n",
      " 10  studio                23641 non-null  bool          \n",
      " 11  open_plan             23641 non-null  bool          \n",
      " 12  kitchen_area          23641 non-null  float64       \n",
      " 13  balcony               23641 non-null  int64         \n",
      " 14  locality_name         23592 non-null  object        \n",
      " 15  airports_nearest      18123 non-null  float64       \n",
      " 16  cityCenters_nearest   18146 non-null  float64       \n",
      " 17  parks_around3000      18147 non-null  float64       \n",
      " 18  parks_nearest         8063 non-null   float64       \n",
      " 19  ponds_around3000      18147 non-null  float64       \n",
      " 20  ponds_nearest         9090 non-null   float64       \n",
      " 21  days_exposition       20468 non-null  float64       \n",
      " 22  time_to_day           23641 non-null  datetime64[ns]\n",
      "dtypes: bool(3), datetime64[ns](1), float64(12), int64(5), object(2)\n",
      "memory usage: 3.9+ MB\n"
     ]
    }
   ],
   "source": [
    "real.info()"
   ]
  },
  {
   "cell_type": "markdown",
   "id": "6729035f",
   "metadata": {
    "id": "6729035f"
   },
   "source": [
    "<div class=\"alert alert-block alert-info\">\n",
    "10) In the \"locality_name\" column, we will clean the NaN values because we assume that they are not within the research area territorially.</div>"
   ]
  },
  {
   "cell_type": "code",
   "execution_count": 48,
   "id": "cbd39d43",
   "metadata": {
    "colab": {
     "base_uri": "https://localhost:8080/"
    },
    "id": "cbd39d43",
    "outputId": "14bdc044-8e11-4771-ac95-f686d4b7e650"
   },
   "outputs": [
    {
     "name": "stdout",
     "output_type": "stream",
     "text": [
      "<class 'pandas.core.frame.DataFrame'>\n",
      "Int64Index: 23592 entries, 0 to 23698\n",
      "Data columns (total 23 columns):\n",
      " #   Column                Non-Null Count  Dtype         \n",
      "---  ------                --------------  -----         \n",
      " 0   total_images          23592 non-null  int64         \n",
      " 1   last_price            23592 non-null  int64         \n",
      " 2   total_area            23592 non-null  float64       \n",
      " 3   first_day_exposition  23592 non-null  object        \n",
      " 4   rooms                 23592 non-null  int64         \n",
      " 5   ceiling_height        23592 non-null  float64       \n",
      " 6   floors_total          23592 non-null  float64       \n",
      " 7   living_area           23592 non-null  float64       \n",
      " 8   floor                 23592 non-null  int64         \n",
      " 9   is_apartment          23592 non-null  bool          \n",
      " 10  studio                23592 non-null  bool          \n",
      " 11  open_plan             23592 non-null  bool          \n",
      " 12  kitchen_area          23592 non-null  float64       \n",
      " 13  balcony               23592 non-null  int64         \n",
      " 14  locality_name         23592 non-null  object        \n",
      " 15  airports_nearest      18082 non-null  float64       \n",
      " 16  cityCenters_nearest   18105 non-null  float64       \n",
      " 17  parks_around3000      18106 non-null  float64       \n",
      " 18  parks_nearest         8048 non-null   float64       \n",
      " 19  ponds_around3000      18106 non-null  float64       \n",
      " 20  ponds_nearest         9065 non-null   float64       \n",
      " 21  days_exposition       20420 non-null  float64       \n",
      " 22  time_to_day           23592 non-null  datetime64[ns]\n",
      "dtypes: bool(3), datetime64[ns](1), float64(12), int64(5), object(2)\n",
      "memory usage: 3.8+ MB\n"
     ]
    }
   ],
   "source": [
    "real = real[real['locality_name'].notna()]\n",
    "real.info()"
   ]
  },
  {
   "cell_type": "code",
   "execution_count": 49,
   "id": "51bb5e49",
   "metadata": {
    "id": "51bb5e49"
   },
   "outputs": [],
   "source": [
    "#cities_count = real.groupby(['locality_name']).count().sort_values(by = 'airports_nearest', ascending = False)\n",
    "#good_cities = cities_count[cities_count['airports_nearest'] >= 1]\n",
    "#cities_count.query['airports_nearest > 1'] #['locality_name']['airports_nearest'].agg('count').sort_values(ascending = False)\n"
   ]
  },
  {
   "cell_type": "code",
   "execution_count": 50,
   "id": "gccCct18TYN2",
   "metadata": {
    "id": "gccCct18TYN2"
   },
   "outputs": [],
   "source": [
    "#real['cities_name'] = real['locality_name'].where(\n",
    "    #real['locality_name'].isin(good_cities), 'Другие')\n",
    "#real.info()"
   ]
  },
  {
   "cell_type": "markdown",
   "id": "fac01e28",
   "metadata": {
    "id": "fac01e28"
   },
   "source": [
    "<div class=\"alert alert-block alert-info\">\n",
    "11) Let's fill in the missing values in the \"airports_nearest\" column. To begin with, we will try using the transform method.</div>\n"
   ]
  },
  {
   "cell_type": "code",
   "execution_count": 51,
   "id": "768bdff7",
   "metadata": {
    "colab": {
     "base_uri": "https://localhost:8080/"
    },
    "id": "768bdff7",
    "outputId": "444b4e15-df0c-4b58-a3ae-a627ca79747a"
   },
   "outputs": [
    {
     "data": {
      "text/plain": [
       "5510"
      ]
     },
     "execution_count": 51,
     "metadata": {},
     "output_type": "execute_result"
    }
   ],
   "source": [
    "real['airports_nearest'].isna().sum()"
   ]
  },
  {
   "cell_type": "code",
   "execution_count": 52,
   "id": "117b9e9c",
   "metadata": {
    "colab": {
     "base_uri": "https://localhost:8080/"
    },
    "id": "117b9e9c",
    "outputId": "5aac393b-6a5a-46f7-f134-414287c7e0f9"
   },
   "outputs": [
    {
     "data": {
      "text/plain": [
       "5362"
      ]
     },
     "execution_count": 52,
     "metadata": {},
     "output_type": "execute_result"
    }
   ],
   "source": [
    "real['airports_nearest'] = real['airports_nearest'].fillna(real.groupby('locality_name')['airports_nearest'].transform('median'))\n",
    "real['airports_nearest'].isna().sum()\n"
   ]
  },
  {
   "cell_type": "markdown",
   "id": "62f52164",
   "metadata": {
    "id": "62f52164"
   },
   "source": [
    "<div class=\"alert alert-block alert-info\">\n",
    "The transform method was not very helpful because there is a significant skew towards data from St. Petersburg, while data from other localities are not as abundant. Considering that proximity to the airport is not a critical parameter and the size of the city is not dependent on airport proximity, we will manually fill in the missing values based on the description of the column using the describe method.</div>"
   ]
  },
  {
   "cell_type": "code",
   "execution_count": 53,
   "id": "80741817",
   "metadata": {
    "colab": {
     "base_uri": "https://localhost:8080/"
    },
    "id": "80741817",
    "outputId": "8c3b77c0-dbc4-434b-ac9a-43235bc2e809"
   },
   "outputs": [
    {
     "data": {
      "text/plain": [
       "count    18230.000000\n",
       "mean     28879.340510\n",
       "std      12685.345915\n",
       "min          0.000000\n",
       "25%      18625.000000\n",
       "50%      26764.000000\n",
       "75%      37364.000000\n",
       "max      84869.000000\n",
       "Name: airports_nearest, dtype: float64"
      ]
     },
     "execution_count": 53,
     "metadata": {},
     "output_type": "execute_result"
    }
   ],
   "source": [
    "real['airports_nearest'].describe()"
   ]
  },
  {
   "cell_type": "markdown",
   "id": "733295e8",
   "metadata": {
    "id": "733295e8"
   },
   "source": [
    "<div class=\"alert alert-block alert-info\">\n",
    "I will use the 75th percentile value from the known data to fill in the missing values.</div>"
   ]
  },
  {
   "cell_type": "code",
   "execution_count": 54,
   "id": "b91b9a91",
   "metadata": {
    "colab": {
     "base_uri": "https://localhost:8080/"
    },
    "id": "b91b9a91",
    "outputId": "000dafc4-460f-42b5-f320-2ecac1e2aff0"
   },
   "outputs": [
    {
     "data": {
      "text/plain": [
       "0"
      ]
     },
     "execution_count": 54,
     "metadata": {},
     "output_type": "execute_result"
    }
   ],
   "source": [
    "real['airports_nearest'] = real['airports_nearest'].fillna(37313)\n",
    "real['airports_nearest'].isna().sum()"
   ]
  },
  {
   "cell_type": "code",
   "execution_count": 55,
   "id": "93057d08",
   "metadata": {
    "colab": {
     "base_uri": "https://localhost:8080/"
    },
    "id": "93057d08",
    "outputId": "265e9ee6-1903-42cf-def1-67ebc78aae76"
   },
   "outputs": [
    {
     "data": {
      "text/plain": [
       "count    23592.000000\n",
       "mean     30796.146300\n",
       "std      11697.649763\n",
       "min          0.000000\n",
       "25%      21153.500000\n",
       "50%      33367.000000\n",
       "75%      37313.000000\n",
       "max      84869.000000\n",
       "Name: airports_nearest, dtype: float64"
      ]
     },
     "execution_count": 55,
     "metadata": {},
     "output_type": "execute_result"
    }
   ],
   "source": [
    "real['airports_nearest'].describe()"
   ]
  },
  {
   "cell_type": "markdown",
   "id": "3b55c445",
   "metadata": {
    "id": "3b55c445"
   },
   "source": [
    "<div class=\"alert alert-block alert-info\">\n",
    "Let's repeat the same operation with all columns that reflect distance and the number of landmarks.</div>"
   ]
  },
  {
   "cell_type": "code",
   "execution_count": 56,
   "id": "142fc0b0",
   "metadata": {
    "colab": {
     "base_uri": "https://localhost:8080/"
    },
    "id": "142fc0b0",
    "outputId": "d9a67b05-6d35-46c1-d84d-065a1ee7842d"
   },
   "outputs": [
    {
     "data": {
      "text/plain": [
       "count    18105.000000\n",
       "mean     14203.540293\n",
       "std       8607.827743\n",
       "min        181.000000\n",
       "25%       9254.000000\n",
       "50%      13107.000000\n",
       "75%      16293.000000\n",
       "max      65968.000000\n",
       "Name: cityCenters_nearest, dtype: float64"
      ]
     },
     "execution_count": 56,
     "metadata": {},
     "output_type": "execute_result"
    }
   ],
   "source": [
    "real['cityCenters_nearest'].describe()"
   ]
  },
  {
   "cell_type": "code",
   "execution_count": 57,
   "id": "8f62d066",
   "metadata": {
    "id": "8f62d066"
   },
   "outputs": [],
   "source": [
    "real['cityCenters_nearest'] = real['cityCenters_nearest'].fillna(16293)"
   ]
  },
  {
   "cell_type": "code",
   "execution_count": 58,
   "id": "14150325",
   "metadata": {
    "colab": {
     "base_uri": "https://localhost:8080/"
    },
    "id": "14150325",
    "outputId": "d6959b86-ea6c-40b9-d503-0269ac0aaab3"
   },
   "outputs": [
    {
     "data": {
      "text/plain": [
       "count    18106.000000\n",
       "mean         0.611234\n",
       "std          0.801561\n",
       "min          0.000000\n",
       "25%          0.000000\n",
       "50%          0.000000\n",
       "75%          1.000000\n",
       "max          3.000000\n",
       "Name: parks_around3000, dtype: float64"
      ]
     },
     "execution_count": 58,
     "metadata": {},
     "output_type": "execute_result"
    }
   ],
   "source": [
    "real['parks_around3000'].describe()"
   ]
  },
  {
   "cell_type": "code",
   "execution_count": 59,
   "id": "2d0f0279",
   "metadata": {
    "id": "2d0f0279"
   },
   "outputs": [],
   "source": [
    "real['parks_around3000'] = real['parks_around3000'].fillna(1)"
   ]
  },
  {
   "cell_type": "code",
   "execution_count": 60,
   "id": "7c341723",
   "metadata": {
    "colab": {
     "base_uri": "https://localhost:8080/"
    },
    "id": "7c341723",
    "outputId": "a6a6d725-bce4-42a9-9b4a-232a2ff1630d"
   },
   "outputs": [
    {
     "data": {
      "text/plain": [
       "0"
      ]
     },
     "execution_count": 60,
     "metadata": {},
     "output_type": "execute_result"
    }
   ],
   "source": [
    "real['parks_around3000'].isna().sum()"
   ]
  },
  {
   "cell_type": "code",
   "execution_count": 61,
   "id": "0e59d35d",
   "metadata": {
    "colab": {
     "base_uri": "https://localhost:8080/"
    },
    "id": "0e59d35d",
    "outputId": "70943a9a-5a9b-4ece-b977-dde486306320"
   },
   "outputs": [
    {
     "data": {
      "text/plain": [
       "count    8048.000000\n",
       "mean      490.678305\n",
       "std       342.314492\n",
       "min         1.000000\n",
       "25%       287.750000\n",
       "50%       454.000000\n",
       "75%       612.000000\n",
       "max      3190.000000\n",
       "Name: parks_nearest, dtype: float64"
      ]
     },
     "execution_count": 61,
     "metadata": {},
     "output_type": "execute_result"
    }
   ],
   "source": [
    "real['parks_nearest'].describe()"
   ]
  },
  {
   "cell_type": "code",
   "execution_count": 62,
   "id": "75bb3758",
   "metadata": {
    "id": "75bb3758"
   },
   "outputs": [],
   "source": [
    "real['parks_nearest'] = real['parks_nearest'].fillna(612)"
   ]
  },
  {
   "cell_type": "code",
   "execution_count": 63,
   "id": "d95720e5",
   "metadata": {
    "colab": {
     "base_uri": "https://localhost:8080/"
    },
    "id": "d95720e5",
    "outputId": "26c83fd5-cf4d-48cb-e7bf-d75e2a7d9e3a"
   },
   "outputs": [
    {
     "data": {
      "text/plain": [
       "0"
      ]
     },
     "execution_count": 63,
     "metadata": {},
     "output_type": "execute_result"
    }
   ],
   "source": [
    "real['parks_around3000'].isna().sum()"
   ]
  },
  {
   "cell_type": "code",
   "execution_count": 64,
   "id": "3c87d4c5",
   "metadata": {
    "colab": {
     "base_uri": "https://localhost:8080/"
    },
    "id": "3c87d4c5",
    "outputId": "d52495f1-04a9-4c41-8de0-517aca15eea2"
   },
   "outputs": [
    {
     "data": {
      "text/plain": [
       "14527"
      ]
     },
     "execution_count": 64,
     "metadata": {},
     "output_type": "execute_result"
    }
   ],
   "source": [
    "real['ponds_nearest'].isna().sum()"
   ]
  },
  {
   "cell_type": "code",
   "execution_count": 65,
   "id": "405059f2",
   "metadata": {
    "colab": {
     "base_uri": "https://localhost:8080/"
    },
    "id": "405059f2",
    "outputId": "4674b1c9-007c-43d2-a58e-a1cfcd7a6b23"
   },
   "outputs": [
    {
     "data": {
      "text/plain": [
       "count    9065.000000\n",
       "mean      518.256922\n",
       "std       277.865445\n",
       "min        13.000000\n",
       "25%       293.000000\n",
       "50%       503.000000\n",
       "75%       730.000000\n",
       "max      1344.000000\n",
       "Name: ponds_nearest, dtype: float64"
      ]
     },
     "execution_count": 65,
     "metadata": {},
     "output_type": "execute_result"
    }
   ],
   "source": [
    "real['ponds_nearest'].describe()"
   ]
  },
  {
   "cell_type": "code",
   "execution_count": 66,
   "id": "89dc816f",
   "metadata": {
    "id": "89dc816f"
   },
   "outputs": [],
   "source": [
    "real['ponds_nearest'] = real['ponds_nearest'].fillna(729)"
   ]
  },
  {
   "cell_type": "code",
   "execution_count": 67,
   "id": "e1953107",
   "metadata": {
    "colab": {
     "base_uri": "https://localhost:8080/"
    },
    "id": "e1953107",
    "outputId": "0d020f9c-337c-4bc1-be48-25fbc82a2bb5"
   },
   "outputs": [
    {
     "data": {
      "text/plain": [
       "count    23592.000000\n",
       "mean       648.023991\n",
       "std        200.432899\n",
       "min         13.000000\n",
       "25%        638.000000\n",
       "50%        729.000000\n",
       "75%        729.000000\n",
       "max       1344.000000\n",
       "Name: ponds_nearest, dtype: float64"
      ]
     },
     "execution_count": 67,
     "metadata": {},
     "output_type": "execute_result"
    }
   ],
   "source": [
    "real['ponds_nearest'].describe()"
   ]
  },
  {
   "cell_type": "code",
   "execution_count": 68,
   "id": "13c73ecd",
   "metadata": {
    "colab": {
     "base_uri": "https://localhost:8080/"
    },
    "id": "13c73ecd",
    "outputId": "481af129-d4b6-4004-f31b-d4df2b452adb"
   },
   "outputs": [
    {
     "data": {
      "text/plain": [
       "5486"
      ]
     },
     "execution_count": 68,
     "metadata": {},
     "output_type": "execute_result"
    }
   ],
   "source": [
    "real['ponds_around3000'].isna().sum()"
   ]
  },
  {
   "cell_type": "code",
   "execution_count": 69,
   "id": "155d822d",
   "metadata": {
    "colab": {
     "base_uri": "https://localhost:8080/"
    },
    "id": "155d822d",
    "outputId": "e8333860-028b-4ea1-9cda-47062dc2430e"
   },
   "outputs": [
    {
     "data": {
      "text/plain": [
       "count    18106.000000\n",
       "mean         0.769027\n",
       "std          0.937426\n",
       "min          0.000000\n",
       "25%          0.000000\n",
       "50%          1.000000\n",
       "75%          1.000000\n",
       "max          3.000000\n",
       "Name: ponds_around3000, dtype: float64"
      ]
     },
     "execution_count": 69,
     "metadata": {},
     "output_type": "execute_result"
    }
   ],
   "source": [
    "real['ponds_around3000'].describe()"
   ]
  },
  {
   "cell_type": "code",
   "execution_count": 70,
   "id": "39b18b40",
   "metadata": {
    "id": "39b18b40"
   },
   "outputs": [],
   "source": [
    "real['ponds_around3000'] = real['ponds_around3000'].fillna(1)"
   ]
  },
  {
   "cell_type": "code",
   "execution_count": 71,
   "id": "2a0cf5e5",
   "metadata": {
    "colab": {
     "base_uri": "https://localhost:8080/"
    },
    "id": "2a0cf5e5",
    "outputId": "3053def6-07d0-4149-a569-117a12cf8247"
   },
   "outputs": [
    {
     "name": "stdout",
     "output_type": "stream",
     "text": [
      "<class 'pandas.core.frame.DataFrame'>\n",
      "Int64Index: 23592 entries, 0 to 23698\n",
      "Data columns (total 23 columns):\n",
      " #   Column                Non-Null Count  Dtype         \n",
      "---  ------                --------------  -----         \n",
      " 0   total_images          23592 non-null  int64         \n",
      " 1   last_price            23592 non-null  int64         \n",
      " 2   total_area            23592 non-null  float64       \n",
      " 3   first_day_exposition  23592 non-null  object        \n",
      " 4   rooms                 23592 non-null  int64         \n",
      " 5   ceiling_height        23592 non-null  float64       \n",
      " 6   floors_total          23592 non-null  float64       \n",
      " 7   living_area           23592 non-null  float64       \n",
      " 8   floor                 23592 non-null  int64         \n",
      " 9   is_apartment          23592 non-null  bool          \n",
      " 10  studio                23592 non-null  bool          \n",
      " 11  open_plan             23592 non-null  bool          \n",
      " 12  kitchen_area          23592 non-null  float64       \n",
      " 13  balcony               23592 non-null  int64         \n",
      " 14  locality_name         23592 non-null  object        \n",
      " 15  airports_nearest      23592 non-null  float64       \n",
      " 16  cityCenters_nearest   23592 non-null  float64       \n",
      " 17  parks_around3000      23592 non-null  float64       \n",
      " 18  parks_nearest         23592 non-null  float64       \n",
      " 19  ponds_around3000      23592 non-null  float64       \n",
      " 20  ponds_nearest         23592 non-null  float64       \n",
      " 21  days_exposition       20420 non-null  float64       \n",
      " 22  time_to_day           23592 non-null  datetime64[ns]\n",
      "dtypes: bool(3), datetime64[ns](1), float64(12), int64(5), object(2)\n",
      "memory usage: 3.8+ MB\n"
     ]
    }
   ],
   "source": [
    "real.info()"
   ]
  },
  {
   "cell_type": "markdown",
   "id": "72733771",
   "metadata": {
    "id": "72733771"
   },
   "source": [
    "<div class=\"alert alert-block alert-info\">\n",
    "12) We still have one column with missing values, which is \"days_exposition\".\n",
    "    Let`s take a look what is the latest listing that has info on days_exposition</div>"
   ]
  },
  {
   "cell_type": "code",
   "execution_count": 72,
   "id": "bfac56a1",
   "metadata": {
    "colab": {
     "base_uri": "https://localhost:8080/"
    },
    "id": "bfac56a1",
    "outputId": "cc13fcda-859c-4089-a3ce-772483170158",
    "scrolled": false
   },
   "outputs": [
    {
     "data": {
      "text/html": [
       "<div>\n",
       "<style scoped>\n",
       "    .dataframe tbody tr th:only-of-type {\n",
       "        vertical-align: middle;\n",
       "    }\n",
       "\n",
       "    .dataframe tbody tr th {\n",
       "        vertical-align: top;\n",
       "    }\n",
       "\n",
       "    .dataframe thead th {\n",
       "        text-align: right;\n",
       "    }\n",
       "</style>\n",
       "<table border=\"1\" class=\"dataframe\">\n",
       "  <thead>\n",
       "    <tr style=\"text-align: right;\">\n",
       "      <th></th>\n",
       "      <th>total_images</th>\n",
       "      <th>last_price</th>\n",
       "      <th>total_area</th>\n",
       "      <th>first_day_exposition</th>\n",
       "      <th>rooms</th>\n",
       "      <th>ceiling_height</th>\n",
       "      <th>floors_total</th>\n",
       "      <th>living_area</th>\n",
       "      <th>floor</th>\n",
       "      <th>is_apartment</th>\n",
       "      <th>...</th>\n",
       "      <th>balcony</th>\n",
       "      <th>locality_name</th>\n",
       "      <th>airports_nearest</th>\n",
       "      <th>cityCenters_nearest</th>\n",
       "      <th>parks_around3000</th>\n",
       "      <th>parks_nearest</th>\n",
       "      <th>ponds_around3000</th>\n",
       "      <th>ponds_nearest</th>\n",
       "      <th>days_exposition</th>\n",
       "      <th>time_to_day</th>\n",
       "    </tr>\n",
       "  </thead>\n",
       "  <tbody>\n",
       "    <tr>\n",
       "      <th>1632</th>\n",
       "      <td>19</td>\n",
       "      <td>4000000</td>\n",
       "      <td>49.9</td>\n",
       "      <td>2019-05-01T00:00:00</td>\n",
       "      <td>2</td>\n",
       "      <td>2.500</td>\n",
       "      <td>9.0</td>\n",
       "      <td>25.00</td>\n",
       "      <td>1</td>\n",
       "      <td>True</td>\n",
       "      <td>...</td>\n",
       "      <td>0</td>\n",
       "      <td>Санкт-Петербург</td>\n",
       "      <td>13567.0</td>\n",
       "      <td>14384.0</td>\n",
       "      <td>1.0</td>\n",
       "      <td>20.0</td>\n",
       "      <td>1.0</td>\n",
       "      <td>681.0</td>\n",
       "      <td>1.0</td>\n",
       "      <td>2019-05-01</td>\n",
       "    </tr>\n",
       "    <tr>\n",
       "      <th>16212</th>\n",
       "      <td>0</td>\n",
       "      <td>7806000</td>\n",
       "      <td>25.0</td>\n",
       "      <td>2019-04-30T00:00:00</td>\n",
       "      <td>1</td>\n",
       "      <td>3.000</td>\n",
       "      <td>5.0</td>\n",
       "      <td>17.00</td>\n",
       "      <td>5</td>\n",
       "      <td>False</td>\n",
       "      <td>...</td>\n",
       "      <td>0</td>\n",
       "      <td>Санкт-Петербург</td>\n",
       "      <td>36525.0</td>\n",
       "      <td>10302.0</td>\n",
       "      <td>0.0</td>\n",
       "      <td>612.0</td>\n",
       "      <td>0.0</td>\n",
       "      <td>729.0</td>\n",
       "      <td>2.0</td>\n",
       "      <td>2019-04-30</td>\n",
       "    </tr>\n",
       "    <tr>\n",
       "      <th>16053</th>\n",
       "      <td>4</td>\n",
       "      <td>4070000</td>\n",
       "      <td>45.1</td>\n",
       "      <td>2019-04-30T00:00:00</td>\n",
       "      <td>2</td>\n",
       "      <td>2.500</td>\n",
       "      <td>5.0</td>\n",
       "      <td>22.70</td>\n",
       "      <td>3</td>\n",
       "      <td>True</td>\n",
       "      <td>...</td>\n",
       "      <td>0</td>\n",
       "      <td>Санкт-Петербург</td>\n",
       "      <td>40859.0</td>\n",
       "      <td>11668.0</td>\n",
       "      <td>2.0</td>\n",
       "      <td>485.0</td>\n",
       "      <td>0.0</td>\n",
       "      <td>729.0</td>\n",
       "      <td>2.0</td>\n",
       "      <td>2019-04-30</td>\n",
       "    </tr>\n",
       "    <tr>\n",
       "      <th>13061</th>\n",
       "      <td>20</td>\n",
       "      <td>6100000</td>\n",
       "      <td>51.4</td>\n",
       "      <td>2019-04-29T00:00:00</td>\n",
       "      <td>2</td>\n",
       "      <td>3.000</td>\n",
       "      <td>5.0</td>\n",
       "      <td>31.70</td>\n",
       "      <td>4</td>\n",
       "      <td>True</td>\n",
       "      <td>...</td>\n",
       "      <td>1</td>\n",
       "      <td>Санкт-Петербург</td>\n",
       "      <td>10776.0</td>\n",
       "      <td>9389.0</td>\n",
       "      <td>0.0</td>\n",
       "      <td>612.0</td>\n",
       "      <td>0.0</td>\n",
       "      <td>729.0</td>\n",
       "      <td>2.0</td>\n",
       "      <td>2019-04-29</td>\n",
       "    </tr>\n",
       "    <tr>\n",
       "      <th>11961</th>\n",
       "      <td>2</td>\n",
       "      <td>11270000</td>\n",
       "      <td>123.0</td>\n",
       "      <td>2019-04-26T00:00:00</td>\n",
       "      <td>4</td>\n",
       "      <td>3.085</td>\n",
       "      <td>6.0</td>\n",
       "      <td>64.45</td>\n",
       "      <td>2</td>\n",
       "      <td>True</td>\n",
       "      <td>...</td>\n",
       "      <td>0</td>\n",
       "      <td>Санкт-Петербург</td>\n",
       "      <td>26318.0</td>\n",
       "      <td>5021.0</td>\n",
       "      <td>3.0</td>\n",
       "      <td>590.0</td>\n",
       "      <td>0.0</td>\n",
       "      <td>729.0</td>\n",
       "      <td>5.0</td>\n",
       "      <td>2019-04-26</td>\n",
       "    </tr>\n",
       "  </tbody>\n",
       "</table>\n",
       "<p>5 rows × 23 columns</p>\n",
       "</div>"
      ],
      "text/plain": [
       "       total_images  last_price  total_area first_day_exposition  rooms  \\\n",
       "1632             19     4000000        49.9  2019-05-01T00:00:00      2   \n",
       "16212             0     7806000        25.0  2019-04-30T00:00:00      1   \n",
       "16053             4     4070000        45.1  2019-04-30T00:00:00      2   \n",
       "13061            20     6100000        51.4  2019-04-29T00:00:00      2   \n",
       "11961             2    11270000       123.0  2019-04-26T00:00:00      4   \n",
       "\n",
       "       ceiling_height  floors_total  living_area  floor  is_apartment  ...  \\\n",
       "1632            2.500           9.0        25.00      1          True  ...   \n",
       "16212           3.000           5.0        17.00      5         False  ...   \n",
       "16053           2.500           5.0        22.70      3          True  ...   \n",
       "13061           3.000           5.0        31.70      4          True  ...   \n",
       "11961           3.085           6.0        64.45      2          True  ...   \n",
       "\n",
       "       balcony    locality_name  airports_nearest  cityCenters_nearest  \\\n",
       "1632         0  Санкт-Петербург           13567.0              14384.0   \n",
       "16212        0  Санкт-Петербург           36525.0              10302.0   \n",
       "16053        0  Санкт-Петербург           40859.0              11668.0   \n",
       "13061        1  Санкт-Петербург           10776.0               9389.0   \n",
       "11961        0  Санкт-Петербург           26318.0               5021.0   \n",
       "\n",
       "      parks_around3000  parks_nearest  ponds_around3000  ponds_nearest  \\\n",
       "1632               1.0           20.0               1.0          681.0   \n",
       "16212              0.0          612.0               0.0          729.0   \n",
       "16053              2.0          485.0               0.0          729.0   \n",
       "13061              0.0          612.0               0.0          729.0   \n",
       "11961              3.0          590.0               0.0          729.0   \n",
       "\n",
       "       days_exposition  time_to_day  \n",
       "1632               1.0   2019-05-01  \n",
       "16212              2.0   2019-04-30  \n",
       "16053              2.0   2019-04-30  \n",
       "13061              2.0   2019-04-29  \n",
       "11961              5.0   2019-04-26  \n",
       "\n",
       "[5 rows x 23 columns]"
      ]
     },
     "execution_count": 72,
     "metadata": {},
     "output_type": "execute_result"
    }
   ],
   "source": [
    "real[real.days_exposition.notna()].sort_values(by =\"time_to_day\", ascending = False).head(5)\n",
    "\n"
   ]
  },
  {
   "cell_type": "markdown",
   "id": "9b8430f9",
   "metadata": {},
   "source": [
    "<div class=\"alert alert-block alert-info\">\n",
    "Based on this info, we see that last noted date was 2019-05-01. \n",
    "Let`s see between which dates listings with no info on days of exposition take place :</div>"
   ]
  },
  {
   "cell_type": "code",
   "execution_count": 73,
   "id": "fdad4c89",
   "metadata": {},
   "outputs": [
    {
     "data": {
      "text/html": [
       "<div>\n",
       "<style scoped>\n",
       "    .dataframe tbody tr th:only-of-type {\n",
       "        vertical-align: middle;\n",
       "    }\n",
       "\n",
       "    .dataframe tbody tr th {\n",
       "        vertical-align: top;\n",
       "    }\n",
       "\n",
       "    .dataframe thead th {\n",
       "        text-align: right;\n",
       "    }\n",
       "</style>\n",
       "<table border=\"1\" class=\"dataframe\">\n",
       "  <thead>\n",
       "    <tr style=\"text-align: right;\">\n",
       "      <th></th>\n",
       "      <th>locality_name</th>\n",
       "      <th>airports_nearest</th>\n",
       "      <th>cityCenters_nearest</th>\n",
       "      <th>parks_around3000</th>\n",
       "      <th>parks_nearest</th>\n",
       "      <th>ponds_around3000</th>\n",
       "      <th>ponds_nearest</th>\n",
       "      <th>days_exposition</th>\n",
       "      <th>time_to_day</th>\n",
       "    </tr>\n",
       "  </thead>\n",
       "  <tbody>\n",
       "    <tr>\n",
       "      <th>3291</th>\n",
       "      <td>Санкт-Петербург</td>\n",
       "      <td>39393.0</td>\n",
       "      <td>11096.0</td>\n",
       "      <td>1.0</td>\n",
       "      <td>537.0</td>\n",
       "      <td>0.0</td>\n",
       "      <td>729.0</td>\n",
       "      <td>NaN</td>\n",
       "      <td>2014-11-27</td>\n",
       "    </tr>\n",
       "    <tr>\n",
       "      <th>15857</th>\n",
       "      <td>Санкт-Петербург</td>\n",
       "      <td>36779.0</td>\n",
       "      <td>14931.0</td>\n",
       "      <td>0.0</td>\n",
       "      <td>612.0</td>\n",
       "      <td>0.0</td>\n",
       "      <td>729.0</td>\n",
       "      <td>NaN</td>\n",
       "      <td>2014-11-27</td>\n",
       "    </tr>\n",
       "    <tr>\n",
       "      <th>3873</th>\n",
       "      <td>Санкт-Петербург</td>\n",
       "      <td>39393.0</td>\n",
       "      <td>11096.0</td>\n",
       "      <td>1.0</td>\n",
       "      <td>537.0</td>\n",
       "      <td>0.0</td>\n",
       "      <td>729.0</td>\n",
       "      <td>NaN</td>\n",
       "      <td>2014-11-27</td>\n",
       "    </tr>\n",
       "    <tr>\n",
       "      <th>6922</th>\n",
       "      <td>Санкт-Петербург</td>\n",
       "      <td>31656.0</td>\n",
       "      <td>8733.0</td>\n",
       "      <td>1.0</td>\n",
       "      <td>562.0</td>\n",
       "      <td>1.0</td>\n",
       "      <td>522.0</td>\n",
       "      <td>NaN</td>\n",
       "      <td>2014-12-08</td>\n",
       "    </tr>\n",
       "    <tr>\n",
       "      <th>260</th>\n",
       "      <td>Санкт-Петербург</td>\n",
       "      <td>39393.0</td>\n",
       "      <td>11096.0</td>\n",
       "      <td>1.0</td>\n",
       "      <td>537.0</td>\n",
       "      <td>0.0</td>\n",
       "      <td>729.0</td>\n",
       "      <td>NaN</td>\n",
       "      <td>2014-12-09</td>\n",
       "    </tr>\n",
       "    <tr>\n",
       "      <th>8170</th>\n",
       "      <td>городской посёлок Новоселье</td>\n",
       "      <td>37313.0</td>\n",
       "      <td>16293.0</td>\n",
       "      <td>1.0</td>\n",
       "      <td>612.0</td>\n",
       "      <td>1.0</td>\n",
       "      <td>729.0</td>\n",
       "      <td>NaN</td>\n",
       "      <td>2019-05-03</td>\n",
       "    </tr>\n",
       "    <tr>\n",
       "      <th>4450</th>\n",
       "      <td>Пушкин</td>\n",
       "      <td>13107.0</td>\n",
       "      <td>25261.0</td>\n",
       "      <td>1.0</td>\n",
       "      <td>361.0</td>\n",
       "      <td>0.0</td>\n",
       "      <td>729.0</td>\n",
       "      <td>NaN</td>\n",
       "      <td>2019-05-03</td>\n",
       "    </tr>\n",
       "    <tr>\n",
       "      <th>10917</th>\n",
       "      <td>Санкт-Петербург</td>\n",
       "      <td>25083.0</td>\n",
       "      <td>3148.0</td>\n",
       "      <td>2.0</td>\n",
       "      <td>629.0</td>\n",
       "      <td>0.0</td>\n",
       "      <td>729.0</td>\n",
       "      <td>NaN</td>\n",
       "      <td>2019-05-03</td>\n",
       "    </tr>\n",
       "    <tr>\n",
       "      <th>12380</th>\n",
       "      <td>Санкт-Петербург</td>\n",
       "      <td>41522.0</td>\n",
       "      <td>12331.0</td>\n",
       "      <td>2.0</td>\n",
       "      <td>371.0</td>\n",
       "      <td>0.0</td>\n",
       "      <td>729.0</td>\n",
       "      <td>NaN</td>\n",
       "      <td>2019-05-03</td>\n",
       "    </tr>\n",
       "    <tr>\n",
       "      <th>17551</th>\n",
       "      <td>Сосновый Бор</td>\n",
       "      <td>37313.0</td>\n",
       "      <td>16293.0</td>\n",
       "      <td>1.0</td>\n",
       "      <td>612.0</td>\n",
       "      <td>1.0</td>\n",
       "      <td>729.0</td>\n",
       "      <td>NaN</td>\n",
       "      <td>2019-05-03</td>\n",
       "    </tr>\n",
       "  </tbody>\n",
       "</table>\n",
       "</div>"
      ],
      "text/plain": [
       "                     locality_name  airports_nearest  cityCenters_nearest  \\\n",
       "3291               Санкт-Петербург           39393.0              11096.0   \n",
       "15857              Санкт-Петербург           36779.0              14931.0   \n",
       "3873               Санкт-Петербург           39393.0              11096.0   \n",
       "6922               Санкт-Петербург           31656.0               8733.0   \n",
       "260                Санкт-Петербург           39393.0              11096.0   \n",
       "8170   городской посёлок Новоселье           37313.0              16293.0   \n",
       "4450                        Пушкин           13107.0              25261.0   \n",
       "10917              Санкт-Петербург           25083.0               3148.0   \n",
       "12380              Санкт-Петербург           41522.0              12331.0   \n",
       "17551                 Сосновый Бор           37313.0              16293.0   \n",
       "\n",
       "       parks_around3000  parks_nearest  ponds_around3000  ponds_nearest  \\\n",
       "3291                1.0          537.0               0.0          729.0   \n",
       "15857               0.0          612.0               0.0          729.0   \n",
       "3873                1.0          537.0               0.0          729.0   \n",
       "6922                1.0          562.0               1.0          522.0   \n",
       "260                 1.0          537.0               0.0          729.0   \n",
       "8170                1.0          612.0               1.0          729.0   \n",
       "4450                1.0          361.0               0.0          729.0   \n",
       "10917               2.0          629.0               0.0          729.0   \n",
       "12380               2.0          371.0               0.0          729.0   \n",
       "17551               1.0          612.0               1.0          729.0   \n",
       "\n",
       "       days_exposition time_to_day  \n",
       "3291               NaN  2014-11-27  \n",
       "15857              NaN  2014-11-27  \n",
       "3873               NaN  2014-11-27  \n",
       "6922               NaN  2014-12-08  \n",
       "260                NaN  2014-12-09  \n",
       "8170               NaN  2019-05-03  \n",
       "4450               NaN  2019-05-03  \n",
       "10917              NaN  2019-05-03  \n",
       "12380              NaN  2019-05-03  \n",
       "17551              NaN  2019-05-03  "
      ]
     },
     "execution_count": 73,
     "metadata": {},
     "output_type": "execute_result"
    }
   ],
   "source": [
    "chart =  real[real.days_exposition.isna()].sort_values(by =\"time_to_day\", ascending = True)\n",
    "#chart.plot ( x = chart['time_to_day'], y = chart.index.nunique() )\n",
    "#real[real.days_exposition.isna()].groupby('time_to_day')['first_day_exposition'].agg('count').reset_index().sort_values(by = 'first_day_exposition', ascending = False)\n",
    "extremes = pd.concat([chart.head(5), chart.tail(5)])\n",
    "extremes.iloc[:,14:]"
   ]
  },
  {
   "cell_type": "code",
   "execution_count": 92,
   "id": "f708b1e3",
   "metadata": {},
   "outputs": [
    {
     "data": {
      "image/png": "[encoded data removed]",
      "text/plain": [
       "<Figure size 1008x432 with 1 Axes>"
      ]
     },
     "metadata": {
      "needs_background": "light"
     },
     "output_type": "display_data"
    }
   ],
   "source": [
    "chart.reset_index(inplace=True)\n",
    "grouped_data = chart.groupby('time_to_day').agg({'index': 'nunique'})\n",
    "\n",
    "# Create the plot\n",
    "plt.figure(figsize=(14, 6))  # Adjust the figure size if needed\n",
    "plt.bar(grouped_data.index, grouped_data['index'], color='green', edgecolor='black', alpha=0.7)\n",
    "\n",
    "# Customize the plot\n",
    "plt.xlabel('Date', fontsize = 12)\n",
    "plt.ylabel('Apartments per date', fontsize = 12)\n",
    "plt.title('Listings without data dispersion', fontsize = 15)\n",
    "plt.xticks(rotation=45)\n",
    "\n",
    "# Show the plot\n",
    "plt.show()"
   ]
  },
  {
   "cell_type": "markdown",
   "id": "348ce84b",
   "metadata": {
    "id": "348ce84b"
   },
   "source": [
    "<div class=\"alert alert-block alert-info\">\n",
    "We see dates all over the place but majority of listings are in 2018 - 2019 year range, which makes me think of hypothesis that we see here unsold items, therefore days_exposition constantly changing and to fix that, for our research we would add calculation based of last date where dataset was given - 2019-05-03\n",
    "\n",
    "p.s. for future research, based on this theory we would add bool column Sold, where we determine this listings as unsold. </div>"
   ]
  },
  {
   "cell_type": "code",
   "execution_count": 75,
   "id": "3f73410d",
   "metadata": {
    "id": "3f73410d"
   },
   "outputs": [],
   "source": [
    "import datetime as dt"
   ]
  },
  {
   "cell_type": "code",
   "execution_count": 76,
   "id": "dfa29177",
   "metadata": {},
   "outputs": [
    {
     "data": {
      "text/html": [
       "<div>\n",
       "<style scoped>\n",
       "    .dataframe tbody tr th:only-of-type {\n",
       "        vertical-align: middle;\n",
       "    }\n",
       "\n",
       "    .dataframe tbody tr th {\n",
       "        vertical-align: top;\n",
       "    }\n",
       "\n",
       "    .dataframe thead th {\n",
       "        text-align: right;\n",
       "    }\n",
       "</style>\n",
       "<table border=\"1\" class=\"dataframe\">\n",
       "  <thead>\n",
       "    <tr style=\"text-align: right;\">\n",
       "      <th></th>\n",
       "      <th>total_images</th>\n",
       "      <th>last_price</th>\n",
       "      <th>total_area</th>\n",
       "      <th>first_day_exposition</th>\n",
       "      <th>rooms</th>\n",
       "      <th>ceiling_height</th>\n",
       "      <th>floors_total</th>\n",
       "      <th>living_area</th>\n",
       "      <th>floor</th>\n",
       "      <th>is_apartment</th>\n",
       "      <th>...</th>\n",
       "      <th>locality_name</th>\n",
       "      <th>airports_nearest</th>\n",
       "      <th>cityCenters_nearest</th>\n",
       "      <th>parks_around3000</th>\n",
       "      <th>parks_nearest</th>\n",
       "      <th>ponds_around3000</th>\n",
       "      <th>ponds_nearest</th>\n",
       "      <th>days_exposition</th>\n",
       "      <th>time_to_day</th>\n",
       "      <th>sold</th>\n",
       "    </tr>\n",
       "  </thead>\n",
       "  <tbody>\n",
       "    <tr>\n",
       "      <th>0</th>\n",
       "      <td>20</td>\n",
       "      <td>13000000</td>\n",
       "      <td>108.0</td>\n",
       "      <td>2019-03-07T00:00:00</td>\n",
       "      <td>3</td>\n",
       "      <td>2.70</td>\n",
       "      <td>16.0</td>\n",
       "      <td>51.0</td>\n",
       "      <td>8</td>\n",
       "      <td>True</td>\n",
       "      <td>...</td>\n",
       "      <td>Санкт-Петербург</td>\n",
       "      <td>18863.0</td>\n",
       "      <td>16028.0</td>\n",
       "      <td>1.0</td>\n",
       "      <td>482.0</td>\n",
       "      <td>2.0</td>\n",
       "      <td>755.0</td>\n",
       "      <td>57.0</td>\n",
       "      <td>2019-03-07</td>\n",
       "      <td>No</td>\n",
       "    </tr>\n",
       "    <tr>\n",
       "      <th>1</th>\n",
       "      <td>7</td>\n",
       "      <td>3350000</td>\n",
       "      <td>40.4</td>\n",
       "      <td>2018-12-04T00:00:00</td>\n",
       "      <td>1</td>\n",
       "      <td>2.70</td>\n",
       "      <td>11.0</td>\n",
       "      <td>18.6</td>\n",
       "      <td>1</td>\n",
       "      <td>True</td>\n",
       "      <td>...</td>\n",
       "      <td>посёлок Шушары</td>\n",
       "      <td>12817.0</td>\n",
       "      <td>18603.0</td>\n",
       "      <td>0.0</td>\n",
       "      <td>612.0</td>\n",
       "      <td>0.0</td>\n",
       "      <td>729.0</td>\n",
       "      <td>81.0</td>\n",
       "      <td>2018-12-04</td>\n",
       "      <td>Yes</td>\n",
       "    </tr>\n",
       "    <tr>\n",
       "      <th>2</th>\n",
       "      <td>10</td>\n",
       "      <td>5196000</td>\n",
       "      <td>56.0</td>\n",
       "      <td>2015-08-20T00:00:00</td>\n",
       "      <td>2</td>\n",
       "      <td>2.60</td>\n",
       "      <td>5.0</td>\n",
       "      <td>34.3</td>\n",
       "      <td>4</td>\n",
       "      <td>True</td>\n",
       "      <td>...</td>\n",
       "      <td>Санкт-Петербург</td>\n",
       "      <td>21741.0</td>\n",
       "      <td>13933.0</td>\n",
       "      <td>1.0</td>\n",
       "      <td>90.0</td>\n",
       "      <td>2.0</td>\n",
       "      <td>574.0</td>\n",
       "      <td>558.0</td>\n",
       "      <td>2015-08-20</td>\n",
       "      <td>Yes</td>\n",
       "    </tr>\n",
       "    <tr>\n",
       "      <th>3</th>\n",
       "      <td>0</td>\n",
       "      <td>64900000</td>\n",
       "      <td>159.0</td>\n",
       "      <td>2015-07-24T00:00:00</td>\n",
       "      <td>3</td>\n",
       "      <td>3.14</td>\n",
       "      <td>14.0</td>\n",
       "      <td>95.0</td>\n",
       "      <td>9</td>\n",
       "      <td>True</td>\n",
       "      <td>...</td>\n",
       "      <td>Санкт-Петербург</td>\n",
       "      <td>28098.0</td>\n",
       "      <td>6800.0</td>\n",
       "      <td>2.0</td>\n",
       "      <td>84.0</td>\n",
       "      <td>3.0</td>\n",
       "      <td>234.0</td>\n",
       "      <td>424.0</td>\n",
       "      <td>2015-07-24</td>\n",
       "      <td>Yes</td>\n",
       "    </tr>\n",
       "    <tr>\n",
       "      <th>4</th>\n",
       "      <td>2</td>\n",
       "      <td>10000000</td>\n",
       "      <td>100.0</td>\n",
       "      <td>2018-06-19T00:00:00</td>\n",
       "      <td>2</td>\n",
       "      <td>3.03</td>\n",
       "      <td>14.0</td>\n",
       "      <td>32.0</td>\n",
       "      <td>13</td>\n",
       "      <td>True</td>\n",
       "      <td>...</td>\n",
       "      <td>Санкт-Петербург</td>\n",
       "      <td>31856.0</td>\n",
       "      <td>8098.0</td>\n",
       "      <td>2.0</td>\n",
       "      <td>112.0</td>\n",
       "      <td>1.0</td>\n",
       "      <td>48.0</td>\n",
       "      <td>121.0</td>\n",
       "      <td>2018-06-19</td>\n",
       "      <td>Yes</td>\n",
       "    </tr>\n",
       "  </tbody>\n",
       "</table>\n",
       "<p>5 rows × 24 columns</p>\n",
       "</div>"
      ],
      "text/plain": [
       "   total_images  last_price  total_area first_day_exposition  rooms  \\\n",
       "0            20    13000000       108.0  2019-03-07T00:00:00      3   \n",
       "1             7     3350000        40.4  2018-12-04T00:00:00      1   \n",
       "2            10     5196000        56.0  2015-08-20T00:00:00      2   \n",
       "3             0    64900000       159.0  2015-07-24T00:00:00      3   \n",
       "4             2    10000000       100.0  2018-06-19T00:00:00      2   \n",
       "\n",
       "   ceiling_height  floors_total  living_area  floor  is_apartment  ...  \\\n",
       "0            2.70          16.0         51.0      8          True  ...   \n",
       "1            2.70          11.0         18.6      1          True  ...   \n",
       "2            2.60           5.0         34.3      4          True  ...   \n",
       "3            3.14          14.0         95.0      9          True  ...   \n",
       "4            3.03          14.0         32.0     13          True  ...   \n",
       "\n",
       "     locality_name  airports_nearest  cityCenters_nearest  parks_around3000  \\\n",
       "0  Санкт-Петербург           18863.0              16028.0               1.0   \n",
       "1   посёлок Шушары           12817.0              18603.0               0.0   \n",
       "2  Санкт-Петербург           21741.0              13933.0               1.0   \n",
       "3  Санкт-Петербург           28098.0               6800.0               2.0   \n",
       "4  Санкт-Петербург           31856.0               8098.0               2.0   \n",
       "\n",
       "  parks_nearest  ponds_around3000  ponds_nearest  days_exposition  \\\n",
       "0         482.0               2.0          755.0             57.0   \n",
       "1         612.0               0.0          729.0             81.0   \n",
       "2          90.0               2.0          574.0            558.0   \n",
       "3          84.0               3.0          234.0            424.0   \n",
       "4         112.0               1.0           48.0            121.0   \n",
       "\n",
       "   time_to_day  sold  \n",
       "0   2019-03-07    No  \n",
       "1   2018-12-04   Yes  \n",
       "2   2015-08-20   Yes  \n",
       "3   2015-07-24   Yes  \n",
       "4   2018-06-19   Yes  \n",
       "\n",
       "[5 rows x 24 columns]"
      ]
     },
     "execution_count": 76,
     "metadata": {},
     "output_type": "execute_result"
    }
   ],
   "source": [
    "days_difference = (pd.to_datetime('2019-05-03') - real['time_to_day']).dt.days\n",
    "real['sold'] = real['days_exposition'].notnull().map({True: 'Yes', False: 'No'})\n",
    "# Use .loc to fill missing values in 'days_exposition' column with the calculated values\n",
    "real.loc[real.days_exposition.isna(), 'days_exposition'] = days_difference\n",
    "real.head()"
   ]
  },
  {
   "cell_type": "code",
   "execution_count": 77,
   "id": "dfb8d151",
   "metadata": {},
   "outputs": [
    {
     "name": "stdout",
     "output_type": "stream",
     "text": [
      "<class 'pandas.core.frame.DataFrame'>\n",
      "Int64Index: 23592 entries, 0 to 23698\n",
      "Data columns (total 24 columns):\n",
      " #   Column                Non-Null Count  Dtype         \n",
      "---  ------                --------------  -----         \n",
      " 0   total_images          23592 non-null  int64         \n",
      " 1   last_price            23592 non-null  int64         \n",
      " 2   total_area            23592 non-null  float64       \n",
      " 3   first_day_exposition  23592 non-null  object        \n",
      " 4   rooms                 23592 non-null  int64         \n",
      " 5   ceiling_height        23592 non-null  float64       \n",
      " 6   floors_total          23592 non-null  float64       \n",
      " 7   living_area           23592 non-null  float64       \n",
      " 8   floor                 23592 non-null  int64         \n",
      " 9   is_apartment          23592 non-null  bool          \n",
      " 10  studio                23592 non-null  bool          \n",
      " 11  open_plan             23592 non-null  bool          \n",
      " 12  kitchen_area          23592 non-null  float64       \n",
      " 13  balcony               23592 non-null  int64         \n",
      " 14  locality_name         23592 non-null  object        \n",
      " 15  airports_nearest      23592 non-null  float64       \n",
      " 16  cityCenters_nearest   23592 non-null  float64       \n",
      " 17  parks_around3000      23592 non-null  float64       \n",
      " 18  parks_nearest         23592 non-null  float64       \n",
      " 19  ponds_around3000      23592 non-null  float64       \n",
      " 20  ponds_nearest         23592 non-null  float64       \n",
      " 21  days_exposition       23592 non-null  float64       \n",
      " 22  time_to_day           23592 non-null  datetime64[ns]\n",
      " 23  sold                  23592 non-null  object        \n",
      "dtypes: bool(3), datetime64[ns](1), float64(12), int64(5), object(3)\n",
      "memory usage: 4.5+ MB\n"
     ]
    }
   ],
   "source": [
    "real.info()"
   ]
  },
  {
   "cell_type": "markdown",
   "id": "d06d08f9",
   "metadata": {},
   "source": [
    "<div class=\"alert alert-block alert-info\">\n",
    "Number of values are the same in each column, now let`s finish this with alligning data types for each column for best research result.</div>"
   ]
  },
  {
   "cell_type": "code",
   "execution_count": 78,
   "id": "99bd4784",
   "metadata": {
    "id": "99bd4784"
   },
   "outputs": [],
   "source": [
    "real['last_price'] = real['last_price'] / 1000\n",
    "real['floors_total'] = real['floors_total'].astype(int)\n",
    "real['airports_nearest'] = real['airports_nearest'].astype(int)\n",
    "real['cityCenters_nearest'] = real['cityCenters_nearest'].astype(int)\n",
    "real['parks_around3000'] = real['parks_around3000'].astype(int)\n",
    "real['parks_nearest'] = real['parks_nearest'].astype(int)\n",
    "real['ponds_around3000'] = real['ponds_around3000'].astype(int)\n",
    "real['ponds_nearest'] = real['ponds_nearest'].astype(int)\n",
    "real['days_exposition'] = real['days_exposition'].astype(int)"
   ]
  },
  {
   "cell_type": "code",
   "execution_count": 79,
   "id": "b4f8ae7c",
   "metadata": {
    "id": "b4f8ae7c",
    "outputId": "97a2c9e5-0b5f-4485-8f1b-6f87cd366c92"
   },
   "outputs": [
    {
     "data": {
      "text/html": [
       "<div>\n",
       "<style scoped>\n",
       "    .dataframe tbody tr th:only-of-type {\n",
       "        vertical-align: middle;\n",
       "    }\n",
       "\n",
       "    .dataframe tbody tr th {\n",
       "        vertical-align: top;\n",
       "    }\n",
       "\n",
       "    .dataframe thead th {\n",
       "        text-align: right;\n",
       "    }\n",
       "</style>\n",
       "<table border=\"1\" class=\"dataframe\">\n",
       "  <thead>\n",
       "    <tr style=\"text-align: right;\">\n",
       "      <th></th>\n",
       "      <th>total_images</th>\n",
       "      <th>last_price</th>\n",
       "      <th>total_area</th>\n",
       "      <th>first_day_exposition</th>\n",
       "      <th>rooms</th>\n",
       "      <th>ceiling_height</th>\n",
       "      <th>floors_total</th>\n",
       "      <th>living_area</th>\n",
       "      <th>floor</th>\n",
       "      <th>is_apartment</th>\n",
       "      <th>...</th>\n",
       "      <th>locality_name</th>\n",
       "      <th>airports_nearest</th>\n",
       "      <th>cityCenters_nearest</th>\n",
       "      <th>parks_around3000</th>\n",
       "      <th>parks_nearest</th>\n",
       "      <th>ponds_around3000</th>\n",
       "      <th>ponds_nearest</th>\n",
       "      <th>days_exposition</th>\n",
       "      <th>time_to_day</th>\n",
       "      <th>sold</th>\n",
       "    </tr>\n",
       "  </thead>\n",
       "  <tbody>\n",
       "    <tr>\n",
       "      <th>0</th>\n",
       "      <td>20</td>\n",
       "      <td>13000.0</td>\n",
       "      <td>108.0</td>\n",
       "      <td>2019-03-07T00:00:00</td>\n",
       "      <td>3</td>\n",
       "      <td>2.70</td>\n",
       "      <td>16</td>\n",
       "      <td>51.0</td>\n",
       "      <td>8</td>\n",
       "      <td>True</td>\n",
       "      <td>...</td>\n",
       "      <td>Санкт-Петербург</td>\n",
       "      <td>18863</td>\n",
       "      <td>16028</td>\n",
       "      <td>1</td>\n",
       "      <td>482</td>\n",
       "      <td>2</td>\n",
       "      <td>755</td>\n",
       "      <td>57</td>\n",
       "      <td>2019-03-07</td>\n",
       "      <td>No</td>\n",
       "    </tr>\n",
       "    <tr>\n",
       "      <th>1</th>\n",
       "      <td>7</td>\n",
       "      <td>3350.0</td>\n",
       "      <td>40.4</td>\n",
       "      <td>2018-12-04T00:00:00</td>\n",
       "      <td>1</td>\n",
       "      <td>2.70</td>\n",
       "      <td>11</td>\n",
       "      <td>18.6</td>\n",
       "      <td>1</td>\n",
       "      <td>True</td>\n",
       "      <td>...</td>\n",
       "      <td>посёлок Шушары</td>\n",
       "      <td>12817</td>\n",
       "      <td>18603</td>\n",
       "      <td>0</td>\n",
       "      <td>612</td>\n",
       "      <td>0</td>\n",
       "      <td>729</td>\n",
       "      <td>81</td>\n",
       "      <td>2018-12-04</td>\n",
       "      <td>Yes</td>\n",
       "    </tr>\n",
       "    <tr>\n",
       "      <th>2</th>\n",
       "      <td>10</td>\n",
       "      <td>5196.0</td>\n",
       "      <td>56.0</td>\n",
       "      <td>2015-08-20T00:00:00</td>\n",
       "      <td>2</td>\n",
       "      <td>2.60</td>\n",
       "      <td>5</td>\n",
       "      <td>34.3</td>\n",
       "      <td>4</td>\n",
       "      <td>True</td>\n",
       "      <td>...</td>\n",
       "      <td>Санкт-Петербург</td>\n",
       "      <td>21741</td>\n",
       "      <td>13933</td>\n",
       "      <td>1</td>\n",
       "      <td>90</td>\n",
       "      <td>2</td>\n",
       "      <td>574</td>\n",
       "      <td>558</td>\n",
       "      <td>2015-08-20</td>\n",
       "      <td>Yes</td>\n",
       "    </tr>\n",
       "    <tr>\n",
       "      <th>3</th>\n",
       "      <td>0</td>\n",
       "      <td>64900.0</td>\n",
       "      <td>159.0</td>\n",
       "      <td>2015-07-24T00:00:00</td>\n",
       "      <td>3</td>\n",
       "      <td>3.14</td>\n",
       "      <td>14</td>\n",
       "      <td>95.0</td>\n",
       "      <td>9</td>\n",
       "      <td>True</td>\n",
       "      <td>...</td>\n",
       "      <td>Санкт-Петербург</td>\n",
       "      <td>28098</td>\n",
       "      <td>6800</td>\n",
       "      <td>2</td>\n",
       "      <td>84</td>\n",
       "      <td>3</td>\n",
       "      <td>234</td>\n",
       "      <td>424</td>\n",
       "      <td>2015-07-24</td>\n",
       "      <td>Yes</td>\n",
       "    </tr>\n",
       "    <tr>\n",
       "      <th>4</th>\n",
       "      <td>2</td>\n",
       "      <td>10000.0</td>\n",
       "      <td>100.0</td>\n",
       "      <td>2018-06-19T00:00:00</td>\n",
       "      <td>2</td>\n",
       "      <td>3.03</td>\n",
       "      <td>14</td>\n",
       "      <td>32.0</td>\n",
       "      <td>13</td>\n",
       "      <td>True</td>\n",
       "      <td>...</td>\n",
       "      <td>Санкт-Петербург</td>\n",
       "      <td>31856</td>\n",
       "      <td>8098</td>\n",
       "      <td>2</td>\n",
       "      <td>112</td>\n",
       "      <td>1</td>\n",
       "      <td>48</td>\n",
       "      <td>121</td>\n",
       "      <td>2018-06-19</td>\n",
       "      <td>Yes</td>\n",
       "    </tr>\n",
       "  </tbody>\n",
       "</table>\n",
       "<p>5 rows × 24 columns</p>\n",
       "</div>"
      ],
      "text/plain": [
       "   total_images  last_price  total_area first_day_exposition  rooms  \\\n",
       "0            20     13000.0       108.0  2019-03-07T00:00:00      3   \n",
       "1             7      3350.0        40.4  2018-12-04T00:00:00      1   \n",
       "2            10      5196.0        56.0  2015-08-20T00:00:00      2   \n",
       "3             0     64900.0       159.0  2015-07-24T00:00:00      3   \n",
       "4             2     10000.0       100.0  2018-06-19T00:00:00      2   \n",
       "\n",
       "   ceiling_height  floors_total  living_area  floor  is_apartment  ...  \\\n",
       "0            2.70            16         51.0      8          True  ...   \n",
       "1            2.70            11         18.6      1          True  ...   \n",
       "2            2.60             5         34.3      4          True  ...   \n",
       "3            3.14            14         95.0      9          True  ...   \n",
       "4            3.03            14         32.0     13          True  ...   \n",
       "\n",
       "     locality_name  airports_nearest  cityCenters_nearest  parks_around3000  \\\n",
       "0  Санкт-Петербург             18863                16028                 1   \n",
       "1   посёлок Шушары             12817                18603                 0   \n",
       "2  Санкт-Петербург             21741                13933                 1   \n",
       "3  Санкт-Петербург             28098                 6800                 2   \n",
       "4  Санкт-Петербург             31856                 8098                 2   \n",
       "\n",
       "  parks_nearest  ponds_around3000  ponds_nearest  days_exposition  \\\n",
       "0           482                 2            755               57   \n",
       "1           612                 0            729               81   \n",
       "2            90                 2            574              558   \n",
       "3            84                 3            234              424   \n",
       "4           112                 1             48              121   \n",
       "\n",
       "   time_to_day  sold  \n",
       "0   2019-03-07    No  \n",
       "1   2018-12-04   Yes  \n",
       "2   2015-08-20   Yes  \n",
       "3   2015-07-24   Yes  \n",
       "4   2018-06-19   Yes  \n",
       "\n",
       "[5 rows x 24 columns]"
      ]
     },
     "execution_count": 79,
     "metadata": {},
     "output_type": "execute_result"
    }
   ],
   "source": [
    "real.head()"
   ]
  },
  {
   "cell_type": "markdown",
   "id": "6954ea4d",
   "metadata": {
    "id": "6954ea4d"
   },
   "source": [
    "<div class=\"alert alert-block alert-info\">\n",
    "We all set with cleaning and transforming our data for further research.</div>"
   ]
  },
  {
   "cell_type": "markdown",
   "id": "12627d47",
   "metadata": {
    "id": "12627d47"
   },
   "source": [
    "<strong><em><h1>\n",
    "Step 3. Calculation and Addition to the Table </em></strong></h1>"
   ]
  },
  {
   "cell_type": "markdown",
   "id": "bc768027",
   "metadata": {},
   "source": [
    "<div class=\"alert alert-block alert-info\">\n",
    "To make best of our research, we`ll add several calculated columns </div>"
   ]
  },
  {
   "cell_type": "markdown",
   "id": "3ebb3306",
   "metadata": {
    "id": "3ebb3306"
   },
   "source": [
    "<h4><div class=\"alert alert-block alert-info\">\n",
    "Price per Square Meter.</div></h4>"
   ]
  },
  {
   "cell_type": "code",
   "execution_count": 80,
   "id": "994e1ac1",
   "metadata": {
    "id": "994e1ac1"
   },
   "outputs": [
    {
     "data": {
      "text/html": [
       "<div>\n",
       "<style scoped>\n",
       "    .dataframe tbody tr th:only-of-type {\n",
       "        vertical-align: middle;\n",
       "    }\n",
       "\n",
       "    .dataframe tbody tr th {\n",
       "        vertical-align: top;\n",
       "    }\n",
       "\n",
       "    .dataframe thead th {\n",
       "        text-align: right;\n",
       "    }\n",
       "</style>\n",
       "<table border=\"1\" class=\"dataframe\">\n",
       "  <thead>\n",
       "    <tr style=\"text-align: right;\">\n",
       "      <th></th>\n",
       "      <th>total_images</th>\n",
       "      <th>last_price</th>\n",
       "      <th>total_area</th>\n",
       "      <th>first_day_exposition</th>\n",
       "      <th>rooms</th>\n",
       "      <th>ceiling_height</th>\n",
       "      <th>floors_total</th>\n",
       "      <th>living_area</th>\n",
       "      <th>floor</th>\n",
       "      <th>is_apartment</th>\n",
       "      <th>...</th>\n",
       "      <th>airports_nearest</th>\n",
       "      <th>cityCenters_nearest</th>\n",
       "      <th>parks_around3000</th>\n",
       "      <th>parks_nearest</th>\n",
       "      <th>ponds_around3000</th>\n",
       "      <th>ponds_nearest</th>\n",
       "      <th>days_exposition</th>\n",
       "      <th>time_to_day</th>\n",
       "      <th>sold</th>\n",
       "      <th>price per sq m2, thousands</th>\n",
       "    </tr>\n",
       "  </thead>\n",
       "  <tbody>\n",
       "    <tr>\n",
       "      <th>0</th>\n",
       "      <td>20</td>\n",
       "      <td>13000.0</td>\n",
       "      <td>108.0</td>\n",
       "      <td>2019-03-07T00:00:00</td>\n",
       "      <td>3</td>\n",
       "      <td>2.70</td>\n",
       "      <td>16</td>\n",
       "      <td>51.0</td>\n",
       "      <td>8</td>\n",
       "      <td>True</td>\n",
       "      <td>...</td>\n",
       "      <td>18863</td>\n",
       "      <td>16028</td>\n",
       "      <td>1</td>\n",
       "      <td>482</td>\n",
       "      <td>2</td>\n",
       "      <td>755</td>\n",
       "      <td>57</td>\n",
       "      <td>2019-03-07</td>\n",
       "      <td>No</td>\n",
       "      <td>120.4</td>\n",
       "    </tr>\n",
       "    <tr>\n",
       "      <th>1</th>\n",
       "      <td>7</td>\n",
       "      <td>3350.0</td>\n",
       "      <td>40.4</td>\n",
       "      <td>2018-12-04T00:00:00</td>\n",
       "      <td>1</td>\n",
       "      <td>2.70</td>\n",
       "      <td>11</td>\n",
       "      <td>18.6</td>\n",
       "      <td>1</td>\n",
       "      <td>True</td>\n",
       "      <td>...</td>\n",
       "      <td>12817</td>\n",
       "      <td>18603</td>\n",
       "      <td>0</td>\n",
       "      <td>612</td>\n",
       "      <td>0</td>\n",
       "      <td>729</td>\n",
       "      <td>81</td>\n",
       "      <td>2018-12-04</td>\n",
       "      <td>Yes</td>\n",
       "      <td>82.9</td>\n",
       "    </tr>\n",
       "    <tr>\n",
       "      <th>2</th>\n",
       "      <td>10</td>\n",
       "      <td>5196.0</td>\n",
       "      <td>56.0</td>\n",
       "      <td>2015-08-20T00:00:00</td>\n",
       "      <td>2</td>\n",
       "      <td>2.60</td>\n",
       "      <td>5</td>\n",
       "      <td>34.3</td>\n",
       "      <td>4</td>\n",
       "      <td>True</td>\n",
       "      <td>...</td>\n",
       "      <td>21741</td>\n",
       "      <td>13933</td>\n",
       "      <td>1</td>\n",
       "      <td>90</td>\n",
       "      <td>2</td>\n",
       "      <td>574</td>\n",
       "      <td>558</td>\n",
       "      <td>2015-08-20</td>\n",
       "      <td>Yes</td>\n",
       "      <td>92.8</td>\n",
       "    </tr>\n",
       "    <tr>\n",
       "      <th>3</th>\n",
       "      <td>0</td>\n",
       "      <td>64900.0</td>\n",
       "      <td>159.0</td>\n",
       "      <td>2015-07-24T00:00:00</td>\n",
       "      <td>3</td>\n",
       "      <td>3.14</td>\n",
       "      <td>14</td>\n",
       "      <td>95.0</td>\n",
       "      <td>9</td>\n",
       "      <td>True</td>\n",
       "      <td>...</td>\n",
       "      <td>28098</td>\n",
       "      <td>6800</td>\n",
       "      <td>2</td>\n",
       "      <td>84</td>\n",
       "      <td>3</td>\n",
       "      <td>234</td>\n",
       "      <td>424</td>\n",
       "      <td>2015-07-24</td>\n",
       "      <td>Yes</td>\n",
       "      <td>408.2</td>\n",
       "    </tr>\n",
       "    <tr>\n",
       "      <th>4</th>\n",
       "      <td>2</td>\n",
       "      <td>10000.0</td>\n",
       "      <td>100.0</td>\n",
       "      <td>2018-06-19T00:00:00</td>\n",
       "      <td>2</td>\n",
       "      <td>3.03</td>\n",
       "      <td>14</td>\n",
       "      <td>32.0</td>\n",
       "      <td>13</td>\n",
       "      <td>True</td>\n",
       "      <td>...</td>\n",
       "      <td>31856</td>\n",
       "      <td>8098</td>\n",
       "      <td>2</td>\n",
       "      <td>112</td>\n",
       "      <td>1</td>\n",
       "      <td>48</td>\n",
       "      <td>121</td>\n",
       "      <td>2018-06-19</td>\n",
       "      <td>Yes</td>\n",
       "      <td>100.0</td>\n",
       "    </tr>\n",
       "  </tbody>\n",
       "</table>\n",
       "<p>5 rows × 25 columns</p>\n",
       "</div>"
      ],
      "text/plain": [
       "   total_images  last_price  total_area first_day_exposition  rooms  \\\n",
       "0            20     13000.0       108.0  2019-03-07T00:00:00      3   \n",
       "1             7      3350.0        40.4  2018-12-04T00:00:00      1   \n",
       "2            10      5196.0        56.0  2015-08-20T00:00:00      2   \n",
       "3             0     64900.0       159.0  2015-07-24T00:00:00      3   \n",
       "4             2     10000.0       100.0  2018-06-19T00:00:00      2   \n",
       "\n",
       "   ceiling_height  floors_total  living_area  floor  is_apartment  ...  \\\n",
       "0            2.70            16         51.0      8          True  ...   \n",
       "1            2.70            11         18.6      1          True  ...   \n",
       "2            2.60             5         34.3      4          True  ...   \n",
       "3            3.14            14         95.0      9          True  ...   \n",
       "4            3.03            14         32.0     13          True  ...   \n",
       "\n",
       "   airports_nearest  cityCenters_nearest  parks_around3000  parks_nearest  \\\n",
       "0             18863                16028                 1            482   \n",
       "1             12817                18603                 0            612   \n",
       "2             21741                13933                 1             90   \n",
       "3             28098                 6800                 2             84   \n",
       "4             31856                 8098                 2            112   \n",
       "\n",
       "  ponds_around3000  ponds_nearest  days_exposition  time_to_day  sold  \\\n",
       "0                2            755               57   2019-03-07    No   \n",
       "1                0            729               81   2018-12-04   Yes   \n",
       "2                2            574              558   2015-08-20   Yes   \n",
       "3                3            234              424   2015-07-24   Yes   \n",
       "4                1             48              121   2018-06-19   Yes   \n",
       "\n",
       "   price per sq m2, thousands  \n",
       "0                       120.4  \n",
       "1                        82.9  \n",
       "2                        92.8  \n",
       "3                       408.2  \n",
       "4                       100.0  \n",
       "\n",
       "[5 rows x 25 columns]"
      ]
     },
     "execution_count": 80,
     "metadata": {},
     "output_type": "execute_result"
    }
   ],
   "source": [
    "real['price per sq m2, thousands'] = ((real['last_price']/real['total_area'])).round(1)\n",
    "real.head()"
   ]
  },
  {
   "cell_type": "markdown",
   "id": "0389a42d",
   "metadata": {
    "id": "0389a42d"
   },
   "source": [
    "<h4><div class=\"alert alert-block alert-info\">\n",
    "Day of the Week, Month, and Year of the Ad Publication.</div></h4>"
   ]
  },
  {
   "cell_type": "code",
   "execution_count": 81,
   "id": "87aeec48",
   "metadata": {
    "id": "87aeec48"
   },
   "outputs": [],
   "source": [
    "real['weekday'] = real['time_to_day'].dt.weekday\n",
    "real['month'] =real['time_to_day'].dt.month\n",
    "real['year'] =real['time_to_day'].dt.year"
   ]
  },
  {
   "cell_type": "code",
   "execution_count": 82,
   "id": "f0c640c9",
   "metadata": {
    "id": "f0c640c9",
    "outputId": "8d9ea0ad-e061-4f44-bac5-2fb60f353f43"
   },
   "outputs": [
    {
     "data": {
      "text/html": [
       "<div>\n",
       "<style scoped>\n",
       "    .dataframe tbody tr th:only-of-type {\n",
       "        vertical-align: middle;\n",
       "    }\n",
       "\n",
       "    .dataframe tbody tr th {\n",
       "        vertical-align: top;\n",
       "    }\n",
       "\n",
       "    .dataframe thead th {\n",
       "        text-align: right;\n",
       "    }\n",
       "</style>\n",
       "<table border=\"1\" class=\"dataframe\">\n",
       "  <thead>\n",
       "    <tr style=\"text-align: right;\">\n",
       "      <th></th>\n",
       "      <th>total_images</th>\n",
       "      <th>last_price</th>\n",
       "      <th>total_area</th>\n",
       "      <th>first_day_exposition</th>\n",
       "      <th>rooms</th>\n",
       "      <th>ceiling_height</th>\n",
       "      <th>floors_total</th>\n",
       "      <th>living_area</th>\n",
       "      <th>floor</th>\n",
       "      <th>is_apartment</th>\n",
       "      <th>...</th>\n",
       "      <th>parks_nearest</th>\n",
       "      <th>ponds_around3000</th>\n",
       "      <th>ponds_nearest</th>\n",
       "      <th>days_exposition</th>\n",
       "      <th>time_to_day</th>\n",
       "      <th>sold</th>\n",
       "      <th>price per sq m2, thousands</th>\n",
       "      <th>weekday</th>\n",
       "      <th>month</th>\n",
       "      <th>year</th>\n",
       "    </tr>\n",
       "  </thead>\n",
       "  <tbody>\n",
       "    <tr>\n",
       "      <th>0</th>\n",
       "      <td>20</td>\n",
       "      <td>13000.0</td>\n",
       "      <td>108.0</td>\n",
       "      <td>2019-03-07T00:00:00</td>\n",
       "      <td>3</td>\n",
       "      <td>2.70</td>\n",
       "      <td>16</td>\n",
       "      <td>51.0</td>\n",
       "      <td>8</td>\n",
       "      <td>True</td>\n",
       "      <td>...</td>\n",
       "      <td>482</td>\n",
       "      <td>2</td>\n",
       "      <td>755</td>\n",
       "      <td>57</td>\n",
       "      <td>2019-03-07</td>\n",
       "      <td>No</td>\n",
       "      <td>120.4</td>\n",
       "      <td>3</td>\n",
       "      <td>3</td>\n",
       "      <td>2019</td>\n",
       "    </tr>\n",
       "    <tr>\n",
       "      <th>1</th>\n",
       "      <td>7</td>\n",
       "      <td>3350.0</td>\n",
       "      <td>40.4</td>\n",
       "      <td>2018-12-04T00:00:00</td>\n",
       "      <td>1</td>\n",
       "      <td>2.70</td>\n",
       "      <td>11</td>\n",
       "      <td>18.6</td>\n",
       "      <td>1</td>\n",
       "      <td>True</td>\n",
       "      <td>...</td>\n",
       "      <td>612</td>\n",
       "      <td>0</td>\n",
       "      <td>729</td>\n",
       "      <td>81</td>\n",
       "      <td>2018-12-04</td>\n",
       "      <td>Yes</td>\n",
       "      <td>82.9</td>\n",
       "      <td>1</td>\n",
       "      <td>12</td>\n",
       "      <td>2018</td>\n",
       "    </tr>\n",
       "    <tr>\n",
       "      <th>2</th>\n",
       "      <td>10</td>\n",
       "      <td>5196.0</td>\n",
       "      <td>56.0</td>\n",
       "      <td>2015-08-20T00:00:00</td>\n",
       "      <td>2</td>\n",
       "      <td>2.60</td>\n",
       "      <td>5</td>\n",
       "      <td>34.3</td>\n",
       "      <td>4</td>\n",
       "      <td>True</td>\n",
       "      <td>...</td>\n",
       "      <td>90</td>\n",
       "      <td>2</td>\n",
       "      <td>574</td>\n",
       "      <td>558</td>\n",
       "      <td>2015-08-20</td>\n",
       "      <td>Yes</td>\n",
       "      <td>92.8</td>\n",
       "      <td>3</td>\n",
       "      <td>8</td>\n",
       "      <td>2015</td>\n",
       "    </tr>\n",
       "    <tr>\n",
       "      <th>3</th>\n",
       "      <td>0</td>\n",
       "      <td>64900.0</td>\n",
       "      <td>159.0</td>\n",
       "      <td>2015-07-24T00:00:00</td>\n",
       "      <td>3</td>\n",
       "      <td>3.14</td>\n",
       "      <td>14</td>\n",
       "      <td>95.0</td>\n",
       "      <td>9</td>\n",
       "      <td>True</td>\n",
       "      <td>...</td>\n",
       "      <td>84</td>\n",
       "      <td>3</td>\n",
       "      <td>234</td>\n",
       "      <td>424</td>\n",
       "      <td>2015-07-24</td>\n",
       "      <td>Yes</td>\n",
       "      <td>408.2</td>\n",
       "      <td>4</td>\n",
       "      <td>7</td>\n",
       "      <td>2015</td>\n",
       "    </tr>\n",
       "    <tr>\n",
       "      <th>4</th>\n",
       "      <td>2</td>\n",
       "      <td>10000.0</td>\n",
       "      <td>100.0</td>\n",
       "      <td>2018-06-19T00:00:00</td>\n",
       "      <td>2</td>\n",
       "      <td>3.03</td>\n",
       "      <td>14</td>\n",
       "      <td>32.0</td>\n",
       "      <td>13</td>\n",
       "      <td>True</td>\n",
       "      <td>...</td>\n",
       "      <td>112</td>\n",
       "      <td>1</td>\n",
       "      <td>48</td>\n",
       "      <td>121</td>\n",
       "      <td>2018-06-19</td>\n",
       "      <td>Yes</td>\n",
       "      <td>100.0</td>\n",
       "      <td>1</td>\n",
       "      <td>6</td>\n",
       "      <td>2018</td>\n",
       "    </tr>\n",
       "  </tbody>\n",
       "</table>\n",
       "<p>5 rows × 28 columns</p>\n",
       "</div>"
      ],
      "text/plain": [
       "   total_images  last_price  total_area first_day_exposition  rooms  \\\n",
       "0            20     13000.0       108.0  2019-03-07T00:00:00      3   \n",
       "1             7      3350.0        40.4  2018-12-04T00:00:00      1   \n",
       "2            10      5196.0        56.0  2015-08-20T00:00:00      2   \n",
       "3             0     64900.0       159.0  2015-07-24T00:00:00      3   \n",
       "4             2     10000.0       100.0  2018-06-19T00:00:00      2   \n",
       "\n",
       "   ceiling_height  floors_total  living_area  floor  is_apartment  ...  \\\n",
       "0            2.70            16         51.0      8          True  ...   \n",
       "1            2.70            11         18.6      1          True  ...   \n",
       "2            2.60             5         34.3      4          True  ...   \n",
       "3            3.14            14         95.0      9          True  ...   \n",
       "4            3.03            14         32.0     13          True  ...   \n",
       "\n",
       "   parks_nearest  ponds_around3000  ponds_nearest  days_exposition  \\\n",
       "0            482                 2            755               57   \n",
       "1            612                 0            729               81   \n",
       "2             90                 2            574              558   \n",
       "3             84                 3            234              424   \n",
       "4            112                 1             48              121   \n",
       "\n",
       "  time_to_day  sold  price per sq m2, thousands  weekday  month  year  \n",
       "0  2019-03-07    No                       120.4        3      3  2019  \n",
       "1  2018-12-04   Yes                        82.9        1     12  2018  \n",
       "2  2015-08-20   Yes                        92.8        3      8  2015  \n",
       "3  2015-07-24   Yes                       408.2        4      7  2015  \n",
       "4  2018-06-19   Yes                       100.0        1      6  2018  \n",
       "\n",
       "[5 rows x 28 columns]"
      ]
     },
     "execution_count": 82,
     "metadata": {},
     "output_type": "execute_result"
    }
   ],
   "source": [
    "real.head()"
   ]
  },
  {
   "cell_type": "markdown",
   "id": "3fd0764b",
   "metadata": {
    "id": "3fd0764b"
   },
   "source": [
    "<h4><div class=\"alert alert-block alert-info\">\n",
    "Distribution of Floors into First, Last, and Other.</div></h4>"
   ]
  },
  {
   "cell_type": "code",
   "execution_count": 83,
   "id": "f461d815",
   "metadata": {
    "id": "f461d815",
    "outputId": "475dbe85-7eb5-4266-b937-a637b0988597"
   },
   "outputs": [
    {
     "data": {
      "text/html": [
       "<div>\n",
       "<style scoped>\n",
       "    .dataframe tbody tr th:only-of-type {\n",
       "        vertical-align: middle;\n",
       "    }\n",
       "\n",
       "    .dataframe tbody tr th {\n",
       "        vertical-align: top;\n",
       "    }\n",
       "\n",
       "    .dataframe thead th {\n",
       "        text-align: right;\n",
       "    }\n",
       "</style>\n",
       "<table border=\"1\" class=\"dataframe\">\n",
       "  <thead>\n",
       "    <tr style=\"text-align: right;\">\n",
       "      <th></th>\n",
       "      <th>total_images</th>\n",
       "      <th>last_price</th>\n",
       "      <th>total_area</th>\n",
       "      <th>first_day_exposition</th>\n",
       "      <th>rooms</th>\n",
       "      <th>ceiling_height</th>\n",
       "      <th>floors_total</th>\n",
       "      <th>living_area</th>\n",
       "      <th>floor</th>\n",
       "      <th>is_apartment</th>\n",
       "      <th>...</th>\n",
       "      <th>ponds_around3000</th>\n",
       "      <th>ponds_nearest</th>\n",
       "      <th>days_exposition</th>\n",
       "      <th>time_to_day</th>\n",
       "      <th>sold</th>\n",
       "      <th>price per sq m2, thousands</th>\n",
       "      <th>weekday</th>\n",
       "      <th>month</th>\n",
       "      <th>year</th>\n",
       "      <th>which_floor</th>\n",
       "    </tr>\n",
       "  </thead>\n",
       "  <tbody>\n",
       "    <tr>\n",
       "      <th>0</th>\n",
       "      <td>20</td>\n",
       "      <td>13000.0</td>\n",
       "      <td>108.0</td>\n",
       "      <td>2019-03-07T00:00:00</td>\n",
       "      <td>3</td>\n",
       "      <td>2.70</td>\n",
       "      <td>16</td>\n",
       "      <td>51.0</td>\n",
       "      <td>8</td>\n",
       "      <td>True</td>\n",
       "      <td>...</td>\n",
       "      <td>2</td>\n",
       "      <td>755</td>\n",
       "      <td>57</td>\n",
       "      <td>2019-03-07</td>\n",
       "      <td>No</td>\n",
       "      <td>120.4</td>\n",
       "      <td>3</td>\n",
       "      <td>3</td>\n",
       "      <td>2019</td>\n",
       "      <td>другой</td>\n",
       "    </tr>\n",
       "    <tr>\n",
       "      <th>1</th>\n",
       "      <td>7</td>\n",
       "      <td>3350.0</td>\n",
       "      <td>40.4</td>\n",
       "      <td>2018-12-04T00:00:00</td>\n",
       "      <td>1</td>\n",
       "      <td>2.70</td>\n",
       "      <td>11</td>\n",
       "      <td>18.6</td>\n",
       "      <td>1</td>\n",
       "      <td>True</td>\n",
       "      <td>...</td>\n",
       "      <td>0</td>\n",
       "      <td>729</td>\n",
       "      <td>81</td>\n",
       "      <td>2018-12-04</td>\n",
       "      <td>Yes</td>\n",
       "      <td>82.9</td>\n",
       "      <td>1</td>\n",
       "      <td>12</td>\n",
       "      <td>2018</td>\n",
       "      <td>первый</td>\n",
       "    </tr>\n",
       "    <tr>\n",
       "      <th>2</th>\n",
       "      <td>10</td>\n",
       "      <td>5196.0</td>\n",
       "      <td>56.0</td>\n",
       "      <td>2015-08-20T00:00:00</td>\n",
       "      <td>2</td>\n",
       "      <td>2.60</td>\n",
       "      <td>5</td>\n",
       "      <td>34.3</td>\n",
       "      <td>4</td>\n",
       "      <td>True</td>\n",
       "      <td>...</td>\n",
       "      <td>2</td>\n",
       "      <td>574</td>\n",
       "      <td>558</td>\n",
       "      <td>2015-08-20</td>\n",
       "      <td>Yes</td>\n",
       "      <td>92.8</td>\n",
       "      <td>3</td>\n",
       "      <td>8</td>\n",
       "      <td>2015</td>\n",
       "      <td>другой</td>\n",
       "    </tr>\n",
       "    <tr>\n",
       "      <th>3</th>\n",
       "      <td>0</td>\n",
       "      <td>64900.0</td>\n",
       "      <td>159.0</td>\n",
       "      <td>2015-07-24T00:00:00</td>\n",
       "      <td>3</td>\n",
       "      <td>3.14</td>\n",
       "      <td>14</td>\n",
       "      <td>95.0</td>\n",
       "      <td>9</td>\n",
       "      <td>True</td>\n",
       "      <td>...</td>\n",
       "      <td>3</td>\n",
       "      <td>234</td>\n",
       "      <td>424</td>\n",
       "      <td>2015-07-24</td>\n",
       "      <td>Yes</td>\n",
       "      <td>408.2</td>\n",
       "      <td>4</td>\n",
       "      <td>7</td>\n",
       "      <td>2015</td>\n",
       "      <td>другой</td>\n",
       "    </tr>\n",
       "    <tr>\n",
       "      <th>4</th>\n",
       "      <td>2</td>\n",
       "      <td>10000.0</td>\n",
       "      <td>100.0</td>\n",
       "      <td>2018-06-19T00:00:00</td>\n",
       "      <td>2</td>\n",
       "      <td>3.03</td>\n",
       "      <td>14</td>\n",
       "      <td>32.0</td>\n",
       "      <td>13</td>\n",
       "      <td>True</td>\n",
       "      <td>...</td>\n",
       "      <td>1</td>\n",
       "      <td>48</td>\n",
       "      <td>121</td>\n",
       "      <td>2018-06-19</td>\n",
       "      <td>Yes</td>\n",
       "      <td>100.0</td>\n",
       "      <td>1</td>\n",
       "      <td>6</td>\n",
       "      <td>2018</td>\n",
       "      <td>другой</td>\n",
       "    </tr>\n",
       "  </tbody>\n",
       "</table>\n",
       "<p>5 rows × 29 columns</p>\n",
       "</div>"
      ],
      "text/plain": [
       "   total_images  last_price  total_area first_day_exposition  rooms  \\\n",
       "0            20     13000.0       108.0  2019-03-07T00:00:00      3   \n",
       "1             7      3350.0        40.4  2018-12-04T00:00:00      1   \n",
       "2            10      5196.0        56.0  2015-08-20T00:00:00      2   \n",
       "3             0     64900.0       159.0  2015-07-24T00:00:00      3   \n",
       "4             2     10000.0       100.0  2018-06-19T00:00:00      2   \n",
       "\n",
       "   ceiling_height  floors_total  living_area  floor  is_apartment  ...  \\\n",
       "0            2.70            16         51.0      8          True  ...   \n",
       "1            2.70            11         18.6      1          True  ...   \n",
       "2            2.60             5         34.3      4          True  ...   \n",
       "3            3.14            14         95.0      9          True  ...   \n",
       "4            3.03            14         32.0     13          True  ...   \n",
       "\n",
       "   ponds_around3000  ponds_nearest  days_exposition  time_to_day sold  \\\n",
       "0                 2            755               57   2019-03-07   No   \n",
       "1                 0            729               81   2018-12-04  Yes   \n",
       "2                 2            574              558   2015-08-20  Yes   \n",
       "3                 3            234              424   2015-07-24  Yes   \n",
       "4                 1             48              121   2018-06-19  Yes   \n",
       "\n",
       "   price per sq m2, thousands  weekday  month  year  which_floor  \n",
       "0                       120.4        3      3  2019       другой  \n",
       "1                        82.9        1     12  2018       первый  \n",
       "2                        92.8        3      8  2015       другой  \n",
       "3                       408.2        4      7  2015       другой  \n",
       "4                       100.0        1      6  2018       другой  \n",
       "\n",
       "[5 rows x 29 columns]"
      ]
     },
     "execution_count": 83,
     "metadata": {},
     "output_type": "execute_result"
    }
   ],
   "source": [
    "real['which_floor'] = np.where(real.floor == real.floors_total, 'последний',\n",
    "         (np.where(real.floor == 1, 'первый', 'другой')))\n",
    "real.head()"
   ]
  },
  {
   "cell_type": "markdown",
   "id": "8cf45df6",
   "metadata": {
    "id": "8cf45df6"
   },
   "source": [
    "<h4><div class=\"alert alert-block alert-info\">\n",
    "Ratio of Living Area to Total Area and Ratio of Kitchen Area to Total Area.</div></h4>"
   ]
  },
  {
   "cell_type": "code",
   "execution_count": 84,
   "id": "9cc780ac",
   "metadata": {
    "id": "9cc780ac",
    "outputId": "d424f92d-fabb-4b18-bbe1-05bafdd6305d"
   },
   "outputs": [
    {
     "data": {
      "text/html": [
       "<div>\n",
       "<style scoped>\n",
       "    .dataframe tbody tr th:only-of-type {\n",
       "        vertical-align: middle;\n",
       "    }\n",
       "\n",
       "    .dataframe tbody tr th {\n",
       "        vertical-align: top;\n",
       "    }\n",
       "\n",
       "    .dataframe thead th {\n",
       "        text-align: right;\n",
       "    }\n",
       "</style>\n",
       "<table border=\"1\" class=\"dataframe\">\n",
       "  <thead>\n",
       "    <tr style=\"text-align: right;\">\n",
       "      <th></th>\n",
       "      <th>total_images</th>\n",
       "      <th>last_price</th>\n",
       "      <th>total_area</th>\n",
       "      <th>first_day_exposition</th>\n",
       "      <th>rooms</th>\n",
       "      <th>ceiling_height</th>\n",
       "      <th>floors_total</th>\n",
       "      <th>living_area</th>\n",
       "      <th>floor</th>\n",
       "      <th>is_apartment</th>\n",
       "      <th>...</th>\n",
       "      <th>ponds_nearest</th>\n",
       "      <th>days_exposition</th>\n",
       "      <th>time_to_day</th>\n",
       "      <th>sold</th>\n",
       "      <th>price per sq m2, thousands</th>\n",
       "      <th>weekday</th>\n",
       "      <th>month</th>\n",
       "      <th>year</th>\n",
       "      <th>which_floor</th>\n",
       "      <th>living_to_total</th>\n",
       "    </tr>\n",
       "  </thead>\n",
       "  <tbody>\n",
       "    <tr>\n",
       "      <th>0</th>\n",
       "      <td>20</td>\n",
       "      <td>13000.0</td>\n",
       "      <td>108.0</td>\n",
       "      <td>2019-03-07T00:00:00</td>\n",
       "      <td>3</td>\n",
       "      <td>2.70</td>\n",
       "      <td>16</td>\n",
       "      <td>51.0</td>\n",
       "      <td>8</td>\n",
       "      <td>True</td>\n",
       "      <td>...</td>\n",
       "      <td>755</td>\n",
       "      <td>57</td>\n",
       "      <td>2019-03-07</td>\n",
       "      <td>No</td>\n",
       "      <td>120.4</td>\n",
       "      <td>3</td>\n",
       "      <td>3</td>\n",
       "      <td>2019</td>\n",
       "      <td>другой</td>\n",
       "      <td>0.47</td>\n",
       "    </tr>\n",
       "    <tr>\n",
       "      <th>1</th>\n",
       "      <td>7</td>\n",
       "      <td>3350.0</td>\n",
       "      <td>40.4</td>\n",
       "      <td>2018-12-04T00:00:00</td>\n",
       "      <td>1</td>\n",
       "      <td>2.70</td>\n",
       "      <td>11</td>\n",
       "      <td>18.6</td>\n",
       "      <td>1</td>\n",
       "      <td>True</td>\n",
       "      <td>...</td>\n",
       "      <td>729</td>\n",
       "      <td>81</td>\n",
       "      <td>2018-12-04</td>\n",
       "      <td>Yes</td>\n",
       "      <td>82.9</td>\n",
       "      <td>1</td>\n",
       "      <td>12</td>\n",
       "      <td>2018</td>\n",
       "      <td>первый</td>\n",
       "      <td>0.46</td>\n",
       "    </tr>\n",
       "    <tr>\n",
       "      <th>2</th>\n",
       "      <td>10</td>\n",
       "      <td>5196.0</td>\n",
       "      <td>56.0</td>\n",
       "      <td>2015-08-20T00:00:00</td>\n",
       "      <td>2</td>\n",
       "      <td>2.60</td>\n",
       "      <td>5</td>\n",
       "      <td>34.3</td>\n",
       "      <td>4</td>\n",
       "      <td>True</td>\n",
       "      <td>...</td>\n",
       "      <td>574</td>\n",
       "      <td>558</td>\n",
       "      <td>2015-08-20</td>\n",
       "      <td>Yes</td>\n",
       "      <td>92.8</td>\n",
       "      <td>3</td>\n",
       "      <td>8</td>\n",
       "      <td>2015</td>\n",
       "      <td>другой</td>\n",
       "      <td>0.61</td>\n",
       "    </tr>\n",
       "    <tr>\n",
       "      <th>3</th>\n",
       "      <td>0</td>\n",
       "      <td>64900.0</td>\n",
       "      <td>159.0</td>\n",
       "      <td>2015-07-24T00:00:00</td>\n",
       "      <td>3</td>\n",
       "      <td>3.14</td>\n",
       "      <td>14</td>\n",
       "      <td>95.0</td>\n",
       "      <td>9</td>\n",
       "      <td>True</td>\n",
       "      <td>...</td>\n",
       "      <td>234</td>\n",
       "      <td>424</td>\n",
       "      <td>2015-07-24</td>\n",
       "      <td>Yes</td>\n",
       "      <td>408.2</td>\n",
       "      <td>4</td>\n",
       "      <td>7</td>\n",
       "      <td>2015</td>\n",
       "      <td>другой</td>\n",
       "      <td>0.60</td>\n",
       "    </tr>\n",
       "    <tr>\n",
       "      <th>4</th>\n",
       "      <td>2</td>\n",
       "      <td>10000.0</td>\n",
       "      <td>100.0</td>\n",
       "      <td>2018-06-19T00:00:00</td>\n",
       "      <td>2</td>\n",
       "      <td>3.03</td>\n",
       "      <td>14</td>\n",
       "      <td>32.0</td>\n",
       "      <td>13</td>\n",
       "      <td>True</td>\n",
       "      <td>...</td>\n",
       "      <td>48</td>\n",
       "      <td>121</td>\n",
       "      <td>2018-06-19</td>\n",
       "      <td>Yes</td>\n",
       "      <td>100.0</td>\n",
       "      <td>1</td>\n",
       "      <td>6</td>\n",
       "      <td>2018</td>\n",
       "      <td>другой</td>\n",
       "      <td>0.32</td>\n",
       "    </tr>\n",
       "  </tbody>\n",
       "</table>\n",
       "<p>5 rows × 30 columns</p>\n",
       "</div>"
      ],
      "text/plain": [
       "   total_images  last_price  total_area first_day_exposition  rooms  \\\n",
       "0            20     13000.0       108.0  2019-03-07T00:00:00      3   \n",
       "1             7      3350.0        40.4  2018-12-04T00:00:00      1   \n",
       "2            10      5196.0        56.0  2015-08-20T00:00:00      2   \n",
       "3             0     64900.0       159.0  2015-07-24T00:00:00      3   \n",
       "4             2     10000.0       100.0  2018-06-19T00:00:00      2   \n",
       "\n",
       "   ceiling_height  floors_total  living_area  floor  is_apartment  ...  \\\n",
       "0            2.70            16         51.0      8          True  ...   \n",
       "1            2.70            11         18.6      1          True  ...   \n",
       "2            2.60             5         34.3      4          True  ...   \n",
       "3            3.14            14         95.0      9          True  ...   \n",
       "4            3.03            14         32.0     13          True  ...   \n",
       "\n",
       "   ponds_nearest  days_exposition  time_to_day  sold  \\\n",
       "0            755               57   2019-03-07    No   \n",
       "1            729               81   2018-12-04   Yes   \n",
       "2            574              558   2015-08-20   Yes   \n",
       "3            234              424   2015-07-24   Yes   \n",
       "4             48              121   2018-06-19   Yes   \n",
       "\n",
       "  price per sq m2, thousands  weekday  month  year  which_floor  \\\n",
       "0                      120.4        3      3  2019       другой   \n",
       "1                       82.9        1     12  2018       первый   \n",
       "2                       92.8        3      8  2015       другой   \n",
       "3                      408.2        4      7  2015       другой   \n",
       "4                      100.0        1      6  2018       другой   \n",
       "\n",
       "   living_to_total  \n",
       "0             0.47  \n",
       "1             0.46  \n",
       "2             0.61  \n",
       "3             0.60  \n",
       "4             0.32  \n",
       "\n",
       "[5 rows x 30 columns]"
      ]
     },
     "execution_count": 84,
     "metadata": {},
     "output_type": "execute_result"
    }
   ],
   "source": [
    "real['living_to_total'] = (real['living_area'] / real['total_area']).round(2)\n",
    "real.head()"
   ]
  },
  {
   "cell_type": "code",
   "execution_count": 85,
   "id": "cb48fa8c",
   "metadata": {
    "id": "cb48fa8c",
    "outputId": "af965344-57ea-4f0a-ea38-04d083e69e9c"
   },
   "outputs": [
    {
     "data": {
      "text/html": [
       "<div>\n",
       "<style scoped>\n",
       "    .dataframe tbody tr th:only-of-type {\n",
       "        vertical-align: middle;\n",
       "    }\n",
       "\n",
       "    .dataframe tbody tr th {\n",
       "        vertical-align: top;\n",
       "    }\n",
       "\n",
       "    .dataframe thead th {\n",
       "        text-align: right;\n",
       "    }\n",
       "</style>\n",
       "<table border=\"1\" class=\"dataframe\">\n",
       "  <thead>\n",
       "    <tr style=\"text-align: right;\">\n",
       "      <th></th>\n",
       "      <th>total_images</th>\n",
       "      <th>last_price</th>\n",
       "      <th>total_area</th>\n",
       "      <th>first_day_exposition</th>\n",
       "      <th>rooms</th>\n",
       "      <th>ceiling_height</th>\n",
       "      <th>floors_total</th>\n",
       "      <th>living_area</th>\n",
       "      <th>floor</th>\n",
       "      <th>is_apartment</th>\n",
       "      <th>...</th>\n",
       "      <th>days_exposition</th>\n",
       "      <th>time_to_day</th>\n",
       "      <th>sold</th>\n",
       "      <th>price per sq m2, thousands</th>\n",
       "      <th>weekday</th>\n",
       "      <th>month</th>\n",
       "      <th>year</th>\n",
       "      <th>which_floor</th>\n",
       "      <th>living_to_total</th>\n",
       "      <th>kitchen_to_total</th>\n",
       "    </tr>\n",
       "  </thead>\n",
       "  <tbody>\n",
       "    <tr>\n",
       "      <th>0</th>\n",
       "      <td>20</td>\n",
       "      <td>13000.0</td>\n",
       "      <td>108.0</td>\n",
       "      <td>2019-03-07T00:00:00</td>\n",
       "      <td>3</td>\n",
       "      <td>2.70</td>\n",
       "      <td>16</td>\n",
       "      <td>51.0</td>\n",
       "      <td>8</td>\n",
       "      <td>True</td>\n",
       "      <td>...</td>\n",
       "      <td>57</td>\n",
       "      <td>2019-03-07</td>\n",
       "      <td>No</td>\n",
       "      <td>120.4</td>\n",
       "      <td>3</td>\n",
       "      <td>3</td>\n",
       "      <td>2019</td>\n",
       "      <td>другой</td>\n",
       "      <td>0.47</td>\n",
       "      <td>0.23</td>\n",
       "    </tr>\n",
       "    <tr>\n",
       "      <th>1</th>\n",
       "      <td>7</td>\n",
       "      <td>3350.0</td>\n",
       "      <td>40.4</td>\n",
       "      <td>2018-12-04T00:00:00</td>\n",
       "      <td>1</td>\n",
       "      <td>2.70</td>\n",
       "      <td>11</td>\n",
       "      <td>18.6</td>\n",
       "      <td>1</td>\n",
       "      <td>True</td>\n",
       "      <td>...</td>\n",
       "      <td>81</td>\n",
       "      <td>2018-12-04</td>\n",
       "      <td>Yes</td>\n",
       "      <td>82.9</td>\n",
       "      <td>1</td>\n",
       "      <td>12</td>\n",
       "      <td>2018</td>\n",
       "      <td>первый</td>\n",
       "      <td>0.46</td>\n",
       "      <td>0.27</td>\n",
       "    </tr>\n",
       "    <tr>\n",
       "      <th>2</th>\n",
       "      <td>10</td>\n",
       "      <td>5196.0</td>\n",
       "      <td>56.0</td>\n",
       "      <td>2015-08-20T00:00:00</td>\n",
       "      <td>2</td>\n",
       "      <td>2.60</td>\n",
       "      <td>5</td>\n",
       "      <td>34.3</td>\n",
       "      <td>4</td>\n",
       "      <td>True</td>\n",
       "      <td>...</td>\n",
       "      <td>558</td>\n",
       "      <td>2015-08-20</td>\n",
       "      <td>Yes</td>\n",
       "      <td>92.8</td>\n",
       "      <td>3</td>\n",
       "      <td>8</td>\n",
       "      <td>2015</td>\n",
       "      <td>другой</td>\n",
       "      <td>0.61</td>\n",
       "      <td>0.15</td>\n",
       "    </tr>\n",
       "    <tr>\n",
       "      <th>3</th>\n",
       "      <td>0</td>\n",
       "      <td>64900.0</td>\n",
       "      <td>159.0</td>\n",
       "      <td>2015-07-24T00:00:00</td>\n",
       "      <td>3</td>\n",
       "      <td>3.14</td>\n",
       "      <td>14</td>\n",
       "      <td>95.0</td>\n",
       "      <td>9</td>\n",
       "      <td>True</td>\n",
       "      <td>...</td>\n",
       "      <td>424</td>\n",
       "      <td>2015-07-24</td>\n",
       "      <td>Yes</td>\n",
       "      <td>408.2</td>\n",
       "      <td>4</td>\n",
       "      <td>7</td>\n",
       "      <td>2015</td>\n",
       "      <td>другой</td>\n",
       "      <td>0.60</td>\n",
       "      <td>0.09</td>\n",
       "    </tr>\n",
       "    <tr>\n",
       "      <th>4</th>\n",
       "      <td>2</td>\n",
       "      <td>10000.0</td>\n",
       "      <td>100.0</td>\n",
       "      <td>2018-06-19T00:00:00</td>\n",
       "      <td>2</td>\n",
       "      <td>3.03</td>\n",
       "      <td>14</td>\n",
       "      <td>32.0</td>\n",
       "      <td>13</td>\n",
       "      <td>True</td>\n",
       "      <td>...</td>\n",
       "      <td>121</td>\n",
       "      <td>2018-06-19</td>\n",
       "      <td>Yes</td>\n",
       "      <td>100.0</td>\n",
       "      <td>1</td>\n",
       "      <td>6</td>\n",
       "      <td>2018</td>\n",
       "      <td>другой</td>\n",
       "      <td>0.32</td>\n",
       "      <td>0.41</td>\n",
       "    </tr>\n",
       "  </tbody>\n",
       "</table>\n",
       "<p>5 rows × 31 columns</p>\n",
       "</div>"
      ],
      "text/plain": [
       "   total_images  last_price  total_area first_day_exposition  rooms  \\\n",
       "0            20     13000.0       108.0  2019-03-07T00:00:00      3   \n",
       "1             7      3350.0        40.4  2018-12-04T00:00:00      1   \n",
       "2            10      5196.0        56.0  2015-08-20T00:00:00      2   \n",
       "3             0     64900.0       159.0  2015-07-24T00:00:00      3   \n",
       "4             2     10000.0       100.0  2018-06-19T00:00:00      2   \n",
       "\n",
       "   ceiling_height  floors_total  living_area  floor  is_apartment  ...  \\\n",
       "0            2.70            16         51.0      8          True  ...   \n",
       "1            2.70            11         18.6      1          True  ...   \n",
       "2            2.60             5         34.3      4          True  ...   \n",
       "3            3.14            14         95.0      9          True  ...   \n",
       "4            3.03            14         32.0     13          True  ...   \n",
       "\n",
       "   days_exposition  time_to_day  sold  price per sq m2, thousands weekday  \\\n",
       "0               57   2019-03-07    No                       120.4       3   \n",
       "1               81   2018-12-04   Yes                        82.9       1   \n",
       "2              558   2015-08-20   Yes                        92.8       3   \n",
       "3              424   2015-07-24   Yes                       408.2       4   \n",
       "4              121   2018-06-19   Yes                       100.0       1   \n",
       "\n",
       "   month  year  which_floor  living_to_total  kitchen_to_total  \n",
       "0      3  2019       другой             0.47              0.23  \n",
       "1     12  2018       первый             0.46              0.27  \n",
       "2      8  2015       другой             0.61              0.15  \n",
       "3      7  2015       другой             0.60              0.09  \n",
       "4      6  2018       другой             0.32              0.41  \n",
       "\n",
       "[5 rows x 31 columns]"
      ]
     },
     "execution_count": 85,
     "metadata": {},
     "output_type": "execute_result"
    }
   ],
   "source": [
    "real['kitchen_to_total'] = (real['kitchen_area'] / real['total_area']).round(2)\n",
    "real.head()"
   ]
  },
  {
   "cell_type": "markdown",
   "id": "8f885fe8",
   "metadata": {
    "id": "8f885fe8"
   },
   "source": [
    "<strong><em><h1>\n",
    "Step 4. Exploratory Data Analysis</em></strong></h1>"
   ]
  },
  {
   "cell_type": "markdown",
   "id": "f4f602ef",
   "metadata": {
    "id": "f4f602ef"
   },
   "source": [
    "<h5><div class=\"alert alert-block alert-info\">\n",
    "Exploring Parameters: Area, Price, Number of Rooms, Ceiling Height:\n",
    "Let's build a histogram for each parameter.</div></h5>"
   ]
  },
  {
   "cell_type": "markdown",
   "id": "81738732",
   "metadata": {
    "id": "81738732"
   },
   "source": [
    "<h6><div class=\"alert alert-block alert-info\">\n",
    "Square footage\n",
    "  </div></h6>"
   ]
  },
  {
   "cell_type": "code",
   "execution_count": 91,
   "id": "fcbfcd04",
   "metadata": {
    "id": "fcbfcd04",
    "outputId": "63e1389a-4afc-446f-ec62-2856e43a422e"
   },
   "outputs": [
    {
     "data": {
      "image/png": "[encoded data removed]",
      "text/plain": [
       "<Figure size 1008x432 with 1 Axes>"
      ]
     },
     "metadata": {
      "needs_background": "light"
     },
     "output_type": "display_data"
    }
   ],
   "source": [
    "\n",
    "plt.figure(figsize=(14, 6)) \n",
    "real['total_area'].hist( range = (0, 300),bins = 50, color='green', edgecolor='black', alpha=0.7)\n",
    "\n",
    "plt.xlabel('Footage', fontsize = 12)\n",
    "plt.ylabel('Listing amount', fontsize = 12)\n",
    "plt.title('Common area', fontsize = 15)\n",
    "\n",
    "plt.show()\n"
   ]
  },
  {
   "cell_type": "markdown",
   "id": "b30b37d1",
   "metadata": {},
   "source": [
    "<div class=\"alert alert-block alert-info\">\n",
    "1) The total area is represented quite accurately - most of the apartments for sale are around 50 sqm, and apartments larger than 150 sqm are rare.\n",
    "</div>"
   ]
  },
  {
   "cell_type": "code",
   "execution_count": 95,
   "id": "4238fcfd",
   "metadata": {
    "id": "4238fcfd",
    "outputId": "7a28a665-b7fe-402d-98b4-3e72489f5555"
   },
   "outputs": [
    {
     "data": {
      "image/png": "[encoded data removed]",
      "text/plain": [
       "<Figure size 1008x432 with 1 Axes>"
      ]
     },
     "metadata": {
      "needs_background": "light"
     },
     "output_type": "display_data"
    }
   ],
   "source": [
    "plt.figure(figsize=(14, 6)) \n",
    "real['living_area'].hist(range = (0, 200),bins = 50, color='green', edgecolor='black', alpha=0.7)\n",
    "#plt.show('Жилая площадь')\n",
    "plt.xlabel('Footage', fontsize =12)\n",
    "plt.ylabel('Listing amount', fontsize = 12)\n",
    "plt.title('Living area', fontsize = 15)\n",
    "plt.show()"
   ]
  },
  {
   "cell_type": "markdown",
   "id": "e892e9b5",
   "metadata": {},
   "source": [
    "<div class=\"alert alert-block alert-info\">\n",
    "2) There is a strange peak around 12 sqm - this is extremely small for an average 50 sqm apartment. The second peak around 30-32 sqm is more characteristic.\n",
    "</div>"
   ]
  },
  {
   "cell_type": "code",
   "execution_count": 110,
   "id": "f257a300",
   "metadata": {
    "id": "f257a300",
    "outputId": "9b001ca7-7c59-4fee-d928-3e4bd2822dfc"
   },
   "outputs": [
    {
     "data": {
      "image/png": "[encoded data removed]",
      "text/plain": [
       "<Figure size 1008x432 with 1 Axes>"
      ]
     },
     "metadata": {
      "needs_background": "light"
     },
     "output_type": "display_data"
    }
   ],
   "source": [
    "plt.figure(figsize=(14, 6)) \n",
    "real['kitchen_area'].hist(range = (0, 50),bins = 50, color='green', edgecolor='black', alpha=0.7 )\n",
    "plt.xlabel('Footage', fontsize =12)\n",
    "plt.ylabel('Listing amount' ,fontsize =12)\n",
    "plt.title('Kitchen area', fontsize = 15)\n",
    "plt.show()\n"
   ]
  },
  {
   "cell_type": "markdown",
   "id": "f9e32291",
   "metadata": {
    "id": "f9e32291"
   },
   "source": [
    "<div class=\"alert alert-block alert-info\">\n",
    "3) The kitchen area histogram looks reasonable - there are several peaks associated with typical Soviet-era layouts where the area is precisely equal to certain standard values (7, 9, 12 sqm).</div>"
   ]
  },
  {
   "cell_type": "markdown",
   "id": "f3e01e92",
   "metadata": {
    "id": "f3e01e92"
   },
   "source": [
    "<h4><div class=\"alert alert-block alert-info\">\n",
    "Publish to Sell time</div></h4>"
   ]
  },
  {
   "cell_type": "code",
   "execution_count": 132,
   "id": "fb035418",
   "metadata": {
    "id": "fb035418",
    "outputId": "3b1fcc53-8725-4fd9-ee2d-b507db271a3f"
   },
   "outputs": [
    {
     "data": {
      "image/png": "[encoded data removed]",
      "text/plain": [
       "<Figure size 1008x432 with 1 Axes>"
      ]
     },
     "metadata": {
      "needs_background": "light"
     },
     "output_type": "display_data"
    }
   ],
   "source": [
    "plt.figure(figsize=(14, 6)) \n",
    "\n",
    "real[real['sold'] == \"Yes\"]['days_exposition'].hist(range = (0,600), bins = 50, color='green', edgecolor='black', alpha=0.7)\n",
    "plt.xlabel('Listing amount', fontsize = 12)\n",
    "plt.ylabel('Days in exposition', fontsize = 12)\n",
    "plt.title('Publish to Sell time', fontsize = 15)\n",
    "plt.show()"
   ]
  },
  {
   "cell_type": "code",
   "execution_count": 107,
   "id": "8a299a43",
   "metadata": {},
   "outputs": [
    {
     "data": {
      "text/html": [
       "<div>\n",
       "<style scoped>\n",
       "    .dataframe tbody tr th:only-of-type {\n",
       "        vertical-align: middle;\n",
       "    }\n",
       "\n",
       "    .dataframe tbody tr th {\n",
       "        vertical-align: top;\n",
       "    }\n",
       "\n",
       "    .dataframe thead th {\n",
       "        text-align: right;\n",
       "    }\n",
       "</style>\n",
       "<table border=\"1\" class=\"dataframe\">\n",
       "  <thead>\n",
       "    <tr style=\"text-align: right;\">\n",
       "      <th></th>\n",
       "      <th>days_on_market</th>\n",
       "      <th>listing_amount</th>\n",
       "    </tr>\n",
       "  </thead>\n",
       "  <tbody>\n",
       "    <tr>\n",
       "      <th>0</th>\n",
       "      <td>45</td>\n",
       "      <td>876</td>\n",
       "    </tr>\n",
       "    <tr>\n",
       "      <th>1</th>\n",
       "      <td>60</td>\n",
       "      <td>538</td>\n",
       "    </tr>\n",
       "    <tr>\n",
       "      <th>2</th>\n",
       "      <td>7</td>\n",
       "      <td>233</td>\n",
       "    </tr>\n",
       "    <tr>\n",
       "      <th>3</th>\n",
       "      <td>30</td>\n",
       "      <td>207</td>\n",
       "    </tr>\n",
       "    <tr>\n",
       "      <th>4</th>\n",
       "      <td>90</td>\n",
       "      <td>203</td>\n",
       "    </tr>\n",
       "    <tr>\n",
       "      <th>...</th>\n",
       "      <td>...</td>\n",
       "      <td>...</td>\n",
       "    </tr>\n",
       "    <tr>\n",
       "      <th>979</th>\n",
       "      <td>597</td>\n",
       "      <td>1</td>\n",
       "    </tr>\n",
       "    <tr>\n",
       "      <th>980</th>\n",
       "      <td>1572</td>\n",
       "      <td>1</td>\n",
       "    </tr>\n",
       "    <tr>\n",
       "      <th>981</th>\n",
       "      <td>1396</td>\n",
       "      <td>1</td>\n",
       "    </tr>\n",
       "    <tr>\n",
       "      <th>983</th>\n",
       "      <td>1268</td>\n",
       "      <td>1</td>\n",
       "    </tr>\n",
       "    <tr>\n",
       "      <th>1140</th>\n",
       "      <td>1391</td>\n",
       "      <td>1</td>\n",
       "    </tr>\n",
       "  </tbody>\n",
       "</table>\n",
       "<p>1141 rows × 2 columns</p>\n",
       "</div>"
      ],
      "text/plain": [
       "      days_on_market  listing_amount\n",
       "0                 45             876\n",
       "1                 60             538\n",
       "2                  7             233\n",
       "3                 30             207\n",
       "4                 90             203\n",
       "...              ...             ...\n",
       "979              597               1\n",
       "980             1572               1\n",
       "981             1396               1\n",
       "983             1268               1\n",
       "1140            1391               1\n",
       "\n",
       "[1141 rows x 2 columns]"
      ]
     },
     "execution_count": 107,
     "metadata": {},
     "output_type": "execute_result"
    }
   ],
   "source": [
    "sold_properties = real[real['sold'] == \"Yes\"]['days_exposition'].value_counts().reset_index()\n",
    "sold_properties.rename(columns={'index': 'days_on_market', 'days_exposition': 'listing_amount'}, inplace=True)\n",
    "\n",
    "sold_properties.sort_values(by = 'listing_amount', ascending = False)\n"
   ]
  },
  {
   "cell_type": "markdown",
   "id": "2ab3b212",
   "metadata": {},
   "source": [
    "<div class=\"alert alert-block alert-info\">\n",
    "Top-5 days dispersion tends to even numbers, or weekly basis. It looks more like agreed listing term had timed out and this listings were automatically deleted, so we cannot say for sure, that they were exactly sold. \n",
    "    \n",
    "Lets compare with distribution of all the objects that we have in dataframe. \n",
    "</div>"
   ]
  },
  {
   "cell_type": "code",
   "execution_count": 131,
   "id": "d64a17c0",
   "metadata": {},
   "outputs": [
    {
     "data": {
      "image/png": "[encoded data removed]",
      "text/plain": [
       "<Figure size 1008x432 with 1 Axes>"
      ]
     },
     "metadata": {
      "needs_background": "light"
     },
     "output_type": "display_data"
    }
   ],
   "source": [
    "plt.figure(figsize=(14, 6)) \n",
    "\n",
    "potentially_sold = real[real['sold'] == \"Yes\"]['days_exposition'] \n",
    "common = real['days_exposition'] \n",
    "plt.hist(common, range = (0,600), bins = 50, color='red', edgecolor='black', alpha=0.7, label = \"all listings\")\n",
    "plt.hist(potentially_sold, range = (0,600), bins = 50, color='green', edgecolor='black', alpha=0.7, label = \"sold listings\")\n",
    "\n",
    "plt.xlabel('Listing amount', fontsize = 12)\n",
    "plt.ylabel('Days in exposition', fontsize = 12)\n",
    "plt.title('Publish to Sell time', fontsize = 15)\n",
    "plt.legend(fontsize = 15)\n",
    "plt.show()"
   ]
  },
  {
   "cell_type": "markdown",
   "id": "7dc273c7",
   "metadata": {},
   "source": [
    "<div class=\"alert alert-block alert-info\">\n",
    "In both cases dispersion look pretty much the same, so we can just implement days_exposition as market life of object without knowing whether it was sold or just deleted.  \n",
    "</div>"
   ]
  },
  {
   "cell_type": "code",
   "execution_count": 122,
   "id": "5bd16646",
   "metadata": {
    "id": "5bd16646",
    "outputId": "f912f701-f275-4cea-8907-2cb1df4f0b0e"
   },
   "outputs": [
    {
     "data": {
      "text/plain": [
       "count    23592.000000\n",
       "mean       185.759495\n",
       "std        233.494503\n",
       "min          0.000000\n",
       "25%         43.000000\n",
       "50%         94.000000\n",
       "75%        237.000000\n",
       "max       1618.000000\n",
       "Name: days_exposition, dtype: float64"
      ]
     },
     "execution_count": 122,
     "metadata": {},
     "output_type": "execute_result"
    }
   ],
   "source": [
    "real['days_exposition'].describe()"
   ]
  },
  {
   "cell_type": "code",
   "execution_count": 123,
   "id": "65aa6a4e",
   "metadata": {
    "id": "65aa6a4e",
    "outputId": "700dcf5b-a738-4779-c339-0c2da3a5b3db"
   },
   "outputs": [
    {
     "data": {
      "text/plain": [
       "94.0"
      ]
     },
     "execution_count": 123,
     "metadata": {},
     "output_type": "execute_result"
    }
   ],
   "source": [
    "real['days_exposition'].median()"
   ]
  },
  {
   "cell_type": "markdown",
   "id": "0d235b6e",
   "metadata": {
    "id": "0d235b6e"
   },
   "source": [
    "<div class=\"alert alert-block alert-info\">\n",
    "Based on the histogram, as well as looking at the mean and median values, I make the following observations:\n",
    "\n",
    "1) The average selling time is 94 days or 3 months.\n",
    "\n",
    "2) Extremely successful sales occur in less than 45 days, representing only 25% of the total sample.\n",
    "\n",
    "3) There is a significant deviation between the mean value (172 days on the market) and the median value. This is likely due to a few excessively long selling periods.\n",
    "\n",
    "4) Within 237 days or almost 8 months, 75% of real estate deals are completed, with the remaining being rare outliers.\n",
    "</div>\n"
   ]
  },
  {
   "cell_type": "markdown",
   "id": "6221fd00",
   "metadata": {
    "id": "6221fd00"
   },
   "source": [
    "\n",
    "<h4><div class=\"alert alert-block alert-info\">\n",
    "Removing Outliers.</div></h4>"
   ]
  },
  {
   "cell_type": "code",
   "execution_count": 133,
   "id": "46182aeb",
   "metadata": {
    "id": "46182aeb",
    "outputId": "61fecce5-249f-4699-bc2c-f7fc42ec77f9"
   },
   "outputs": [
    {
     "data": {
      "image/png": "[encoded data removed]",
      "text/plain": [
       "<Figure size 1008x432 with 1 Axes>"
      ]
     },
     "metadata": {
      "needs_background": "light"
     },
     "output_type": "display_data"
    }
   ],
   "source": [
    "plt.figure(figsize=(14, 6)) \n",
    "real['days_exposition'][real['days_exposition'] > 200].hist( bins = 50, color='green', edgecolor='black', alpha=0.7)\n",
    "plt.xlabel('Listing amount', fontsize = 12)\n",
    "plt.ylabel('Days in exposition', fontsize = 12)\n",
    "plt.title('Listings more that 200 days old', fontsize = 15)\n",
    "plt.show()"
   ]
  },
  {
   "cell_type": "code",
   "execution_count": 134,
   "id": "d7cc0302",
   "metadata": {
    "id": "d7cc0302",
    "outputId": "1242b80c-a181-4cb4-8f52-8c99715054b9"
   },
   "outputs": [
    {
     "data": {
      "text/plain": [
       "count    6866.000000\n",
       "mean      464.613749\n",
       "std       266.267063\n",
       "min       201.000000\n",
       "25%       272.000000\n",
       "50%       383.000000\n",
       "75%       562.000000\n",
       "max      1618.000000\n",
       "Name: days_exposition, dtype: float64"
      ]
     },
     "execution_count": 134,
     "metadata": {},
     "output_type": "execute_result"
    }
   ],
   "source": [
    "real[real['days_exposition'] > 200]['days_exposition'].describe()"
   ]
  },
  {
   "cell_type": "markdown",
   "id": "3cc7bc62",
   "metadata": {
    "id": "3cc7bc62"
   },
   "source": [
    "<div class=\"alert alert-block alert-info\">\n",
    "Any value greater than 562 days (1.5 years) should be considered an extreme outlier and should be removed from the dataset.\n",
    "\n",
    "Now let`s check price dispersion. </div>"
   ]
  },
  {
   "cell_type": "code",
   "execution_count": 135,
   "id": "6c1f0cd6",
   "metadata": {
    "id": "6c1f0cd6",
    "outputId": "6c0aa174-548b-49b0-a46b-547c9401e2cf"
   },
   "outputs": [
    {
     "data": {
      "text/plain": [
       "count     23592.000000\n",
       "mean       6525.303024\n",
       "std       10815.096436\n",
       "min          12.190000\n",
       "25%        3418.750000\n",
       "50%        4650.000000\n",
       "75%        6799.250000\n",
       "max      763000.000000\n",
       "Name: last_price, dtype: float64"
      ]
     },
     "execution_count": 135,
     "metadata": {},
     "output_type": "execute_result"
    }
   ],
   "source": [
    "real['last_price'].describe()"
   ]
  },
  {
   "cell_type": "code",
   "execution_count": 144,
   "id": "8e25db91",
   "metadata": {},
   "outputs": [
    {
     "data": {
      "image/png": "[encoded data removed]",
      "text/plain": [
       "<Figure size 1008x432 with 1 Axes>"
      ]
     },
     "metadata": {
      "needs_background": "light"
     },
     "output_type": "display_data"
    }
   ],
   "source": [
    "plt.figure(figsize=(14, 6)) \n",
    "plt.hist(real['last_price'], range = (0, 80000), bins = 50, color='green', edgecolor='black', alpha=0.7)\n",
    "plt.xlabel('Listing amount', fontsize = 12)\n",
    "plt.ylabel('Days in exposition', fontsize = 12)\n",
    "plt.title('Price dispersion', fontsize = 15)\n",
    "plt.show()"
   ]
  },
  {
   "cell_type": "markdown",
   "id": "56fea9dc",
   "metadata": {},
   "source": [
    "<div class=\"alert alert-block alert-info\">\n",
    "Anything more than 15000 become extinctively rare.\n",
    "\n",
    "Now let`s see proper room amount. </div>"
   ]
  },
  {
   "cell_type": "code",
   "execution_count": 147,
   "id": "54867cb8",
   "metadata": {
    "id": "54867cb8",
    "outputId": "a9410f7d-76db-46a8-b27c-4931ccd8f78d"
   },
   "outputs": [
    {
     "data": {
      "text/plain": [
       "count    23592.000000\n",
       "mean         2.070193\n",
       "std          1.072422\n",
       "min          0.000000\n",
       "25%          1.000000\n",
       "50%          2.000000\n",
       "75%          3.000000\n",
       "max         16.000000\n",
       "Name: rooms, dtype: float64"
      ]
     },
     "execution_count": 147,
     "metadata": {},
     "output_type": "execute_result"
    }
   ],
   "source": [
    "real.rooms.describe()"
   ]
  },
  {
   "cell_type": "code",
   "execution_count": 149,
   "id": "ed1978c0",
   "metadata": {},
   "outputs": [
    {
     "data": {
      "image/png": "[encoded data removed]",
      "text/plain": [
       "<Figure size 1008x432 with 1 Axes>"
      ]
     },
     "metadata": {
      "needs_background": "light"
     },
     "output_type": "display_data"
    }
   ],
   "source": [
    "plt.figure(figsize=(14, 6)) \n",
    "plt.hist(real['rooms'], range = (0,16), bins = 20, color='green', edgecolor='black', alpha=0.7)\n",
    "plt.xlabel('Rooms', fontsize = 12)\n",
    "plt.ylabel('Listing amount', fontsize = 12)\n",
    "plt.title('Rooms per apartment', fontsize = 15)\n",
    "plt.show()"
   ]
  },
  {
   "cell_type": "markdown",
   "id": "30605b79",
   "metadata": {},
   "source": [
    "<div class=\"alert alert-block alert-info\">\n",
    "You hardly ever get more that 4 rooms, and more that 6 is absolutely rare \n",
    "\n",
    "Let`s narrow down our dataframe to normal dispersion , no outlines. </div>"
   ]
  },
  {
   "cell_type": "code",
   "execution_count": 150,
   "id": "ecc577d7",
   "metadata": {
    "id": "ecc577d7",
    "outputId": "1d21670e-741e-40cf-eed8-981e0e796300"
   },
   "outputs": [
    {
     "data": {
      "text/plain": [
       "18993"
      ]
     },
     "execution_count": 150,
     "metadata": {},
     "output_type": "execute_result"
    }
   ],
   "source": [
    "good_real = real.query('days_exposition < 400 and last_price > 2000 < 15000 and total_area > 20 < 400 and rooms <= 5')\n",
    "len(good_real)"
   ]
  },
  {
   "cell_type": "code",
   "execution_count": 151,
   "id": "169b7709",
   "metadata": {
    "id": "169b7709",
    "outputId": "7379e899-82c5-46a3-ecca-19e808d34658"
   },
   "outputs": [
    {
     "data": {
      "text/html": [
       "<div>\n",
       "<style scoped>\n",
       "    .dataframe tbody tr th:only-of-type {\n",
       "        vertical-align: middle;\n",
       "    }\n",
       "\n",
       "    .dataframe tbody tr th {\n",
       "        vertical-align: top;\n",
       "    }\n",
       "\n",
       "    .dataframe thead th {\n",
       "        text-align: right;\n",
       "    }\n",
       "</style>\n",
       "<table border=\"1\" class=\"dataframe\">\n",
       "  <thead>\n",
       "    <tr style=\"text-align: right;\">\n",
       "      <th></th>\n",
       "      <th>last_price</th>\n",
       "      <th>total_area</th>\n",
       "      <th>rooms</th>\n",
       "      <th>ceiling_height</th>\n",
       "    </tr>\n",
       "  </thead>\n",
       "  <tbody>\n",
       "    <tr>\n",
       "      <th>min</th>\n",
       "      <td>2006.0</td>\n",
       "      <td>20.1</td>\n",
       "      <td>0.0</td>\n",
       "      <td>2.25</td>\n",
       "    </tr>\n",
       "    <tr>\n",
       "      <th>max</th>\n",
       "      <td>401300.0</td>\n",
       "      <td>500.0</td>\n",
       "      <td>5.0</td>\n",
       "      <td>4.90</td>\n",
       "    </tr>\n",
       "  </tbody>\n",
       "</table>\n",
       "</div>"
      ],
      "text/plain": [
       "     last_price  total_area  rooms  ceiling_height\n",
       "min      2006.0        20.1    0.0            2.25\n",
       "max    401300.0       500.0    5.0            4.90"
      ]
     },
     "execution_count": 151,
     "metadata": {},
     "output_type": "execute_result"
    }
   ],
   "source": [
    "# КОД РЕВЬЮЕРА\n",
    "\n",
    "good_real[['last_price', 'total_area','rooms', 'ceiling_height' ]].describe().loc[['min', 'max']]"
   ]
  },
  {
   "cell_type": "markdown",
   "id": "06540a48",
   "metadata": {
    "id": "06540a48"
   },
   "source": [
    "<div class=\"alert alert-block alert-info\">\n",
    "\n",
    "Looks better </div>"
   ]
  },
  {
   "cell_type": "markdown",
   "id": "7e02470d",
   "metadata": {
    "id": "7e02470d"
   },
   "source": [
    "<h4><div class=\"alert alert-block alert-info\">\n",
    "Изучаем корреляцию\n",
    "  </div></h4>"
   ]
  },
  {
   "cell_type": "markdown",
   "id": "c5e292ea",
   "metadata": {
    "id": "c5e292ea"
   },
   "source": [
    "<h6><div class=\"alert alert-block alert-info\">\n",
    "Отношение цены к площади, количеству комнат и близости к центру.\n",
    "  </div></h6>"
   ]
  },
  {
   "cell_type": "code",
   "execution_count": null,
   "id": "e57cb000",
   "metadata": {
    "id": "e57cb000",
    "outputId": "68ca014d-868a-4165-b4a7-483704e5ed16"
   },
   "outputs": [],
   "source": [
    "columns = ['last_price','rooms','total_area','cityCenters_nearest']\n",
    "corr = pd.DataFrame(good_real, columns=columns)\n",
    "corr.head()"
   ]
  },
  {
   "cell_type": "code",
   "execution_count": null,
   "id": "41ffa2c1",
   "metadata": {
    "id": "41ffa2c1",
    "outputId": "48a442d2-f1f9-4ee5-d9e3-3db8ef542d59"
   },
   "outputs": [],
   "source": [
    "corr.corr()"
   ]
  },
  {
   "cell_type": "code",
   "execution_count": null,
   "id": "86be97d6",
   "metadata": {
    "id": "86be97d6",
    "outputId": "6e5befe1-920a-49bd-b488-9f5e7607eca2"
   },
   "outputs": [],
   "source": [
    "pd.plotting.scatter_matrix(corr, figsize=(12, 12))\n",
    "plt.show()"
   ]
  },
  {
   "cell_type": "markdown",
   "id": "3885b2ae",
   "metadata": {
    "id": "3885b2ae"
   },
   "source": [
    "<div class=\"alert alert-block alert-info\">\n",
    "Изучив корреляцию цены к количеству комнат, площади и близости к центру увидели следующее:\n",
    "1) Корреляция цены к площади и количеству комнат прямая - чем больше комнат, тем больше цена.\n",
    "2) Корреляция близости к центру предсказуемо обратная - выше всего цена и что более интересно площади квартир, которые находятся ближе к центру.\n",
    "    \n",
    "</div>"
   ]
  },
  {
   "cell_type": "markdown",
   "id": "c4e061f6",
   "metadata": {
    "id": "c4e061f6"
   },
   "source": [
    "<h6><div class=\"alert alert-block alert-info\">\n",
    "Зависимость цены от этажа, на котором находится квартира.\n",
    "  </div></h6>"
   ]
  },
  {
   "cell_type": "code",
   "execution_count": null,
   "id": "447d23fd",
   "metadata": {
    "id": "447d23fd",
    "outputId": "ee0e53de-7a51-4c52-832e-ae9a247534ac"
   },
   "outputs": [],
   "source": [
    "good_real.plot(y = 'last_price', x = 'which_floor', kind = 'scatter')\n",
    "plt.show()"
   ]
  },
  {
   "cell_type": "markdown",
   "id": "48ed239e",
   "metadata": {
    "id": "48ed239e"
   },
   "source": [
    "<div class=\"alert alert-warning\" style=\"border-radius: 15px; box-shadow: 4px 4px 4px;border: 1px solid \">\n",
    "<h2> Комментарий ревьюера 2</h2>\n",
    "    \n",
    "Здесь не отображается ячейка. Перестрою:</div>"
   ]
  },
  {
   "cell_type": "code",
   "execution_count": null,
   "id": "08cdc49b",
   "metadata": {
    "id": "08cdc49b",
    "outputId": "b0772a64-ddc9-468d-81df-0a3441e132f1"
   },
   "outputs": [],
   "source": [
    "# КОД РЕВЬЮЕРА\n",
    "\n",
    "plt.scatter(good_real['which_floor'], good_real['last_price'])"
   ]
  },
  {
   "cell_type": "markdown",
   "id": "ed74d6fd",
   "metadata": {
    "id": "ed74d6fd"
   },
   "source": [
    "<div class=\"alert alert-block alert-info\">\n",
    "C учетом актуальных реалий высотного строительства экстраординарные цены встречаются на последних этажах, тн \"пентхаусах\", в остальном же более высокий потолок цен встречается у средних этажей, а на первом цены значительно ниже\n",
    "  </div>"
   ]
  },
  {
   "cell_type": "markdown",
   "id": "9531f069",
   "metadata": {
    "id": "9531f069"
   },
   "source": [
    "<h6><div class=\"alert alert-block alert-info\">\n",
    "Зависимость от даты размещения:\n",
    "  </div></h6>"
   ]
  },
  {
   "cell_type": "markdown",
   "id": "7278b42f",
   "metadata": {
    "id": "7278b42f"
   },
   "source": [
    "<h6><div class=\"alert alert-block alert-info\">\n",
    "День недели:\n",
    "  </div></h6>"
   ]
  },
  {
   "cell_type": "code",
   "execution_count": null,
   "id": "bf0e597f",
   "metadata": {
    "id": "bf0e597f",
    "outputId": "cd4839b6-a77a-489e-a272-e71a963b94ef"
   },
   "outputs": [],
   "source": [
    "good_real.info()"
   ]
  },
  {
   "cell_type": "code",
   "execution_count": null,
   "id": "a0fdc7c1",
   "metadata": {
    "id": "a0fdc7c1",
    "outputId": "d0f13413-70d7-4226-88fb-f26f43476e74"
   },
   "outputs": [],
   "source": [
    "good_real.plot(y = 'last_price', x = 'weekday', kind = 'scatter')\n",
    "plt.show()\n",
    "good_real['last_price'].corr(good_real['weekday'])"
   ]
  },
  {
   "cell_type": "code",
   "execution_count": null,
   "id": "e0ad7a9a",
   "metadata": {
    "id": "e0ad7a9a",
    "outputId": "85415a4c-d4ed-48b7-c887-056bd61548d5"
   },
   "outputs": [],
   "source": [
    "good_real.plot(y = 'last_price', x = 'month', kind = 'scatter')\n",
    "plt.show()\n",
    "good_real['last_price'].corr(good_real['month'])"
   ]
  },
  {
   "cell_type": "code",
   "execution_count": null,
   "id": "12f3aa4f",
   "metadata": {
    "id": "12f3aa4f",
    "outputId": "c75c2055-f9d3-4d9a-8f10-785317b402ce"
   },
   "outputs": [],
   "source": [
    "good_real.plot(y = 'last_price', x = 'year', kind = 'scatter')\n",
    "plt.show()\n",
    "good_real['last_price'].corr(good_real['year'])"
   ]
  },
  {
   "cell_type": "markdown",
   "id": "5828bc44",
   "metadata": {
    "id": "5828bc44"
   },
   "source": [
    "<div class=\"alert alert-block alert-info\">\n",
    "Что касается дня недели - то корреляция от дня ко дню отсутствует.\n",
    "То же самое можно сказать по поводу месяцев, вопреки устойчивому слуху о сезонности роста цен.\n",
    "А вот годовая корреляция четко показывает что цены в 2017 году были максимальными по сравнению с предыдущими и последующими годами и сейчас тенденция идет на снижение.\n",
    "  </div>"
   ]
  },
  {
   "cell_type": "markdown",
   "id": "b36fe91b",
   "metadata": {
    "id": "b36fe91b"
   },
   "source": [
    "<div class=\"alert alert-success\" style=\"border-radius: 15px; box-shadow: 4px 4px 4px; border: 1px solid\">\n",
    "<h2> Комментарий ревьюера 2</h2>\n",
    "    \n",
    "Картина с месяцем и днем недели тянет на случайность. Ведь речь идет о дате размещения и о цене продажи. Разместить можно во вторник в мае, а продать в пятницу в ноябре, по более низкой цене. Это можно даже проверить, построив точно такие же графики для разных лет. Наверняка ситуация будет меняться. А вот год - да, вполне может влиять. Из года в год экономическая ситуация меняется, а вместе с ней и покупательская способность.\n",
    "</div>"
   ]
  },
  {
   "cell_type": "markdown",
   "id": "87370941",
   "metadata": {
    "id": "87370941"
   },
   "source": [
    "<h6><div class=\"alert alert-block alert-info\">\n",
    "Средняя стоимость и цена квадратного метра в 10 крупнейших городах\n",
    "  </div></h6>"
   ]
  },
  {
   "cell_type": "code",
   "execution_count": null,
   "id": "985faf06",
   "metadata": {
    "id": "985faf06",
    "outputId": "682e7a12-f5c7-472f-efcb-4f9facd098a9"
   },
   "outputs": [],
   "source": [
    "local_name = good_real.pivot_table(\n",
    "    index='locality_name', values='last_price', aggfunc='count'\n",
    ")\n",
    "local_name.columns = [ 'count']\n",
    "\n",
    "good_names = local_name.query('count >= 175')\n",
    "good_names['count'].sum()\n",
    "\n",
    "\n",
    "#good_stat2 = station_stat_full.query('count > 30').pivot_table(\n",
    "    #index='name', values='time_spent', aggfunc=['median', 'count']\n",
    "#)"
   ]
  },
  {
   "cell_type": "code",
   "execution_count": null,
   "id": "b6014ab6",
   "metadata": {
    "id": "b6014ab6",
    "outputId": "9f539b69-65c5-4208-cdc3-683b849fcee5"
   },
   "outputs": [],
   "source": [
    "top10towns = good_real.query('locality_name in @good_names.index')\n",
    "top10towns"
   ]
  },
  {
   "cell_type": "code",
   "execution_count": null,
   "id": "93461211",
   "metadata": {
    "id": "93461211",
    "outputId": "9e32293c-0c30-476b-96b0-07e205d4445b"
   },
   "outputs": [],
   "source": [
    "columns = ['locality_name','last_price', 'square_metr']\n",
    "most_expensive = pd.DataFrame(top10towns, )\n",
    "most_expensive"
   ]
  },
  {
   "cell_type": "code",
   "execution_count": null,
   "id": "baca6329",
   "metadata": {
    "id": "baca6329",
    "outputId": "e3f6aa6b-5703-40a1-f238-e88ee7773dee"
   },
   "outputs": [],
   "source": [
    "most_expensive2 = most_expensive.pivot_table(index = 'locality_name', values = ('last_price','square_metr'), aggfunc = 'mean')\n",
    "#most_expensive2.columns ( columns = ['last_price', 'square_metr'])\n",
    "most_expensive2.sort_values(by = 'last_price', ascending = False).round(0)"
   ]
  },
  {
   "cell_type": "markdown",
   "id": "218d2d68",
   "metadata": {
    "id": "218d2d68"
   },
   "source": [
    "<div class=\"alert alert-block alert-info\">\n",
    "Предсказуемо самое дорогое место для покупки жилья - это Санкт-Петербург. Далее идет г.Пушкин, а на 3 месте поселок.\n",
    "Худшим среди лучших является г.Выборг, с ценой в 2 раза меньше чем в Питере\n",
    "  </div>"
   ]
  },
  {
   "cell_type": "code",
   "execution_count": null,
   "id": "700b1f52",
   "metadata": {
    "id": "700b1f52",
    "outputId": "6be71d50-caa0-4587-f9b5-f207519302b5"
   },
   "outputs": [],
   "source": [
    "piter = good_real.query('locality_name == \"Санкт-Петербург\"')\n",
    "piter['cityCenters_nearest_km'] = (piter['cityCenters_nearest']/ 1000).round(0)\n",
    "center = piter.pivot_table(index = 'cityCenters_nearest_km', values = 'last_price', aggfunc = 'mean')\n",
    "center"
   ]
  },
  {
   "cell_type": "markdown",
   "id": "396a127d",
   "metadata": {
    "id": "396a127d"
   },
   "source": [
    "<div class=\"alert alert-success\" style=\"border-radius: 15px; box-shadow: 4px 4px 4px; border: 1px solid\">\n",
    "<h2> Комментарий ревьюера 2</h2>\n",
    "    \n",
    "Кстати, предупреждения можно отключать:\n",
    "</div>\n",
    "\n",
    "```python\n",
    "\n",
    "import warnings\n",
    "\n",
    "warnings.filterwarnings('ignore')\n",
    "```"
   ]
  },
  {
   "cell_type": "code",
   "execution_count": null,
   "id": "c34a54f7",
   "metadata": {
    "id": "c34a54f7",
    "outputId": "fd39e431-24dc-4f50-d421-c5560d16bb54"
   },
   "outputs": [],
   "source": [
    "center.plot()\n",
    "plt.show()"
   ]
  },
  {
   "cell_type": "markdown",
   "id": "4dd9f7c4",
   "metadata": {
    "id": "4dd9f7c4"
   },
   "source": [
    "<div class=\"alert alert-block alert-info\">\n",
    "Судя по графику, радиус центра в Питере - 3 км. После этого имеется интересный скачок в цене на уровне 7 км и затем цены идут значительно ниже.\n",
    "</div>"
   ]
  },
  {
   "cell_type": "markdown",
   "id": "370e513a",
   "metadata": {
    "id": "370e513a"
   },
   "source": [
    "<div class=\"alert alert-success\" style=\"border-radius: 15px; box-shadow: 4px 4px 4px; border: 1px solid\">\n",
    "<h2> Комментарий ревьюера 2</h2>\n",
    "    \n",
    "Совершенно верно.</div>\n",
    "\n"
   ]
  },
  {
   "cell_type": "markdown",
   "id": "0b544bff",
   "metadata": {
    "id": "0b544bff"
   },
   "source": [
    "<h6><div class=\"alert alert-block alert-info\">\n",
    "Изучаем сегмент квартир в центре города Санкт-Петербург\n",
    "  </div></h6>"
   ]
  },
  {
   "cell_type": "code",
   "execution_count": null,
   "id": "b790411b",
   "metadata": {
    "id": "b790411b",
    "outputId": "95b7edc7-855e-4bb9-8ede-3e0f07024e8e"
   },
   "outputs": [],
   "source": [
    "piter_center = piter.query('cityCenters_nearest_km <= 3')\n",
    "piter_center.info()"
   ]
  },
  {
   "cell_type": "code",
   "execution_count": null,
   "id": "27f683ae",
   "metadata": {
    "id": "27f683ae",
    "outputId": "8c435266-6c10-42b3-c612-6d7c668686ba"
   },
   "outputs": [],
   "source": [
    "columns = ['total_area','rooms', 'last_price','ceiling_height','floor','cityCenters_nearest_km','time_to_day']\n",
    "piter_center2 = pd.DataFrame(piter_center, columns = columns)\n",
    "piter_center2"
   ]
  },
  {
   "cell_type": "markdown",
   "id": "e102ca79",
   "metadata": {
    "id": "e102ca79"
   },
   "source": [
    "<div class=\"alert alert-block alert-info\">\n",
    "Изучим общую площадь, представленную в центре.\n",
    "</div>"
   ]
  },
  {
   "cell_type": "code",
   "execution_count": null,
   "id": "605a633b",
   "metadata": {
    "id": "605a633b",
    "outputId": "137a49e2-0363-4bbf-83a3-9807e6d42bc8"
   },
   "outputs": [],
   "source": [
    "piter_center2['total_area'].hist( range = (0, 300),bins = 50)\n",
    "plt.show()"
   ]
  },
  {
   "cell_type": "code",
   "execution_count": null,
   "id": "f63deb74",
   "metadata": {
    "id": "f63deb74",
    "outputId": "ce0d2243-2a0b-4311-eda9-89992ceb3e57"
   },
   "outputs": [],
   "source": [
    "piter_center2['total_area'].describe()"
   ]
  },
  {
   "cell_type": "markdown",
   "id": "071ba590",
   "metadata": {
    "id": "071ba590"
   },
   "source": [
    "<div class=\"alert alert-block alert-info\">\n",
    "Вопреки ожиданиям о большом количестве доходной недвижимости маленькой площади, наибольшее количество квартир обладает площадью от 70 до 100м2,\n",
    "\n",
    "посмотрим как эта площадь отражается в количестве комнат.\n",
    "</div>"
   ]
  },
  {
   "cell_type": "code",
   "execution_count": null,
   "id": "06140f6e",
   "metadata": {
    "id": "06140f6e",
    "outputId": "9d2da8dd-e2ed-415a-fdae-78cf873d5257"
   },
   "outputs": [],
   "source": [
    "piter_center2['total_area'].hist( range = (0, 300),bins = 50)\n",
    "plt.show()\n"
   ]
  },
  {
   "cell_type": "code",
   "execution_count": null,
   "id": "6c72baab",
   "metadata": {
    "id": "6c72baab",
    "outputId": "b01ba864-60bb-4cd4-f622-0dd3b135dcf7"
   },
   "outputs": [],
   "source": [
    "piter_center2.plot(y = 'rooms', x = 'total_area', kind = 'scatter')\n",
    "plt.show()"
   ]
  },
  {
   "cell_type": "markdown",
   "id": "16d86748",
   "metadata": {
    "id": "16d86748"
   },
   "source": [
    "<div class=\"alert alert-block alert-info\">\n",
    "И опять на графике видим, что преобладают 3 и 4 комнатные квартиры большей площади. Видимо наследие былых времен с царскими амбициями.\n",
    "</div>"
   ]
  },
  {
   "cell_type": "markdown",
   "id": "6fd5bb44",
   "metadata": {
    "id": "6fd5bb44"
   },
   "source": [
    "<div class=\"alert alert-block alert-info\">\n",
    "Изучим, насколько цена зависит от близости к центральной точке, \"нулевому\" километру.\n",
    "</div>"
   ]
  },
  {
   "cell_type": "code",
   "execution_count": null,
   "id": "b99063cd",
   "metadata": {
    "id": "b99063cd",
    "outputId": "e09d457c-4b4a-442e-ccda-ab0de42c8380"
   },
   "outputs": [],
   "source": [
    "piter_center2.plot(y = 'last_price', x = 'cityCenters_nearest_km', kind = 'scatter')\n",
    "plt.show()"
   ]
  },
  {
   "cell_type": "markdown",
   "id": "ea5060d3",
   "metadata": {
    "id": "ea5060d3"
   },
   "source": [
    "<div class=\"alert alert-block alert-info\">\n",
    "Как видим - на любом километре распределение цены примерно схожее - центр и есть центр в любой из этих точек.\n",
    "</div>"
   ]
  },
  {
   "cell_type": "markdown",
   "id": "85194248",
   "metadata": {
    "id": "85194248"
   },
   "source": [
    "<div class=\"alert alert-block alert-info\">\n",
    "Центр славится высокими потолками, как элементом престижа. Так ли это на самом деле?\n",
    "</div>"
   ]
  },
  {
   "cell_type": "code",
   "execution_count": null,
   "id": "6621fb5b",
   "metadata": {
    "id": "6621fb5b",
    "outputId": "820a3a2a-d54f-4706-87a1-faca9c990bc3"
   },
   "outputs": [],
   "source": [
    "piter_center2['ceiling_height'].hist( range = (0, 6),bins = 30)\n",
    "plt.show()\n",
    "\n"
   ]
  },
  {
   "cell_type": "code",
   "execution_count": null,
   "id": "8bacd768",
   "metadata": {
    "id": "8bacd768",
    "outputId": "46e5f3d3-87bd-4d51-fac1-bc5a2916288d"
   },
   "outputs": [],
   "source": [
    "piter_center2.plot(y = 'last_price', x = 'ceiling_height', kind = 'scatter')\n",
    "plt.show()"
   ]
  },
  {
   "cell_type": "markdown",
   "id": "65ad8bda",
   "metadata": {
    "id": "65ad8bda"
   },
   "source": [
    "<div class=\"alert alert-block alert-info\">\n",
    "На гистограмме имеется 2 характерных пика - на отметке типовых 2.7м, которые скорее всего относятся к более современным постройкам, и чуть больше 3метров (3.10-3.30м) которые отражают сталинские и довоенные дома.\n",
    "    \n",
    "Что касается корреляции с ценой, то потолок не является определяющим фактором цены. Место, место и ещё раз место.\n",
    "</div>"
   ]
  },
  {
   "cell_type": "markdown",
   "id": "c11bce39",
   "metadata": {
    "id": "c11bce39"
   },
   "source": [
    "<div class=\"alert alert-block alert-info\">\n",
    "Отношение цены и этажа квартиры.\n",
    "</div>"
   ]
  },
  {
   "cell_type": "code",
   "execution_count": null,
   "id": "9c36ff09",
   "metadata": {
    "id": "9c36ff09",
    "outputId": "8d24c9ca-120b-48fd-80ad-728189ea5870"
   },
   "outputs": [],
   "source": [
    "piter_center2.plot(y = 'last_price', x = 'floor', kind = 'scatter')\n",
    "plt.show()"
   ]
  },
  {
   "cell_type": "markdown",
   "id": "823feb8d",
   "metadata": {
    "id": "823feb8d"
   },
   "source": [
    "<div class=\"alert alert-block alert-info\">\n",
    "Как видим из результата, высоких зданий в центре практически нет и каждый ценит свой - кто-то первый для бизнеса, кому-то легче на второй подниматься, а выше 4-ого - уже \"видовые\".\n",
    "</div>"
   ]
  },
  {
   "cell_type": "markdown",
   "id": "69be682d",
   "metadata": {
    "id": "69be682d"
   },
   "source": [
    "<h7><div class=\"alert alert-block alert-info\">\n",
    "Изменение цены во времени\n",
    "  </div></h7>"
   ]
  },
  {
   "cell_type": "markdown",
   "id": "13042af4",
   "metadata": {
    "id": "13042af4"
   },
   "source": [
    "<h7><div class=\"alert alert-block alert-info\">\n",
    "Среди факторов теоретически влияющих на стоимость объекта в центре мы отмели высоту потолков и увеличение цены по мере приближения к центральной точке. Но как насчет поверья, что недвижимость в центре только дорожает?\n",
    "  </div></h7>"
   ]
  },
  {
   "cell_type": "code",
   "execution_count": null,
   "id": "01f2b268",
   "metadata": {
    "id": "01f2b268",
    "outputId": "ae8a92a0-c284-453f-a4ae-56e0869ce057"
   },
   "outputs": [],
   "source": [
    "piter_center2.plot(y = 'last_price', x = 'time_to_day')\n",
    "good_real.plot(y = 'last_price', x = 'time_to_day')\n",
    "plt.show()"
   ]
  },
  {
   "cell_type": "markdown",
   "id": "44432b3d",
   "metadata": {
    "id": "44432b3d"
   },
   "source": [
    "<div class=\"alert alert-warning\" style=\"border-radius: 15px; box-shadow: 4px 4px 4px; border: 1px solid\">\n",
    "<h2> Комментарий ревьюера 2</h2>\n",
    "    \n",
    "Такой график получился из-за большого числа значений. Тут можно построить точечную диаграмму или же график прямой, который покажет зависимость медианы цены от даты размещения.</div>"
   ]
  },
  {
   "cell_type": "markdown",
   "id": "cd5efe28",
   "metadata": {
    "id": "cd5efe28"
   },
   "source": [
    "<h7><div class=\"alert alert-block alert-info\">\n",
    "Как и в целом по рынку, основной пик был в середине 2017 и затем цены немного снизились, за исключением нескольких экстраординарных сделок.\n",
    "  </div></h7>"
   ]
  },
  {
   "cell_type": "markdown",
   "id": "950cdc7f",
   "metadata": {
    "id": "950cdc7f"
   },
   "source": [
    " <strong><em><h1>\n",
    "Шаг 5 общие выводы. </em></strong></h1>"
   ]
  },
  {
   "cell_type": "markdown",
   "id": "8cd37ca2",
   "metadata": {
    "id": "8cd37ca2"
   },
   "source": [
    "<h7><div class=\"alert alert-block alert-info\">\n",
    "На удивление мало факторов влияет на стоимость объекта недвижимости по-настоящему.\n",
    "Первый фактор это месторасположение. Питер стоит значительно дороже пригорода, центр превосходит любой спальный район.\n",
    "Второй фактор это общее экономическое положение, как внешний фактор. Если есть спрос, то он влияет на все цены, если спроса нет, то цена падает на всю недвижимость и этажность, площадь и тому подобное не влияет.\n",
    "\n",
    "  </div></h7>"
   ]
  },
  {
   "cell_type": "markdown",
   "id": "bb3fd9df",
   "metadata": {
    "id": "bb3fd9df"
   },
   "source": [
    "<div class=\"alert alert-warning\" style=\"border-radius: 15px; box-shadow: 4px 4px 4px; border: 1px solid\">\n",
    "<h2> Комментарий ревьюера 2</h2>\n",
    "    \n",
    "Вывод хороший. В идеале стоит подкреплять его полученными ранее результаты. Здесь же можно добавить медианы основных характеристик квартир для центра и для всей выборки, чтобы заказчику было понятно не только то, что квартиры в центре больше и дороже, но и насколько они больше и насколько дороже.\n",
    "</div>"
   ]
  }
 ],
 "metadata": {
  "ExecuteTimeLog": [
   {
    "duration": 781,
    "start_time": "2021-09-03T10:22:37.158Z"
   },
   {
    "duration": 2755,
    "start_time": "2021-09-03T10:22:37.941Z"
   },
   {
    "duration": -3719,
    "start_time": "2021-09-03T10:22:44.423Z"
   },
   {
    "duration": -3721,
    "start_time": "2021-09-03T10:22:44.427Z"
   },
   {
    "duration": -3731,
    "start_time": "2021-09-03T10:22:44.439Z"
   },
   {
    "duration": -3739,
    "start_time": "2021-09-03T10:22:44.448Z"
   },
   {
    "duration": -3739,
    "start_time": "2021-09-03T10:22:44.450Z"
   },
   {
    "duration": -3742,
    "start_time": "2021-09-03T10:22:44.455Z"
   },
   {
    "duration": -3744,
    "start_time": "2021-09-03T10:22:44.458Z"
   },
   {
    "duration": -3753,
    "start_time": "2021-09-03T10:22:44.468Z"
   },
   {
    "duration": -3753,
    "start_time": "2021-09-03T10:22:44.470Z"
   },
   {
    "duration": -3755,
    "start_time": "2021-09-03T10:22:44.473Z"
   },
   {
    "duration": -3756,
    "start_time": "2021-09-03T10:22:44.475Z"
   },
   {
    "duration": -3762,
    "start_time": "2021-09-03T10:22:44.482Z"
   },
   {
    "duration": -3763,
    "start_time": "2021-09-03T10:22:44.484Z"
   },
   {
    "duration": -3763,
    "start_time": "2021-09-03T10:22:44.486Z"
   },
   {
    "duration": -3765,
    "start_time": "2021-09-03T10:22:44.489Z"
   },
   {
    "duration": -3766,
    "start_time": "2021-09-03T10:22:44.491Z"
   },
   {
    "duration": -3772,
    "start_time": "2021-09-03T10:22:44.498Z"
   },
   {
    "duration": -3773,
    "start_time": "2021-09-03T10:22:44.500Z"
   },
   {
    "duration": -3773,
    "start_time": "2021-09-03T10:22:44.502Z"
   },
   {
    "duration": -3774,
    "start_time": "2021-09-03T10:22:44.504Z"
   },
   {
    "duration": -3776,
    "start_time": "2021-09-03T10:22:44.507Z"
   },
   {
    "duration": -3782,
    "start_time": "2021-09-03T10:22:44.514Z"
   },
   {
    "duration": -3783,
    "start_time": "2021-09-03T10:22:44.517Z"
   },
   {
    "duration": -3784,
    "start_time": "2021-09-03T10:22:44.519Z"
   },
   {
    "duration": -3785,
    "start_time": "2021-09-03T10:22:44.521Z"
   },
   {
    "duration": -3786,
    "start_time": "2021-09-03T10:22:44.523Z"
   },
   {
    "duration": -3788,
    "start_time": "2021-09-03T10:22:44.526Z"
   },
   {
    "duration": -3795,
    "start_time": "2021-09-03T10:22:44.534Z"
   },
   {
    "duration": -3797,
    "start_time": "2021-09-03T10:22:44.537Z"
   },
   {
    "duration": -3785,
    "start_time": "2021-09-03T10:22:44.539Z"
   },
   {
    "duration": -3788,
    "start_time": "2021-09-03T10:22:44.543Z"
   },
   {
    "duration": -3790,
    "start_time": "2021-09-03T10:22:44.546Z"
   },
   {
    "duration": -3792,
    "start_time": "2021-09-03T10:22:44.550Z"
   },
   {
    "duration": -3793,
    "start_time": "2021-09-03T10:22:44.552Z"
   },
   {
    "duration": -3794,
    "start_time": "2021-09-03T10:22:44.554Z"
   },
   {
    "duration": -3794,
    "start_time": "2021-09-03T10:22:44.556Z"
   },
   {
    "duration": -3795,
    "start_time": "2021-09-03T10:22:44.558Z"
   },
   {
    "duration": -3890,
    "start_time": "2021-09-03T10:22:44.654Z"
   },
   {
    "duration": -3892,
    "start_time": "2021-09-03T10:22:44.657Z"
   },
   {
    "duration": -3916,
    "start_time": "2021-09-03T10:22:44.682Z"
   },
   {
    "duration": -3937,
    "start_time": "2021-09-03T10:22:44.705Z"
   },
   {
    "duration": -3938,
    "start_time": "2021-09-03T10:22:44.707Z"
   },
   {
    "duration": -3960,
    "start_time": "2021-09-03T10:22:44.730Z"
   },
   {
    "duration": -3960,
    "start_time": "2021-09-03T10:22:44.732Z"
   },
   {
    "duration": -3987,
    "start_time": "2021-09-03T10:22:44.760Z"
   },
   {
    "duration": -4272,
    "start_time": "2021-09-03T10:22:45.047Z"
   },
   {
    "duration": -4589,
    "start_time": "2021-09-03T10:22:45.365Z"
   },
   {
    "duration": -4590,
    "start_time": "2021-09-03T10:22:45.367Z"
   },
   {
    "duration": -4590,
    "start_time": "2021-09-03T10:22:45.369Z"
   },
   {
    "duration": -4591,
    "start_time": "2021-09-03T10:22:45.371Z"
   },
   {
    "duration": -4592,
    "start_time": "2021-09-03T10:22:45.373Z"
   },
   {
    "duration": -4604,
    "start_time": "2021-09-03T10:22:45.387Z"
   },
   {
    "duration": -4617,
    "start_time": "2021-09-03T10:22:45.401Z"
   },
   {
    "duration": -4618,
    "start_time": "2021-09-03T10:22:45.403Z"
   },
   {
    "duration": -4618,
    "start_time": "2021-09-03T10:22:45.405Z"
   },
   {
    "duration": -4619,
    "start_time": "2021-09-03T10:22:45.407Z"
   },
   {
    "duration": -4627,
    "start_time": "2021-09-03T10:22:45.417Z"
   },
   {
    "duration": -4563,
    "start_time": "2021-09-03T10:22:45.419Z"
   },
   {
    "duration": -4563,
    "start_time": "2021-09-03T10:22:45.421Z"
   },
   {
    "duration": -4565,
    "start_time": "2021-09-03T10:22:45.424Z"
   },
   {
    "duration": -4573,
    "start_time": "2021-09-03T10:22:45.434Z"
   },
   {
    "duration": -4574,
    "start_time": "2021-09-03T10:22:45.436Z"
   },
   {
    "duration": -4597,
    "start_time": "2021-09-03T10:22:45.461Z"
   },
   {
    "duration": -4597,
    "start_time": "2021-09-03T10:22:45.463Z"
   },
   {
    "duration": -4626,
    "start_time": "2021-09-03T10:22:45.493Z"
   },
   {
    "duration": -4651,
    "start_time": "2021-09-03T10:22:45.519Z"
   },
   {
    "duration": -4651,
    "start_time": "2021-09-03T10:22:45.521Z"
   },
   {
    "duration": -4651,
    "start_time": "2021-09-03T10:22:45.523Z"
   },
   {
    "duration": -4669,
    "start_time": "2021-09-03T10:22:45.542Z"
   },
   {
    "duration": -4675,
    "start_time": "2021-09-03T10:22:45.550Z"
   },
   {
    "duration": -4677,
    "start_time": "2021-09-03T10:22:45.553Z"
   },
   {
    "duration": -4678,
    "start_time": "2021-09-03T10:22:45.555Z"
   },
   {
    "duration": -4678,
    "start_time": "2021-09-03T10:22:45.557Z"
   },
   {
    "duration": -4684,
    "start_time": "2021-09-03T10:22:45.564Z"
   },
   {
    "duration": -4684,
    "start_time": "2021-09-03T10:22:45.566Z"
   },
   {
    "duration": -4684,
    "start_time": "2021-09-03T10:22:45.568Z"
   },
   {
    "duration": -4685,
    "start_time": "2021-09-03T10:22:45.570Z"
   },
   {
    "duration": -4685,
    "start_time": "2021-09-03T10:22:45.572Z"
   },
   {
    "duration": -4727,
    "start_time": "2021-09-03T10:22:45.615Z"
   },
   {
    "duration": -4728,
    "start_time": "2021-09-03T10:22:45.617Z"
   },
   {
    "duration": -4665,
    "start_time": "2021-09-03T10:22:45.619Z"
   },
   {
    "duration": -4664,
    "start_time": "2021-09-03T10:22:45.620Z"
   },
   {
    "duration": -4665,
    "start_time": "2021-09-03T10:22:45.622Z"
   },
   {
    "duration": -4665,
    "start_time": "2021-09-03T10:22:45.623Z"
   },
   {
    "duration": -4671,
    "start_time": "2021-09-03T10:22:45.631Z"
   },
   {
    "duration": -4672,
    "start_time": "2021-09-03T10:22:45.633Z"
   },
   {
    "duration": -4779,
    "start_time": "2021-09-03T10:22:45.741Z"
   },
   {
    "duration": -4780,
    "start_time": "2021-09-03T10:22:45.743Z"
   },
   {
    "duration": -4780,
    "start_time": "2021-09-03T10:22:45.745Z"
   },
   {
    "duration": -4781,
    "start_time": "2021-09-03T10:22:45.747Z"
   },
   {
    "duration": -4780,
    "start_time": "2021-09-03T10:22:45.748Z"
   },
   {
    "duration": -4781,
    "start_time": "2021-09-03T10:22:45.750Z"
   },
   {
    "duration": -4780,
    "start_time": "2021-09-03T10:22:45.751Z"
   },
   {
    "duration": -4781,
    "start_time": "2021-09-03T10:22:45.753Z"
   },
   {
    "duration": -4781,
    "start_time": "2021-09-03T10:22:45.754Z"
   },
   {
    "duration": -4781,
    "start_time": "2021-09-03T10:22:45.756Z"
   },
   {
    "duration": -4781,
    "start_time": "2021-09-03T10:22:45.758Z"
   },
   {
    "duration": -4781,
    "start_time": "2021-09-03T10:22:45.759Z"
   },
   {
    "duration": -4781,
    "start_time": "2021-09-03T10:22:45.761Z"
   },
   {
    "duration": -4781,
    "start_time": "2021-09-03T10:22:45.762Z"
   },
   {
    "duration": -4782,
    "start_time": "2021-09-03T10:22:45.764Z"
   },
   {
    "duration": -4782,
    "start_time": "2021-09-03T10:22:45.766Z"
   },
   {
    "duration": -4782,
    "start_time": "2021-09-03T10:22:45.767Z"
   },
   {
    "duration": -4782,
    "start_time": "2021-09-03T10:22:45.769Z"
   },
   {
    "duration": -4782,
    "start_time": "2021-09-03T10:22:45.770Z"
   },
   {
    "duration": -4783,
    "start_time": "2021-09-03T10:22:45.772Z"
   },
   {
    "duration": -4720,
    "start_time": "2021-09-03T10:22:45.773Z"
   },
   {
    "duration": -4720,
    "start_time": "2021-09-03T10:22:45.775Z"
   },
   {
    "duration": -4720,
    "start_time": "2021-09-03T10:22:45.776Z"
   },
   {
    "duration": -4720,
    "start_time": "2021-09-03T10:22:45.778Z"
   },
   {
    "duration": -4721,
    "start_time": "2021-09-03T10:22:45.780Z"
   },
   {
    "duration": -4721,
    "start_time": "2021-09-03T10:22:45.781Z"
   },
   {
    "duration": -4721,
    "start_time": "2021-09-03T10:22:45.783Z"
   },
   {
    "duration": -4721,
    "start_time": "2021-09-03T10:22:45.784Z"
   },
   {
    "duration": -4721,
    "start_time": "2021-09-03T10:22:45.786Z"
   },
   {
    "duration": -4721,
    "start_time": "2021-09-03T10:22:45.787Z"
   },
   {
    "duration": -4722,
    "start_time": "2021-09-03T10:22:45.789Z"
   },
   {
    "duration": -4721,
    "start_time": "2021-09-03T10:22:45.790Z"
   },
   {
    "duration": -4722,
    "start_time": "2021-09-03T10:22:45.792Z"
   },
   {
    "duration": -4721,
    "start_time": "2021-09-03T10:22:45.793Z"
   },
   {
    "duration": -4722,
    "start_time": "2021-09-03T10:22:45.795Z"
   },
   {
    "duration": 292,
    "start_time": "2021-09-03T17:35:50.631Z"
   },
   {
    "duration": 604,
    "start_time": "2021-09-03T17:36:02.926Z"
   },
   {
    "duration": 626,
    "start_time": "2021-09-03T17:36:17.837Z"
   },
   {
    "duration": 90,
    "start_time": "2021-09-03T17:36:19.178Z"
   },
   {
    "duration": 638,
    "start_time": "2021-09-03T17:36:33.354Z"
   },
   {
    "duration": 106,
    "start_time": "2021-09-03T17:36:33.995Z"
   },
   {
    "duration": 10,
    "start_time": "2021-09-03T17:36:34.103Z"
   },
   {
    "duration": 32,
    "start_time": "2021-09-03T17:36:34.115Z"
   },
   {
    "duration": 24,
    "start_time": "2021-09-03T17:36:34.149Z"
   },
   {
    "duration": 5,
    "start_time": "2021-09-03T17:36:34.175Z"
   },
   {
    "duration": 6,
    "start_time": "2021-09-03T17:36:34.182Z"
   },
   {
    "duration": 58,
    "start_time": "2021-09-03T17:36:34.190Z"
   },
   {
    "duration": 2,
    "start_time": "2021-09-03T17:36:34.250Z"
   },
   {
    "duration": 19,
    "start_time": "2021-09-03T17:36:34.254Z"
   },
   {
    "duration": 25,
    "start_time": "2021-09-03T17:36:34.275Z"
   },
   {
    "duration": 3,
    "start_time": "2021-09-03T17:36:34.302Z"
   },
   {
    "duration": 36,
    "start_time": "2021-09-03T17:36:34.306Z"
   },
   {
    "duration": 26,
    "start_time": "2021-09-03T17:36:34.343Z"
   },
   {
    "duration": 4,
    "start_time": "2021-09-03T17:36:34.371Z"
   },
   {
    "duration": 18,
    "start_time": "2021-09-03T17:36:34.376Z"
   },
   {
    "duration": 4,
    "start_time": "2021-09-03T17:36:34.396Z"
   },
   {
    "duration": 8,
    "start_time": "2021-09-03T17:36:34.401Z"
   },
   {
    "duration": 30,
    "start_time": "2021-09-03T17:36:34.411Z"
   },
   {
    "duration": 23,
    "start_time": "2021-09-03T17:36:34.443Z"
   },
   {
    "duration": 12,
    "start_time": "2021-09-03T17:36:34.468Z"
   },
   {
    "duration": 5,
    "start_time": "2021-09-03T17:36:34.481Z"
   },
   {
    "duration": 5,
    "start_time": "2021-09-03T17:36:34.491Z"
   },
   {
    "duration": 49,
    "start_time": "2021-09-03T17:36:34.499Z"
   },
   {
    "duration": 4,
    "start_time": "2021-09-03T17:36:34.549Z"
   },
   {
    "duration": 14,
    "start_time": "2021-09-03T17:36:34.554Z"
   },
   {
    "duration": 5,
    "start_time": "2021-09-03T17:36:34.569Z"
   },
   {
    "duration": 14,
    "start_time": "2021-09-03T17:36:34.575Z"
   },
   {
    "duration": 7,
    "start_time": "2021-09-03T17:36:34.591Z"
   },
   {
    "duration": 42,
    "start_time": "2021-09-03T17:36:34.599Z"
   },
   {
    "duration": 4,
    "start_time": "2021-09-03T17:36:34.643Z"
   },
   {
    "duration": 13,
    "start_time": "2021-09-03T17:36:34.649Z"
   },
   {
    "duration": 10,
    "start_time": "2021-09-03T17:36:34.663Z"
   },
   {
    "duration": 30,
    "start_time": "2021-09-03T17:36:34.675Z"
   },
   {
    "duration": 41,
    "start_time": "2021-09-03T17:36:34.707Z"
   },
   {
    "duration": 12,
    "start_time": "2021-09-03T17:36:34.750Z"
   },
   {
    "duration": 10,
    "start_time": "2021-09-03T17:36:34.763Z"
   },
   {
    "duration": 12,
    "start_time": "2021-09-03T17:36:34.775Z"
   },
   {
    "duration": 14,
    "start_time": "2021-09-03T17:36:34.788Z"
   },
   {
    "duration": 8,
    "start_time": "2021-09-03T17:36:34.804Z"
   },
   {
    "duration": 12,
    "start_time": "2021-09-03T17:36:34.813Z"
   },
   {
    "duration": 16,
    "start_time": "2021-09-03T17:36:34.826Z"
   },
   {
    "duration": 9,
    "start_time": "2021-09-03T17:36:34.844Z"
   },
   {
    "duration": 25,
    "start_time": "2021-09-03T17:36:34.854Z"
   },
   {
    "duration": 20,
    "start_time": "2021-09-03T17:36:34.881Z"
   },
   {
    "duration": 6,
    "start_time": "2021-09-03T17:36:34.903Z"
   },
   {
    "duration": 23,
    "start_time": "2021-09-03T17:36:34.910Z"
   },
   {
    "duration": 4,
    "start_time": "2021-09-03T17:36:34.940Z"
   },
   {
    "duration": 16,
    "start_time": "2021-09-03T17:36:34.945Z"
   },
   {
    "duration": 9,
    "start_time": "2021-09-03T17:36:34.963Z"
   },
   {
    "duration": 5,
    "start_time": "2021-09-03T17:36:34.973Z"
   },
   {
    "duration": 16,
    "start_time": "2021-09-03T17:36:34.980Z"
   },
   {
    "duration": 16,
    "start_time": "2021-09-03T17:36:34.998Z"
   },
   {
    "duration": 16,
    "start_time": "2021-09-03T17:36:35.016Z"
   },
   {
    "duration": 24,
    "start_time": "2021-09-03T17:36:35.034Z"
   },
   {
    "duration": 10,
    "start_time": "2021-09-03T17:36:35.060Z"
   },
   {
    "duration": 26,
    "start_time": "2021-09-03T17:36:35.071Z"
   },
   {
    "duration": 27,
    "start_time": "2021-09-03T17:36:35.099Z"
   },
   {
    "duration": 21,
    "start_time": "2021-09-03T17:36:35.128Z"
   },
   {
    "duration": 17,
    "start_time": "2021-09-03T17:36:35.150Z"
   },
   {
    "duration": 13,
    "start_time": "2021-09-03T17:36:35.168Z"
   },
   {
    "duration": 28,
    "start_time": "2021-09-03T17:36:35.183Z"
   },
   {
    "duration": 18,
    "start_time": "2021-09-03T17:36:35.212Z"
   },
   {
    "duration": 32,
    "start_time": "2021-09-03T17:36:35.232Z"
   },
   {
    "duration": 20,
    "start_time": "2021-09-03T17:36:35.265Z"
   },
   {
    "duration": 34,
    "start_time": "2021-09-03T17:36:35.287Z"
   },
   {
    "duration": 10,
    "start_time": "2021-09-03T17:36:35.323Z"
   },
   {
    "duration": 28,
    "start_time": "2021-09-03T17:36:35.338Z"
   },
   {
    "duration": 35,
    "start_time": "2021-09-03T17:36:35.368Z"
   },
   {
    "duration": 7,
    "start_time": "2021-09-03T17:36:35.404Z"
   },
   {
    "duration": 19,
    "start_time": "2021-09-03T17:36:35.413Z"
   },
   {
    "duration": 29,
    "start_time": "2021-09-03T17:36:35.433Z"
   },
   {
    "duration": 17,
    "start_time": "2021-09-03T17:36:35.463Z"
   },
   {
    "duration": 19,
    "start_time": "2021-09-03T17:36:35.481Z"
   },
   {
    "duration": 15,
    "start_time": "2021-09-03T17:36:35.502Z"
   },
   {
    "duration": 34,
    "start_time": "2021-09-03T17:36:35.519Z"
   },
   {
    "duration": 4,
    "start_time": "2021-09-03T17:36:35.554Z"
   },
   {
    "duration": 26,
    "start_time": "2021-09-03T17:36:35.560Z"
   },
   {
    "duration": 11,
    "start_time": "2021-09-03T17:36:35.588Z"
   },
   {
    "duration": 38,
    "start_time": "2021-09-03T17:36:35.600Z"
   },
   {
    "duration": 24,
    "start_time": "2021-09-03T17:36:35.640Z"
   },
   {
    "duration": 22,
    "start_time": "2021-09-03T17:36:35.666Z"
   },
   {
    "duration": 22,
    "start_time": "2021-09-03T17:36:35.690Z"
   },
   {
    "duration": 91,
    "start_time": "2021-09-03T17:36:35.713Z"
   },
   {
    "duration": 236,
    "start_time": "2021-09-03T17:36:35.806Z"
   },
   {
    "duration": 231,
    "start_time": "2021-09-03T17:36:36.044Z"
   },
   {
    "duration": 281,
    "start_time": "2021-09-03T17:36:36.276Z"
   },
   {
    "duration": 245,
    "start_time": "2021-09-03T17:36:36.559Z"
   },
   {
    "duration": 8,
    "start_time": "2021-09-03T17:36:36.805Z"
   },
   {
    "duration": 12,
    "start_time": "2021-09-03T17:36:36.814Z"
   },
   {
    "duration": 21,
    "start_time": "2021-09-03T17:36:36.827Z"
   },
   {
    "duration": 198,
    "start_time": "2021-09-03T17:36:36.850Z"
   },
   {
    "duration": 193,
    "start_time": "2021-09-03T17:36:37.050Z"
   },
   {
    "duration": 17,
    "start_time": "2021-09-03T17:36:37.245Z"
   },
   {
    "duration": 12,
    "start_time": "2021-09-03T17:36:37.264Z"
   },
   {
    "duration": 46,
    "start_time": "2021-09-03T17:36:37.278Z"
   },
   {
    "duration": 3,
    "start_time": "2021-09-03T17:36:37.326Z"
   },
   {
    "duration": 30,
    "start_time": "2021-09-03T17:36:37.331Z"
   },
   {
    "duration": 10,
    "start_time": "2021-09-03T17:36:37.363Z"
   },
   {
    "duration": 22,
    "start_time": "2021-09-03T17:36:37.374Z"
   },
   {
    "duration": 4656,
    "start_time": "2021-09-03T17:36:37.397Z"
   },
   {
    "duration": 343,
    "start_time": "2021-09-03T17:36:42.055Z"
   },
   {
    "duration": -9394,
    "start_time": "2021-09-03T17:36:51.794Z"
   },
   {
    "duration": -9402,
    "start_time": "2021-09-03T17:36:51.804Z"
   },
   {
    "duration": -9435,
    "start_time": "2021-09-03T17:36:51.838Z"
   },
   {
    "duration": -9446,
    "start_time": "2021-09-03T17:36:51.850Z"
   },
   {
    "duration": -9454,
    "start_time": "2021-09-03T17:36:51.860Z"
   },
   {
    "duration": -9467,
    "start_time": "2021-09-03T17:36:51.874Z"
   },
   {
    "duration": -9475,
    "start_time": "2021-09-03T17:36:51.883Z"
   },
   {
    "duration": -9484,
    "start_time": "2021-09-03T17:36:51.894Z"
   },
   {
    "duration": -9495,
    "start_time": "2021-09-03T17:36:51.906Z"
   },
   {
    "duration": -9506,
    "start_time": "2021-09-03T17:36:51.918Z"
   },
   {
    "duration": -9517,
    "start_time": "2021-09-03T17:36:51.930Z"
   },
   {
    "duration": -9543,
    "start_time": "2021-09-03T17:36:51.958Z"
   },
   {
    "duration": -9552,
    "start_time": "2021-09-03T17:36:51.968Z"
   },
   {
    "duration": -9563,
    "start_time": "2021-09-03T17:36:51.980Z"
   },
   {
    "duration": -9572,
    "start_time": "2021-09-03T17:36:51.991Z"
   },
   {
    "duration": -9583,
    "start_time": "2021-09-03T17:36:52.003Z"
   },
   {
    "duration": -9591,
    "start_time": "2021-09-03T17:36:52.012Z"
   },
   {
    "duration": -9600,
    "start_time": "2021-09-03T17:36:52.023Z"
   },
   {
    "duration": -9609,
    "start_time": "2021-09-03T17:36:52.033Z"
   },
   {
    "duration": -9619,
    "start_time": "2021-09-03T17:36:52.044Z"
   },
   {
    "duration": -9628,
    "start_time": "2021-09-03T17:36:52.055Z"
   },
   {
    "duration": 561,
    "start_time": "2021-09-03T17:40:29.778Z"
   },
   {
    "duration": 110,
    "start_time": "2021-09-03T17:40:30.340Z"
   },
   {
    "duration": 10,
    "start_time": "2021-09-03T17:40:30.453Z"
   },
   {
    "duration": 26,
    "start_time": "2021-09-03T17:40:30.465Z"
   },
   {
    "duration": 35,
    "start_time": "2021-09-03T17:40:30.493Z"
   },
   {
    "duration": 11,
    "start_time": "2021-09-03T17:40:30.530Z"
   },
   {
    "duration": 10,
    "start_time": "2021-09-03T17:40:30.543Z"
   },
   {
    "duration": 30,
    "start_time": "2021-09-03T17:40:30.555Z"
   },
   {
    "duration": 2,
    "start_time": "2021-09-03T17:40:30.587Z"
   },
   {
    "duration": 25,
    "start_time": "2021-09-03T17:40:30.591Z"
   },
   {
    "duration": 39,
    "start_time": "2021-09-03T17:40:30.618Z"
   },
   {
    "duration": 5,
    "start_time": "2021-09-03T17:40:30.659Z"
   },
   {
    "duration": 11,
    "start_time": "2021-09-03T17:40:30.665Z"
   },
   {
    "duration": 32,
    "start_time": "2021-09-03T17:40:30.678Z"
   },
   {
    "duration": 7,
    "start_time": "2021-09-03T17:40:30.711Z"
   },
   {
    "duration": 26,
    "start_time": "2021-09-03T17:40:30.719Z"
   },
   {
    "duration": 4,
    "start_time": "2021-09-03T17:40:30.747Z"
   },
   {
    "duration": 20,
    "start_time": "2021-09-03T17:40:30.752Z"
   },
   {
    "duration": 17,
    "start_time": "2021-09-03T17:40:30.773Z"
   },
   {
    "duration": 36,
    "start_time": "2021-09-03T17:40:30.792Z"
   },
   {
    "duration": 33,
    "start_time": "2021-09-03T17:40:30.829Z"
   },
   {
    "duration": 13,
    "start_time": "2021-09-03T17:40:30.864Z"
   },
   {
    "duration": 14,
    "start_time": "2021-09-03T17:40:30.880Z"
   },
   {
    "duration": 25,
    "start_time": "2021-09-03T17:40:30.895Z"
   },
   {
    "duration": 11,
    "start_time": "2021-09-03T17:40:30.922Z"
   },
   {
    "duration": 21,
    "start_time": "2021-09-03T17:40:30.935Z"
   },
   {
    "duration": 7,
    "start_time": "2021-09-03T17:40:30.958Z"
   },
   {
    "duration": 23,
    "start_time": "2021-09-03T17:40:30.967Z"
   },
   {
    "duration": 21,
    "start_time": "2021-09-03T17:40:30.992Z"
   },
   {
    "duration": 21,
    "start_time": "2021-09-03T17:40:31.014Z"
   },
   {
    "duration": 29,
    "start_time": "2021-09-03T17:40:31.036Z"
   },
   {
    "duration": 318,
    "start_time": "2021-09-03T17:42:06.034Z"
   },
   {
    "duration": 266,
    "start_time": "2021-09-03T17:42:26.088Z"
   },
   {
    "duration": 100,
    "start_time": "2021-09-03T17:42:52.189Z"
   },
   {
    "duration": 85,
    "start_time": "2021-09-03T17:43:02.034Z"
   },
   {
    "duration": 289,
    "start_time": "2021-09-03T17:43:06.921Z"
   },
   {
    "duration": 32,
    "start_time": "2021-09-03T17:43:50.310Z"
   },
   {
    "duration": 16,
    "start_time": "2021-09-03T17:45:01.300Z"
   },
   {
    "duration": 36,
    "start_time": "2021-09-03T17:45:12.763Z"
   },
   {
    "duration": 290,
    "start_time": "2021-09-03T17:49:40.542Z"
   },
   {
    "duration": 33,
    "start_time": "2021-09-03T17:50:06.206Z"
   },
   {
    "duration": 269,
    "start_time": "2021-09-03T17:51:02.579Z"
   },
   {
    "duration": 283,
    "start_time": "2021-09-03T17:51:16.957Z"
   },
   {
    "duration": 11,
    "start_time": "2021-09-03T17:51:26.101Z"
   },
   {
    "duration": 10,
    "start_time": "2021-09-03T17:51:35.089Z"
   },
   {
    "duration": 9,
    "start_time": "2021-09-03T17:52:17.565Z"
   },
   {
    "duration": 9,
    "start_time": "2021-09-03T17:53:43.617Z"
   },
   {
    "duration": 9,
    "start_time": "2021-09-03T17:53:46.124Z"
   },
   {
    "duration": 29,
    "start_time": "2021-09-03T17:53:47.013Z"
   },
   {
    "duration": 11,
    "start_time": "2021-09-03T17:54:47.857Z"
   },
   {
    "duration": 8,
    "start_time": "2021-09-03T17:55:26.695Z"
   },
   {
    "duration": 5,
    "start_time": "2021-09-03T17:56:07.115Z"
   },
   {
    "duration": 92,
    "start_time": "2021-09-03T17:56:45.977Z"
   },
   {
    "duration": 17,
    "start_time": "2021-09-03T17:56:50.010Z"
   },
   {
    "duration": 15,
    "start_time": "2021-09-03T17:57:09.899Z"
   },
   {
    "duration": 15,
    "start_time": "2021-09-03T17:57:18.039Z"
   },
   {
    "duration": 15,
    "start_time": "2021-09-03T17:57:36.418Z"
   },
   {
    "duration": 639,
    "start_time": "2021-09-03T17:58:03.042Z"
   },
   {
    "duration": 90,
    "start_time": "2021-09-03T17:58:03.683Z"
   },
   {
    "duration": 9,
    "start_time": "2021-09-03T17:58:03.776Z"
   },
   {
    "duration": 12,
    "start_time": "2021-09-03T17:58:03.786Z"
   },
   {
    "duration": 41,
    "start_time": "2021-09-03T17:58:03.800Z"
   },
   {
    "duration": 6,
    "start_time": "2021-09-03T17:58:03.842Z"
   },
   {
    "duration": 14,
    "start_time": "2021-09-03T17:58:03.849Z"
   },
   {
    "duration": 29,
    "start_time": "2021-09-03T17:58:03.865Z"
   },
   {
    "duration": 2,
    "start_time": "2021-09-03T17:58:03.896Z"
   },
   {
    "duration": 20,
    "start_time": "2021-09-03T17:58:03.900Z"
   },
   {
    "duration": 45,
    "start_time": "2021-09-03T17:58:03.922Z"
   },
   {
    "duration": 3,
    "start_time": "2021-09-03T17:58:03.969Z"
   },
   {
    "duration": 7,
    "start_time": "2021-09-03T17:58:03.974Z"
   },
   {
    "duration": 26,
    "start_time": "2021-09-03T17:58:03.983Z"
   },
   {
    "duration": 4,
    "start_time": "2021-09-03T17:58:04.011Z"
   },
   {
    "duration": 12,
    "start_time": "2021-09-03T17:58:04.041Z"
   },
   {
    "duration": 4,
    "start_time": "2021-09-03T17:58:04.054Z"
   },
   {
    "duration": 9,
    "start_time": "2021-09-03T17:58:04.060Z"
   },
   {
    "duration": 13,
    "start_time": "2021-09-03T17:58:04.070Z"
   },
   {
    "duration": 21,
    "start_time": "2021-09-03T17:58:04.085Z"
   },
   {
    "duration": 33,
    "start_time": "2021-09-03T17:58:04.108Z"
   },
   {
    "duration": 5,
    "start_time": "2021-09-03T17:58:04.143Z"
   },
   {
    "duration": 9,
    "start_time": "2021-09-03T17:58:04.152Z"
   },
   {
    "duration": 12,
    "start_time": "2021-09-03T17:58:04.163Z"
   },
   {
    "duration": 5,
    "start_time": "2021-09-03T17:58:04.177Z"
   },
   {
    "duration": 12,
    "start_time": "2021-09-03T17:58:04.183Z"
   },
   {
    "duration": 5,
    "start_time": "2021-09-03T17:58:04.197Z"
   },
   {
    "duration": 9,
    "start_time": "2021-09-03T17:58:04.241Z"
   },
   {
    "duration": 7,
    "start_time": "2021-09-03T17:58:04.252Z"
   },
   {
    "duration": 12,
    "start_time": "2021-09-03T17:58:04.261Z"
   },
   {
    "duration": 4,
    "start_time": "2021-09-03T17:58:04.274Z"
   },
   {
    "duration": 11,
    "start_time": "2021-09-03T17:58:04.280Z"
   },
   {
    "duration": 7,
    "start_time": "2021-09-03T17:58:04.292Z"
   },
   {
    "duration": 41,
    "start_time": "2021-09-03T17:58:04.301Z"
   },
   {
    "duration": 8,
    "start_time": "2021-09-03T17:58:04.343Z"
   },
   {
    "duration": 42,
    "start_time": "2021-09-03T17:58:04.353Z"
   },
   {
    "duration": 29,
    "start_time": "2021-09-03T17:59:16.057Z"
   },
   {
    "duration": 23,
    "start_time": "2021-09-03T17:59:35.658Z"
   },
   {
    "duration": 92,
    "start_time": "2021-09-03T18:02:29.625Z"
   },
   {
    "duration": 11,
    "start_time": "2021-09-03T18:02:45.291Z"
   },
   {
    "duration": 369,
    "start_time": "2021-09-03T18:04:02.081Z"
   },
   {
    "duration": 34,
    "start_time": "2021-09-03T18:04:12.221Z"
   },
   {
    "duration": 4012,
    "start_time": "2021-09-03T18:05:01.878Z"
   },
   {
    "duration": 275,
    "start_time": "2021-09-03T18:05:15.322Z"
   },
   {
    "duration": 1914,
    "start_time": "2021-09-03T18:05:31.017Z"
   },
   {
    "duration": 13,
    "start_time": "2021-09-03T18:06:42.305Z"
   },
   {
    "duration": 8,
    "start_time": "2021-09-03T18:08:46.582Z"
   },
   {
    "duration": 11,
    "start_time": "2021-09-03T18:11:00.579Z"
   },
   {
    "duration": 11,
    "start_time": "2021-09-03T18:11:53.497Z"
   },
   {
    "duration": 11,
    "start_time": "2021-09-03T18:12:29.232Z"
   },
   {
    "duration": 262,
    "start_time": "2021-09-03T18:15:51.828Z"
   },
   {
    "duration": 8,
    "start_time": "2021-09-03T18:15:57.542Z"
   },
   {
    "duration": 7,
    "start_time": "2021-09-03T18:16:00.222Z"
   },
   {
    "duration": 7,
    "start_time": "2021-09-03T18:16:41.151Z"
   },
   {
    "duration": 7,
    "start_time": "2021-09-03T18:16:47.528Z"
   },
   {
    "duration": 631,
    "start_time": "2021-09-03T18:17:31.714Z"
   },
   {
    "duration": 90,
    "start_time": "2021-09-03T18:17:32.347Z"
   },
   {
    "duration": 10,
    "start_time": "2021-09-03T18:17:32.438Z"
   },
   {
    "duration": 19,
    "start_time": "2021-09-03T18:17:32.449Z"
   },
   {
    "duration": 31,
    "start_time": "2021-09-03T18:17:32.470Z"
   },
   {
    "duration": 16,
    "start_time": "2021-09-03T18:17:32.503Z"
   },
   {
    "duration": 22,
    "start_time": "2021-09-03T18:17:32.520Z"
   },
   {
    "duration": 34,
    "start_time": "2021-09-03T18:17:32.544Z"
   },
   {
    "duration": 2,
    "start_time": "2021-09-03T18:17:32.580Z"
   },
   {
    "duration": 23,
    "start_time": "2021-09-03T18:17:32.584Z"
   },
   {
    "duration": 30,
    "start_time": "2021-09-03T18:17:32.609Z"
   },
   {
    "duration": 4,
    "start_time": "2021-09-03T18:17:32.641Z"
   },
   {
    "duration": 25,
    "start_time": "2021-09-03T18:17:32.646Z"
   },
   {
    "duration": 38,
    "start_time": "2021-09-03T18:17:32.673Z"
   },
   {
    "duration": 6,
    "start_time": "2021-09-03T18:17:32.713Z"
   },
   {
    "duration": 28,
    "start_time": "2021-09-03T18:17:32.721Z"
   },
   {
    "duration": 13,
    "start_time": "2021-09-03T18:17:32.751Z"
   },
   {
    "duration": 21,
    "start_time": "2021-09-03T18:17:32.766Z"
   },
   {
    "duration": 23,
    "start_time": "2021-09-03T18:17:32.789Z"
   },
   {
    "duration": 26,
    "start_time": "2021-09-03T18:17:32.814Z"
   },
   {
    "duration": 11,
    "start_time": "2021-09-03T18:17:32.842Z"
   },
   {
    "duration": 4,
    "start_time": "2021-09-03T18:17:32.855Z"
   },
   {
    "duration": 10,
    "start_time": "2021-09-03T18:17:32.863Z"
   },
   {
    "duration": 10,
    "start_time": "2021-09-03T18:17:32.875Z"
   },
   {
    "duration": 4,
    "start_time": "2021-09-03T18:17:32.886Z"
   },
   {
    "duration": 19,
    "start_time": "2021-09-03T18:17:32.892Z"
   },
   {
    "duration": 30,
    "start_time": "2021-09-03T18:17:32.912Z"
   },
   {
    "duration": 8,
    "start_time": "2021-09-03T18:17:32.944Z"
   },
   {
    "duration": 11,
    "start_time": "2021-09-03T18:17:32.954Z"
   },
   {
    "duration": 22,
    "start_time": "2021-09-03T18:17:32.967Z"
   },
   {
    "duration": 10,
    "start_time": "2021-09-03T18:17:32.990Z"
   },
   {
    "duration": 24,
    "start_time": "2021-09-03T18:17:33.002Z"
   },
   {
    "duration": 19,
    "start_time": "2021-09-03T18:17:33.028Z"
   },
   {
    "duration": 15,
    "start_time": "2021-09-03T18:17:33.049Z"
   },
   {
    "duration": 23,
    "start_time": "2021-09-03T18:17:33.066Z"
   },
   {
    "duration": 43,
    "start_time": "2021-09-03T18:17:33.090Z"
   },
   {
    "duration": 23,
    "start_time": "2021-09-03T18:17:33.135Z"
   },
   {
    "duration": 11,
    "start_time": "2021-09-03T18:17:33.159Z"
   },
   {
    "duration": 17,
    "start_time": "2021-09-03T18:17:33.172Z"
   },
   {
    "duration": 8,
    "start_time": "2021-09-03T18:17:33.191Z"
   },
   {
    "duration": 12,
    "start_time": "2021-09-03T18:17:33.200Z"
   },
   {
    "duration": 7,
    "start_time": "2021-09-03T18:19:10.046Z"
   },
   {
    "duration": 12,
    "start_time": "2021-09-03T18:19:13.036Z"
   },
   {
    "duration": 11,
    "start_time": "2021-09-03T18:20:09.750Z"
   },
   {
    "duration": 13,
    "start_time": "2021-09-03T18:20:12.060Z"
   },
   {
    "duration": 6,
    "start_time": "2021-09-03T18:21:05.268Z"
   },
   {
    "duration": 12,
    "start_time": "2021-09-03T18:21:07.602Z"
   },
   {
    "duration": 93,
    "start_time": "2021-09-03T18:27:47.841Z"
   },
   {
    "duration": 88,
    "start_time": "2021-09-03T18:28:52.443Z"
   },
   {
    "duration": 154,
    "start_time": "2021-09-03T18:30:25.982Z"
   },
   {
    "duration": 90,
    "start_time": "2021-09-03T19:24:00.436Z"
   },
   {
    "duration": 657,
    "start_time": "2021-09-03T19:24:12.645Z"
   },
   {
    "duration": 312,
    "start_time": "2021-09-03T19:24:28.328Z"
   },
   {
    "duration": 294,
    "start_time": "2021-09-03T19:25:06.077Z"
   },
   {
    "duration": 10,
    "start_time": "2021-09-03T19:25:45.620Z"
   },
   {
    "duration": 9,
    "start_time": "2021-09-03T19:25:54.475Z"
   },
   {
    "duration": 1315,
    "start_time": "2021-09-03T19:26:10.062Z"
   },
   {
    "duration": 720,
    "start_time": "2021-09-03T19:26:30.261Z"
   },
   {
    "duration": 84,
    "start_time": "2021-09-03T19:27:07.668Z"
   },
   {
    "duration": 8,
    "start_time": "2021-09-03T19:27:12.098Z"
   },
   {
    "duration": 8,
    "start_time": "2021-09-03T19:27:46.904Z"
   },
   {
    "duration": 8,
    "start_time": "2021-09-03T19:28:07.297Z"
   },
   {
    "duration": 12,
    "start_time": "2021-09-03T19:28:17.377Z"
   },
   {
    "duration": 7,
    "start_time": "2021-09-03T19:28:31.615Z"
   },
   {
    "duration": 12,
    "start_time": "2021-09-03T19:28:33.171Z"
   },
   {
    "duration": 6,
    "start_time": "2021-09-03T19:29:26.698Z"
   },
   {
    "duration": 13,
    "start_time": "2021-09-03T19:29:32.674Z"
   },
   {
    "duration": 86,
    "start_time": "2021-09-03T19:29:39.694Z"
   },
   {
    "duration": 6,
    "start_time": "2021-09-03T19:29:46.963Z"
   },
   {
    "duration": 290,
    "start_time": "2021-09-03T19:31:28.187Z"
   },
   {
    "duration": 14,
    "start_time": "2021-09-03T19:34:44.148Z"
   },
   {
    "duration": 13,
    "start_time": "2021-09-03T19:34:45.653Z"
   },
   {
    "duration": 11,
    "start_time": "2021-09-03T19:35:04.584Z"
   },
   {
    "duration": 293,
    "start_time": "2021-09-03T19:35:28.754Z"
   },
   {
    "duration": 264,
    "start_time": "2021-09-03T19:35:43.169Z"
   },
   {
    "duration": 13,
    "start_time": "2021-09-03T19:35:56.267Z"
   },
   {
    "duration": 270,
    "start_time": "2021-09-03T19:36:07.844Z"
   },
   {
    "duration": 12,
    "start_time": "2021-09-03T19:36:14.907Z"
   },
   {
    "duration": 286,
    "start_time": "2021-09-03T19:38:06.772Z"
   },
   {
    "duration": 4890,
    "start_time": "2021-09-03T19:38:14.746Z"
   },
   {
    "duration": -250,
    "start_time": "2021-09-03T19:38:19.888Z"
   },
   {
    "duration": 278,
    "start_time": "2021-09-03T19:38:33.665Z"
   },
   {
    "duration": 272,
    "start_time": "2021-09-03T19:42:26.247Z"
   },
   {
    "duration": 4517,
    "start_time": "2021-09-03T19:42:49.964Z"
   },
   {
    "duration": 4141,
    "start_time": "2021-09-03T19:43:03.770Z"
   },
   {
    "duration": 4229,
    "start_time": "2021-09-03T19:43:12.607Z"
   },
   {
    "duration": 11,
    "start_time": "2021-09-03T19:43:26.819Z"
   },
   {
    "duration": 9,
    "start_time": "2021-09-03T19:47:25.829Z"
   },
   {
    "duration": 355,
    "start_time": "2021-09-03T19:47:34.080Z"
   },
   {
    "duration": 266,
    "start_time": "2021-09-03T19:47:39.422Z"
   },
   {
    "duration": -158,
    "start_time": "2021-09-03T19:47:50.319Z"
   },
   {
    "duration": 13,
    "start_time": "2021-09-03T19:47:59.104Z"
   },
   {
    "duration": 12,
    "start_time": "2021-09-03T19:48:18.420Z"
   },
   {
    "duration": 23,
    "start_time": "2021-09-03T19:48:18.434Z"
   },
   {
    "duration": 12,
    "start_time": "2021-09-03T19:48:43.350Z"
   },
   {
    "duration": 13,
    "start_time": "2021-09-03T19:48:45.075Z"
   },
   {
    "duration": 10,
    "start_time": "2021-09-03T19:49:12.680Z"
   },
   {
    "duration": 14,
    "start_time": "2021-09-03T19:49:14.549Z"
   },
   {
    "duration": 12,
    "start_time": "2021-09-03T19:49:25.171Z"
   },
   {
    "duration": 619,
    "start_time": "2021-09-03T19:49:38.412Z"
   },
   {
    "duration": 93,
    "start_time": "2021-09-03T19:49:39.033Z"
   },
   {
    "duration": 15,
    "start_time": "2021-09-03T19:49:39.128Z"
   },
   {
    "duration": 13,
    "start_time": "2021-09-03T19:49:39.145Z"
   },
   {
    "duration": 25,
    "start_time": "2021-09-03T19:49:39.160Z"
   },
   {
    "duration": 6,
    "start_time": "2021-09-03T19:49:39.186Z"
   },
   {
    "duration": 7,
    "start_time": "2021-09-03T19:49:39.193Z"
   },
   {
    "duration": 53,
    "start_time": "2021-09-03T19:49:39.202Z"
   },
   {
    "duration": 3,
    "start_time": "2021-09-03T19:49:39.257Z"
   },
   {
    "duration": 21,
    "start_time": "2021-09-03T19:49:39.261Z"
   },
   {
    "duration": 26,
    "start_time": "2021-09-03T19:49:39.284Z"
   },
   {
    "duration": 3,
    "start_time": "2021-09-03T19:49:39.312Z"
   },
   {
    "duration": 28,
    "start_time": "2021-09-03T19:49:39.316Z"
   },
   {
    "duration": 32,
    "start_time": "2021-09-03T19:49:39.346Z"
   },
   {
    "duration": 4,
    "start_time": "2021-09-03T19:49:39.380Z"
   },
   {
    "duration": 14,
    "start_time": "2021-09-03T19:49:39.386Z"
   },
   {
    "duration": 6,
    "start_time": "2021-09-03T19:49:39.401Z"
   },
   {
    "duration": 34,
    "start_time": "2021-09-03T19:49:39.408Z"
   },
   {
    "duration": 9,
    "start_time": "2021-09-03T19:49:39.443Z"
   },
   {
    "duration": 22,
    "start_time": "2021-09-03T19:49:39.454Z"
   },
   {
    "duration": 13,
    "start_time": "2021-09-03T19:49:39.477Z"
   },
   {
    "duration": 3,
    "start_time": "2021-09-03T19:49:39.492Z"
   },
   {
    "duration": 5,
    "start_time": "2021-09-03T19:49:39.498Z"
   },
   {
    "duration": 38,
    "start_time": "2021-09-03T19:49:39.504Z"
   },
   {
    "duration": 5,
    "start_time": "2021-09-03T19:49:39.543Z"
   },
   {
    "duration": 12,
    "start_time": "2021-09-03T19:49:39.549Z"
   },
   {
    "duration": 3,
    "start_time": "2021-09-03T19:49:39.563Z"
   },
   {
    "duration": 12,
    "start_time": "2021-09-03T19:49:39.568Z"
   },
   {
    "duration": 7,
    "start_time": "2021-09-03T19:49:39.581Z"
   },
   {
    "duration": 10,
    "start_time": "2021-09-03T19:49:39.589Z"
   },
   {
    "duration": 40,
    "start_time": "2021-09-03T19:49:39.601Z"
   },
   {
    "duration": 10,
    "start_time": "2021-09-03T19:49:39.643Z"
   },
   {
    "duration": 8,
    "start_time": "2021-09-03T19:49:39.655Z"
   },
   {
    "duration": 8,
    "start_time": "2021-09-03T19:49:39.664Z"
   },
   {
    "duration": 8,
    "start_time": "2021-09-03T19:49:39.674Z"
   },
   {
    "duration": 58,
    "start_time": "2021-09-03T19:49:39.683Z"
   },
   {
    "duration": 22,
    "start_time": "2021-09-03T19:49:39.743Z"
   },
   {
    "duration": 11,
    "start_time": "2021-09-03T19:49:39.766Z"
   },
   {
    "duration": 12,
    "start_time": "2021-09-03T19:49:39.779Z"
   },
   {
    "duration": 12,
    "start_time": "2021-09-03T19:49:39.793Z"
   },
   {
    "duration": 41,
    "start_time": "2021-09-03T19:49:39.806Z"
   },
   {
    "duration": 12,
    "start_time": "2021-09-03T19:49:57.422Z"
   },
   {
    "duration": 389,
    "start_time": "2021-09-03T19:50:23.818Z"
   },
   {
    "duration": 305,
    "start_time": "2021-09-03T19:50:27.991Z"
   },
   {
    "duration": 13,
    "start_time": "2021-09-03T19:50:34.552Z"
   },
   {
    "duration": 679,
    "start_time": "2021-09-03T19:50:46.392Z"
   },
   {
    "duration": 13,
    "start_time": "2021-09-03T19:56:46.811Z"
   },
   {
    "duration": 11,
    "start_time": "2021-09-03T19:57:10.023Z"
   },
   {
    "duration": 10,
    "start_time": "2021-09-03T19:57:36.682Z"
   },
   {
    "duration": 14,
    "start_time": "2021-09-03T19:57:37.727Z"
   },
   {
    "duration": 12,
    "start_time": "2021-09-03T20:03:17.128Z"
   },
   {
    "duration": 12,
    "start_time": "2021-09-03T20:03:19.328Z"
   },
   {
    "duration": 13,
    "start_time": "2021-09-03T20:03:24.869Z"
   },
   {
    "duration": 11,
    "start_time": "2021-09-03T20:03:47.097Z"
   },
   {
    "duration": 10,
    "start_time": "2021-09-03T20:03:58.501Z"
   },
   {
    "duration": 11,
    "start_time": "2021-09-03T20:04:03.836Z"
   },
   {
    "duration": 14,
    "start_time": "2021-09-03T20:09:12.305Z"
   },
   {
    "duration": 16,
    "start_time": "2021-09-03T20:09:21.432Z"
   },
   {
    "duration": 39,
    "start_time": "2021-09-03T20:09:32.768Z"
   },
   {
    "duration": 17,
    "start_time": "2021-09-03T20:10:13.202Z"
   },
   {
    "duration": 14,
    "start_time": "2021-09-03T20:10:20.105Z"
   },
   {
    "duration": 301,
    "start_time": "2021-09-04T08:14:28.551Z"
   },
   {
    "duration": 255,
    "start_time": "2021-09-04T08:15:12.626Z"
   },
   {
    "duration": 286,
    "start_time": "2021-09-04T08:18:36.292Z"
   },
   {
    "duration": 622,
    "start_time": "2021-09-04T13:58:21.712Z"
   },
   {
    "duration": 365,
    "start_time": "2021-09-04T13:58:22.337Z"
   },
   {
    "duration": 14,
    "start_time": "2021-09-04T13:58:22.705Z"
   },
   {
    "duration": 15,
    "start_time": "2021-09-04T13:58:22.721Z"
   },
   {
    "duration": 28,
    "start_time": "2021-09-04T13:58:22.738Z"
   },
   {
    "duration": 12,
    "start_time": "2021-09-04T13:58:22.794Z"
   },
   {
    "duration": 7,
    "start_time": "2021-09-04T13:58:22.808Z"
   },
   {
    "duration": 31,
    "start_time": "2021-09-04T13:58:22.817Z"
   },
   {
    "duration": 3,
    "start_time": "2021-09-04T13:58:22.850Z"
   },
   {
    "duration": 54,
    "start_time": "2021-09-04T13:58:22.856Z"
   },
   {
    "duration": 28,
    "start_time": "2021-09-04T13:58:22.912Z"
   },
   {
    "duration": 4,
    "start_time": "2021-09-04T13:58:22.941Z"
   },
   {
    "duration": 7,
    "start_time": "2021-09-04T13:58:22.946Z"
   },
   {
    "duration": 47,
    "start_time": "2021-09-04T13:58:22.954Z"
   },
   {
    "duration": 5,
    "start_time": "2021-09-04T13:58:23.003Z"
   },
   {
    "duration": 14,
    "start_time": "2021-09-04T13:58:23.010Z"
   },
   {
    "duration": 4,
    "start_time": "2021-09-04T13:58:23.026Z"
   },
   {
    "duration": 8,
    "start_time": "2021-09-04T13:58:23.032Z"
   },
   {
    "duration": 12,
    "start_time": "2021-09-04T13:58:23.041Z"
   },
   {
    "duration": 64,
    "start_time": "2021-09-04T13:58:23.055Z"
   },
   {
    "duration": 11,
    "start_time": "2021-09-04T13:58:23.120Z"
   },
   {
    "duration": 4,
    "start_time": "2021-09-04T13:58:23.133Z"
   },
   {
    "duration": 6,
    "start_time": "2021-09-04T13:58:23.139Z"
   },
   {
    "duration": 9,
    "start_time": "2021-09-04T13:58:23.147Z"
   },
   {
    "duration": 4,
    "start_time": "2021-09-04T13:58:23.158Z"
   },
   {
    "duration": 14,
    "start_time": "2021-09-04T13:58:23.195Z"
   },
   {
    "duration": 5,
    "start_time": "2021-09-04T13:58:23.214Z"
   },
   {
    "duration": 10,
    "start_time": "2021-09-04T13:58:23.221Z"
   },
   {
    "duration": 9,
    "start_time": "2021-09-04T13:58:23.233Z"
   },
   {
    "duration": 49,
    "start_time": "2021-09-04T13:58:23.243Z"
   },
   {
    "duration": 7,
    "start_time": "2021-09-04T13:58:23.296Z"
   },
   {
    "duration": 11,
    "start_time": "2021-09-04T13:58:23.306Z"
   },
   {
    "duration": 9,
    "start_time": "2021-09-04T13:58:23.319Z"
   },
   {
    "duration": 10,
    "start_time": "2021-09-04T13:58:23.330Z"
   },
   {
    "duration": 9,
    "start_time": "2021-09-04T13:58:23.342Z"
   },
   {
    "duration": 72,
    "start_time": "2021-09-04T13:58:23.352Z"
   },
   {
    "duration": 22,
    "start_time": "2021-09-04T13:58:23.426Z"
   },
   {
    "duration": 10,
    "start_time": "2021-09-04T13:58:23.450Z"
   },
   {
    "duration": 53,
    "start_time": "2021-09-04T13:58:23.461Z"
   },
   {
    "duration": 9,
    "start_time": "2021-09-04T13:58:23.516Z"
   },
   {
    "duration": 4,
    "start_time": "2021-09-04T13:58:23.526Z"
   },
   {
    "duration": 5,
    "start_time": "2021-09-04T13:58:23.532Z"
   },
   {
    "duration": 13,
    "start_time": "2021-09-04T13:58:23.539Z"
   },
   {
    "duration": 4,
    "start_time": "2021-09-04T13:58:23.554Z"
   },
   {
    "duration": 8,
    "start_time": "2021-09-04T13:58:23.594Z"
   },
   {
    "duration": 7,
    "start_time": "2021-09-04T13:58:23.606Z"
   },
   {
    "duration": 11,
    "start_time": "2021-09-04T13:58:23.615Z"
   },
   {
    "duration": 14,
    "start_time": "2021-09-04T13:58:23.628Z"
   },
   {
    "duration": 29,
    "start_time": "2021-09-04T13:58:23.643Z"
   },
   {
    "duration": 32,
    "start_time": "2021-09-04T13:58:23.673Z"
   },
   {
    "duration": 12,
    "start_time": "2021-09-04T13:58:23.708Z"
   },
   {
    "duration": 5,
    "start_time": "2021-09-04T13:58:23.722Z"
   },
   {
    "duration": 19,
    "start_time": "2021-09-04T13:58:23.729Z"
   },
   {
    "duration": 12,
    "start_time": "2021-09-04T13:58:23.750Z"
   },
   {
    "duration": 29,
    "start_time": "2021-09-04T13:58:23.764Z"
   },
   {
    "duration": 13,
    "start_time": "2021-09-04T13:58:23.796Z"
   },
   {
    "duration": 8,
    "start_time": "2021-09-04T13:58:23.811Z"
   },
   {
    "duration": 4,
    "start_time": "2021-09-04T13:58:23.820Z"
   },
   {
    "duration": 12,
    "start_time": "2021-09-04T13:58:23.826Z"
   },
   {
    "duration": 3,
    "start_time": "2021-09-04T13:58:23.840Z"
   },
   {
    "duration": 10,
    "start_time": "2021-09-04T13:58:23.844Z"
   },
   {
    "duration": 43,
    "start_time": "2021-09-04T13:58:23.856Z"
   },
   {
    "duration": 5,
    "start_time": "2021-09-04T13:58:23.903Z"
   },
   {
    "duration": 9,
    "start_time": "2021-09-04T13:58:23.909Z"
   },
   {
    "duration": 11,
    "start_time": "2021-09-04T13:58:23.919Z"
   },
   {
    "duration": 14,
    "start_time": "2021-09-04T13:58:23.932Z"
   },
   {
    "duration": 4,
    "start_time": "2021-09-04T13:58:23.948Z"
   },
   {
    "duration": 15,
    "start_time": "2021-09-04T13:58:23.953Z"
   },
   {
    "duration": 29,
    "start_time": "2021-09-04T13:58:23.970Z"
   },
   {
    "duration": 10,
    "start_time": "2021-09-04T13:58:24.002Z"
   },
   {
    "duration": 4,
    "start_time": "2021-09-04T13:58:24.013Z"
   },
   {
    "duration": 18,
    "start_time": "2021-09-04T13:58:24.018Z"
   },
   {
    "duration": 55,
    "start_time": "2021-09-04T13:58:24.037Z"
   },
   {
    "duration": 3,
    "start_time": "2021-09-04T13:58:24.095Z"
   },
   {
    "duration": 34,
    "start_time": "2021-09-04T13:58:24.100Z"
   },
   {
    "duration": 9,
    "start_time": "2021-09-04T13:58:24.136Z"
   },
   {
    "duration": 8,
    "start_time": "2021-09-04T13:58:24.147Z"
   },
   {
    "duration": 13,
    "start_time": "2021-09-04T13:58:24.157Z"
   },
   {
    "duration": 29,
    "start_time": "2021-09-04T13:58:24.172Z"
   },
   {
    "duration": 21,
    "start_time": "2021-09-04T13:58:24.203Z"
   },
   {
    "duration": 7,
    "start_time": "2021-09-04T13:58:24.231Z"
   },
   {
    "duration": 52,
    "start_time": "2021-09-04T13:58:24.240Z"
   },
   {
    "duration": 9,
    "start_time": "2021-09-04T13:58:24.294Z"
   },
   {
    "duration": 21,
    "start_time": "2021-09-04T13:58:24.305Z"
   },
   {
    "duration": 11,
    "start_time": "2021-09-04T13:58:24.328Z"
   },
   {
    "duration": 20,
    "start_time": "2021-09-04T13:58:24.341Z"
   },
   {
    "duration": 59,
    "start_time": "2021-09-04T13:58:24.362Z"
   },
   {
    "duration": 20,
    "start_time": "2021-09-04T13:58:24.423Z"
   },
   {
    "duration": 50,
    "start_time": "2021-09-04T13:58:24.445Z"
   },
   {
    "duration": 104,
    "start_time": "2021-09-04T13:58:24.498Z"
   },
   {
    "duration": 257,
    "start_time": "2021-09-04T13:58:24.605Z"
   },
   {
    "duration": 257,
    "start_time": "2021-09-04T13:58:24.864Z"
   },
   {
    "duration": 303,
    "start_time": "2021-09-04T13:58:25.124Z"
   },
   {
    "duration": 272,
    "start_time": "2021-09-04T13:58:25.429Z"
   },
   {
    "duration": 9,
    "start_time": "2021-09-04T13:58:25.704Z"
   },
   {
    "duration": 4,
    "start_time": "2021-09-04T13:58:25.715Z"
   },
   {
    "duration": 4,
    "start_time": "2021-09-04T13:58:25.721Z"
   },
   {
    "duration": 232,
    "start_time": "2021-09-04T13:58:25.727Z"
   },
   {
    "duration": 225,
    "start_time": "2021-09-04T13:58:25.960Z"
   },
   {
    "duration": 27,
    "start_time": "2021-09-04T13:58:26.187Z"
   },
   {
    "duration": 92,
    "start_time": "2021-09-04T13:58:26.216Z"
   },
   {
    "duration": 61,
    "start_time": "2021-09-04T13:58:26.310Z"
   },
   {
    "duration": 4,
    "start_time": "2021-09-04T13:58:26.373Z"
   },
   {
    "duration": 45,
    "start_time": "2021-09-04T13:58:26.379Z"
   },
   {
    "duration": 19,
    "start_time": "2021-09-04T13:58:26.426Z"
   },
   {
    "duration": 21,
    "start_time": "2021-09-04T13:58:26.447Z"
   },
   {
    "duration": 5607,
    "start_time": "2021-09-04T13:58:26.470Z"
   },
   {
    "duration": 320,
    "start_time": "2021-09-04T13:58:32.079Z"
   },
   {
    "duration": -1522,
    "start_time": "2021-09-04T13:58:33.924Z"
   },
   {
    "duration": -1523,
    "start_time": "2021-09-04T13:58:33.927Z"
   },
   {
    "duration": -1524,
    "start_time": "2021-09-04T13:58:33.930Z"
   },
   {
    "duration": -1525,
    "start_time": "2021-09-04T13:58:33.933Z"
   },
   {
    "duration": -1526,
    "start_time": "2021-09-04T13:58:33.936Z"
   },
   {
    "duration": -1528,
    "start_time": "2021-09-04T13:58:33.939Z"
   },
   {
    "duration": -1529,
    "start_time": "2021-09-04T13:58:33.942Z"
   },
   {
    "duration": -1530,
    "start_time": "2021-09-04T13:58:33.944Z"
   },
   {
    "duration": -1531,
    "start_time": "2021-09-04T13:58:33.946Z"
   },
   {
    "duration": -1532,
    "start_time": "2021-09-04T13:58:33.949Z"
   },
   {
    "duration": -1533,
    "start_time": "2021-09-04T13:58:33.951Z"
   },
   {
    "duration": -1534,
    "start_time": "2021-09-04T13:58:33.954Z"
   },
   {
    "duration": -1535,
    "start_time": "2021-09-04T13:58:33.956Z"
   },
   {
    "duration": -1537,
    "start_time": "2021-09-04T13:58:33.959Z"
   },
   {
    "duration": -1538,
    "start_time": "2021-09-04T13:58:33.961Z"
   },
   {
    "duration": -1539,
    "start_time": "2021-09-04T13:58:33.963Z"
   },
   {
    "duration": -1541,
    "start_time": "2021-09-04T13:58:33.966Z"
   },
   {
    "duration": -1542,
    "start_time": "2021-09-04T13:58:33.968Z"
   },
   {
    "duration": -1544,
    "start_time": "2021-09-04T13:58:33.971Z"
   },
   {
    "duration": -1546,
    "start_time": "2021-09-04T13:58:33.974Z"
   },
   {
    "duration": -1548,
    "start_time": "2021-09-04T13:58:33.977Z"
   },
   {
    "duration": 24,
    "start_time": "2021-09-04T14:40:06.760Z"
   },
   {
    "duration": 234,
    "start_time": "2021-09-04T14:44:35.520Z"
   },
   {
    "duration": 489,
    "start_time": "2021-09-04T14:44:43.050Z"
   },
   {
    "duration": 11,
    "start_time": "2021-09-04T14:45:22.213Z"
   },
   {
    "duration": 466,
    "start_time": "2021-09-04T14:45:22.225Z"
   },
   {
    "duration": 434,
    "start_time": "2021-09-04T14:45:22.693Z"
   },
   {
    "duration": 482,
    "start_time": "2021-09-04T14:45:23.129Z"
   },
   {
    "duration": 12,
    "start_time": "2021-09-04T14:45:23.612Z"
   },
   {
    "duration": 49,
    "start_time": "2021-09-04T14:45:23.626Z"
   },
   {
    "duration": 47,
    "start_time": "2021-09-04T14:45:23.676Z"
   },
   {
    "duration": 15,
    "start_time": "2021-09-04T14:45:23.724Z"
   },
   {
    "duration": 26,
    "start_time": "2021-09-04T14:45:23.742Z"
   },
   {
    "duration": 158,
    "start_time": "2021-09-04T14:45:23.791Z"
   },
   {
    "duration": 12,
    "start_time": "2021-09-04T14:45:23.950Z"
   },
   {
    "duration": 44,
    "start_time": "2021-09-04T14:45:23.963Z"
   },
   {
    "duration": 222,
    "start_time": "2021-09-04T14:45:24.009Z"
   },
   {
    "duration": 8,
    "start_time": "2021-09-04T14:45:24.234Z"
   },
   {
    "duration": 240,
    "start_time": "2021-09-04T14:45:24.244Z"
   },
   {
    "duration": 289,
    "start_time": "2021-09-04T14:45:24.486Z"
   },
   {
    "duration": 314,
    "start_time": "2021-09-04T14:45:24.777Z"
   },
   {
    "duration": 398,
    "start_time": "2021-09-04T14:45:25.093Z"
   },
   {
    "duration": 375,
    "start_time": "2021-09-04T14:45:25.493Z"
   },
   {
    "duration": 288,
    "start_time": "2021-09-04T14:45:25.869Z"
   },
   {
    "duration": 463,
    "start_time": "2021-09-04T14:45:26.158Z"
   }
  ],
  "colab": {
   "provenance": []
  },
  "kernelspec": {
   "display_name": "Python 3",
   "language": "python",
   "name": "python3"
  },
  "language_info": {
   "codemirror_mode": {
    "name": "ipython",
    "version": 3
   },
   "file_extension": ".py",
   "mimetype": "text/x-python",
   "name": "python",
   "nbconvert_exporter": "python",
   "pygments_lexer": "ipython3",
   "version": "3.8.8"
  },
  "toc": {
   "base_numbering": 1,
   "nav_menu": {},
   "number_sections": true,
   "sideBar": true,
   "skip_h1_title": true,
   "title_cell": "Table of Contents",
   "title_sidebar": "Contents",
   "toc_cell": false,
   "toc_position": {
    "height": "calc(100% - 180px)",
    "left": "10px",
    "top": "150px",
    "width": "242.81px"
   },
   "toc_section_display": true,
   "toc_window_display": true
  }
 },
 "nbformat": 4,
 "nbformat_minor": 5
}
