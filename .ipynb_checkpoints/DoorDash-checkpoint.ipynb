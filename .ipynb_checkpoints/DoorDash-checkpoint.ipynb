{
 "cells": [
  {
   "cell_type": "markdown",
   "id": "2fdc6e94",
   "metadata": {},
   "source": [
    "<div style=\"background-color: #1f77b4; color: #fff; border-radius: 10px; padding: 10px;\">\n",
    "    <H2>Doordash Efficiency Project</H2>\n",
    "</div>\n",
    "\n",
    "\n",
    "\n",
    "\n"
   ]
  },
  {
   "cell_type": "markdown",
   "id": "9a1df7a6",
   "metadata": {},
   "source": [
    "<div style=\"background-color: #b3d7ff; color: #000; border-radius: 10px; padding: 10px;\">\n",
    "<h3\n",
    "    >Based on information provided from Doordash, I need to determine strategy on most profitable insights, based on earning I've got for the past 10 months.\n"
   ]
  },
  {
   "cell_type": "markdown",
   "id": "9d56bf28",
   "metadata": {},
   "source": [
    "<div style=\"background-color: #b3d7ff; color: #000; border-radius: 10px; padding: 10px;\">\n",
    "<h3\n",
    "    > STEP 1. Let`s check what data we have so far and import libraries"
   ]
  },
  {
   "cell_type": "code",
   "execution_count": 16,
   "id": "fcaf837e",
   "metadata": {},
   "outputs": [],
   "source": [
    "import pandas as pd\n",
    "import numpy as np\n",
    "import matplotlib.pyplot as plt\n"
   ]
  },
  {
   "cell_type": "code",
   "execution_count": 17,
   "id": "8de6d427",
   "metadata": {},
   "outputs": [
    {
     "name": "stdout",
     "output_type": "stream",
     "text": [
      "<class 'pandas.core.frame.DataFrame'>\n",
      "RangeIndex: 488 entries, 0 to 487\n",
      "Data columns (total 7 columns):\n",
      " #   Column                Non-Null Count  Dtype  \n",
      "---  ------                --------------  -----  \n",
      " 0   ORDER_CREATED_TIME    488 non-null    object \n",
      " 1   ACTUAL_PICKUP_TIME    488 non-null    object \n",
      " 2   ACTUAL_DELIVERY_TIME  488 non-null    object \n",
      " 3   STORE_NAME            488 non-null    object \n",
      " 4   TOTAL_ITEM_COUNT      488 non-null    int64  \n",
      " 5   SUBTOTAL_IN_CENTS     488 non-null    float64\n",
      " 6   ORDER_STATUS          488 non-null    object \n",
      "dtypes: float64(1), int64(1), object(5)\n",
      "memory usage: 26.8+ KB\n"
     ]
    }
   ],
   "source": [
    "dash = pd.read_csv('dasher_delivery_information.csv')\n",
    "dash.info()"
   ]
  },
  {
   "cell_type": "code",
   "execution_count": 29,
   "id": "1fcd54ca",
   "metadata": {},
   "outputs": [
    {
     "name": "stdout",
     "output_type": "stream",
     "text": [
      "<class 'pandas.core.frame.DataFrame'>\n",
      "RangeIndex: 488 entries, 0 to 487\n",
      "Data columns (total 8 columns):\n",
      " #   Column                Non-Null Count  Dtype         \n",
      "---  ------                --------------  -----         \n",
      " 0   order_created_time    488 non-null    datetime64[ns]\n",
      " 1   actual_pickup_time    488 non-null    datetime64[ns]\n",
      " 2   actual_delivery_time  488 non-null    datetime64[ns]\n",
      " 3   store_name            488 non-null    object        \n",
      " 4   total_item_count      488 non-null    int64         \n",
      " 5   subtotal_in_cents     488 non-null    float64       \n",
      " 6   order_status          488 non-null    object        \n",
      " 7   order_price           488 non-null    float64       \n",
      "dtypes: datetime64[ns](3), float64(2), int64(1), object(2)\n",
      "memory usage: 30.6+ KB\n"
     ]
    }
   ],
   "source": [
    "dash.columns = dash.columns.str.lower()\n",
    "dash['order_created_time'] = pd.to_datetime(dash['order_created_time'])\n",
    "dash['actual_pickup_time'] = pd.to_datetime(dash['actual_pickup_time'])\n",
    "dash['actual_delivery_time'] = pd.to_datetime(dash['actual_delivery_time'])\n",
    "dash.info()"
   ]
  },
  {
   "cell_type": "markdown",
   "id": "0180be8e",
   "metadata": {},
   "source": [
    "# Data:\n",
    "1. **order_created_time**: Time when I accepted the order. The difference between this time and pickup time would help me determine how long it takes me to actually *start* delivering - the thing I get paid for.\n",
    "\n",
    "2. **time I've picked order and headed to the customer**: This is a check mark for me to understand how much time I usually spend actually delivering the order.\n",
    "\n",
    "3. **time I've delivered**: The time when I successfully delivered the order.\n",
    "\n",
    "4. **store_name**: We would determine the most popular store in the list and delivering more gross store.\n",
    "\n",
    "5. **subtotal_in_cents**: We would convert it to dollars. This column shows the price of the order I've delivered. Presumably, the more the cost of items, the bigger the tips. Also, I want to check whether the biggest orders take longer to deliver.\n",
    "\n",
    "6. **order_status**: Need to check whether there are not delivered orders.\n"
   ]
  },
  {
   "cell_type": "markdown",
   "id": "59cc9e04",
   "metadata": {},
   "source": [
    "Converting subtotal_in_cents to dollar amount"
   ]
  },
  {
   "cell_type": "code",
   "execution_count": 30,
   "id": "363889d0",
   "metadata": {},
   "outputs": [
    {
     "data": {
      "text/html": [
       "<div>\n",
       "<style scoped>\n",
       "    .dataframe tbody tr th:only-of-type {\n",
       "        vertical-align: middle;\n",
       "    }\n",
       "\n",
       "    .dataframe tbody tr th {\n",
       "        vertical-align: top;\n",
       "    }\n",
       "\n",
       "    .dataframe thead th {\n",
       "        text-align: right;\n",
       "    }\n",
       "</style>\n",
       "<table border=\"1\" class=\"dataframe\">\n",
       "  <thead>\n",
       "    <tr style=\"text-align: right;\">\n",
       "      <th></th>\n",
       "      <th>order_created_time</th>\n",
       "      <th>actual_pickup_time</th>\n",
       "      <th>actual_delivery_time</th>\n",
       "      <th>store_name</th>\n",
       "      <th>total_item_count</th>\n",
       "      <th>subtotal_in_cents</th>\n",
       "      <th>order_status</th>\n",
       "      <th>order_price</th>\n",
       "    </tr>\n",
       "  </thead>\n",
       "  <tbody>\n",
       "    <tr>\n",
       "      <th>148</th>\n",
       "      <td>2022-10-30 23:01:01.943559</td>\n",
       "      <td>2022-10-31 00:03:15.700799</td>\n",
       "      <td>2022-10-31 00:20:05.629095</td>\n",
       "      <td>Outback Steakhouse - (3443 OBS CARY NC)</td>\n",
       "      <td>5</td>\n",
       "      <td>8803.0</td>\n",
       "      <td>Order Delivered</td>\n",
       "      <td>88.03</td>\n",
       "    </tr>\n",
       "    <tr>\n",
       "      <th>196</th>\n",
       "      <td>2022-11-16 22:45:21.983524</td>\n",
       "      <td>2022-11-16 23:14:22.265555</td>\n",
       "      <td>2022-11-16 23:42:23.809762</td>\n",
       "      <td>Sushi Iwa (Creekside Landing Dr)</td>\n",
       "      <td>6</td>\n",
       "      <td>8625.0</td>\n",
       "      <td>Order Delivered</td>\n",
       "      <td>86.25</td>\n",
       "    </tr>\n",
       "    <tr>\n",
       "      <th>346</th>\n",
       "      <td>2023-06-13 22:01:38.061121</td>\n",
       "      <td>2023-06-13 22:36:40.578663</td>\n",
       "      <td>2023-06-13 22:55:56.272454</td>\n",
       "      <td>Sushi at the Park</td>\n",
       "      <td>4</td>\n",
       "      <td>7935.0</td>\n",
       "      <td>Order Delivered</td>\n",
       "      <td>79.35</td>\n",
       "    </tr>\n",
       "    <tr>\n",
       "      <th>361</th>\n",
       "      <td>2023-06-20 00:01:15.290367</td>\n",
       "      <td>2023-06-20 00:18:55.272407</td>\n",
       "      <td>2023-06-20 00:28:03.420090</td>\n",
       "      <td>Sushi Iwa (Creekside Landing Dr)</td>\n",
       "      <td>7</td>\n",
       "      <td>7080.0</td>\n",
       "      <td>Order Delivered</td>\n",
       "      <td>70.80</td>\n",
       "    </tr>\n",
       "    <tr>\n",
       "      <th>233</th>\n",
       "      <td>2022-11-27 01:33:54.016647</td>\n",
       "      <td>2022-11-27 02:14:14.373091</td>\n",
       "      <td>2022-11-27 02:28:09.354938</td>\n",
       "      <td>Hyderabad House Biryani Place (Morrisville)</td>\n",
       "      <td>4</td>\n",
       "      <td>6896.0</td>\n",
       "      <td>Order Delivered</td>\n",
       "      <td>68.96</td>\n",
       "    </tr>\n",
       "    <tr>\n",
       "      <th>383</th>\n",
       "      <td>2023-06-28 18:00:01.991916</td>\n",
       "      <td>2023-06-28 18:53:17.249382</td>\n",
       "      <td>2023-06-28 19:27:31.159482</td>\n",
       "      <td>The Cheesecake Factory (Durham - 0102)</td>\n",
       "      <td>7</td>\n",
       "      <td>6885.0</td>\n",
       "      <td>Order Delivered</td>\n",
       "      <td>68.85</td>\n",
       "    </tr>\n",
       "    <tr>\n",
       "      <th>329</th>\n",
       "      <td>2023-01-28 01:21:51.142638</td>\n",
       "      <td>2023-01-28 01:47:07.767516</td>\n",
       "      <td>2023-01-28 02:02:23.179785</td>\n",
       "      <td>Sushi Iwa (Creekside Landing Dr)</td>\n",
       "      <td>6</td>\n",
       "      <td>6535.0</td>\n",
       "      <td>Order Delivered</td>\n",
       "      <td>65.35</td>\n",
       "    </tr>\n",
       "  </tbody>\n",
       "</table>\n",
       "</div>"
      ],
      "text/plain": [
       "            order_created_time         actual_pickup_time  \\\n",
       "148 2022-10-30 23:01:01.943559 2022-10-31 00:03:15.700799   \n",
       "196 2022-11-16 22:45:21.983524 2022-11-16 23:14:22.265555   \n",
       "346 2023-06-13 22:01:38.061121 2023-06-13 22:36:40.578663   \n",
       "361 2023-06-20 00:01:15.290367 2023-06-20 00:18:55.272407   \n",
       "233 2022-11-27 01:33:54.016647 2022-11-27 02:14:14.373091   \n",
       "383 2023-06-28 18:00:01.991916 2023-06-28 18:53:17.249382   \n",
       "329 2023-01-28 01:21:51.142638 2023-01-28 01:47:07.767516   \n",
       "\n",
       "          actual_delivery_time                                   store_name  \\\n",
       "148 2022-10-31 00:20:05.629095      Outback Steakhouse - (3443 OBS CARY NC)   \n",
       "196 2022-11-16 23:42:23.809762             Sushi Iwa (Creekside Landing Dr)   \n",
       "346 2023-06-13 22:55:56.272454                            Sushi at the Park   \n",
       "361 2023-06-20 00:28:03.420090             Sushi Iwa (Creekside Landing Dr)   \n",
       "233 2022-11-27 02:28:09.354938  Hyderabad House Biryani Place (Morrisville)   \n",
       "383 2023-06-28 19:27:31.159482       The Cheesecake Factory (Durham - 0102)   \n",
       "329 2023-01-28 02:02:23.179785             Sushi Iwa (Creekside Landing Dr)   \n",
       "\n",
       "     total_item_count  subtotal_in_cents     order_status  order_price  \n",
       "148                 5             8803.0  Order Delivered        88.03  \n",
       "196                 6             8625.0  Order Delivered        86.25  \n",
       "346                 4             7935.0  Order Delivered        79.35  \n",
       "361                 7             7080.0  Order Delivered        70.80  \n",
       "233                 4             6896.0  Order Delivered        68.96  \n",
       "383                 7             6885.0  Order Delivered        68.85  \n",
       "329                 6             6535.0  Order Delivered        65.35  "
      ]
     },
     "execution_count": 30,
     "metadata": {},
     "output_type": "execute_result"
    }
   ],
   "source": [
    "dash['order_price'] = (dash['subtotal_in_cents']/100).round(2)\n",
    "dash.sort_values( by = 'order_price', ascending = False).head(7)\n"
   ]
  },
  {
   "cell_type": "markdown",
   "id": "8abdb96c",
   "metadata": {},
   "source": [
    "Calculating times: \n",
    "1. time_to_get\n",
    "2. time_to_deliver"
   ]
  },
  {
   "cell_type": "code",
   "execution_count": null,
   "id": "2d1a8fe3",
   "metadata": {},
   "outputs": [],
   "source": [
    "dash['time_to_get'] = (dash['actual_pickup_time'] - dash['order_created_time']).dt.total_minutes\n",
    "dash_head()"
   ]
  },
  {
   "cell_type": "code",
   "execution_count": null,
   "id": "7590e49c",
   "metadata": {},
   "outputs": [],
   "source": []
  }
 ],
 "metadata": {
  "kernelspec": {
   "display_name": "Python 3",
   "language": "python",
   "name": "python3"
  },
  "language_info": {
   "codemirror_mode": {
    "name": "ipython",
    "version": 3
   },
   "file_extension": ".py",
   "mimetype": "text/x-python",
   "name": "python",
   "nbconvert_exporter": "python",
   "pygments_lexer": "ipython3",
   "version": "3.8.8"
  }
 },
 "nbformat": 4,
 "nbformat_minor": 5
}
