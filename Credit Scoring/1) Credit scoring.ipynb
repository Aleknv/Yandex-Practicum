{
 "cells": [
  {
   "cell_type": "markdown",
   "id": "4e080321",
   "metadata": {},
   "source": [
    " <strong><em><h2>  Шаг 1. Откроем файл с данными и изучим общую информацию  </em></strong></h2>"
   ]
  },
  {
   "cell_type": "code",
   "execution_count": 1,
   "id": "56dc6a00",
   "metadata": {
    "scrolled": false
   },
   "outputs": [
    {
     "name": "stdout",
     "output_type": "stream",
     "text": [
      "<class 'pandas.core.frame.DataFrame'>\n",
      "RangeIndex: 21525 entries, 0 to 21524\n",
      "Data columns (total 12 columns):\n",
      " #   Column            Non-Null Count  Dtype  \n",
      "---  ------            --------------  -----  \n",
      " 0   children          21525 non-null  int64  \n",
      " 1   days_employed     19351 non-null  float64\n",
      " 2   dob_years         21525 non-null  int64  \n",
      " 3   education         21525 non-null  object \n",
      " 4   education_id      21525 non-null  int64  \n",
      " 5   family_status     21525 non-null  object \n",
      " 6   family_status_id  21525 non-null  int64  \n",
      " 7   gender            21525 non-null  object \n",
      " 8   income_type       21525 non-null  object \n",
      " 9   debt              21525 non-null  int64  \n",
      " 10  total_income      19351 non-null  float64\n",
      " 11  purpose           21525 non-null  object \n",
      "dtypes: float64(2), int64(5), object(5)\n",
      "memory usage: 2.0+ MB\n"
     ]
    }
   ],
   "source": [
    "import pandas as pd\n",
    "data = pd.read_csv('https://code.s3.yandex.net/datasets/data.csv')\n",
    "data.info()\n",
    "\n"
   ]
  },
  {
   "cell_type": "markdown",
   "id": "3d39171d",
   "metadata": {},
   "source": [
    "**Описание данных**\n",
    "\n",
    " - children — количество детей в семье\n",
    " - days_employed — общий трудовой стаж в днях\n",
    " - dob_years — возраст клиента в годах\n",
    " - education — уровень образования клиента\n",
    " - education_id — идентификатор уровня образования\n",
    " - family_status — семейное положение\n",
    " - family_status_id — идентификатор семейного положения\n",
    " - gender — пол клиента\n",
    " - income_type — тип занятости\n",
    " - debt — имел ли задолженность по возврату кредитов\n",
    " - total_income — ежемесячный доход\n",
    " - purpose — цель получения кредита"
   ]
  },
  {
   "cell_type": "markdown",
   "id": "db39fe52",
   "metadata": {},
   "source": [
    "Просмотрел общие данные по таблице: обнаружил расхождения в столбцах 'days_unemployed' и 'total_income' - там указано меньше значений, чем в остальных столбцах - значит там есть пропуски. "
   ]
  },
  {
   "cell_type": "markdown",
   "id": "f49882ee",
   "metadata": {},
   "source": [
    " <strong><em><h2>  Шаг 2. Предобработка данных </em></strong></h2>\n"
   ]
  },
  {
   "cell_type": "markdown",
   "id": "cef40505",
   "metadata": {},
   "source": [
    "Проблемы:\n",
    "    \n",
    "* *children*:\n",
    "    \n",
    " 1) изменить значение 20 (изменить на 2)\n",
    "    \n",
    " 2) изменить значение -1 на 1\n",
    "    \n",
    "* *days_employed*:\n",
    "    \n",
    " 1) пропуски дополнить по медианной\n",
    "    \n",
    " 2) есть большое расхождение в цифрах - у людей с income_type == пенсионер цифры значительно превосходят остальные ( минимальное значение 300000+ в то время как у других от -24 до -18000) .  Поменять время пенсионеров на часы \n",
    "    \n",
    " 3) поменять правила написания значений с минусом - убрать минус\n",
    "    \n",
    "* *dob_years*:\n",
    "    \n",
    " 1) аномальное значение dob_years = 0. Изменить на среднее относительно дней отработанных\n",
    "    \n",
    "* *education*:\n",
    "    \n",
    " 1) привести всё к нижним литерам\n",
    "    \n",
    "* *gender*:\n",
    "    \n",
    " 1) поменять артефакт XNA на M - всего один случай не повлияет на выборку\n",
    "    \n",
    "* *total_income*: \n",
    "    \n",
    " есть пропущенные значения, заполнить возрасту и высшему образованию \n",
    "\n",
    "\n",
    "\n",
    "\n",
    "\n"
   ]
  },
  {
   "cell_type": "markdown",
   "id": "44a3f21a",
   "metadata": {},
   "source": [
    "Children: 1) Замена неадекватных значений -1 на 1 и 20 на 2 <div/>"
   ]
  },
  {
   "cell_type": "code",
   "execution_count": 2,
   "id": "0cddc2da",
   "metadata": {
    "scrolled": true
   },
   "outputs": [
    {
     "data": {
      "text/plain": [
       " 0     14149\n",
       " 1      4818\n",
       " 2      2055\n",
       " 3       330\n",
       " 20       76\n",
       "-1        47\n",
       " 4        41\n",
       " 5         9\n",
       "Name: children, dtype: int64"
      ]
     },
     "execution_count": 2,
     "metadata": {},
     "output_type": "execute_result"
    }
   ],
   "source": [
    "data['children'].value_counts()"
   ]
  },
  {
   "cell_type": "code",
   "execution_count": 3,
   "id": "3afd06a5",
   "metadata": {
    "scrolled": true
   },
   "outputs": [
    {
     "data": {
      "text/plain": [
       "0    14149\n",
       "1     4865\n",
       "2     2131\n",
       "3      330\n",
       "4       41\n",
       "5        9\n",
       "Name: children, dtype: int64"
      ]
     },
     "execution_count": 3,
     "metadata": {},
     "output_type": "execute_result"
    }
   ],
   "source": [
    "data.loc[data['children']== -1, 'children'] = 1\n",
    "data.loc[data['children']== 20, 'children'] = 2\n",
    "\n",
    "\n",
    "data['children'].value_counts()\n"
   ]
  },
  {
   "cell_type": "code",
   "execution_count": 4,
   "id": "591372ac",
   "metadata": {
    "scrolled": true
   },
   "outputs": [
    {
     "name": "stdout",
     "output_type": "stream",
     "text": [
      "<class 'pandas.core.frame.DataFrame'>\n",
      "RangeIndex: 21525 entries, 0 to 21524\n",
      "Data columns (total 12 columns):\n",
      " #   Column            Non-Null Count  Dtype  \n",
      "---  ------            --------------  -----  \n",
      " 0   children          21525 non-null  int64  \n",
      " 1   days_employed     19351 non-null  float64\n",
      " 2   dob_years         21525 non-null  int64  \n",
      " 3   education         21525 non-null  object \n",
      " 4   education_id      21525 non-null  int64  \n",
      " 5   family_status     21525 non-null  object \n",
      " 6   family_status_id  21525 non-null  int64  \n",
      " 7   gender            21525 non-null  object \n",
      " 8   income_type       21525 non-null  object \n",
      " 9   debt              21525 non-null  int64  \n",
      " 10  total_income      19351 non-null  float64\n",
      " 11  purpose           21525 non-null  object \n",
      "dtypes: float64(2), int64(5), object(5)\n",
      "memory usage: 2.0+ MB\n"
     ]
    }
   ],
   "source": [
    "data.info()"
   ]
  },
  {
   "cell_type": "markdown",
   "id": "3b069e9f",
   "metadata": {},
   "source": [
    "В части строк в столбце days_employed значения отличаются - подозреваю,\n",
    "что они отражены в часах, а не в днях, как требует столбец - приводим их в соответствие:  <div/>"
   ]
  },
  {
   "cell_type": "code",
   "execution_count": 5,
   "id": "e09adde6",
   "metadata": {
    "scrolled": false
   },
   "outputs": [
    {
     "data": {
      "text/html": [
       "<div>\n",
       "<style scoped>\n",
       "    .dataframe tbody tr th:only-of-type {\n",
       "        vertical-align: middle;\n",
       "    }\n",
       "\n",
       "    .dataframe tbody tr th {\n",
       "        vertical-align: top;\n",
       "    }\n",
       "\n",
       "    .dataframe thead th {\n",
       "        text-align: right;\n",
       "    }\n",
       "</style>\n",
       "<table border=\"1\" class=\"dataframe\">\n",
       "  <thead>\n",
       "    <tr style=\"text-align: right;\">\n",
       "      <th></th>\n",
       "      <th>children</th>\n",
       "      <th>days_employed</th>\n",
       "      <th>dob_years</th>\n",
       "      <th>education</th>\n",
       "      <th>education_id</th>\n",
       "      <th>family_status</th>\n",
       "      <th>family_status_id</th>\n",
       "      <th>gender</th>\n",
       "      <th>income_type</th>\n",
       "      <th>debt</th>\n",
       "      <th>total_income</th>\n",
       "      <th>purpose</th>\n",
       "    </tr>\n",
       "  </thead>\n",
       "  <tbody>\n",
       "    <tr>\n",
       "      <th>0</th>\n",
       "      <td>1</td>\n",
       "      <td>-8437.673028</td>\n",
       "      <td>42</td>\n",
       "      <td>высшее</td>\n",
       "      <td>0</td>\n",
       "      <td>женат / замужем</td>\n",
       "      <td>0</td>\n",
       "      <td>F</td>\n",
       "      <td>сотрудник</td>\n",
       "      <td>0</td>\n",
       "      <td>253875.639453</td>\n",
       "      <td>покупка жилья</td>\n",
       "    </tr>\n",
       "    <tr>\n",
       "      <th>1</th>\n",
       "      <td>1</td>\n",
       "      <td>-4024.803754</td>\n",
       "      <td>36</td>\n",
       "      <td>среднее</td>\n",
       "      <td>1</td>\n",
       "      <td>женат / замужем</td>\n",
       "      <td>0</td>\n",
       "      <td>F</td>\n",
       "      <td>сотрудник</td>\n",
       "      <td>0</td>\n",
       "      <td>112080.014102</td>\n",
       "      <td>приобретение автомобиля</td>\n",
       "    </tr>\n",
       "    <tr>\n",
       "      <th>2</th>\n",
       "      <td>0</td>\n",
       "      <td>-5623.422610</td>\n",
       "      <td>33</td>\n",
       "      <td>Среднее</td>\n",
       "      <td>1</td>\n",
       "      <td>женат / замужем</td>\n",
       "      <td>0</td>\n",
       "      <td>M</td>\n",
       "      <td>сотрудник</td>\n",
       "      <td>0</td>\n",
       "      <td>145885.952297</td>\n",
       "      <td>покупка жилья</td>\n",
       "    </tr>\n",
       "    <tr>\n",
       "      <th>3</th>\n",
       "      <td>3</td>\n",
       "      <td>-4124.747207</td>\n",
       "      <td>32</td>\n",
       "      <td>среднее</td>\n",
       "      <td>1</td>\n",
       "      <td>женат / замужем</td>\n",
       "      <td>0</td>\n",
       "      <td>M</td>\n",
       "      <td>сотрудник</td>\n",
       "      <td>0</td>\n",
       "      <td>267628.550329</td>\n",
       "      <td>дополнительное образование</td>\n",
       "    </tr>\n",
       "    <tr>\n",
       "      <th>4</th>\n",
       "      <td>0</td>\n",
       "      <td>14177.753002</td>\n",
       "      <td>53</td>\n",
       "      <td>среднее</td>\n",
       "      <td>1</td>\n",
       "      <td>гражданский брак</td>\n",
       "      <td>1</td>\n",
       "      <td>F</td>\n",
       "      <td>пенсионер</td>\n",
       "      <td>0</td>\n",
       "      <td>158616.077870</td>\n",
       "      <td>сыграть свадьбу</td>\n",
       "    </tr>\n",
       "    <tr>\n",
       "      <th>5</th>\n",
       "      <td>0</td>\n",
       "      <td>-926.185831</td>\n",
       "      <td>27</td>\n",
       "      <td>высшее</td>\n",
       "      <td>0</td>\n",
       "      <td>гражданский брак</td>\n",
       "      <td>1</td>\n",
       "      <td>M</td>\n",
       "      <td>компаньон</td>\n",
       "      <td>0</td>\n",
       "      <td>255763.565419</td>\n",
       "      <td>покупка жилья</td>\n",
       "    </tr>\n",
       "    <tr>\n",
       "      <th>6</th>\n",
       "      <td>0</td>\n",
       "      <td>-2879.202052</td>\n",
       "      <td>43</td>\n",
       "      <td>высшее</td>\n",
       "      <td>0</td>\n",
       "      <td>женат / замужем</td>\n",
       "      <td>0</td>\n",
       "      <td>F</td>\n",
       "      <td>компаньон</td>\n",
       "      <td>0</td>\n",
       "      <td>240525.971920</td>\n",
       "      <td>операции с жильем</td>\n",
       "    </tr>\n",
       "    <tr>\n",
       "      <th>7</th>\n",
       "      <td>0</td>\n",
       "      <td>-152.779569</td>\n",
       "      <td>50</td>\n",
       "      <td>СРЕДНЕЕ</td>\n",
       "      <td>1</td>\n",
       "      <td>женат / замужем</td>\n",
       "      <td>0</td>\n",
       "      <td>M</td>\n",
       "      <td>сотрудник</td>\n",
       "      <td>0</td>\n",
       "      <td>135823.934197</td>\n",
       "      <td>образование</td>\n",
       "    </tr>\n",
       "    <tr>\n",
       "      <th>8</th>\n",
       "      <td>2</td>\n",
       "      <td>-6929.865299</td>\n",
       "      <td>35</td>\n",
       "      <td>ВЫСШЕЕ</td>\n",
       "      <td>0</td>\n",
       "      <td>гражданский брак</td>\n",
       "      <td>1</td>\n",
       "      <td>F</td>\n",
       "      <td>сотрудник</td>\n",
       "      <td>0</td>\n",
       "      <td>95856.832424</td>\n",
       "      <td>на проведение свадьбы</td>\n",
       "    </tr>\n",
       "    <tr>\n",
       "      <th>9</th>\n",
       "      <td>0</td>\n",
       "      <td>-2188.756445</td>\n",
       "      <td>41</td>\n",
       "      <td>среднее</td>\n",
       "      <td>1</td>\n",
       "      <td>женат / замужем</td>\n",
       "      <td>0</td>\n",
       "      <td>M</td>\n",
       "      <td>сотрудник</td>\n",
       "      <td>0</td>\n",
       "      <td>144425.938277</td>\n",
       "      <td>покупка жилья для семьи</td>\n",
       "    </tr>\n",
       "  </tbody>\n",
       "</table>\n",
       "</div>"
      ],
      "text/plain": [
       "   children  days_employed  dob_years education  education_id  \\\n",
       "0         1   -8437.673028         42    высшее             0   \n",
       "1         1   -4024.803754         36   среднее             1   \n",
       "2         0   -5623.422610         33   Среднее             1   \n",
       "3         3   -4124.747207         32   среднее             1   \n",
       "4         0   14177.753002         53   среднее             1   \n",
       "5         0    -926.185831         27    высшее             0   \n",
       "6         0   -2879.202052         43    высшее             0   \n",
       "7         0    -152.779569         50   СРЕДНЕЕ             1   \n",
       "8         2   -6929.865299         35    ВЫСШЕЕ             0   \n",
       "9         0   -2188.756445         41   среднее             1   \n",
       "\n",
       "      family_status  family_status_id gender income_type  debt   total_income  \\\n",
       "0   женат / замужем                 0      F   сотрудник     0  253875.639453   \n",
       "1   женат / замужем                 0      F   сотрудник     0  112080.014102   \n",
       "2   женат / замужем                 0      M   сотрудник     0  145885.952297   \n",
       "3   женат / замужем                 0      M   сотрудник     0  267628.550329   \n",
       "4  гражданский брак                 1      F   пенсионер     0  158616.077870   \n",
       "5  гражданский брак                 1      M   компаньон     0  255763.565419   \n",
       "6   женат / замужем                 0      F   компаньон     0  240525.971920   \n",
       "7   женат / замужем                 0      M   сотрудник     0  135823.934197   \n",
       "8  гражданский брак                 1      F   сотрудник     0   95856.832424   \n",
       "9   женат / замужем                 0      M   сотрудник     0  144425.938277   \n",
       "\n",
       "                      purpose  \n",
       "0               покупка жилья  \n",
       "1     приобретение автомобиля  \n",
       "2               покупка жилья  \n",
       "3  дополнительное образование  \n",
       "4             сыграть свадьбу  \n",
       "5               покупка жилья  \n",
       "6           операции с жильем  \n",
       "7                 образование  \n",
       "8       на проведение свадьбы  \n",
       "9     покупка жилья для семьи  "
      ]
     },
     "execution_count": 5,
     "metadata": {},
     "output_type": "execute_result"
    }
   ],
   "source": [
    "data.loc[data['days_employed'] > 300000, 'days_employed'] /= 24\n",
    "data.head(10)\n"
   ]
  },
  {
   "cell_type": "markdown",
   "id": "a015fefa",
   "metadata": {},
   "source": [
    "Далее поменяем значения со знаком минус на положительные - очевидно что это результат неверного ввода параметра. <div/>"
   ]
  },
  {
   "cell_type": "code",
   "execution_count": 6,
   "id": "048b440e",
   "metadata": {},
   "outputs": [
    {
     "data": {
      "text/html": [
       "<div>\n",
       "<style scoped>\n",
       "    .dataframe tbody tr th:only-of-type {\n",
       "        vertical-align: middle;\n",
       "    }\n",
       "\n",
       "    .dataframe tbody tr th {\n",
       "        vertical-align: top;\n",
       "    }\n",
       "\n",
       "    .dataframe thead th {\n",
       "        text-align: right;\n",
       "    }\n",
       "</style>\n",
       "<table border=\"1\" class=\"dataframe\">\n",
       "  <thead>\n",
       "    <tr style=\"text-align: right;\">\n",
       "      <th></th>\n",
       "      <th>children</th>\n",
       "      <th>days_employed</th>\n",
       "      <th>dob_years</th>\n",
       "      <th>education</th>\n",
       "      <th>education_id</th>\n",
       "      <th>family_status</th>\n",
       "      <th>family_status_id</th>\n",
       "      <th>gender</th>\n",
       "      <th>income_type</th>\n",
       "      <th>debt</th>\n",
       "      <th>total_income</th>\n",
       "      <th>purpose</th>\n",
       "    </tr>\n",
       "  </thead>\n",
       "  <tbody>\n",
       "    <tr>\n",
       "      <th>0</th>\n",
       "      <td>1</td>\n",
       "      <td>8437.673028</td>\n",
       "      <td>42</td>\n",
       "      <td>высшее</td>\n",
       "      <td>0</td>\n",
       "      <td>женат / замужем</td>\n",
       "      <td>0</td>\n",
       "      <td>F</td>\n",
       "      <td>сотрудник</td>\n",
       "      <td>0</td>\n",
       "      <td>253875.639453</td>\n",
       "      <td>покупка жилья</td>\n",
       "    </tr>\n",
       "    <tr>\n",
       "      <th>1</th>\n",
       "      <td>1</td>\n",
       "      <td>4024.803754</td>\n",
       "      <td>36</td>\n",
       "      <td>среднее</td>\n",
       "      <td>1</td>\n",
       "      <td>женат / замужем</td>\n",
       "      <td>0</td>\n",
       "      <td>F</td>\n",
       "      <td>сотрудник</td>\n",
       "      <td>0</td>\n",
       "      <td>112080.014102</td>\n",
       "      <td>приобретение автомобиля</td>\n",
       "    </tr>\n",
       "    <tr>\n",
       "      <th>2</th>\n",
       "      <td>0</td>\n",
       "      <td>5623.422610</td>\n",
       "      <td>33</td>\n",
       "      <td>Среднее</td>\n",
       "      <td>1</td>\n",
       "      <td>женат / замужем</td>\n",
       "      <td>0</td>\n",
       "      <td>M</td>\n",
       "      <td>сотрудник</td>\n",
       "      <td>0</td>\n",
       "      <td>145885.952297</td>\n",
       "      <td>покупка жилья</td>\n",
       "    </tr>\n",
       "    <tr>\n",
       "      <th>3</th>\n",
       "      <td>3</td>\n",
       "      <td>4124.747207</td>\n",
       "      <td>32</td>\n",
       "      <td>среднее</td>\n",
       "      <td>1</td>\n",
       "      <td>женат / замужем</td>\n",
       "      <td>0</td>\n",
       "      <td>M</td>\n",
       "      <td>сотрудник</td>\n",
       "      <td>0</td>\n",
       "      <td>267628.550329</td>\n",
       "      <td>дополнительное образование</td>\n",
       "    </tr>\n",
       "    <tr>\n",
       "      <th>4</th>\n",
       "      <td>0</td>\n",
       "      <td>14177.753002</td>\n",
       "      <td>53</td>\n",
       "      <td>среднее</td>\n",
       "      <td>1</td>\n",
       "      <td>гражданский брак</td>\n",
       "      <td>1</td>\n",
       "      <td>F</td>\n",
       "      <td>пенсионер</td>\n",
       "      <td>0</td>\n",
       "      <td>158616.077870</td>\n",
       "      <td>сыграть свадьбу</td>\n",
       "    </tr>\n",
       "    <tr>\n",
       "      <th>5</th>\n",
       "      <td>0</td>\n",
       "      <td>926.185831</td>\n",
       "      <td>27</td>\n",
       "      <td>высшее</td>\n",
       "      <td>0</td>\n",
       "      <td>гражданский брак</td>\n",
       "      <td>1</td>\n",
       "      <td>M</td>\n",
       "      <td>компаньон</td>\n",
       "      <td>0</td>\n",
       "      <td>255763.565419</td>\n",
       "      <td>покупка жилья</td>\n",
       "    </tr>\n",
       "    <tr>\n",
       "      <th>6</th>\n",
       "      <td>0</td>\n",
       "      <td>2879.202052</td>\n",
       "      <td>43</td>\n",
       "      <td>высшее</td>\n",
       "      <td>0</td>\n",
       "      <td>женат / замужем</td>\n",
       "      <td>0</td>\n",
       "      <td>F</td>\n",
       "      <td>компаньон</td>\n",
       "      <td>0</td>\n",
       "      <td>240525.971920</td>\n",
       "      <td>операции с жильем</td>\n",
       "    </tr>\n",
       "    <tr>\n",
       "      <th>7</th>\n",
       "      <td>0</td>\n",
       "      <td>152.779569</td>\n",
       "      <td>50</td>\n",
       "      <td>СРЕДНЕЕ</td>\n",
       "      <td>1</td>\n",
       "      <td>женат / замужем</td>\n",
       "      <td>0</td>\n",
       "      <td>M</td>\n",
       "      <td>сотрудник</td>\n",
       "      <td>0</td>\n",
       "      <td>135823.934197</td>\n",
       "      <td>образование</td>\n",
       "    </tr>\n",
       "    <tr>\n",
       "      <th>8</th>\n",
       "      <td>2</td>\n",
       "      <td>6929.865299</td>\n",
       "      <td>35</td>\n",
       "      <td>ВЫСШЕЕ</td>\n",
       "      <td>0</td>\n",
       "      <td>гражданский брак</td>\n",
       "      <td>1</td>\n",
       "      <td>F</td>\n",
       "      <td>сотрудник</td>\n",
       "      <td>0</td>\n",
       "      <td>95856.832424</td>\n",
       "      <td>на проведение свадьбы</td>\n",
       "    </tr>\n",
       "    <tr>\n",
       "      <th>9</th>\n",
       "      <td>0</td>\n",
       "      <td>2188.756445</td>\n",
       "      <td>41</td>\n",
       "      <td>среднее</td>\n",
       "      <td>1</td>\n",
       "      <td>женат / замужем</td>\n",
       "      <td>0</td>\n",
       "      <td>M</td>\n",
       "      <td>сотрудник</td>\n",
       "      <td>0</td>\n",
       "      <td>144425.938277</td>\n",
       "      <td>покупка жилья для семьи</td>\n",
       "    </tr>\n",
       "  </tbody>\n",
       "</table>\n",
       "</div>"
      ],
      "text/plain": [
       "   children  days_employed  dob_years education  education_id  \\\n",
       "0         1    8437.673028         42    высшее             0   \n",
       "1         1    4024.803754         36   среднее             1   \n",
       "2         0    5623.422610         33   Среднее             1   \n",
       "3         3    4124.747207         32   среднее             1   \n",
       "4         0   14177.753002         53   среднее             1   \n",
       "5         0     926.185831         27    высшее             0   \n",
       "6         0    2879.202052         43    высшее             0   \n",
       "7         0     152.779569         50   СРЕДНЕЕ             1   \n",
       "8         2    6929.865299         35    ВЫСШЕЕ             0   \n",
       "9         0    2188.756445         41   среднее             1   \n",
       "\n",
       "      family_status  family_status_id gender income_type  debt   total_income  \\\n",
       "0   женат / замужем                 0      F   сотрудник     0  253875.639453   \n",
       "1   женат / замужем                 0      F   сотрудник     0  112080.014102   \n",
       "2   женат / замужем                 0      M   сотрудник     0  145885.952297   \n",
       "3   женат / замужем                 0      M   сотрудник     0  267628.550329   \n",
       "4  гражданский брак                 1      F   пенсионер     0  158616.077870   \n",
       "5  гражданский брак                 1      M   компаньон     0  255763.565419   \n",
       "6   женат / замужем                 0      F   компаньон     0  240525.971920   \n",
       "7   женат / замужем                 0      M   сотрудник     0  135823.934197   \n",
       "8  гражданский брак                 1      F   сотрудник     0   95856.832424   \n",
       "9   женат / замужем                 0      M   сотрудник     0  144425.938277   \n",
       "\n",
       "                      purpose  \n",
       "0               покупка жилья  \n",
       "1     приобретение автомобиля  \n",
       "2               покупка жилья  \n",
       "3  дополнительное образование  \n",
       "4             сыграть свадьбу  \n",
       "5               покупка жилья  \n",
       "6           операции с жильем  \n",
       "7                 образование  \n",
       "8       на проведение свадьбы  \n",
       "9     покупка жилья для семьи  "
      ]
     },
     "execution_count": 6,
     "metadata": {},
     "output_type": "execute_result"
    }
   ],
   "source": [
    "data.loc[data['days_employed'] < 0, 'days_employed'] = -data['days_employed']\n",
    "data.head(10)"
   ]
  },
  {
   "cell_type": "markdown",
   "id": "b2f6091a",
   "metadata": {},
   "source": [
    "\n",
    "Далее заполняем пропущенные значения медианной переменной  <div/>"
   ]
  },
  {
   "cell_type": "code",
   "execution_count": 7,
   "id": "20832e23",
   "metadata": {},
   "outputs": [
    {
     "data": {
      "text/html": [
       "<div>\n",
       "<style scoped>\n",
       "    .dataframe tbody tr th:only-of-type {\n",
       "        vertical-align: middle;\n",
       "    }\n",
       "\n",
       "    .dataframe tbody tr th {\n",
       "        vertical-align: top;\n",
       "    }\n",
       "\n",
       "    .dataframe thead th {\n",
       "        text-align: right;\n",
       "    }\n",
       "</style>\n",
       "<table border=\"1\" class=\"dataframe\">\n",
       "  <thead>\n",
       "    <tr style=\"text-align: right;\">\n",
       "      <th></th>\n",
       "      <th>children</th>\n",
       "      <th>days_employed</th>\n",
       "      <th>dob_years</th>\n",
       "      <th>education_id</th>\n",
       "      <th>family_status_id</th>\n",
       "      <th>debt</th>\n",
       "      <th>total_income</th>\n",
       "    </tr>\n",
       "  </thead>\n",
       "  <tbody>\n",
       "    <tr>\n",
       "      <th>count</th>\n",
       "      <td>21525.000000</td>\n",
       "      <td>21525.000000</td>\n",
       "      <td>21525.000000</td>\n",
       "      <td>21525.000000</td>\n",
       "      <td>21525.000000</td>\n",
       "      <td>21525.000000</td>\n",
       "      <td>1.935100e+04</td>\n",
       "    </tr>\n",
       "    <tr>\n",
       "      <th>mean</th>\n",
       "      <td>0.479721</td>\n",
       "      <td>4393.983415</td>\n",
       "      <td>43.293380</td>\n",
       "      <td>0.817236</td>\n",
       "      <td>0.972544</td>\n",
       "      <td>0.080883</td>\n",
       "      <td>1.674223e+05</td>\n",
       "    </tr>\n",
       "    <tr>\n",
       "      <th>std</th>\n",
       "      <td>0.755528</td>\n",
       "      <td>5131.540470</td>\n",
       "      <td>12.574584</td>\n",
       "      <td>0.548138</td>\n",
       "      <td>1.420324</td>\n",
       "      <td>0.272661</td>\n",
       "      <td>1.029716e+05</td>\n",
       "    </tr>\n",
       "    <tr>\n",
       "      <th>min</th>\n",
       "      <td>0.000000</td>\n",
       "      <td>24.000000</td>\n",
       "      <td>0.000000</td>\n",
       "      <td>0.000000</td>\n",
       "      <td>0.000000</td>\n",
       "      <td>0.000000</td>\n",
       "      <td>2.066726e+04</td>\n",
       "    </tr>\n",
       "    <tr>\n",
       "      <th>25%</th>\n",
       "      <td>0.000000</td>\n",
       "      <td>1025.000000</td>\n",
       "      <td>33.000000</td>\n",
       "      <td>1.000000</td>\n",
       "      <td>0.000000</td>\n",
       "      <td>0.000000</td>\n",
       "      <td>1.030532e+05</td>\n",
       "    </tr>\n",
       "    <tr>\n",
       "      <th>50%</th>\n",
       "      <td>0.000000</td>\n",
       "      <td>2194.000000</td>\n",
       "      <td>42.000000</td>\n",
       "      <td>1.000000</td>\n",
       "      <td>0.000000</td>\n",
       "      <td>0.000000</td>\n",
       "      <td>1.450179e+05</td>\n",
       "    </tr>\n",
       "    <tr>\n",
       "      <th>75%</th>\n",
       "      <td>1.000000</td>\n",
       "      <td>4779.000000</td>\n",
       "      <td>53.000000</td>\n",
       "      <td>1.000000</td>\n",
       "      <td>1.000000</td>\n",
       "      <td>0.000000</td>\n",
       "      <td>2.034351e+05</td>\n",
       "    </tr>\n",
       "    <tr>\n",
       "      <th>max</th>\n",
       "      <td>5.000000</td>\n",
       "      <td>18388.000000</td>\n",
       "      <td>75.000000</td>\n",
       "      <td>4.000000</td>\n",
       "      <td>4.000000</td>\n",
       "      <td>1.000000</td>\n",
       "      <td>2.265604e+06</td>\n",
       "    </tr>\n",
       "  </tbody>\n",
       "</table>\n",
       "</div>"
      ],
      "text/plain": [
       "           children  days_employed     dob_years  education_id  \\\n",
       "count  21525.000000   21525.000000  21525.000000  21525.000000   \n",
       "mean       0.479721    4393.983415     43.293380      0.817236   \n",
       "std        0.755528    5131.540470     12.574584      0.548138   \n",
       "min        0.000000      24.000000      0.000000      0.000000   \n",
       "25%        0.000000    1025.000000     33.000000      1.000000   \n",
       "50%        0.000000    2194.000000     42.000000      1.000000   \n",
       "75%        1.000000    4779.000000     53.000000      1.000000   \n",
       "max        5.000000   18388.000000     75.000000      4.000000   \n",
       "\n",
       "       family_status_id          debt  total_income  \n",
       "count      21525.000000  21525.000000  1.935100e+04  \n",
       "mean           0.972544      0.080883  1.674223e+05  \n",
       "std            1.420324      0.272661  1.029716e+05  \n",
       "min            0.000000      0.000000  2.066726e+04  \n",
       "25%            0.000000      0.000000  1.030532e+05  \n",
       "50%            0.000000      0.000000  1.450179e+05  \n",
       "75%            1.000000      0.000000  2.034351e+05  \n",
       "max            4.000000      1.000000  2.265604e+06  "
      ]
     },
     "execution_count": 7,
     "metadata": {},
     "output_type": "execute_result"
    }
   ],
   "source": [
    "days_avg = data['days_employed'].median()\n",
    "days_avg\n",
    "data['days_employed'] = data['days_employed'].fillna(value = days_avg).astype('int')\n",
    "data.describe()"
   ]
  },
  {
   "cell_type": "code",
   "execution_count": 8,
   "id": "4ebbc1d1",
   "metadata": {},
   "outputs": [
    {
     "name": "stdout",
     "output_type": "stream",
     "text": [
      "<class 'pandas.core.frame.DataFrame'>\n",
      "RangeIndex: 21525 entries, 0 to 21524\n",
      "Data columns (total 12 columns):\n",
      " #   Column            Non-Null Count  Dtype  \n",
      "---  ------            --------------  -----  \n",
      " 0   children          21525 non-null  int64  \n",
      " 1   days_employed     21525 non-null  int64  \n",
      " 2   dob_years         21525 non-null  int64  \n",
      " 3   education         21525 non-null  object \n",
      " 4   education_id      21525 non-null  int64  \n",
      " 5   family_status     21525 non-null  object \n",
      " 6   family_status_id  21525 non-null  int64  \n",
      " 7   gender            21525 non-null  object \n",
      " 8   income_type       21525 non-null  object \n",
      " 9   debt              21525 non-null  int64  \n",
      " 10  total_income      19351 non-null  float64\n",
      " 11  purpose           21525 non-null  object \n",
      "dtypes: float64(1), int64(6), object(5)\n",
      "memory usage: 2.0+ MB\n"
     ]
    }
   ],
   "source": [
    "data.info()"
   ]
  },
  {
   "cell_type": "markdown",
   "id": "f056a6be",
   "metadata": {},
   "source": [
    "Изучим какого возраста соискатели кредита   <div/>"
   ]
  },
  {
   "cell_type": "code",
   "execution_count": 9,
   "id": "70f2ea71",
   "metadata": {},
   "outputs": [
    {
     "data": {
      "text/plain": [
       "array([42, 36, 33, 32, 53, 27, 43, 50, 35, 41, 40, 65, 54, 56, 26, 48, 24,\n",
       "       21, 57, 67, 28, 63, 62, 47, 34, 68, 25, 31, 30, 20, 49, 37, 45, 61,\n",
       "       64, 44, 52, 46, 23, 38, 39, 51,  0, 59, 29, 60, 55, 58, 71, 22, 73,\n",
       "       66, 69, 19, 72, 70, 74, 75])"
      ]
     },
     "execution_count": 9,
     "metadata": {},
     "output_type": "execute_result"
    }
   ],
   "source": [
    "data['dob_years'].unique() "
   ]
  },
  {
   "cell_type": "markdown",
   "id": "00ab6c0b",
   "metadata": {},
   "source": [
    "Удаляем обнаруженное аномальное значение 0     <div/>"
   ]
  },
  {
   "cell_type": "code",
   "execution_count": 10,
   "id": "1c6e42d3",
   "metadata": {},
   "outputs": [],
   "source": [
    "median_years = data['dob_years'].dropna().median()\n",
    "data=data.replace({'dob_years': {0: median_years}})"
   ]
  },
  {
   "cell_type": "code",
   "execution_count": 11,
   "id": "6f2ac96f",
   "metadata": {},
   "outputs": [
    {
     "data": {
      "text/plain": [
       "array([42., 36., 33., 32., 53., 27., 43., 50., 35., 41., 40., 65., 54.,\n",
       "       56., 26., 48., 24., 21., 57., 67., 28., 63., 62., 47., 34., 68.,\n",
       "       25., 31., 30., 20., 49., 37., 45., 61., 64., 44., 52., 46., 23.,\n",
       "       38., 39., 51., 59., 29., 60., 55., 58., 71., 22., 73., 66., 69.,\n",
       "       19., 72., 70., 74., 75.])"
      ]
     },
     "execution_count": 11,
     "metadata": {},
     "output_type": "execute_result"
    }
   ],
   "source": [
    "data['dob_years'].unique() "
   ]
  },
  {
   "cell_type": "markdown",
   "id": "ce3c9e5b",
   "metadata": {},
   "source": [
    "Приводим все значения в столбце education к нижним литерам:     <div/>"
   ]
  },
  {
   "cell_type": "code",
   "execution_count": 12,
   "id": "afd07fce",
   "metadata": {},
   "outputs": [
    {
     "data": {
      "text/plain": [
       "среднее                15233\n",
       "высшее                  5260\n",
       "неоконченное высшее      744\n",
       "начальное                282\n",
       "ученая степень             6\n",
       "Name: education, dtype: int64"
      ]
     },
     "execution_count": 12,
     "metadata": {},
     "output_type": "execute_result"
    }
   ],
   "source": [
    "data['education'] = data['education'].str.lower()\n",
    "data['education'].value_counts()"
   ]
  },
  {
   "cell_type": "markdown",
   "id": "51fbf066",
   "metadata": {},
   "source": [
    "Далее в столбце gender поменяем одно ошибочное значение XNA   <div/>"
   ]
  },
  {
   "cell_type": "code",
   "execution_count": 13,
   "id": "e1d08476",
   "metadata": {},
   "outputs": [
    {
     "data": {
      "text/plain": [
       "F    14236\n",
       "M     7289\n",
       "Name: gender, dtype: int64"
      ]
     },
     "execution_count": 13,
     "metadata": {},
     "output_type": "execute_result"
    }
   ],
   "source": [
    "data.loc[data['gender']== 'XNA','gender'] = 'M'\n",
    "#data.loc[data['children']== 20, 'children'] = 2\n",
    "data['gender'].value_counts()\n"
   ]
  },
  {
   "cell_type": "markdown",
   "id": "3ef2afa6",
   "metadata": {},
   "source": [
    "Заполняем total_income медианным методом по столбцу income_type     <div/>"
   ]
  },
  {
   "cell_type": "code",
   "execution_count": 14,
   "id": "c8a82332",
   "metadata": {},
   "outputs": [
    {
     "name": "stdout",
     "output_type": "stream",
     "text": [
      "Пропуски до: 2174\n",
      "сотрудник 142594.39684740017\n",
      "пенсионер 118514.48641164352\n",
      "компаньон 172357.95096577113\n",
      "госслужащий 150447.9352830068\n",
      "безработный 131339.7516762103\n",
      "предприниматель 499163.1449470857\n",
      "студент 98201.62531401133\n",
      "в декрете 53829.13072905995\n",
      "Пропуски после: 0\n"
     ]
    }
   ],
   "source": [
    "print('Пропуски до:', data['total_income'].isna().sum())\n",
    "\n",
    "for income_type in data['income_type'].unique():\n",
    "    median = data.loc[data['income_type'] == income_type, 'total_income'].median()\n",
    "    print(income_type,median)\n",
    "    data.loc[(data['total_income'].isna())&(data['income_type'] == income_type), 'total_income'] = median\n",
    "\n",
    "print('Пропуски после:', data['total_income'].isna().sum())"
   ]
  },
  {
   "cell_type": "code",
   "execution_count": 15,
   "id": "1326c9e0",
   "metadata": {
    "scrolled": true
   },
   "outputs": [
    {
     "name": "stdout",
     "output_type": "stream",
     "text": [
      "<class 'pandas.core.frame.DataFrame'>\n",
      "RangeIndex: 21525 entries, 0 to 21524\n",
      "Data columns (total 12 columns):\n",
      " #   Column            Non-Null Count  Dtype  \n",
      "---  ------            --------------  -----  \n",
      " 0   children          21525 non-null  int64  \n",
      " 1   days_employed     21525 non-null  int64  \n",
      " 2   dob_years         21525 non-null  float64\n",
      " 3   education         21525 non-null  object \n",
      " 4   education_id      21525 non-null  int64  \n",
      " 5   family_status     21525 non-null  object \n",
      " 6   family_status_id  21525 non-null  int64  \n",
      " 7   gender            21525 non-null  object \n",
      " 8   income_type       21525 non-null  object \n",
      " 9   debt              21525 non-null  int64  \n",
      " 10  total_income      21525 non-null  float64\n",
      " 11  purpose           21525 non-null  object \n",
      "dtypes: float64(2), int64(5), object(5)\n",
      "memory usage: 2.0+ MB\n"
     ]
    }
   ],
   "source": [
    "data.info()"
   ]
  },
  {
   "cell_type": "markdown",
   "id": "abc67d0c",
   "metadata": {},
   "source": [
    "# Замена вещественных показателей на целочисленные. "
   ]
  },
  {
   "cell_type": "code",
   "execution_count": 16,
   "id": "6be9ce4a",
   "metadata": {
    "scrolled": true
   },
   "outputs": [],
   "source": [
    "df2 = data.copy()\n",
    "df2['dob_years'] = data['dob_years'].astype('int')\n",
    "df2['total_income'] = data['total_income'].astype('int')"
   ]
  },
  {
   "cell_type": "code",
   "execution_count": 17,
   "id": "95121900",
   "metadata": {},
   "outputs": [
    {
     "name": "stdout",
     "output_type": "stream",
     "text": [
      "<class 'pandas.core.frame.DataFrame'>\n",
      "RangeIndex: 21525 entries, 0 to 21524\n",
      "Data columns (total 12 columns):\n",
      " #   Column            Non-Null Count  Dtype \n",
      "---  ------            --------------  ----- \n",
      " 0   children          21525 non-null  int64 \n",
      " 1   days_employed     21525 non-null  int64 \n",
      " 2   dob_years         21525 non-null  int64 \n",
      " 3   education         21525 non-null  object\n",
      " 4   education_id      21525 non-null  int64 \n",
      " 5   family_status     21525 non-null  object\n",
      " 6   family_status_id  21525 non-null  int64 \n",
      " 7   gender            21525 non-null  object\n",
      " 8   income_type       21525 non-null  object\n",
      " 9   debt              21525 non-null  int64 \n",
      " 10  total_income      21525 non-null  int64 \n",
      " 11  purpose           21525 non-null  object\n",
      "dtypes: int64(7), object(5)\n",
      "memory usage: 2.0+ MB\n"
     ]
    }
   ],
   "source": [
    "df2.info()"
   ]
  },
  {
   "cell_type": "code",
   "execution_count": 18,
   "id": "136a243a",
   "metadata": {},
   "outputs": [
    {
     "data": {
      "text/html": [
       "<div>\n",
       "<style scoped>\n",
       "    .dataframe tbody tr th:only-of-type {\n",
       "        vertical-align: middle;\n",
       "    }\n",
       "\n",
       "    .dataframe tbody tr th {\n",
       "        vertical-align: top;\n",
       "    }\n",
       "\n",
       "    .dataframe thead th {\n",
       "        text-align: right;\n",
       "    }\n",
       "</style>\n",
       "<table border=\"1\" class=\"dataframe\">\n",
       "  <thead>\n",
       "    <tr style=\"text-align: right;\">\n",
       "      <th></th>\n",
       "      <th>children</th>\n",
       "      <th>days_employed</th>\n",
       "      <th>dob_years</th>\n",
       "      <th>education</th>\n",
       "      <th>education_id</th>\n",
       "      <th>family_status</th>\n",
       "      <th>family_status_id</th>\n",
       "      <th>gender</th>\n",
       "      <th>income_type</th>\n",
       "      <th>debt</th>\n",
       "      <th>total_income</th>\n",
       "      <th>purpose</th>\n",
       "    </tr>\n",
       "  </thead>\n",
       "  <tbody>\n",
       "    <tr>\n",
       "      <th>0</th>\n",
       "      <td>1</td>\n",
       "      <td>8437</td>\n",
       "      <td>42</td>\n",
       "      <td>высшее</td>\n",
       "      <td>0</td>\n",
       "      <td>женат / замужем</td>\n",
       "      <td>0</td>\n",
       "      <td>F</td>\n",
       "      <td>сотрудник</td>\n",
       "      <td>0</td>\n",
       "      <td>253875</td>\n",
       "      <td>покупка жилья</td>\n",
       "    </tr>\n",
       "    <tr>\n",
       "      <th>1</th>\n",
       "      <td>1</td>\n",
       "      <td>4024</td>\n",
       "      <td>36</td>\n",
       "      <td>среднее</td>\n",
       "      <td>1</td>\n",
       "      <td>женат / замужем</td>\n",
       "      <td>0</td>\n",
       "      <td>F</td>\n",
       "      <td>сотрудник</td>\n",
       "      <td>0</td>\n",
       "      <td>112080</td>\n",
       "      <td>приобретение автомобиля</td>\n",
       "    </tr>\n",
       "    <tr>\n",
       "      <th>2</th>\n",
       "      <td>0</td>\n",
       "      <td>5623</td>\n",
       "      <td>33</td>\n",
       "      <td>среднее</td>\n",
       "      <td>1</td>\n",
       "      <td>женат / замужем</td>\n",
       "      <td>0</td>\n",
       "      <td>M</td>\n",
       "      <td>сотрудник</td>\n",
       "      <td>0</td>\n",
       "      <td>145885</td>\n",
       "      <td>покупка жилья</td>\n",
       "    </tr>\n",
       "    <tr>\n",
       "      <th>3</th>\n",
       "      <td>3</td>\n",
       "      <td>4124</td>\n",
       "      <td>32</td>\n",
       "      <td>среднее</td>\n",
       "      <td>1</td>\n",
       "      <td>женат / замужем</td>\n",
       "      <td>0</td>\n",
       "      <td>M</td>\n",
       "      <td>сотрудник</td>\n",
       "      <td>0</td>\n",
       "      <td>267628</td>\n",
       "      <td>дополнительное образование</td>\n",
       "    </tr>\n",
       "    <tr>\n",
       "      <th>4</th>\n",
       "      <td>0</td>\n",
       "      <td>14177</td>\n",
       "      <td>53</td>\n",
       "      <td>среднее</td>\n",
       "      <td>1</td>\n",
       "      <td>гражданский брак</td>\n",
       "      <td>1</td>\n",
       "      <td>F</td>\n",
       "      <td>пенсионер</td>\n",
       "      <td>0</td>\n",
       "      <td>158616</td>\n",
       "      <td>сыграть свадьбу</td>\n",
       "    </tr>\n",
       "    <tr>\n",
       "      <th>5</th>\n",
       "      <td>0</td>\n",
       "      <td>926</td>\n",
       "      <td>27</td>\n",
       "      <td>высшее</td>\n",
       "      <td>0</td>\n",
       "      <td>гражданский брак</td>\n",
       "      <td>1</td>\n",
       "      <td>M</td>\n",
       "      <td>компаньон</td>\n",
       "      <td>0</td>\n",
       "      <td>255763</td>\n",
       "      <td>покупка жилья</td>\n",
       "    </tr>\n",
       "    <tr>\n",
       "      <th>6</th>\n",
       "      <td>0</td>\n",
       "      <td>2879</td>\n",
       "      <td>43</td>\n",
       "      <td>высшее</td>\n",
       "      <td>0</td>\n",
       "      <td>женат / замужем</td>\n",
       "      <td>0</td>\n",
       "      <td>F</td>\n",
       "      <td>компаньон</td>\n",
       "      <td>0</td>\n",
       "      <td>240525</td>\n",
       "      <td>операции с жильем</td>\n",
       "    </tr>\n",
       "    <tr>\n",
       "      <th>7</th>\n",
       "      <td>0</td>\n",
       "      <td>152</td>\n",
       "      <td>50</td>\n",
       "      <td>среднее</td>\n",
       "      <td>1</td>\n",
       "      <td>женат / замужем</td>\n",
       "      <td>0</td>\n",
       "      <td>M</td>\n",
       "      <td>сотрудник</td>\n",
       "      <td>0</td>\n",
       "      <td>135823</td>\n",
       "      <td>образование</td>\n",
       "    </tr>\n",
       "    <tr>\n",
       "      <th>8</th>\n",
       "      <td>2</td>\n",
       "      <td>6929</td>\n",
       "      <td>35</td>\n",
       "      <td>высшее</td>\n",
       "      <td>0</td>\n",
       "      <td>гражданский брак</td>\n",
       "      <td>1</td>\n",
       "      <td>F</td>\n",
       "      <td>сотрудник</td>\n",
       "      <td>0</td>\n",
       "      <td>95856</td>\n",
       "      <td>на проведение свадьбы</td>\n",
       "    </tr>\n",
       "    <tr>\n",
       "      <th>9</th>\n",
       "      <td>0</td>\n",
       "      <td>2188</td>\n",
       "      <td>41</td>\n",
       "      <td>среднее</td>\n",
       "      <td>1</td>\n",
       "      <td>женат / замужем</td>\n",
       "      <td>0</td>\n",
       "      <td>M</td>\n",
       "      <td>сотрудник</td>\n",
       "      <td>0</td>\n",
       "      <td>144425</td>\n",
       "      <td>покупка жилья для семьи</td>\n",
       "    </tr>\n",
       "  </tbody>\n",
       "</table>\n",
       "</div>"
      ],
      "text/plain": [
       "   children  days_employed  dob_years education  education_id  \\\n",
       "0         1           8437         42    высшее             0   \n",
       "1         1           4024         36   среднее             1   \n",
       "2         0           5623         33   среднее             1   \n",
       "3         3           4124         32   среднее             1   \n",
       "4         0          14177         53   среднее             1   \n",
       "5         0            926         27    высшее             0   \n",
       "6         0           2879         43    высшее             0   \n",
       "7         0            152         50   среднее             1   \n",
       "8         2           6929         35    высшее             0   \n",
       "9         0           2188         41   среднее             1   \n",
       "\n",
       "      family_status  family_status_id gender income_type  debt  total_income  \\\n",
       "0   женат / замужем                 0      F   сотрудник     0        253875   \n",
       "1   женат / замужем                 0      F   сотрудник     0        112080   \n",
       "2   женат / замужем                 0      M   сотрудник     0        145885   \n",
       "3   женат / замужем                 0      M   сотрудник     0        267628   \n",
       "4  гражданский брак                 1      F   пенсионер     0        158616   \n",
       "5  гражданский брак                 1      M   компаньон     0        255763   \n",
       "6   женат / замужем                 0      F   компаньон     0        240525   \n",
       "7   женат / замужем                 0      M   сотрудник     0        135823   \n",
       "8  гражданский брак                 1      F   сотрудник     0         95856   \n",
       "9   женат / замужем                 0      M   сотрудник     0        144425   \n",
       "\n",
       "                      purpose  \n",
       "0               покупка жилья  \n",
       "1     приобретение автомобиля  \n",
       "2               покупка жилья  \n",
       "3  дополнительное образование  \n",
       "4             сыграть свадьбу  \n",
       "5               покупка жилья  \n",
       "6           операции с жильем  \n",
       "7                 образование  \n",
       "8       на проведение свадьбы  \n",
       "9     покупка жилья для семьи  "
      ]
     },
     "execution_count": 18,
     "metadata": {},
     "output_type": "execute_result"
    }
   ],
   "source": [
    "df2.head(10)"
   ]
  },
  {
   "cell_type": "markdown",
   "id": "3e86199e",
   "metadata": {},
   "source": [
    "# Удаление дубликатов"
   ]
  },
  {
   "cell_type": "markdown",
   "id": "f65a0dc5",
   "metadata": {},
   "source": [
    "Для обработки выбрал начальный метод по поиску и удалению дубликатов, так как сочетание по всем параметрам из 12 столбцов является невероятным. <div/>"
   ]
  },
  {
   "cell_type": "code",
   "execution_count": 19,
   "id": "159a09f0",
   "metadata": {},
   "outputs": [
    {
     "name": "stdout",
     "output_type": "stream",
     "text": [
      "Количество полностью идентичных строк: 72\n"
     ]
    }
   ],
   "source": [
    "print('Количество полностью идентичных строк:',df2.duplicated().sum())"
   ]
  },
  {
   "cell_type": "code",
   "execution_count": 20,
   "id": "2625eb16",
   "metadata": {},
   "outputs": [
    {
     "name": "stdout",
     "output_type": "stream",
     "text": [
      "Количество полностью идентичных строк после удаления: 0\n"
     ]
    }
   ],
   "source": [
    "df2 = df2.drop_duplicates()\n",
    "print('Количество полностью идентичных строк после удаления:',df2.duplicated().sum())"
   ]
  },
  {
   "cell_type": "markdown",
   "id": "c56a9991",
   "metadata": {},
   "source": [
    "На этапе предобработки привели все категории в столбце education к нижнему регистру, тем самым избавились от дубликатов с разным регистром.   <div/>"
   ]
  },
  {
   "cell_type": "code",
   "execution_count": 21,
   "id": "50886adf",
   "metadata": {},
   "outputs": [
    {
     "data": {
      "text/html": [
       "<div>\n",
       "<style scoped>\n",
       "    .dataframe tbody tr th:only-of-type {\n",
       "        vertical-align: middle;\n",
       "    }\n",
       "\n",
       "    .dataframe tbody tr th {\n",
       "        vertical-align: top;\n",
       "    }\n",
       "\n",
       "    .dataframe thead th {\n",
       "        text-align: right;\n",
       "    }\n",
       "</style>\n",
       "<table border=\"1\" class=\"dataframe\">\n",
       "  <thead>\n",
       "    <tr style=\"text-align: right;\">\n",
       "      <th></th>\n",
       "      <th>children</th>\n",
       "      <th>days_employed</th>\n",
       "      <th>dob_years</th>\n",
       "      <th>education</th>\n",
       "      <th>education_id</th>\n",
       "      <th>family_status</th>\n",
       "      <th>family_status_id</th>\n",
       "      <th>gender</th>\n",
       "      <th>income_type</th>\n",
       "      <th>debt</th>\n",
       "      <th>total_income</th>\n",
       "      <th>purpose</th>\n",
       "    </tr>\n",
       "  </thead>\n",
       "  <tbody>\n",
       "    <tr>\n",
       "      <th>0</th>\n",
       "      <td>1</td>\n",
       "      <td>8437</td>\n",
       "      <td>42</td>\n",
       "      <td>высшее</td>\n",
       "      <td>0</td>\n",
       "      <td>женат / замужем</td>\n",
       "      <td>0</td>\n",
       "      <td>F</td>\n",
       "      <td>сотрудник</td>\n",
       "      <td>0</td>\n",
       "      <td>253875</td>\n",
       "      <td>покупка жилья</td>\n",
       "    </tr>\n",
       "    <tr>\n",
       "      <th>1</th>\n",
       "      <td>1</td>\n",
       "      <td>4024</td>\n",
       "      <td>36</td>\n",
       "      <td>среднее</td>\n",
       "      <td>1</td>\n",
       "      <td>женат / замужем</td>\n",
       "      <td>0</td>\n",
       "      <td>F</td>\n",
       "      <td>сотрудник</td>\n",
       "      <td>0</td>\n",
       "      <td>112080</td>\n",
       "      <td>приобретение автомобиля</td>\n",
       "    </tr>\n",
       "    <tr>\n",
       "      <th>2</th>\n",
       "      <td>0</td>\n",
       "      <td>5623</td>\n",
       "      <td>33</td>\n",
       "      <td>среднее</td>\n",
       "      <td>1</td>\n",
       "      <td>женат / замужем</td>\n",
       "      <td>0</td>\n",
       "      <td>M</td>\n",
       "      <td>сотрудник</td>\n",
       "      <td>0</td>\n",
       "      <td>145885</td>\n",
       "      <td>покупка жилья</td>\n",
       "    </tr>\n",
       "    <tr>\n",
       "      <th>3</th>\n",
       "      <td>3</td>\n",
       "      <td>4124</td>\n",
       "      <td>32</td>\n",
       "      <td>среднее</td>\n",
       "      <td>1</td>\n",
       "      <td>женат / замужем</td>\n",
       "      <td>0</td>\n",
       "      <td>M</td>\n",
       "      <td>сотрудник</td>\n",
       "      <td>0</td>\n",
       "      <td>267628</td>\n",
       "      <td>дополнительное образование</td>\n",
       "    </tr>\n",
       "    <tr>\n",
       "      <th>4</th>\n",
       "      <td>0</td>\n",
       "      <td>14177</td>\n",
       "      <td>53</td>\n",
       "      <td>среднее</td>\n",
       "      <td>1</td>\n",
       "      <td>гражданский брак</td>\n",
       "      <td>1</td>\n",
       "      <td>F</td>\n",
       "      <td>пенсионер</td>\n",
       "      <td>0</td>\n",
       "      <td>158616</td>\n",
       "      <td>сыграть свадьбу</td>\n",
       "    </tr>\n",
       "    <tr>\n",
       "      <th>5</th>\n",
       "      <td>0</td>\n",
       "      <td>926</td>\n",
       "      <td>27</td>\n",
       "      <td>высшее</td>\n",
       "      <td>0</td>\n",
       "      <td>гражданский брак</td>\n",
       "      <td>1</td>\n",
       "      <td>M</td>\n",
       "      <td>компаньон</td>\n",
       "      <td>0</td>\n",
       "      <td>255763</td>\n",
       "      <td>покупка жилья</td>\n",
       "    </tr>\n",
       "    <tr>\n",
       "      <th>6</th>\n",
       "      <td>0</td>\n",
       "      <td>2879</td>\n",
       "      <td>43</td>\n",
       "      <td>высшее</td>\n",
       "      <td>0</td>\n",
       "      <td>женат / замужем</td>\n",
       "      <td>0</td>\n",
       "      <td>F</td>\n",
       "      <td>компаньон</td>\n",
       "      <td>0</td>\n",
       "      <td>240525</td>\n",
       "      <td>операции с жильем</td>\n",
       "    </tr>\n",
       "    <tr>\n",
       "      <th>7</th>\n",
       "      <td>0</td>\n",
       "      <td>152</td>\n",
       "      <td>50</td>\n",
       "      <td>среднее</td>\n",
       "      <td>1</td>\n",
       "      <td>женат / замужем</td>\n",
       "      <td>0</td>\n",
       "      <td>M</td>\n",
       "      <td>сотрудник</td>\n",
       "      <td>0</td>\n",
       "      <td>135823</td>\n",
       "      <td>образование</td>\n",
       "    </tr>\n",
       "    <tr>\n",
       "      <th>8</th>\n",
       "      <td>2</td>\n",
       "      <td>6929</td>\n",
       "      <td>35</td>\n",
       "      <td>высшее</td>\n",
       "      <td>0</td>\n",
       "      <td>гражданский брак</td>\n",
       "      <td>1</td>\n",
       "      <td>F</td>\n",
       "      <td>сотрудник</td>\n",
       "      <td>0</td>\n",
       "      <td>95856</td>\n",
       "      <td>на проведение свадьбы</td>\n",
       "    </tr>\n",
       "    <tr>\n",
       "      <th>9</th>\n",
       "      <td>0</td>\n",
       "      <td>2188</td>\n",
       "      <td>41</td>\n",
       "      <td>среднее</td>\n",
       "      <td>1</td>\n",
       "      <td>женат / замужем</td>\n",
       "      <td>0</td>\n",
       "      <td>M</td>\n",
       "      <td>сотрудник</td>\n",
       "      <td>0</td>\n",
       "      <td>144425</td>\n",
       "      <td>покупка жилья для семьи</td>\n",
       "    </tr>\n",
       "  </tbody>\n",
       "</table>\n",
       "</div>"
      ],
      "text/plain": [
       "   children  days_employed  dob_years education  education_id  \\\n",
       "0         1           8437         42    высшее             0   \n",
       "1         1           4024         36   среднее             1   \n",
       "2         0           5623         33   среднее             1   \n",
       "3         3           4124         32   среднее             1   \n",
       "4         0          14177         53   среднее             1   \n",
       "5         0            926         27    высшее             0   \n",
       "6         0           2879         43    высшее             0   \n",
       "7         0            152         50   среднее             1   \n",
       "8         2           6929         35    высшее             0   \n",
       "9         0           2188         41   среднее             1   \n",
       "\n",
       "      family_status  family_status_id gender income_type  debt  total_income  \\\n",
       "0   женат / замужем                 0      F   сотрудник     0        253875   \n",
       "1   женат / замужем                 0      F   сотрудник     0        112080   \n",
       "2   женат / замужем                 0      M   сотрудник     0        145885   \n",
       "3   женат / замужем                 0      M   сотрудник     0        267628   \n",
       "4  гражданский брак                 1      F   пенсионер     0        158616   \n",
       "5  гражданский брак                 1      M   компаньон     0        255763   \n",
       "6   женат / замужем                 0      F   компаньон     0        240525   \n",
       "7   женат / замужем                 0      M   сотрудник     0        135823   \n",
       "8  гражданский брак                 1      F   сотрудник     0         95856   \n",
       "9   женат / замужем                 0      M   сотрудник     0        144425   \n",
       "\n",
       "                      purpose  \n",
       "0               покупка жилья  \n",
       "1     приобретение автомобиля  \n",
       "2               покупка жилья  \n",
       "3  дополнительное образование  \n",
       "4             сыграть свадьбу  \n",
       "5               покупка жилья  \n",
       "6           операции с жильем  \n",
       "7                 образование  \n",
       "8       на проведение свадьбы  \n",
       "9     покупка жилья для семьи  "
      ]
     },
     "execution_count": 21,
     "metadata": {},
     "output_type": "execute_result"
    }
   ],
   "source": [
    "df2.head(10)"
   ]
  },
  {
   "cell_type": "markdown",
   "id": "a977e7b0",
   "metadata": {},
   "source": [
    "# Лемматизация в столбце цели получения кредита"
   ]
  },
  {
   "cell_type": "markdown",
   "id": "0de90924",
   "metadata": {},
   "source": [
    "Определим уникальные категории, по которым будем лемматизировать. <div/>"
   ]
  },
  {
   "cell_type": "code",
   "execution_count": 22,
   "id": "b7b77bf4",
   "metadata": {},
   "outputs": [
    {
     "data": {
      "text/plain": [
       "свадьба                                   791\n",
       "на проведение свадьбы                     767\n",
       "сыграть свадьбу                           765\n",
       "операции с недвижимостью                  675\n",
       "покупка коммерческой недвижимости         661\n",
       "операции с жильем                         652\n",
       "покупка жилья для сдачи                   651\n",
       "операции с коммерческой недвижимостью     650\n",
       "жилье                                     646\n",
       "покупка жилья                             646\n",
       "покупка жилья для семьи                   638\n",
       "строительство собственной недвижимости    635\n",
       "недвижимость                              633\n",
       "операции со своей недвижимостью           627\n",
       "строительство жилой недвижимости          624\n",
       "покупка недвижимости                      621\n",
       "покупка своего жилья                      620\n",
       "строительство недвижимости                619\n",
       "ремонт жилью                              607\n",
       "покупка жилой недвижимости                606\n",
       "на покупку своего автомобиля              505\n",
       "заняться высшим образованием              496\n",
       "автомобиль                                494\n",
       "сделка с подержанным автомобилем          486\n",
       "автомобили                                478\n",
       "на покупку подержанного автомобиля        478\n",
       "свой автомобиль                           478\n",
       "на покупку автомобиля                     471\n",
       "приобретение автомобиля                   461\n",
       "дополнительное образование                460\n",
       "сделка с автомобилем                      455\n",
       "высшее образование                        452\n",
       "образование                               447\n",
       "получение дополнительного образования     446\n",
       "получение образования                     442\n",
       "профильное образование                    436\n",
       "получение высшего образования             426\n",
       "заняться образованием                     408\n",
       "Name: purpose, dtype: int64"
      ]
     },
     "execution_count": 22,
     "metadata": {},
     "output_type": "execute_result"
    }
   ],
   "source": [
    "df2['purpose'].value_counts()"
   ]
  },
  {
   "cell_type": "markdown",
   "id": "513e70bf",
   "metadata": {},
   "source": [
    "\n",
    "\n",
    "\n",
    "**Выделил следующие категории:**\n",
    "    \n",
    "1) потребительский - сюда включаю кредит на свадьбу и ремонт в квартире\n",
    "    \n",
    "2) образование\n",
    "    \n",
    "3) автомобиль\n",
    "    \n",
    "4) коммерческая недвижимость - есть принципиальная разница между кредитование коммерческой недвижимости, в сделках с которыми участвует в основном предприниматель и жилой недвижимостью.\n",
    "    \n",
    "5) жилье. покупка квартиры или иной недвижимости с целью проживания ( личное пользование) <div/>"
   ]
  },
  {
   "cell_type": "code",
   "execution_count": null,
   "id": "d05e1b59",
   "metadata": {},
   "outputs": [
    {
     "name": "stdout",
     "output_type": "stream",
     "text": [
      "['покупка жилья' 'приобретение автомобиля' 'дополнительное образование'\n",
      " 'сыграть свадьбу' 'операции с жильем' 'образование'\n",
      " 'на проведение свадьбы' 'покупка жилья для семьи' 'покупка недвижимости'\n",
      " 'покупка коммерческой недвижимости' 'покупка жилой недвижимости'\n",
      " 'строительство собственной недвижимости' 'недвижимость'\n",
      " 'строительство недвижимости' 'на покупку подержанного автомобиля'\n",
      " 'на покупку своего автомобиля' 'операции с коммерческой недвижимостью'\n",
      " 'строительство жилой недвижимости' 'жилье'\n",
      " 'операции со своей недвижимостью' 'автомобили' 'заняться образованием'\n",
      " 'сделка с подержанным автомобилем' 'получение образования' 'автомобиль'\n",
      " 'свадьба' 'получение дополнительного образования' 'покупка своего жилья'\n",
      " 'операции с недвижимостью' 'получение высшего образования'\n",
      " 'свой автомобиль' 'сделка с автомобилем' 'профильное образование'\n",
      " 'высшее образование' 'покупка жилья для сдачи' 'на покупку автомобиля'\n",
      " 'ремонт жилью' 'заняться высшим образованием']\n",
      "\n",
      "\n"
     ]
    }
   ],
   "source": [
    "from pymystem3 import Mystem\n",
    "m = Mystem()\n",
    "##Делаем список 'purpose.unique()'\n",
    "purpose_list = df2['purpose'].unique()\n",
    "print(purpose_list)\n",
    "print()\n",
    "print()\n",
    "lemmas = []\n",
    "##Каждую строчку в 'purpose_list' лемматизируем, получаем список лемм и добавляем значения в пустой список 'lemms', проверяем\n",
    "for i in purpose_list:\n",
    "    lemma = m.lemmatize(i)\n",
    "    lemmas.append(lemma)\n",
    "#print(lemmas)\n",
    "##Разбиваем на категории по леммам: \"Свадьба\", \"автомобиль\", \"образование\", \"коммерческая недвижимость\", 'ремонт', 'недвижимость' \n",
    "def purpose_change(purpose):\n",
    "    lemmas_row = m.lemmatize(purpose)\n",
    "    for i in lemmas_row:\n",
    "        if 'автомоб' in i:\n",
    "            return 'автомобиль'\n",
    "        if 'недвижимость' in i:\n",
    "            return  'недвижимость'\n",
    "        if 'жил' in i:\n",
    "            return  'недвижимость'\n",
    "        if 'коммерч' in i:\n",
    "            return  'коммерческая недвижимость'\n",
    "        if 'свад' in i:\n",
    "            return  'потребительский'\n",
    "        if 'образов' in i:\n",
    "            return 'образование'\n",
    "        if 'ремонт' in i:\n",
    "            return  'потребительский'\n",
    " \n",
    "df2['purpose_def']= df2['purpose'].apply(purpose_change)        \n",
    "df2.head(10)"
   ]
  },
  {
   "cell_type": "code",
   "execution_count": null,
   "id": "af40cec8",
   "metadata": {},
   "outputs": [],
   "source": [
    "lemmas"
   ]
  },
  {
   "cell_type": "markdown",
   "id": "6188a2d7",
   "metadata": {},
   "source": [
    "Проверяем, чтобы были категоризированы все строки и не осталось пропущенных."
   ]
  },
  {
   "cell_type": "code",
   "execution_count": null,
   "id": "f36d3dd0",
   "metadata": {},
   "outputs": [],
   "source": [
    "df2['purpose_def'].isnull().sum()"
   ]
  },
  {
   "cell_type": "markdown",
   "id": "074caaf6",
   "metadata": {},
   "source": [
    "# Категоризация"
   ]
  },
  {
   "cell_type": "markdown",
   "id": "2402c6c3",
   "metadata": {},
   "source": [
    "\n",
    " <b>Для начала определим категории:</b>\n",
    "    \n",
    "1) education\n",
    "    \n",
    "2) family_status\n",
    "    \n",
    "4) income_type\n",
    "    \n",
    "5) purpose_def\n",
    "    \n",
    "\n",
    " <b> По цифровым показателям: </b>\n",
    "    \n",
    "1) days_employed \n",
    "    \n",
    "2) dob_years\n",
    "    \n",
    "3) total income\n",
    "    \n",
    "4) children \n",
    "    <div/>\n"
   ]
  },
  {
   "cell_type": "raw",
   "id": "40dfcb83",
   "metadata": {},
   "source": [
    "1) education"
   ]
  },
  {
   "cell_type": "code",
   "execution_count": null,
   "id": "40ca1573",
   "metadata": {},
   "outputs": [],
   "source": [
    "education_dict=df2[['education','education_id']]\n",
    "education_dict = education_dict.drop_duplicates().reset_index(drop = True)\n",
    "education_dict.sort_values(by = 'education_id', ascending = True)"
   ]
  },
  {
   "cell_type": "raw",
   "id": "7bf7f42f",
   "metadata": {},
   "source": [
    "2) Family status"
   ]
  },
  {
   "cell_type": "code",
   "execution_count": null,
   "id": "480a3dcc",
   "metadata": {},
   "outputs": [],
   "source": [
    "family_dict=df2[['family_status','family_status_id']]\n",
    "family_dict = family_dict.drop_duplicates().reset_index(drop = True)\n",
    "family_dict.sort_values(by = 'family_status_id', ascending = True)"
   ]
  },
  {
   "cell_type": "raw",
   "id": "3422a2cc",
   "metadata": {},
   "source": [
    "3) Income type"
   ]
  },
  {
   "cell_type": "code",
   "execution_count": null,
   "id": "e3748814",
   "metadata": {},
   "outputs": [],
   "source": [
    "income_dict = df2[['income_type']].drop_duplicates().reset_index(drop = True)\n",
    "income_dict"
   ]
  },
  {
   "cell_type": "raw",
   "id": "dfd21886",
   "metadata": {},
   "source": [
    "4) Purpose_def"
   ]
  },
  {
   "cell_type": "code",
   "execution_count": null,
   "id": "c4f998f2",
   "metadata": {},
   "outputs": [],
   "source": [
    "purpose_dict = df2[['purpose_def']].drop_duplicates().reset_index(drop = True)\n",
    "purpose_dict"
   ]
  },
  {
   "cell_type": "markdown",
   "id": "b70199eb",
   "metadata": {},
   "source": [
    "\n",
    "    \n",
    "\n",
    "\n",
    "<b> 1) Days_employed категории:</b>\n",
    "    \n",
    " 1) от 24 до 730 дней - стажер\n",
    "    \n",
    " 2) 730 - 4797 - постоянный работник\n",
    "    \n",
    " 3) 4797 - ударни <div/>"
   ]
  },
  {
   "cell_type": "code",
   "execution_count": null,
   "id": "e344de1b",
   "metadata": {},
   "outputs": [],
   "source": [
    "def days_employed_group(days):\n",
    "    \n",
    "    if days <= 730:\n",
    "        return 'стажер'\n",
    "    if days <= 4797:\n",
    "        return 'постоянный работник'\n",
    "    return 'ударник' \n",
    "df2['days_employed_group'] = df2['days_employed'].apply(days_employed_group)\n",
    "df2.head(10)"
   ]
  },
  {
   "cell_type": "code",
   "execution_count": null,
   "id": "a1d8357a",
   "metadata": {},
   "outputs": [],
   "source": [
    "days_employed_dict = df2[['days_employed_group']].drop_duplicates().reset_index(drop = True)\n",
    "days_employed_dict"
   ]
  },
  {
   "cell_type": "markdown",
   "id": "ca859ea6",
   "metadata": {},
   "source": [
    "\n",
    "    \n",
    "\n",
    "<b> 2) Возраст dob_years</b>\n",
    "    \n",
    "\n",
    " 1) до 22 - молодые\n",
    "    \n",
    " 2) от 22 до 60 - рабочий возраст\n",
    "    \n",
    " 3) от 60 пенсионный <div/>"
   ]
  },
  {
   "cell_type": "code",
   "execution_count": null,
   "id": "6c8090e4",
   "metadata": {
    "scrolled": false
   },
   "outputs": [],
   "source": [
    "def dob_years_group(years):\n",
    "    \n",
    "    if years <= 22:\n",
    "        return 'молодые'\n",
    "    if years <= 60:\n",
    "        return 'рабочий возраст'\n",
    "    return 'пенсионный возраст' \n",
    "df2['dob_years_group'] = df2['dob_years'].apply(dob_years_group)\n",
    "df2.tail(10)"
   ]
  },
  {
   "cell_type": "code",
   "execution_count": null,
   "id": "501a5b5f",
   "metadata": {},
   "outputs": [],
   "source": [
    "dob_years_dict = df2[['dob_years_group']].drop_duplicates().reset_index(drop = True)\n",
    "dob_years_dict"
   ]
  },
  {
   "cell_type": "markdown",
   "id": "bdbbaff1",
   "metadata": {},
   "source": [
    "<b> 3) Total income:</b>\n",
    "    \n",
    "\n",
    " 1) до 70000 - прожиточный минимум\n",
    " \n",
    " 2) до 142594 - синий вортничок\n",
    " \n",
    " 3) свыше - средний и высший класс\n",
    "    \n",
    " <div/>\n",
    " "
   ]
  },
  {
   "cell_type": "code",
   "execution_count": null,
   "id": "3cb39753",
   "metadata": {
    "scrolled": false
   },
   "outputs": [],
   "source": [
    "def income_group(money):\n",
    "    \n",
    "    if money <= 70000:\n",
    "        return 'прожиточный минимум'\n",
    "    if money <= 142594:\n",
    "        return 'синий воротничок'\n",
    "    return 'средний и высший класс' \n",
    "df2['income_group'] = df2['total_income'].apply(income_group)\n",
    "df2.tail(10)"
   ]
  },
  {
   "cell_type": "code",
   "execution_count": null,
   "id": "e70db38f",
   "metadata": {},
   "outputs": [],
   "source": [
    "income_group_dict = df2[['income_group']].drop_duplicates().reset_index(drop = True)\n",
    "income_group_dict"
   ]
  },
  {
   "cell_type": "markdown",
   "id": "f7801e6b",
   "metadata": {},
   "source": [
    "<b> 4) Children:</b>\n",
    "    \n",
    "\n",
    " 1) 0 - без детей\n",
    " \n",
    " 2) 1 - один ребенок\n",
    " \n",
    " 3) от 2 до 3 - несколько детей\n",
    " \n",
    " 4) больше 4 - многодетные\n",
    "    \n",
    "    \n",
    " <div/>\n",
    " "
   ]
  },
  {
   "cell_type": "code",
   "execution_count": null,
   "id": "c6785081",
   "metadata": {},
   "outputs": [],
   "source": [
    "df2['children'].value_counts()"
   ]
  },
  {
   "cell_type": "code",
   "execution_count": null,
   "id": "e468d3ce",
   "metadata": {
    "scrolled": true
   },
   "outputs": [],
   "source": [
    "def child_status(child):\n",
    "    \n",
    "    if child == 0:\n",
    "        return 'без детей'\n",
    "    if child <= 2:\n",
    "        return 'один-два ребенка'\n",
    "    return 'многодетные' \n",
    "df2['child_status'] = df2['children'].apply(child_status)\n",
    "df2.tail(10)"
   ]
  },
  {
   "cell_type": "code",
   "execution_count": null,
   "id": "be849bb3",
   "metadata": {
    "scrolled": true
   },
   "outputs": [],
   "source": [
    "child_dict = df2[['child_status']].drop_duplicates().reset_index(drop = True)\n",
    "child_dict"
   ]
  },
  {
   "cell_type": "markdown",
   "id": "b858774c",
   "metadata": {},
   "source": [
    "# Ответы на вопросы"
   ]
  },
  {
   "cell_type": "markdown",
   "id": "a105883f",
   "metadata": {},
   "source": [
    "# Зависимость количества детей на возвратность кредитов"
   ]
  },
  {
   "cell_type": "code",
   "execution_count": null,
   "id": "266bdea8",
   "metadata": {},
   "outputs": [],
   "source": [
    "df2['debt'].loc[df2['debt'] == 1].sum()"
   ]
  },
  {
   "cell_type": "code",
   "execution_count": null,
   "id": "9a7c5b3b",
   "metadata": {},
   "outputs": [],
   "source": [
    "child_to_debt = df2.pivot_table(index = 'child_status',values = 'debt', aggfunc = ['sum','count']).fillna(0)\n",
    "child_to_debt.columns = ['debt','total']\n",
    "child_to_debt['ratio,%'] = child_to_debt['debt'] / child_to_debt['total'] * 100\n",
    "child_to_debt = child_to_debt.sort_values(by = ['ratio,%'], ascending = False)\n",
    "child_to_debt\n"
   ]
  },
  {
   "cell_type": "markdown",
   "id": "cda585dd",
   "metadata": {},
   "source": [
    "**Вывод** \n",
    "Исправнее всего платят кредит люди без детей, далее более обязательные в кредитах многодетные, но количество соискателей невелико, а люди с одним или двумя детьми допускают просрочку по кредиту почти на 2% больше      \n",
    "    \n",
    "    \n",
    "    \n",
    "    \n",
    " <div/>\n",
    " "
   ]
  },
  {
   "cell_type": "markdown",
   "id": "04993f0a",
   "metadata": {},
   "source": [
    "# Зависимость семейного положения на возврат кредита в срок\n"
   ]
  },
  {
   "cell_type": "code",
   "execution_count": null,
   "id": "03780346",
   "metadata": {},
   "outputs": [],
   "source": [
    "family_to_debt = df2.pivot_table(index = family_dict,values = 'debt', aggfunc = ['sum','count']).fillna(0)\n",
    "family_to_debt.columns = ['debt','total']\n",
    "family_to_debt['ratio,%'] = family_to_debt['debt'] / family_to_debt['total'] * 100\n",
    "family_to_debt = family_to_debt.sort_values(by = ['ratio,%'], ascending = False)\n",
    "family_to_debt"
   ]
  },
  {
   "cell_type": "markdown",
   "id": "3a156f91",
   "metadata": {},
   "source": [
    "**Вывод** \n",
    "Неофициальные отношения, такие как гражданский брак или холостые люди допускают просрочку по кредиту на 2% больше.\n",
    "\n",
    "\n",
    "    \n",
    "    \n",
    " <div/>\n",
    " "
   ]
  },
  {
   "cell_type": "markdown",
   "id": "540ce4d7",
   "metadata": {},
   "source": [
    "# Зависимость дохода на возврат кредита в срок\n"
   ]
  },
  {
   "cell_type": "code",
   "execution_count": null,
   "id": "2b72b0ac",
   "metadata": {},
   "outputs": [],
   "source": [
    "income_to_debt = df2.pivot_table(index = income_group_dict,values = 'debt', aggfunc = ['sum','count']).fillna(0)\n",
    "income_to_debt.columns = ['debt','total']\n",
    "income_to_debt['ratio,%'] = income_to_debt['debt'] / income_to_debt['total'] * 100\n",
    "income_to_debt = income_to_debt.sort_values(by = ['ratio,%'], ascending = False)\n",
    "income_to_debt"
   ]
  },
  {
   "cell_type": "markdown",
   "id": "e625c463",
   "metadata": {},
   "source": [
    "**Вывод**\n",
    "\n",
    "Люди с малым достатком реже допускают просрочку чем работники с большей зарплатой. Люди высшего сегмента по зарплате дисциплинированнее и реже допускают просрочку.\n",
    "Скорее всего соискатели кредита с малой зарплатой показывают лишь её малую часть, поэтому кредитная нагрузка для них невелика и они легко её оплачивают, в то время как синие воротнички живут \"от зарплаты до зарплаты\" и порой денег может не хватать. \n",
    "\n",
    "\n",
    "    \n",
    "    \n",
    " <div/>"
   ]
  },
  {
   "cell_type": "markdown",
   "id": "138204ca",
   "metadata": {},
   "source": [
    "# Зависимость цели кредита на его возвратность."
   ]
  },
  {
   "cell_type": "code",
   "execution_count": null,
   "id": "40e2d961",
   "metadata": {},
   "outputs": [],
   "source": [
    "purpose_to_debt = df2.pivot_table(index = purpose_dict,values = 'debt', aggfunc = ['sum','count']).fillna(0)\n",
    "purpose_to_debt.columns = ['debt','total']\n",
    "purpose_to_debt['ratio,%'] = purpose_to_debt['debt'] / purpose_to_debt['total'] * 100\n",
    "purpose_to_debt = purpose_to_debt.sort_values(by = ['ratio,%'], ascending = False)\n",
    "purpose_to_debt"
   ]
  },
  {
   "cell_type": "markdown",
   "id": "1b0e1718",
   "metadata": {},
   "source": [
    "**Вывод** \n",
    "\n",
    "Больше всего просрочек по кредиту на автомобиль и образование.\n",
    "Исправнее всего платят за жилую недвижимость, а также коммерческую и потребительский кредит (свадьба, ремонт)\n",
    "Видимо в случае просрочки кредита на автомобиль или образование сложнее наложить арест, поэтому люди меньше боятся пропустить платеж нежели за квартиру, которая является их единственным жильем.  \n",
    "\n",
    "\n",
    "    \n",
    "    \n",
    " <div/>"
   ]
  },
  {
   "cell_type": "markdown",
   "id": "a543bd9e",
   "metadata": {},
   "source": [
    " <h3>Общий вывод:</h3> \n",
    " \n",
    " Из полученных показателей можно сделать вывод, что люди, берущие в прочих жизненных аспектах большую ответственность на себя (многодетные семьи, люди с более высокооплачиваемой работой, люди берущие жилье в кредит) - также ответственно ведут себя и по отношению к выплате кредита. \n",
    "    В целом разбежка между категориями не является критичной и общая для рынка задержка по кредитам в размере 8% характерна для всех категорий граждан в выборке. </div>"
   ]
  },
  {
   "cell_type": "code",
   "execution_count": null,
   "id": "28f75773",
   "metadata": {},
   "outputs": [],
   "source": []
  }
 ],
 "metadata": {
  "kernelspec": {
   "display_name": "Python 3",
   "language": "python",
   "name": "python3"
  },
  "language_info": {
   "codemirror_mode": {
    "name": "ipython",
    "version": 3
   },
   "file_extension": ".py",
   "mimetype": "text/x-python",
   "name": "python",
   "nbconvert_exporter": "python",
   "pygments_lexer": "ipython3",
   "version": "3.8.8"
  }
 },
 "nbformat": 4,
 "nbformat_minor": 5
}
