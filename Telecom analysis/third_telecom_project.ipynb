{
 "cells": [
  {
   "cell_type": "markdown",
   "id": "fb86fe81",
   "metadata": {},
   "source": [
    "<strong><em><h1> Project #3: Determining the Promising Tariff for a Telecom Company</h1>\n"
   ]
  },
  {
   "cell_type": "markdown",
   "id": "4afbbb6d",
   "metadata": {},
   "source": [
    "## Task\n",
    "\n",
    "Conduct preliminary analysis of Megaline's \"Smart\" and \"Ultra\" tariff plans using data from 500 Megaline customers. Analyze customer demographics, location, chosen tariff plans, and the number of calls and messages sent in 2018. Determine which tariff plan yields higher revenue. This analysis will inform marketing and pricing decisions for Megaline.\n",
    "\n",
    "\n",
    "**Data Description**\n",
    "\n",
    "- **users** (User Information):\n",
    "  - `user_id`: Unique user identifier\n",
    "  - `first_name`: User's first name\n",
    "  - `last_name`: User's last name\n",
    "  - `age`: User's age (years)\n",
    "  - `reg_date`: Tariff activation date (day, month, year)\n",
    "  - `churn_date`: Tariff termination date (if missing, the tariff was active at the data extraction time)\n",
    "  - `city`: User's city of residence\n",
    "  - `tariff`: Tariff plan name\n",
    "\n",
    "- **calls** (Call Information):\n",
    "  - `id`: Unique call number\n",
    "  - `call_date`: Call date\n",
    "  - `duration`: Call duration in minutes\n",
    "  - `user_id`: User identifier who made the call\n",
    "\n",
    "- **messages** (Message Information):\n",
    "  - `id`: Unique message number\n",
    "  - `message_date`: Message date\n",
    "  - `user_id`: User identifier who sent the message\n",
    "\n",
    "- **internet** (Internet Session Information):\n",
    "  - `id`: Unique session number\n",
    "  - `mb_used`: Volume of internet traffic used per session (in megabytes)\n",
    "  - `session_date`: Internet session date\n",
    "  - `user_id`: User identifier\n",
    "\n",
    "- **tariffs** (Tariff Information):\n",
    "  - `tariff_name`: Tariff plan name\n",
    "  - `rub_monthly_fee`: Monthly subscription fee in Russian rubles\n",
    "  - `minutes_included`: Number of included minutes per month in the subscription fee\n",
    "  - `messages_included`: Number of included messages per month in the subscription fee\n",
    "  - `mb_per_month_included`: Volume of included internet traffic per month in megabytes\n",
    "  - `rub_per_minute`: Cost per minute of conversation beyond the tariff package (e.g., if the tariff includes 100 minutes of conversation per month, a fee will be charged for minutes beyond that)\n",
    "  - `rub_per_message`: Cost per message sent beyond the tariff package\n",
    "  - `rub_per_gb`: Cost per additional gigabyte of internet traffic beyond the tariff package (1 gigabyte = 1024 megabytes)\n",
    "\n",
    "\n",
    "**Project Performance Plan**\n",
    "\n",
    "1. **Step 1: Data Inspection**\n",
    "   - Open the data files and review the general information.\n",
    "   - Data file paths:\n",
    "     - `/datasets/calls.csv. Download dataset`\n",
    "     - `/datasets/internet.csv. Download dataset`\n",
    "     - `/datasets/messages.csv. Download dataset`\n",
    "     - `/datasets/tariffs.csv. Download dataset`\n",
    "     - `/datasets/users.csv. Download dataset`\n",
    "\n",
    "2. **Step 2: Data Preprocessing**\n",
    "   - Convert data to the required data types.\n",
    "   - Identify and rectify any data errors, if present.\n",
    "   - Explain the errors found and how they were corrected.\n",
    "   - Note that calls with zero duration are not errors; they represent missed calls and should not be removed.\n",
    "   - Calculate for each user:\n",
    "     - The number of calls made and minutes used per month.\n",
    "     - The number of messages sent per month.\n",
    "     - The volume of internet traffic used per month.\n",
    "     - Monthly revenue per user (subtract the free limit from the total calls, messages, and internet traffic; multiply the remainder by the tariff plan rates; add the subscription fee corresponding to the tariff plan).\n",
    "\n",
    "3. **Step 3: Data Analysis**\n",
    "   - Describe the behavior of the operator's customers based on the sample.\n",
    "   - Analyze the monthly usage of minutes, messages, and internet traffic for each tariff.\n",
    "   - Calculate the mean, variance, and standard deviation.\n",
    "   - Create histograms to visualize the distributions.\n",
    "\n",
    "4. **Step 4: Hypothesis Testing**\n",
    "   - Test the following hypotheses:\n",
    "     - The average revenue of \"Ultra\" and \"Smart\" tariff users differs.\n",
    "     - The average revenue of users in Moscow differs from users in other regions.\n",
    "   - Define the alpha threshold.\n",
    "   - Explain how the null and alternative hypotheses were formulated.\n",
    "   - Specify the hypothesis testing method used and justify the choice.\n",
    "\n",
    "5. **Step 5: Write a Conclusion**\n",
    "   - Format: Perform the task in a Jupyter Notebook.\n",
    "   - Use code cells for program code and markdown cells for explanations.\n",
    "   - Apply formatting and headings."
   ]
  },
  {
   "cell_type": "markdown",
   "id": "7585a288",
   "metadata": {},
   "source": [
    " <strong><em><h2>\n",
    "Step 1 and Step 2. Opening Data Files and Studying General Information </h2></em></strong>\n"
   ]
  },
  {
   "cell_type": "code",
   "execution_count": 70,
   "id": "079000c2",
   "metadata": {},
   "outputs": [],
   "source": [
    "import pandas as pd\n",
    "import matplotlib.pyplot as plt\n",
    "import numpy as np\n",
    "from scipy import stats as st\n",
    "from math import factorial\n",
    "\n"
   ]
  },
  {
   "cell_type": "code",
   "execution_count": 71,
   "id": "242fab30",
   "metadata": {},
   "outputs": [],
   "source": [
    "calls = pd.read_csv('https://code.s3.yandex.net/datasets/calls.csv')\n",
    "internet = pd.read_csv('https://code.s3.yandex.net/datasets/internet.csv', index_col=[0])\n",
    "messages = pd.read_csv('https://code.s3.yandex.net/datasets/messages.csv')\n",
    "tariffs= pd.read_csv('https://code.s3.yandex.net/datasets/tariffs.csv')\n",
    "users = pd.read_csv('https://code.s3.yandex.net/datasets/users.csv')"
   ]
  },
  {
   "cell_type": "markdown",
   "id": "1ffaead2",
   "metadata": {},
   "source": [
    "<div class=\"alert alert-block alert-info\"> \n",
    "\n",
    "In all the tables, the user_id column will be the common identifier, so we \"thread\" the data from all tables along this axis to answer the questions about each user:\n",
    "\n",
    "- The number of calls made and minutes used per month.\n",
    "    \n",
    "- The number of sent messages per month.\n",
    "    \n",
    "- The volume of used internet traffic per month.\n",
    "    \n",
    "- Monthly revenue from each user.</div>\n"
   ]
  },
  {
   "cell_type": "markdown",
   "id": "11a59808",
   "metadata": {},
   "source": [
    "<div class=\"alert alert-block alert-info\">\n",
    " In the tables internet, messages, and calls, rename the columns with the same name 'id' to avoid difficulties when merging columns.</div>\n"
   ]
  },
  {
   "cell_type": "code",
   "execution_count": 72,
   "id": "ec39285a",
   "metadata": {},
   "outputs": [
    {
     "data": {
      "text/html": [
       "<div>\n",
       "<style scoped>\n",
       "    .dataframe tbody tr th:only-of-type {\n",
       "        vertical-align: middle;\n",
       "    }\n",
       "\n",
       "    .dataframe tbody tr th {\n",
       "        vertical-align: top;\n",
       "    }\n",
       "\n",
       "    .dataframe thead th {\n",
       "        text-align: right;\n",
       "    }\n",
       "</style>\n",
       "<table border=\"1\" class=\"dataframe\">\n",
       "  <thead>\n",
       "    <tr style=\"text-align: right;\">\n",
       "      <th></th>\n",
       "      <th>call_id</th>\n",
       "      <th>call_date</th>\n",
       "      <th>duration</th>\n",
       "      <th>user_id</th>\n",
       "    </tr>\n",
       "  </thead>\n",
       "  <tbody>\n",
       "    <tr>\n",
       "      <th>0</th>\n",
       "      <td>1000_0</td>\n",
       "      <td>2018-07-25</td>\n",
       "      <td>0.00</td>\n",
       "      <td>1000</td>\n",
       "    </tr>\n",
       "    <tr>\n",
       "      <th>1</th>\n",
       "      <td>1000_1</td>\n",
       "      <td>2018-08-17</td>\n",
       "      <td>0.00</td>\n",
       "      <td>1000</td>\n",
       "    </tr>\n",
       "    <tr>\n",
       "      <th>2</th>\n",
       "      <td>1000_2</td>\n",
       "      <td>2018-06-11</td>\n",
       "      <td>2.85</td>\n",
       "      <td>1000</td>\n",
       "    </tr>\n",
       "    <tr>\n",
       "      <th>3</th>\n",
       "      <td>1000_3</td>\n",
       "      <td>2018-09-21</td>\n",
       "      <td>13.80</td>\n",
       "      <td>1000</td>\n",
       "    </tr>\n",
       "    <tr>\n",
       "      <th>4</th>\n",
       "      <td>1000_4</td>\n",
       "      <td>2018-12-15</td>\n",
       "      <td>5.18</td>\n",
       "      <td>1000</td>\n",
       "    </tr>\n",
       "  </tbody>\n",
       "</table>\n",
       "</div>"
      ],
      "text/plain": [
       "  call_id   call_date  duration  user_id\n",
       "0  1000_0  2018-07-25      0.00     1000\n",
       "1  1000_1  2018-08-17      0.00     1000\n",
       "2  1000_2  2018-06-11      2.85     1000\n",
       "3  1000_3  2018-09-21     13.80     1000\n",
       "4  1000_4  2018-12-15      5.18     1000"
      ]
     },
     "execution_count": 72,
     "metadata": {},
     "output_type": "execute_result"
    }
   ],
   "source": [
    "calls.rename(columns = {'id':'call_id'}, inplace = True)\n",
    "#rankings_pd.rename(columns = {'test':'TEST'}, inplace = True)\n",
    "calls.head()"
   ]
  },
  {
   "cell_type": "code",
   "execution_count": 73,
   "id": "fc153a94",
   "metadata": {},
   "outputs": [
    {
     "data": {
      "text/html": [
       "<div>\n",
       "<style scoped>\n",
       "    .dataframe tbody tr th:only-of-type {\n",
       "        vertical-align: middle;\n",
       "    }\n",
       "\n",
       "    .dataframe tbody tr th {\n",
       "        vertical-align: top;\n",
       "    }\n",
       "\n",
       "    .dataframe thead th {\n",
       "        text-align: right;\n",
       "    }\n",
       "</style>\n",
       "<table border=\"1\" class=\"dataframe\">\n",
       "  <thead>\n",
       "    <tr style=\"text-align: right;\">\n",
       "      <th></th>\n",
       "      <th>internet_id</th>\n",
       "      <th>mb_used</th>\n",
       "      <th>session_date</th>\n",
       "      <th>user_id</th>\n",
       "    </tr>\n",
       "  </thead>\n",
       "  <tbody>\n",
       "    <tr>\n",
       "      <th>0</th>\n",
       "      <td>1000_0</td>\n",
       "      <td>112.95</td>\n",
       "      <td>2018-11-25</td>\n",
       "      <td>1000</td>\n",
       "    </tr>\n",
       "    <tr>\n",
       "      <th>1</th>\n",
       "      <td>1000_1</td>\n",
       "      <td>1052.81</td>\n",
       "      <td>2018-09-07</td>\n",
       "      <td>1000</td>\n",
       "    </tr>\n",
       "    <tr>\n",
       "      <th>2</th>\n",
       "      <td>1000_2</td>\n",
       "      <td>1197.26</td>\n",
       "      <td>2018-06-25</td>\n",
       "      <td>1000</td>\n",
       "    </tr>\n",
       "    <tr>\n",
       "      <th>3</th>\n",
       "      <td>1000_3</td>\n",
       "      <td>550.27</td>\n",
       "      <td>2018-08-22</td>\n",
       "      <td>1000</td>\n",
       "    </tr>\n",
       "    <tr>\n",
       "      <th>4</th>\n",
       "      <td>1000_4</td>\n",
       "      <td>302.56</td>\n",
       "      <td>2018-09-24</td>\n",
       "      <td>1000</td>\n",
       "    </tr>\n",
       "  </tbody>\n",
       "</table>\n",
       "</div>"
      ],
      "text/plain": [
       "  internet_id  mb_used session_date  user_id\n",
       "0      1000_0   112.95   2018-11-25     1000\n",
       "1      1000_1  1052.81   2018-09-07     1000\n",
       "2      1000_2  1197.26   2018-06-25     1000\n",
       "3      1000_3   550.27   2018-08-22     1000\n",
       "4      1000_4   302.56   2018-09-24     1000"
      ]
     },
     "execution_count": 73,
     "metadata": {},
     "output_type": "execute_result"
    }
   ],
   "source": [
    "internet.rename(columns = {'id':'internet_id'}, inplace = True)\n",
    "internet.head()"
   ]
  },
  {
   "cell_type": "code",
   "execution_count": 74,
   "id": "025b221e",
   "metadata": {},
   "outputs": [
    {
     "data": {
      "text/html": [
       "<div>\n",
       "<style scoped>\n",
       "    .dataframe tbody tr th:only-of-type {\n",
       "        vertical-align: middle;\n",
       "    }\n",
       "\n",
       "    .dataframe tbody tr th {\n",
       "        vertical-align: top;\n",
       "    }\n",
       "\n",
       "    .dataframe thead th {\n",
       "        text-align: right;\n",
       "    }\n",
       "</style>\n",
       "<table border=\"1\" class=\"dataframe\">\n",
       "  <thead>\n",
       "    <tr style=\"text-align: right;\">\n",
       "      <th></th>\n",
       "      <th>message_id</th>\n",
       "      <th>message_date</th>\n",
       "      <th>user_id</th>\n",
       "    </tr>\n",
       "  </thead>\n",
       "  <tbody>\n",
       "    <tr>\n",
       "      <th>0</th>\n",
       "      <td>1000_0</td>\n",
       "      <td>2018-06-27</td>\n",
       "      <td>1000</td>\n",
       "    </tr>\n",
       "    <tr>\n",
       "      <th>1</th>\n",
       "      <td>1000_1</td>\n",
       "      <td>2018-10-08</td>\n",
       "      <td>1000</td>\n",
       "    </tr>\n",
       "    <tr>\n",
       "      <th>2</th>\n",
       "      <td>1000_2</td>\n",
       "      <td>2018-08-04</td>\n",
       "      <td>1000</td>\n",
       "    </tr>\n",
       "    <tr>\n",
       "      <th>3</th>\n",
       "      <td>1000_3</td>\n",
       "      <td>2018-06-16</td>\n",
       "      <td>1000</td>\n",
       "    </tr>\n",
       "    <tr>\n",
       "      <th>4</th>\n",
       "      <td>1000_4</td>\n",
       "      <td>2018-12-05</td>\n",
       "      <td>1000</td>\n",
       "    </tr>\n",
       "  </tbody>\n",
       "</table>\n",
       "</div>"
      ],
      "text/plain": [
       "  message_id message_date  user_id\n",
       "0     1000_0   2018-06-27     1000\n",
       "1     1000_1   2018-10-08     1000\n",
       "2     1000_2   2018-08-04     1000\n",
       "3     1000_3   2018-06-16     1000\n",
       "4     1000_4   2018-12-05     1000"
      ]
     },
     "execution_count": 74,
     "metadata": {},
     "output_type": "execute_result"
    }
   ],
   "source": [
    "messages.rename(columns = {'id':'message_id'}, inplace = True)\n",
    "messages.head()"
   ]
  },
  {
   "cell_type": "code",
   "execution_count": 75,
   "id": "e56510bf",
   "metadata": {},
   "outputs": [
    {
     "data": {
      "text/html": [
       "<div>\n",
       "<style scoped>\n",
       "    .dataframe tbody tr th:only-of-type {\n",
       "        vertical-align: middle;\n",
       "    }\n",
       "\n",
       "    .dataframe tbody tr th {\n",
       "        vertical-align: top;\n",
       "    }\n",
       "\n",
       "    .dataframe thead th {\n",
       "        text-align: right;\n",
       "    }\n",
       "</style>\n",
       "<table border=\"1\" class=\"dataframe\">\n",
       "  <thead>\n",
       "    <tr style=\"text-align: right;\">\n",
       "      <th></th>\n",
       "      <th>messages_included</th>\n",
       "      <th>mb_per_month_included</th>\n",
       "      <th>minutes_included</th>\n",
       "      <th>rub_monthly_fee</th>\n",
       "      <th>rub_per_gb</th>\n",
       "      <th>rub_per_message</th>\n",
       "      <th>rub_per_minute</th>\n",
       "      <th>tariff_name</th>\n",
       "    </tr>\n",
       "  </thead>\n",
       "  <tbody>\n",
       "    <tr>\n",
       "      <th>0</th>\n",
       "      <td>50</td>\n",
       "      <td>15360</td>\n",
       "      <td>500</td>\n",
       "      <td>550</td>\n",
       "      <td>200</td>\n",
       "      <td>3</td>\n",
       "      <td>3</td>\n",
       "      <td>smart</td>\n",
       "    </tr>\n",
       "    <tr>\n",
       "      <th>1</th>\n",
       "      <td>1000</td>\n",
       "      <td>30720</td>\n",
       "      <td>3000</td>\n",
       "      <td>1950</td>\n",
       "      <td>150</td>\n",
       "      <td>1</td>\n",
       "      <td>1</td>\n",
       "      <td>ultra</td>\n",
       "    </tr>\n",
       "  </tbody>\n",
       "</table>\n",
       "</div>"
      ],
      "text/plain": [
       "   messages_included  mb_per_month_included  minutes_included  \\\n",
       "0                 50                  15360               500   \n",
       "1               1000                  30720              3000   \n",
       "\n",
       "   rub_monthly_fee  rub_per_gb  rub_per_message  rub_per_minute tariff_name  \n",
       "0              550         200                3               3       smart  \n",
       "1             1950         150                1               1       ultra  "
      ]
     },
     "execution_count": 75,
     "metadata": {},
     "output_type": "execute_result"
    }
   ],
   "source": [
    "tariffs"
   ]
  },
  {
   "cell_type": "code",
   "execution_count": 76,
   "id": "346e3248",
   "metadata": {},
   "outputs": [
    {
     "data": {
      "text/html": [
       "<div>\n",
       "<style scoped>\n",
       "    .dataframe tbody tr th:only-of-type {\n",
       "        vertical-align: middle;\n",
       "    }\n",
       "\n",
       "    .dataframe tbody tr th {\n",
       "        vertical-align: top;\n",
       "    }\n",
       "\n",
       "    .dataframe thead th {\n",
       "        text-align: right;\n",
       "    }\n",
       "</style>\n",
       "<table border=\"1\" class=\"dataframe\">\n",
       "  <thead>\n",
       "    <tr style=\"text-align: right;\">\n",
       "      <th></th>\n",
       "      <th>user_id</th>\n",
       "      <th>age</th>\n",
       "    </tr>\n",
       "  </thead>\n",
       "  <tbody>\n",
       "    <tr>\n",
       "      <th>count</th>\n",
       "      <td>500.000000</td>\n",
       "      <td>500.00000</td>\n",
       "    </tr>\n",
       "    <tr>\n",
       "      <th>mean</th>\n",
       "      <td>1249.500000</td>\n",
       "      <td>46.58800</td>\n",
       "    </tr>\n",
       "    <tr>\n",
       "      <th>std</th>\n",
       "      <td>144.481833</td>\n",
       "      <td>16.66763</td>\n",
       "    </tr>\n",
       "    <tr>\n",
       "      <th>min</th>\n",
       "      <td>1000.000000</td>\n",
       "      <td>18.00000</td>\n",
       "    </tr>\n",
       "    <tr>\n",
       "      <th>25%</th>\n",
       "      <td>1124.750000</td>\n",
       "      <td>32.00000</td>\n",
       "    </tr>\n",
       "    <tr>\n",
       "      <th>50%</th>\n",
       "      <td>1249.500000</td>\n",
       "      <td>46.00000</td>\n",
       "    </tr>\n",
       "    <tr>\n",
       "      <th>75%</th>\n",
       "      <td>1374.250000</td>\n",
       "      <td>62.00000</td>\n",
       "    </tr>\n",
       "    <tr>\n",
       "      <th>max</th>\n",
       "      <td>1499.000000</td>\n",
       "      <td>75.00000</td>\n",
       "    </tr>\n",
       "  </tbody>\n",
       "</table>\n",
       "</div>"
      ],
      "text/plain": [
       "           user_id        age\n",
       "count   500.000000  500.00000\n",
       "mean   1249.500000   46.58800\n",
       "std     144.481833   16.66763\n",
       "min    1000.000000   18.00000\n",
       "25%    1124.750000   32.00000\n",
       "50%    1249.500000   46.00000\n",
       "75%    1374.250000   62.00000\n",
       "max    1499.000000   75.00000"
      ]
     },
     "execution_count": 76,
     "metadata": {},
     "output_type": "execute_result"
    }
   ],
   "source": [
    "users.describe()"
   ]
  },
  {
   "cell_type": "markdown",
   "id": "274cfbdd",
   "metadata": {},
   "source": [
    "<div class=\"alert alert-block alert-info\"> Age look agequate - 18 years is minimum and ends with 75 years. </div>\n"
   ]
  },
  {
   "cell_type": "code",
   "execution_count": 77,
   "id": "c9ee0458",
   "metadata": {},
   "outputs": [
    {
     "name": "stdout",
     "output_type": "stream",
     "text": [
      "<class 'pandas.core.frame.DataFrame'>\n",
      "RangeIndex: 500 entries, 0 to 499\n",
      "Data columns (total 8 columns):\n",
      " #   Column      Non-Null Count  Dtype \n",
      "---  ------      --------------  ----- \n",
      " 0   user_id     500 non-null    int64 \n",
      " 1   age         500 non-null    int64 \n",
      " 2   churn_date  38 non-null     object\n",
      " 3   city        500 non-null    object\n",
      " 4   first_name  500 non-null    object\n",
      " 5   last_name   500 non-null    object\n",
      " 6   reg_date    500 non-null    object\n",
      " 7   tariff      500 non-null    object\n",
      "dtypes: int64(2), object(6)\n",
      "memory usage: 31.4+ KB\n"
     ]
    }
   ],
   "source": [
    "users.info()"
   ]
  },
  {
   "cell_type": "code",
   "execution_count": 78,
   "id": "fd11cb02",
   "metadata": {},
   "outputs": [
    {
     "data": {
      "text/plain": [
       "array(['ultra', 'smart'], dtype=object)"
      ]
     },
     "execution_count": 78,
     "metadata": {},
     "output_type": "execute_result"
    }
   ],
   "source": [
    "users.tariff.unique()"
   ]
  },
  {
   "cell_type": "markdown",
   "id": "4bac22fb",
   "metadata": {},
   "source": [
    " <div class=\"alert alert-block alert-info\"><h4><strong>Number of Calls Made and Minutes Used per Month;</strong></h4>\n"
   ]
  },
  {
   "cell_type": "markdown",
   "id": "e95095df",
   "metadata": {},
   "source": [
    "<div class=\"alert alert-block alert-info\"> Preprocess the calls table. It is extensive, and we need specific data - the number of minutes and calls for each client per month.\n",
    "Considering our operator's tariff policy, we round all call duration to the next minute. \n"
   ]
  },
  {
   "cell_type": "code",
   "execution_count": 79,
   "id": "3cf43445",
   "metadata": {},
   "outputs": [
    {
     "data": {
      "text/html": [
       "<div>\n",
       "<style scoped>\n",
       "    .dataframe tbody tr th:only-of-type {\n",
       "        vertical-align: middle;\n",
       "    }\n",
       "\n",
       "    .dataframe tbody tr th {\n",
       "        vertical-align: top;\n",
       "    }\n",
       "\n",
       "    .dataframe thead th {\n",
       "        text-align: right;\n",
       "    }\n",
       "</style>\n",
       "<table border=\"1\" class=\"dataframe\">\n",
       "  <thead>\n",
       "    <tr style=\"text-align: right;\">\n",
       "      <th></th>\n",
       "      <th>call_id</th>\n",
       "      <th>call_date</th>\n",
       "      <th>duration</th>\n",
       "      <th>user_id</th>\n",
       "    </tr>\n",
       "  </thead>\n",
       "  <tbody>\n",
       "    <tr>\n",
       "      <th>0</th>\n",
       "      <td>1000_0</td>\n",
       "      <td>2018-07-25</td>\n",
       "      <td>0.0</td>\n",
       "      <td>1000</td>\n",
       "    </tr>\n",
       "    <tr>\n",
       "      <th>1</th>\n",
       "      <td>1000_1</td>\n",
       "      <td>2018-08-17</td>\n",
       "      <td>0.0</td>\n",
       "      <td>1000</td>\n",
       "    </tr>\n",
       "    <tr>\n",
       "      <th>2</th>\n",
       "      <td>1000_2</td>\n",
       "      <td>2018-06-11</td>\n",
       "      <td>3.0</td>\n",
       "      <td>1000</td>\n",
       "    </tr>\n",
       "    <tr>\n",
       "      <th>3</th>\n",
       "      <td>1000_3</td>\n",
       "      <td>2018-09-21</td>\n",
       "      <td>14.0</td>\n",
       "      <td>1000</td>\n",
       "    </tr>\n",
       "    <tr>\n",
       "      <th>4</th>\n",
       "      <td>1000_4</td>\n",
       "      <td>2018-12-15</td>\n",
       "      <td>6.0</td>\n",
       "      <td>1000</td>\n",
       "    </tr>\n",
       "  </tbody>\n",
       "</table>\n",
       "</div>"
      ],
      "text/plain": [
       "  call_id   call_date  duration  user_id\n",
       "0  1000_0  2018-07-25       0.0     1000\n",
       "1  1000_1  2018-08-17       0.0     1000\n",
       "2  1000_2  2018-06-11       3.0     1000\n",
       "3  1000_3  2018-09-21      14.0     1000\n",
       "4  1000_4  2018-12-15       6.0     1000"
      ]
     },
     "execution_count": 79,
     "metadata": {},
     "output_type": "execute_result"
    }
   ],
   "source": [
    "calls['duration'] = calls['duration'].apply(np.ceil)\n",
    "calls.head()"
   ]
  },
  {
   "cell_type": "markdown",
   "id": "f1300ea6",
   "metadata": {},
   "source": [
    "<div class=\"alert alert-block alert-info\"> For future convenient merging of tables, we will change all columns with service usage dates to the name 'month,' as we will round them to the month's digit. </div>\n"
   ]
  },
  {
   "cell_type": "code",
   "execution_count": 80,
   "id": "fe161329",
   "metadata": {},
   "outputs": [],
   "source": [
    "calls.rename(columns = {'call_date':'month'}, inplace = True)"
   ]
  },
  {
   "cell_type": "code",
   "execution_count": 81,
   "id": "745f6771",
   "metadata": {},
   "outputs": [
    {
     "data": {
      "text/html": [
       "<div>\n",
       "<style scoped>\n",
       "    .dataframe tbody tr th:only-of-type {\n",
       "        vertical-align: middle;\n",
       "    }\n",
       "\n",
       "    .dataframe tbody tr th {\n",
       "        vertical-align: top;\n",
       "    }\n",
       "\n",
       "    .dataframe thead th {\n",
       "        text-align: right;\n",
       "    }\n",
       "</style>\n",
       "<table border=\"1\" class=\"dataframe\">\n",
       "  <thead>\n",
       "    <tr style=\"text-align: right;\">\n",
       "      <th></th>\n",
       "      <th>call_id</th>\n",
       "      <th>month</th>\n",
       "      <th>duration</th>\n",
       "      <th>user_id</th>\n",
       "    </tr>\n",
       "  </thead>\n",
       "  <tbody>\n",
       "    <tr>\n",
       "      <th>0</th>\n",
       "      <td>1000_0</td>\n",
       "      <td>2018-07-25</td>\n",
       "      <td>0.0</td>\n",
       "      <td>1000</td>\n",
       "    </tr>\n",
       "    <tr>\n",
       "      <th>1</th>\n",
       "      <td>1000_1</td>\n",
       "      <td>2018-08-17</td>\n",
       "      <td>0.0</td>\n",
       "      <td>1000</td>\n",
       "    </tr>\n",
       "    <tr>\n",
       "      <th>2</th>\n",
       "      <td>1000_2</td>\n",
       "      <td>2018-06-11</td>\n",
       "      <td>3.0</td>\n",
       "      <td>1000</td>\n",
       "    </tr>\n",
       "    <tr>\n",
       "      <th>3</th>\n",
       "      <td>1000_3</td>\n",
       "      <td>2018-09-21</td>\n",
       "      <td>14.0</td>\n",
       "      <td>1000</td>\n",
       "    </tr>\n",
       "    <tr>\n",
       "      <th>4</th>\n",
       "      <td>1000_4</td>\n",
       "      <td>2018-12-15</td>\n",
       "      <td>6.0</td>\n",
       "      <td>1000</td>\n",
       "    </tr>\n",
       "  </tbody>\n",
       "</table>\n",
       "</div>"
      ],
      "text/plain": [
       "  call_id       month  duration  user_id\n",
       "0  1000_0  2018-07-25       0.0     1000\n",
       "1  1000_1  2018-08-17       0.0     1000\n",
       "2  1000_2  2018-06-11       3.0     1000\n",
       "3  1000_3  2018-09-21      14.0     1000\n",
       "4  1000_4  2018-12-15       6.0     1000"
      ]
     },
     "execution_count": 81,
     "metadata": {},
     "output_type": "execute_result"
    }
   ],
   "source": [
    "calls.head()"
   ]
  },
  {
   "cell_type": "markdown",
   "id": "ae973d00",
   "metadata": {},
   "source": [
    "<div class=\"alert alert-block alert-info\"> The date column is currently in object format. To extract the necessary information, we will transform it into a datetime format and then extract only the month value from it - we don't need further granularity. </div>\n"
   ]
  },
  {
   "cell_type": "code",
   "execution_count": 82,
   "id": "776c7e37",
   "metadata": {},
   "outputs": [
    {
     "data": {
      "text/html": [
       "<div>\n",
       "<style scoped>\n",
       "    .dataframe tbody tr th:only-of-type {\n",
       "        vertical-align: middle;\n",
       "    }\n",
       "\n",
       "    .dataframe tbody tr th {\n",
       "        vertical-align: top;\n",
       "    }\n",
       "\n",
       "    .dataframe thead th {\n",
       "        text-align: right;\n",
       "    }\n",
       "</style>\n",
       "<table border=\"1\" class=\"dataframe\">\n",
       "  <thead>\n",
       "    <tr style=\"text-align: right;\">\n",
       "      <th></th>\n",
       "      <th>call_id</th>\n",
       "      <th>month</th>\n",
       "      <th>duration</th>\n",
       "      <th>user_id</th>\n",
       "    </tr>\n",
       "  </thead>\n",
       "  <tbody>\n",
       "    <tr>\n",
       "      <th>0</th>\n",
       "      <td>1000_0</td>\n",
       "      <td>2018-07-25</td>\n",
       "      <td>0</td>\n",
       "      <td>1000</td>\n",
       "    </tr>\n",
       "    <tr>\n",
       "      <th>1</th>\n",
       "      <td>1000_1</td>\n",
       "      <td>2018-08-17</td>\n",
       "      <td>0</td>\n",
       "      <td>1000</td>\n",
       "    </tr>\n",
       "    <tr>\n",
       "      <th>2</th>\n",
       "      <td>1000_2</td>\n",
       "      <td>2018-06-11</td>\n",
       "      <td>3</td>\n",
       "      <td>1000</td>\n",
       "    </tr>\n",
       "    <tr>\n",
       "      <th>3</th>\n",
       "      <td>1000_3</td>\n",
       "      <td>2018-09-21</td>\n",
       "      <td>14</td>\n",
       "      <td>1000</td>\n",
       "    </tr>\n",
       "    <tr>\n",
       "      <th>4</th>\n",
       "      <td>1000_4</td>\n",
       "      <td>2018-12-15</td>\n",
       "      <td>6</td>\n",
       "      <td>1000</td>\n",
       "    </tr>\n",
       "  </tbody>\n",
       "</table>\n",
       "</div>"
      ],
      "text/plain": [
       "  call_id      month  duration  user_id\n",
       "0  1000_0 2018-07-25         0     1000\n",
       "1  1000_1 2018-08-17         0     1000\n",
       "2  1000_2 2018-06-11         3     1000\n",
       "3  1000_3 2018-09-21        14     1000\n",
       "4  1000_4 2018-12-15         6     1000"
      ]
     },
     "execution_count": 82,
     "metadata": {},
     "output_type": "execute_result"
    }
   ],
   "source": [
    "calls['month'] = pd.to_datetime(calls['month'], format='%Y-%m-%d')\n",
    "calls['duration'] = calls['duration'].astype(int)\n",
    "calls.head()"
   ]
  },
  {
   "cell_type": "code",
   "execution_count": 83,
   "id": "2bbeae75",
   "metadata": {},
   "outputs": [
    {
     "data": {
      "text/html": [
       "<div>\n",
       "<style scoped>\n",
       "    .dataframe tbody tr th:only-of-type {\n",
       "        vertical-align: middle;\n",
       "    }\n",
       "\n",
       "    .dataframe tbody tr th {\n",
       "        vertical-align: top;\n",
       "    }\n",
       "\n",
       "    .dataframe thead th {\n",
       "        text-align: right;\n",
       "    }\n",
       "</style>\n",
       "<table border=\"1\" class=\"dataframe\">\n",
       "  <thead>\n",
       "    <tr style=\"text-align: right;\">\n",
       "      <th></th>\n",
       "      <th>call_id</th>\n",
       "      <th>month</th>\n",
       "      <th>duration</th>\n",
       "      <th>user_id</th>\n",
       "    </tr>\n",
       "  </thead>\n",
       "  <tbody>\n",
       "    <tr>\n",
       "      <th>0</th>\n",
       "      <td>1000_0</td>\n",
       "      <td>7</td>\n",
       "      <td>0</td>\n",
       "      <td>1000</td>\n",
       "    </tr>\n",
       "    <tr>\n",
       "      <th>1</th>\n",
       "      <td>1000_1</td>\n",
       "      <td>8</td>\n",
       "      <td>0</td>\n",
       "      <td>1000</td>\n",
       "    </tr>\n",
       "    <tr>\n",
       "      <th>2</th>\n",
       "      <td>1000_2</td>\n",
       "      <td>6</td>\n",
       "      <td>3</td>\n",
       "      <td>1000</td>\n",
       "    </tr>\n",
       "    <tr>\n",
       "      <th>3</th>\n",
       "      <td>1000_3</td>\n",
       "      <td>9</td>\n",
       "      <td>14</td>\n",
       "      <td>1000</td>\n",
       "    </tr>\n",
       "    <tr>\n",
       "      <th>4</th>\n",
       "      <td>1000_4</td>\n",
       "      <td>12</td>\n",
       "      <td>6</td>\n",
       "      <td>1000</td>\n",
       "    </tr>\n",
       "  </tbody>\n",
       "</table>\n",
       "</div>"
      ],
      "text/plain": [
       "  call_id  month  duration  user_id\n",
       "0  1000_0      7         0     1000\n",
       "1  1000_1      8         0     1000\n",
       "2  1000_2      6         3     1000\n",
       "3  1000_3      9        14     1000\n",
       "4  1000_4     12         6     1000"
      ]
     },
     "execution_count": 83,
     "metadata": {},
     "output_type": "execute_result"
    }
   ],
   "source": [
    "calls['month'] = calls['month'].dt.month\n",
    "calls.head()"
   ]
  },
  {
   "cell_type": "code",
   "execution_count": 84,
   "id": "faa50097",
   "metadata": {},
   "outputs": [
    {
     "name": "stdout",
     "output_type": "stream",
     "text": [
      "<class 'pandas.core.frame.DataFrame'>\n",
      "RangeIndex: 202607 entries, 0 to 202606\n",
      "Data columns (total 4 columns):\n",
      " #   Column    Non-Null Count   Dtype \n",
      "---  ------    --------------   ----- \n",
      " 0   call_id   202607 non-null  object\n",
      " 1   month     202607 non-null  int32 \n",
      " 2   duration  202607 non-null  int32 \n",
      " 3   user_id   202607 non-null  int64 \n",
      "dtypes: int32(2), int64(1), object(1)\n",
      "memory usage: 4.6+ MB\n"
     ]
    }
   ],
   "source": [
    "calls.info()"
   ]
  },
  {
   "cell_type": "markdown",
   "id": "e09d4cd4",
   "metadata": {},
   "source": [
    "<div class=\"alert alert-block alert-info\"> Let`s create table with necessary data from calls - amount of calls and their duration. </div>\n"
   ]
  },
  {
   "cell_type": "code",
   "execution_count": 85,
   "id": "9d59b88f",
   "metadata": {},
   "outputs": [
    {
     "data": {
      "text/html": [
       "<div>\n",
       "<style scoped>\n",
       "    .dataframe tbody tr th:only-of-type {\n",
       "        vertical-align: middle;\n",
       "    }\n",
       "\n",
       "    .dataframe tbody tr th {\n",
       "        vertical-align: top;\n",
       "    }\n",
       "\n",
       "    .dataframe thead th {\n",
       "        text-align: right;\n",
       "    }\n",
       "</style>\n",
       "<table border=\"1\" class=\"dataframe\">\n",
       "  <thead>\n",
       "    <tr style=\"text-align: right;\">\n",
       "      <th></th>\n",
       "      <th></th>\n",
       "      <th>calls</th>\n",
       "      <th>duration</th>\n",
       "    </tr>\n",
       "    <tr>\n",
       "      <th>user_id</th>\n",
       "      <th>month</th>\n",
       "      <th></th>\n",
       "      <th></th>\n",
       "    </tr>\n",
       "  </thead>\n",
       "  <tbody>\n",
       "    <tr>\n",
       "      <th rowspan=\"5\" valign=\"top\">1000</th>\n",
       "      <th>5</th>\n",
       "      <td>22</td>\n",
       "      <td>159</td>\n",
       "    </tr>\n",
       "    <tr>\n",
       "      <th>6</th>\n",
       "      <td>43</td>\n",
       "      <td>172</td>\n",
       "    </tr>\n",
       "    <tr>\n",
       "      <th>7</th>\n",
       "      <td>47</td>\n",
       "      <td>340</td>\n",
       "    </tr>\n",
       "    <tr>\n",
       "      <th>8</th>\n",
       "      <td>52</td>\n",
       "      <td>408</td>\n",
       "    </tr>\n",
       "    <tr>\n",
       "      <th>9</th>\n",
       "      <td>58</td>\n",
       "      <td>466</td>\n",
       "    </tr>\n",
       "    <tr>\n",
       "      <th>...</th>\n",
       "      <th>...</th>\n",
       "      <td>...</td>\n",
       "      <td>...</td>\n",
       "    </tr>\n",
       "    <tr>\n",
       "      <th>1498</th>\n",
       "      <th>10</th>\n",
       "      <td>41</td>\n",
       "      <td>247</td>\n",
       "    </tr>\n",
       "    <tr>\n",
       "      <th rowspan=\"4\" valign=\"top\">1499</th>\n",
       "      <th>9</th>\n",
       "      <td>9</td>\n",
       "      <td>70</td>\n",
       "    </tr>\n",
       "    <tr>\n",
       "      <th>10</th>\n",
       "      <td>68</td>\n",
       "      <td>449</td>\n",
       "    </tr>\n",
       "    <tr>\n",
       "      <th>11</th>\n",
       "      <td>74</td>\n",
       "      <td>612</td>\n",
       "    </tr>\n",
       "    <tr>\n",
       "      <th>12</th>\n",
       "      <td>69</td>\n",
       "      <td>492</td>\n",
       "    </tr>\n",
       "  </tbody>\n",
       "</table>\n",
       "<p>3174 rows × 2 columns</p>\n",
       "</div>"
      ],
      "text/plain": [
       "               calls  duration\n",
       "user_id month                 \n",
       "1000    5         22       159\n",
       "        6         43       172\n",
       "        7         47       340\n",
       "        8         52       408\n",
       "        9         58       466\n",
       "...              ...       ...\n",
       "1498    10        41       247\n",
       "1499    9          9        70\n",
       "        10        68       449\n",
       "        11        74       612\n",
       "        12        69       492\n",
       "\n",
       "[3174 rows x 2 columns]"
      ]
     },
     "execution_count": 85,
     "metadata": {},
     "output_type": "execute_result"
    }
   ],
   "source": [
    "call_data = calls.groupby(['user_id','month']).duration.agg(['count','sum'])\n",
    "call_data.rename(columns={'count': 'calls', 'sum': 'duration'}, inplace = True)\n",
    "call_data"
   ]
  },
  {
   "cell_type": "markdown",
   "id": "d03067b8",
   "metadata": {},
   "source": [
    "<div class=\"alert alert-block alert-info\"> - The number of sent messages per month; </div>\n"
   ]
  },
  {
   "cell_type": "code",
   "execution_count": 86,
   "id": "849aede1",
   "metadata": {},
   "outputs": [],
   "source": [
    "messages.rename(columns = {'message_date':'month'}, inplace = True)"
   ]
  },
  {
   "cell_type": "code",
   "execution_count": 87,
   "id": "18abd9d0",
   "metadata": {},
   "outputs": [],
   "source": [
    "messages['month'] = pd.to_datetime(messages['month'], format='%Y-%m-%d')"
   ]
  },
  {
   "cell_type": "code",
   "execution_count": 88,
   "id": "d627d729",
   "metadata": {},
   "outputs": [],
   "source": [
    "messages['month'] = messages['month'].dt.month"
   ]
  },
  {
   "cell_type": "code",
   "execution_count": 89,
   "id": "ee525ee5",
   "metadata": {},
   "outputs": [
    {
     "data": {
      "text/html": [
       "<div>\n",
       "<style scoped>\n",
       "    .dataframe tbody tr th:only-of-type {\n",
       "        vertical-align: middle;\n",
       "    }\n",
       "\n",
       "    .dataframe tbody tr th {\n",
       "        vertical-align: top;\n",
       "    }\n",
       "\n",
       "    .dataframe thead th {\n",
       "        text-align: right;\n",
       "    }\n",
       "</style>\n",
       "<table border=\"1\" class=\"dataframe\">\n",
       "  <thead>\n",
       "    <tr style=\"text-align: right;\">\n",
       "      <th></th>\n",
       "      <th>message_id</th>\n",
       "      <th>month</th>\n",
       "      <th>user_id</th>\n",
       "    </tr>\n",
       "  </thead>\n",
       "  <tbody>\n",
       "    <tr>\n",
       "      <th>0</th>\n",
       "      <td>1000_0</td>\n",
       "      <td>6</td>\n",
       "      <td>1000</td>\n",
       "    </tr>\n",
       "    <tr>\n",
       "      <th>1</th>\n",
       "      <td>1000_1</td>\n",
       "      <td>10</td>\n",
       "      <td>1000</td>\n",
       "    </tr>\n",
       "    <tr>\n",
       "      <th>2</th>\n",
       "      <td>1000_2</td>\n",
       "      <td>8</td>\n",
       "      <td>1000</td>\n",
       "    </tr>\n",
       "    <tr>\n",
       "      <th>3</th>\n",
       "      <td>1000_3</td>\n",
       "      <td>6</td>\n",
       "      <td>1000</td>\n",
       "    </tr>\n",
       "    <tr>\n",
       "      <th>4</th>\n",
       "      <td>1000_4</td>\n",
       "      <td>12</td>\n",
       "      <td>1000</td>\n",
       "    </tr>\n",
       "    <tr>\n",
       "      <th>...</th>\n",
       "      <td>...</td>\n",
       "      <td>...</td>\n",
       "      <td>...</td>\n",
       "    </tr>\n",
       "    <tr>\n",
       "      <th>123031</th>\n",
       "      <td>1499_179</td>\n",
       "      <td>12</td>\n",
       "      <td>1499</td>\n",
       "    </tr>\n",
       "    <tr>\n",
       "      <th>123032</th>\n",
       "      <td>1499_180</td>\n",
       "      <td>9</td>\n",
       "      <td>1499</td>\n",
       "    </tr>\n",
       "    <tr>\n",
       "      <th>123033</th>\n",
       "      <td>1499_181</td>\n",
       "      <td>9</td>\n",
       "      <td>1499</td>\n",
       "    </tr>\n",
       "    <tr>\n",
       "      <th>123034</th>\n",
       "      <td>1499_182</td>\n",
       "      <td>11</td>\n",
       "      <td>1499</td>\n",
       "    </tr>\n",
       "    <tr>\n",
       "      <th>123035</th>\n",
       "      <td>1499_183</td>\n",
       "      <td>11</td>\n",
       "      <td>1499</td>\n",
       "    </tr>\n",
       "  </tbody>\n",
       "</table>\n",
       "<p>123036 rows × 3 columns</p>\n",
       "</div>"
      ],
      "text/plain": [
       "       message_id  month  user_id\n",
       "0          1000_0      6     1000\n",
       "1          1000_1     10     1000\n",
       "2          1000_2      8     1000\n",
       "3          1000_3      6     1000\n",
       "4          1000_4     12     1000\n",
       "...           ...    ...      ...\n",
       "123031   1499_179     12     1499\n",
       "123032   1499_180      9     1499\n",
       "123033   1499_181      9     1499\n",
       "123034   1499_182     11     1499\n",
       "123035   1499_183     11     1499\n",
       "\n",
       "[123036 rows x 3 columns]"
      ]
     },
     "execution_count": 89,
     "metadata": {},
     "output_type": "execute_result"
    }
   ],
   "source": [
    "messages"
   ]
  },
  {
   "cell_type": "code",
   "execution_count": 90,
   "id": "c1c5ef9f",
   "metadata": {},
   "outputs": [
    {
     "data": {
      "text/html": [
       "<div>\n",
       "<style scoped>\n",
       "    .dataframe tbody tr th:only-of-type {\n",
       "        vertical-align: middle;\n",
       "    }\n",
       "\n",
       "    .dataframe tbody tr th {\n",
       "        vertical-align: top;\n",
       "    }\n",
       "\n",
       "    .dataframe thead th {\n",
       "        text-align: right;\n",
       "    }\n",
       "</style>\n",
       "<table border=\"1\" class=\"dataframe\">\n",
       "  <thead>\n",
       "    <tr style=\"text-align: right;\">\n",
       "      <th></th>\n",
       "      <th></th>\n",
       "      <th>messages</th>\n",
       "    </tr>\n",
       "    <tr>\n",
       "      <th>user_id</th>\n",
       "      <th>month</th>\n",
       "      <th></th>\n",
       "    </tr>\n",
       "  </thead>\n",
       "  <tbody>\n",
       "    <tr>\n",
       "      <th rowspan=\"5\" valign=\"top\">1000</th>\n",
       "      <th>5</th>\n",
       "      <td>22</td>\n",
       "    </tr>\n",
       "    <tr>\n",
       "      <th>6</th>\n",
       "      <td>60</td>\n",
       "    </tr>\n",
       "    <tr>\n",
       "      <th>7</th>\n",
       "      <td>75</td>\n",
       "    </tr>\n",
       "    <tr>\n",
       "      <th>8</th>\n",
       "      <td>81</td>\n",
       "    </tr>\n",
       "    <tr>\n",
       "      <th>9</th>\n",
       "      <td>57</td>\n",
       "    </tr>\n",
       "    <tr>\n",
       "      <th>...</th>\n",
       "      <th>...</th>\n",
       "      <td>...</td>\n",
       "    </tr>\n",
       "    <tr>\n",
       "      <th>1498</th>\n",
       "      <th>10</th>\n",
       "      <td>42</td>\n",
       "    </tr>\n",
       "    <tr>\n",
       "      <th rowspan=\"4\" valign=\"top\">1499</th>\n",
       "      <th>9</th>\n",
       "      <td>11</td>\n",
       "    </tr>\n",
       "    <tr>\n",
       "      <th>10</th>\n",
       "      <td>48</td>\n",
       "    </tr>\n",
       "    <tr>\n",
       "      <th>11</th>\n",
       "      <td>59</td>\n",
       "    </tr>\n",
       "    <tr>\n",
       "      <th>12</th>\n",
       "      <td>66</td>\n",
       "    </tr>\n",
       "  </tbody>\n",
       "</table>\n",
       "<p>2717 rows × 1 columns</p>\n",
       "</div>"
      ],
      "text/plain": [
       "               messages\n",
       "user_id month          \n",
       "1000    5            22\n",
       "        6            60\n",
       "        7            75\n",
       "        8            81\n",
       "        9            57\n",
       "...                 ...\n",
       "1498    10           42\n",
       "1499    9            11\n",
       "        10           48\n",
       "        11           59\n",
       "        12           66\n",
       "\n",
       "[2717 rows x 1 columns]"
      ]
     },
     "execution_count": 90,
     "metadata": {},
     "output_type": "execute_result"
    }
   ],
   "source": [
    "messages_count = messages.groupby(['user_id','month']).count()\n",
    "\n",
    "messages_count.rename(columns = {'message_id':'messages'},inplace = True)\n",
    "\n",
    "messages_count"
   ]
  },
  {
   "cell_type": "markdown",
   "id": "53a28747",
   "metadata": {},
   "source": [
    "<div class=\"alert alert-block alert-info\"> Now, we are creating a table with data on messages and calls. </div>\n"
   ]
  },
  {
   "cell_type": "code",
   "execution_count": 91,
   "id": "024d1f50",
   "metadata": {},
   "outputs": [
    {
     "data": {
      "text/html": [
       "<div>\n",
       "<style scoped>\n",
       "    .dataframe tbody tr th:only-of-type {\n",
       "        vertical-align: middle;\n",
       "    }\n",
       "\n",
       "    .dataframe tbody tr th {\n",
       "        vertical-align: top;\n",
       "    }\n",
       "\n",
       "    .dataframe thead th {\n",
       "        text-align: right;\n",
       "    }\n",
       "</style>\n",
       "<table border=\"1\" class=\"dataframe\">\n",
       "  <thead>\n",
       "    <tr style=\"text-align: right;\">\n",
       "      <th></th>\n",
       "      <th></th>\n",
       "      <th>calls</th>\n",
       "      <th>duration</th>\n",
       "      <th>messages</th>\n",
       "    </tr>\n",
       "    <tr>\n",
       "      <th>user_id</th>\n",
       "      <th>month</th>\n",
       "      <th></th>\n",
       "      <th></th>\n",
       "      <th></th>\n",
       "    </tr>\n",
       "  </thead>\n",
       "  <tbody>\n",
       "    <tr>\n",
       "      <th rowspan=\"5\" valign=\"top\">1000</th>\n",
       "      <th>5</th>\n",
       "      <td>22.0</td>\n",
       "      <td>159.0</td>\n",
       "      <td>22.0</td>\n",
       "    </tr>\n",
       "    <tr>\n",
       "      <th>6</th>\n",
       "      <td>43.0</td>\n",
       "      <td>172.0</td>\n",
       "      <td>60.0</td>\n",
       "    </tr>\n",
       "    <tr>\n",
       "      <th>7</th>\n",
       "      <td>47.0</td>\n",
       "      <td>340.0</td>\n",
       "      <td>75.0</td>\n",
       "    </tr>\n",
       "    <tr>\n",
       "      <th>8</th>\n",
       "      <td>52.0</td>\n",
       "      <td>408.0</td>\n",
       "      <td>81.0</td>\n",
       "    </tr>\n",
       "    <tr>\n",
       "      <th>9</th>\n",
       "      <td>58.0</td>\n",
       "      <td>466.0</td>\n",
       "      <td>57.0</td>\n",
       "    </tr>\n",
       "    <tr>\n",
       "      <th>...</th>\n",
       "      <th>...</th>\n",
       "      <td>...</td>\n",
       "      <td>...</td>\n",
       "      <td>...</td>\n",
       "    </tr>\n",
       "    <tr>\n",
       "      <th>1498</th>\n",
       "      <th>10</th>\n",
       "      <td>41.0</td>\n",
       "      <td>247.0</td>\n",
       "      <td>42.0</td>\n",
       "    </tr>\n",
       "    <tr>\n",
       "      <th rowspan=\"4\" valign=\"top\">1499</th>\n",
       "      <th>9</th>\n",
       "      <td>9.0</td>\n",
       "      <td>70.0</td>\n",
       "      <td>11.0</td>\n",
       "    </tr>\n",
       "    <tr>\n",
       "      <th>10</th>\n",
       "      <td>68.0</td>\n",
       "      <td>449.0</td>\n",
       "      <td>48.0</td>\n",
       "    </tr>\n",
       "    <tr>\n",
       "      <th>11</th>\n",
       "      <td>74.0</td>\n",
       "      <td>612.0</td>\n",
       "      <td>59.0</td>\n",
       "    </tr>\n",
       "    <tr>\n",
       "      <th>12</th>\n",
       "      <td>69.0</td>\n",
       "      <td>492.0</td>\n",
       "      <td>66.0</td>\n",
       "    </tr>\n",
       "  </tbody>\n",
       "</table>\n",
       "<p>3213 rows × 3 columns</p>\n",
       "</div>"
      ],
      "text/plain": [
       "               calls  duration  messages\n",
       "user_id month                           \n",
       "1000    5       22.0     159.0      22.0\n",
       "        6       43.0     172.0      60.0\n",
       "        7       47.0     340.0      75.0\n",
       "        8       52.0     408.0      81.0\n",
       "        9       58.0     466.0      57.0\n",
       "...              ...       ...       ...\n",
       "1498    10      41.0     247.0      42.0\n",
       "1499    9        9.0      70.0      11.0\n",
       "        10      68.0     449.0      48.0\n",
       "        11      74.0     612.0      59.0\n",
       "        12      69.0     492.0      66.0\n",
       "\n",
       "[3213 rows x 3 columns]"
      ]
     },
     "execution_count": 91,
     "metadata": {},
     "output_type": "execute_result"
    }
   ],
   "source": [
    "call_plus_message = call_data.join(messages_count, how = 'outer')\n",
    "\n",
    "call_plus_message"
   ]
  },
  {
   "cell_type": "markdown",
   "id": "8a475478",
   "metadata": {},
   "source": [
    "<div class=\"alert alert-block alert-info\"> - The volume of used internet traffic per month; </div>\n"
   ]
  },
  {
   "cell_type": "code",
   "execution_count": 92,
   "id": "ba5e446c",
   "metadata": {},
   "outputs": [
    {
     "data": {
      "text/html": [
       "<div>\n",
       "<style scoped>\n",
       "    .dataframe tbody tr th:only-of-type {\n",
       "        vertical-align: middle;\n",
       "    }\n",
       "\n",
       "    .dataframe tbody tr th {\n",
       "        vertical-align: top;\n",
       "    }\n",
       "\n",
       "    .dataframe thead th {\n",
       "        text-align: right;\n",
       "    }\n",
       "</style>\n",
       "<table border=\"1\" class=\"dataframe\">\n",
       "  <thead>\n",
       "    <tr style=\"text-align: right;\">\n",
       "      <th></th>\n",
       "      <th>internet_id</th>\n",
       "      <th>mb_used</th>\n",
       "      <th>session_date</th>\n",
       "      <th>user_id</th>\n",
       "      <th>gb_used</th>\n",
       "    </tr>\n",
       "  </thead>\n",
       "  <tbody>\n",
       "    <tr>\n",
       "      <th>0</th>\n",
       "      <td>1000_0</td>\n",
       "      <td>112.95</td>\n",
       "      <td>2018-11-25</td>\n",
       "      <td>1000</td>\n",
       "      <td>0.110303</td>\n",
       "    </tr>\n",
       "    <tr>\n",
       "      <th>1</th>\n",
       "      <td>1000_1</td>\n",
       "      <td>1052.81</td>\n",
       "      <td>2018-09-07</td>\n",
       "      <td>1000</td>\n",
       "      <td>1.028135</td>\n",
       "    </tr>\n",
       "    <tr>\n",
       "      <th>2</th>\n",
       "      <td>1000_2</td>\n",
       "      <td>1197.26</td>\n",
       "      <td>2018-06-25</td>\n",
       "      <td>1000</td>\n",
       "      <td>1.169199</td>\n",
       "    </tr>\n",
       "    <tr>\n",
       "      <th>3</th>\n",
       "      <td>1000_3</td>\n",
       "      <td>550.27</td>\n",
       "      <td>2018-08-22</td>\n",
       "      <td>1000</td>\n",
       "      <td>0.537373</td>\n",
       "    </tr>\n",
       "    <tr>\n",
       "      <th>4</th>\n",
       "      <td>1000_4</td>\n",
       "      <td>302.56</td>\n",
       "      <td>2018-09-24</td>\n",
       "      <td>1000</td>\n",
       "      <td>0.295469</td>\n",
       "    </tr>\n",
       "    <tr>\n",
       "      <th>...</th>\n",
       "      <td>...</td>\n",
       "      <td>...</td>\n",
       "      <td>...</td>\n",
       "      <td>...</td>\n",
       "      <td>...</td>\n",
       "    </tr>\n",
       "    <tr>\n",
       "      <th>149391</th>\n",
       "      <td>1499_152</td>\n",
       "      <td>318.90</td>\n",
       "      <td>2018-10-03</td>\n",
       "      <td>1499</td>\n",
       "      <td>0.311426</td>\n",
       "    </tr>\n",
       "    <tr>\n",
       "      <th>149392</th>\n",
       "      <td>1499_153</td>\n",
       "      <td>490.13</td>\n",
       "      <td>2018-12-14</td>\n",
       "      <td>1499</td>\n",
       "      <td>0.478643</td>\n",
       "    </tr>\n",
       "    <tr>\n",
       "      <th>149393</th>\n",
       "      <td>1499_154</td>\n",
       "      <td>0.00</td>\n",
       "      <td>2018-10-27</td>\n",
       "      <td>1499</td>\n",
       "      <td>0.000000</td>\n",
       "    </tr>\n",
       "    <tr>\n",
       "      <th>149394</th>\n",
       "      <td>1499_155</td>\n",
       "      <td>1246.32</td>\n",
       "      <td>2018-11-26</td>\n",
       "      <td>1499</td>\n",
       "      <td>1.217109</td>\n",
       "    </tr>\n",
       "    <tr>\n",
       "      <th>149395</th>\n",
       "      <td>1499_156</td>\n",
       "      <td>544.37</td>\n",
       "      <td>2018-10-26</td>\n",
       "      <td>1499</td>\n",
       "      <td>0.531611</td>\n",
       "    </tr>\n",
       "  </tbody>\n",
       "</table>\n",
       "<p>149396 rows × 5 columns</p>\n",
       "</div>"
      ],
      "text/plain": [
       "       internet_id  mb_used session_date  user_id   gb_used\n",
       "0           1000_0   112.95   2018-11-25     1000  0.110303\n",
       "1           1000_1  1052.81   2018-09-07     1000  1.028135\n",
       "2           1000_2  1197.26   2018-06-25     1000  1.169199\n",
       "3           1000_3   550.27   2018-08-22     1000  0.537373\n",
       "4           1000_4   302.56   2018-09-24     1000  0.295469\n",
       "...            ...      ...          ...      ...       ...\n",
       "149391    1499_152   318.90   2018-10-03     1499  0.311426\n",
       "149392    1499_153   490.13   2018-12-14     1499  0.478643\n",
       "149393    1499_154     0.00   2018-10-27     1499  0.000000\n",
       "149394    1499_155  1246.32   2018-11-26     1499  1.217109\n",
       "149395    1499_156   544.37   2018-10-26     1499  0.531611\n",
       "\n",
       "[149396 rows x 5 columns]"
      ]
     },
     "execution_count": 92,
     "metadata": {},
     "output_type": "execute_result"
    }
   ],
   "source": [
    "internet['gb_used'] = (internet['mb_used']/1024)\n",
    "internet\n"
   ]
  },
  {
   "cell_type": "code",
   "execution_count": 93,
   "id": "c029584c",
   "metadata": {},
   "outputs": [],
   "source": [
    "internet.rename(columns = {'session_date':'month'}, inplace = True)"
   ]
  },
  {
   "cell_type": "code",
   "execution_count": 94,
   "id": "a98cfef7",
   "metadata": {},
   "outputs": [
    {
     "data": {
      "text/html": [
       "<div>\n",
       "<style scoped>\n",
       "    .dataframe tbody tr th:only-of-type {\n",
       "        vertical-align: middle;\n",
       "    }\n",
       "\n",
       "    .dataframe tbody tr th {\n",
       "        vertical-align: top;\n",
       "    }\n",
       "\n",
       "    .dataframe thead th {\n",
       "        text-align: right;\n",
       "    }\n",
       "</style>\n",
       "<table border=\"1\" class=\"dataframe\">\n",
       "  <thead>\n",
       "    <tr style=\"text-align: right;\">\n",
       "      <th></th>\n",
       "      <th>internet_id</th>\n",
       "      <th>mb_used</th>\n",
       "      <th>month</th>\n",
       "      <th>user_id</th>\n",
       "      <th>gb_used</th>\n",
       "    </tr>\n",
       "  </thead>\n",
       "  <tbody>\n",
       "    <tr>\n",
       "      <th>0</th>\n",
       "      <td>1000_0</td>\n",
       "      <td>112.95</td>\n",
       "      <td>2018-11-25</td>\n",
       "      <td>1000</td>\n",
       "      <td>0.110303</td>\n",
       "    </tr>\n",
       "    <tr>\n",
       "      <th>1</th>\n",
       "      <td>1000_1</td>\n",
       "      <td>1052.81</td>\n",
       "      <td>2018-09-07</td>\n",
       "      <td>1000</td>\n",
       "      <td>1.028135</td>\n",
       "    </tr>\n",
       "    <tr>\n",
       "      <th>2</th>\n",
       "      <td>1000_2</td>\n",
       "      <td>1197.26</td>\n",
       "      <td>2018-06-25</td>\n",
       "      <td>1000</td>\n",
       "      <td>1.169199</td>\n",
       "    </tr>\n",
       "    <tr>\n",
       "      <th>3</th>\n",
       "      <td>1000_3</td>\n",
       "      <td>550.27</td>\n",
       "      <td>2018-08-22</td>\n",
       "      <td>1000</td>\n",
       "      <td>0.537373</td>\n",
       "    </tr>\n",
       "    <tr>\n",
       "      <th>4</th>\n",
       "      <td>1000_4</td>\n",
       "      <td>302.56</td>\n",
       "      <td>2018-09-24</td>\n",
       "      <td>1000</td>\n",
       "      <td>0.295469</td>\n",
       "    </tr>\n",
       "  </tbody>\n",
       "</table>\n",
       "</div>"
      ],
      "text/plain": [
       "  internet_id  mb_used      month  user_id   gb_used\n",
       "0      1000_0   112.95 2018-11-25     1000  0.110303\n",
       "1      1000_1  1052.81 2018-09-07     1000  1.028135\n",
       "2      1000_2  1197.26 2018-06-25     1000  1.169199\n",
       "3      1000_3   550.27 2018-08-22     1000  0.537373\n",
       "4      1000_4   302.56 2018-09-24     1000  0.295469"
      ]
     },
     "execution_count": 94,
     "metadata": {},
     "output_type": "execute_result"
    }
   ],
   "source": [
    "internet['month'] = pd.to_datetime(internet['month'], format='%Y-%m-%d')\n",
    "\n",
    "internet.head(5)"
   ]
  },
  {
   "cell_type": "code",
   "execution_count": 95,
   "id": "dfd2e4ab",
   "metadata": {},
   "outputs": [],
   "source": [
    "internet['month'] = internet['month'].dt.month"
   ]
  },
  {
   "cell_type": "code",
   "execution_count": 96,
   "id": "e1bf28d1",
   "metadata": {},
   "outputs": [
    {
     "data": {
      "text/html": [
       "<div>\n",
       "<style scoped>\n",
       "    .dataframe tbody tr th:only-of-type {\n",
       "        vertical-align: middle;\n",
       "    }\n",
       "\n",
       "    .dataframe tbody tr th {\n",
       "        vertical-align: top;\n",
       "    }\n",
       "\n",
       "    .dataframe thead th {\n",
       "        text-align: right;\n",
       "    }\n",
       "</style>\n",
       "<table border=\"1\" class=\"dataframe\">\n",
       "  <thead>\n",
       "    <tr style=\"text-align: right;\">\n",
       "      <th></th>\n",
       "      <th>internet_id</th>\n",
       "      <th>mb_used</th>\n",
       "      <th>month</th>\n",
       "      <th>user_id</th>\n",
       "      <th>gb_used</th>\n",
       "    </tr>\n",
       "  </thead>\n",
       "  <tbody>\n",
       "    <tr>\n",
       "      <th>0</th>\n",
       "      <td>1000_0</td>\n",
       "      <td>112.95</td>\n",
       "      <td>11</td>\n",
       "      <td>1000</td>\n",
       "      <td>0.110303</td>\n",
       "    </tr>\n",
       "    <tr>\n",
       "      <th>1</th>\n",
       "      <td>1000_1</td>\n",
       "      <td>1052.81</td>\n",
       "      <td>9</td>\n",
       "      <td>1000</td>\n",
       "      <td>1.028135</td>\n",
       "    </tr>\n",
       "    <tr>\n",
       "      <th>2</th>\n",
       "      <td>1000_2</td>\n",
       "      <td>1197.26</td>\n",
       "      <td>6</td>\n",
       "      <td>1000</td>\n",
       "      <td>1.169199</td>\n",
       "    </tr>\n",
       "    <tr>\n",
       "      <th>3</th>\n",
       "      <td>1000_3</td>\n",
       "      <td>550.27</td>\n",
       "      <td>8</td>\n",
       "      <td>1000</td>\n",
       "      <td>0.537373</td>\n",
       "    </tr>\n",
       "    <tr>\n",
       "      <th>4</th>\n",
       "      <td>1000_4</td>\n",
       "      <td>302.56</td>\n",
       "      <td>9</td>\n",
       "      <td>1000</td>\n",
       "      <td>0.295469</td>\n",
       "    </tr>\n",
       "  </tbody>\n",
       "</table>\n",
       "</div>"
      ],
      "text/plain": [
       "  internet_id  mb_used  month  user_id   gb_used\n",
       "0      1000_0   112.95     11     1000  0.110303\n",
       "1      1000_1  1052.81      9     1000  1.028135\n",
       "2      1000_2  1197.26      6     1000  1.169199\n",
       "3      1000_3   550.27      8     1000  0.537373\n",
       "4      1000_4   302.56      9     1000  0.295469"
      ]
     },
     "execution_count": 96,
     "metadata": {},
     "output_type": "execute_result"
    }
   ],
   "source": [
    "internet.head(5)"
   ]
  },
  {
   "cell_type": "code",
   "execution_count": 97,
   "id": "929c89a9",
   "metadata": {},
   "outputs": [
    {
     "data": {
      "text/html": [
       "<div>\n",
       "<style scoped>\n",
       "    .dataframe tbody tr th:only-of-type {\n",
       "        vertical-align: middle;\n",
       "    }\n",
       "\n",
       "    .dataframe tbody tr th {\n",
       "        vertical-align: top;\n",
       "    }\n",
       "\n",
       "    .dataframe thead th {\n",
       "        text-align: right;\n",
       "    }\n",
       "</style>\n",
       "<table border=\"1\" class=\"dataframe\">\n",
       "  <thead>\n",
       "    <tr style=\"text-align: right;\">\n",
       "      <th></th>\n",
       "      <th></th>\n",
       "      <th>internet_id</th>\n",
       "      <th>mb_used</th>\n",
       "      <th>gb_used</th>\n",
       "    </tr>\n",
       "    <tr>\n",
       "      <th>user_id</th>\n",
       "      <th>month</th>\n",
       "      <th></th>\n",
       "      <th></th>\n",
       "      <th></th>\n",
       "    </tr>\n",
       "  </thead>\n",
       "  <tbody>\n",
       "    <tr>\n",
       "      <th rowspan=\"5\" valign=\"top\">1000</th>\n",
       "      <th>5</th>\n",
       "      <td>1000_511000_591000_961000_1031000_134</td>\n",
       "      <td>2253.49</td>\n",
       "      <td>2.200674</td>\n",
       "    </tr>\n",
       "    <tr>\n",
       "      <th>6</th>\n",
       "      <td>1000_21000_121000_161000_171000_251000_301000_...</td>\n",
       "      <td>23233.77</td>\n",
       "      <td>22.689229</td>\n",
       "    </tr>\n",
       "    <tr>\n",
       "      <th>7</th>\n",
       "      <td>1000_71000_151000_221000_421000_571000_821000_...</td>\n",
       "      <td>14003.64</td>\n",
       "      <td>13.675430</td>\n",
       "    </tr>\n",
       "    <tr>\n",
       "      <th>8</th>\n",
       "      <td>1000_31000_111000_131000_141000_201000_271000_...</td>\n",
       "      <td>14055.93</td>\n",
       "      <td>13.726494</td>\n",
       "    </tr>\n",
       "    <tr>\n",
       "      <th>9</th>\n",
       "      <td>1000_11000_41000_61000_91000_101000_281000_341...</td>\n",
       "      <td>14568.91</td>\n",
       "      <td>14.227451</td>\n",
       "    </tr>\n",
       "    <tr>\n",
       "      <th>...</th>\n",
       "      <th>...</th>\n",
       "      <td>...</td>\n",
       "      <td>...</td>\n",
       "      <td>...</td>\n",
       "    </tr>\n",
       "    <tr>\n",
       "      <th>1498</th>\n",
       "      <th>10</th>\n",
       "      <td>1498_11498_31498_71498_101498_131498_191498_23...</td>\n",
       "      <td>20579.36</td>\n",
       "      <td>20.097031</td>\n",
       "    </tr>\n",
       "    <tr>\n",
       "      <th rowspan=\"4\" valign=\"top\">1499</th>\n",
       "      <th>9</th>\n",
       "      <td>1499_101499_581499_981499_1121499_135</td>\n",
       "      <td>1845.75</td>\n",
       "      <td>1.802490</td>\n",
       "    </tr>\n",
       "    <tr>\n",
       "      <th>10</th>\n",
       "      <td>1499_01499_31499_51499_81499_111499_161499_201...</td>\n",
       "      <td>17788.51</td>\n",
       "      <td>17.371592</td>\n",
       "    </tr>\n",
       "    <tr>\n",
       "      <th>11</th>\n",
       "      <td>1499_61499_71499_91499_121499_181499_191499_25...</td>\n",
       "      <td>17963.31</td>\n",
       "      <td>17.542295</td>\n",
       "    </tr>\n",
       "    <tr>\n",
       "      <th>12</th>\n",
       "      <td>1499_11499_21499_41499_131499_141499_151499_17...</td>\n",
       "      <td>13055.58</td>\n",
       "      <td>12.749590</td>\n",
       "    </tr>\n",
       "  </tbody>\n",
       "</table>\n",
       "<p>3203 rows × 3 columns</p>\n",
       "</div>"
      ],
      "text/plain": [
       "                                                     internet_id   mb_used  \\\n",
       "user_id month                                                                \n",
       "1000    5                  1000_511000_591000_961000_1031000_134   2253.49   \n",
       "        6      1000_21000_121000_161000_171000_251000_301000_...  23233.77   \n",
       "        7      1000_71000_151000_221000_421000_571000_821000_...  14003.64   \n",
       "        8      1000_31000_111000_131000_141000_201000_271000_...  14055.93   \n",
       "        9      1000_11000_41000_61000_91000_101000_281000_341...  14568.91   \n",
       "...                                                          ...       ...   \n",
       "1498    10     1498_11498_31498_71498_101498_131498_191498_23...  20579.36   \n",
       "1499    9                  1499_101499_581499_981499_1121499_135   1845.75   \n",
       "        10     1499_01499_31499_51499_81499_111499_161499_201...  17788.51   \n",
       "        11     1499_61499_71499_91499_121499_181499_191499_25...  17963.31   \n",
       "        12     1499_11499_21499_41499_131499_141499_151499_17...  13055.58   \n",
       "\n",
       "                 gb_used  \n",
       "user_id month             \n",
       "1000    5       2.200674  \n",
       "        6      22.689229  \n",
       "        7      13.675430  \n",
       "        8      13.726494  \n",
       "        9      14.227451  \n",
       "...                  ...  \n",
       "1498    10     20.097031  \n",
       "1499    9       1.802490  \n",
       "        10     17.371592  \n",
       "        11     17.542295  \n",
       "        12     12.749590  \n",
       "\n",
       "[3203 rows x 3 columns]"
      ]
     },
     "execution_count": 97,
     "metadata": {},
     "output_type": "execute_result"
    }
   ],
   "source": [
    "user_internet = internet.groupby(['user_id','month']).sum()\n",
    "user_internet"
   ]
  },
  {
   "cell_type": "markdown",
   "id": "aa6392c5",
   "metadata": {},
   "source": [
    "<div class=\"alert alert-block alert-info\"> Taking into account the tariff features of the operator, we round up all the monthly data usage to the nearest higher value. </div>\n"
   ]
  },
  {
   "cell_type": "code",
   "execution_count": 98,
   "id": "35039102",
   "metadata": {},
   "outputs": [
    {
     "data": {
      "text/html": [
       "<div>\n",
       "<style scoped>\n",
       "    .dataframe tbody tr th:only-of-type {\n",
       "        vertical-align: middle;\n",
       "    }\n",
       "\n",
       "    .dataframe tbody tr th {\n",
       "        vertical-align: top;\n",
       "    }\n",
       "\n",
       "    .dataframe thead th {\n",
       "        text-align: right;\n",
       "    }\n",
       "</style>\n",
       "<table border=\"1\" class=\"dataframe\">\n",
       "  <thead>\n",
       "    <tr style=\"text-align: right;\">\n",
       "      <th></th>\n",
       "      <th></th>\n",
       "      <th>gb_used</th>\n",
       "    </tr>\n",
       "    <tr>\n",
       "      <th>user_id</th>\n",
       "      <th>month</th>\n",
       "      <th></th>\n",
       "    </tr>\n",
       "  </thead>\n",
       "  <tbody>\n",
       "    <tr>\n",
       "      <th rowspan=\"5\" valign=\"top\">1000</th>\n",
       "      <th>5</th>\n",
       "      <td>3.0</td>\n",
       "    </tr>\n",
       "    <tr>\n",
       "      <th>6</th>\n",
       "      <td>23.0</td>\n",
       "    </tr>\n",
       "    <tr>\n",
       "      <th>7</th>\n",
       "      <td>14.0</td>\n",
       "    </tr>\n",
       "    <tr>\n",
       "      <th>8</th>\n",
       "      <td>14.0</td>\n",
       "    </tr>\n",
       "    <tr>\n",
       "      <th>9</th>\n",
       "      <td>15.0</td>\n",
       "    </tr>\n",
       "    <tr>\n",
       "      <th>...</th>\n",
       "      <th>...</th>\n",
       "      <td>...</td>\n",
       "    </tr>\n",
       "    <tr>\n",
       "      <th>1498</th>\n",
       "      <th>10</th>\n",
       "      <td>21.0</td>\n",
       "    </tr>\n",
       "    <tr>\n",
       "      <th rowspan=\"4\" valign=\"top\">1499</th>\n",
       "      <th>9</th>\n",
       "      <td>2.0</td>\n",
       "    </tr>\n",
       "    <tr>\n",
       "      <th>10</th>\n",
       "      <td>18.0</td>\n",
       "    </tr>\n",
       "    <tr>\n",
       "      <th>11</th>\n",
       "      <td>18.0</td>\n",
       "    </tr>\n",
       "    <tr>\n",
       "      <th>12</th>\n",
       "      <td>13.0</td>\n",
       "    </tr>\n",
       "  </tbody>\n",
       "</table>\n",
       "<p>3203 rows × 1 columns</p>\n",
       "</div>"
      ],
      "text/plain": [
       "               gb_used\n",
       "user_id month         \n",
       "1000    5          3.0\n",
       "        6         23.0\n",
       "        7         14.0\n",
       "        8         14.0\n",
       "        9         15.0\n",
       "...                ...\n",
       "1498    10        21.0\n",
       "1499    9          2.0\n",
       "        10        18.0\n",
       "        11        18.0\n",
       "        12        13.0\n",
       "\n",
       "[3203 rows x 1 columns]"
      ]
     },
     "execution_count": 98,
     "metadata": {},
     "output_type": "execute_result"
    }
   ],
   "source": [
    "user_internet = user_internet[['gb_used']].apply(np.ceil)\n",
    "user_internet"
   ]
  },
  {
   "cell_type": "markdown",
   "id": "241b428d",
   "metadata": {},
   "source": [
    "<div class=\"alert alert-block alert-info\"> We are merging the \"big three\" (internet + calls + SMS) into one table: </div>\n"
   ]
  },
  {
   "cell_type": "code",
   "execution_count": 99,
   "id": "b87beea5",
   "metadata": {},
   "outputs": [],
   "source": [
    "whole_user = call_plus_message.join(user_internet, how = 'outer')\n",
    "whole_user.fillna(0, inplace=True)"
   ]
  },
  {
   "cell_type": "code",
   "execution_count": 100,
   "id": "ae5dd4bc",
   "metadata": {},
   "outputs": [
    {
     "name": "stdout",
     "output_type": "stream",
     "text": [
      "<class 'pandas.core.frame.DataFrame'>\n",
      "MultiIndex: 3214 entries, (1000, 5) to (1499, 12)\n",
      "Data columns (total 4 columns):\n",
      " #   Column    Non-Null Count  Dtype  \n",
      "---  ------    --------------  -----  \n",
      " 0   calls     3214 non-null   float64\n",
      " 1   duration  3214 non-null   float64\n",
      " 2   messages  3214 non-null   float64\n",
      " 3   gb_used   3214 non-null   float64\n",
      "dtypes: float64(4)\n",
      "memory usage: 130.1 KB\n"
     ]
    }
   ],
   "source": [
    "whole_user.info()"
   ]
  },
  {
   "cell_type": "markdown",
   "id": "f209c50e",
   "metadata": {},
   "source": [
    "<div class=\"alert alert-block alert-info\"> There are some missing values in messages and gb_used. Most likely, the service was not used. </div>\n"
   ]
  },
  {
   "cell_type": "markdown",
   "id": "4717c5a2",
   "metadata": {},
   "source": [
    "<div class=\"alert alert-block alert-info\"> After the merging, we ended up with a multi-index 'user-id'/'month'. To avoid issues in future merges, we are resetting the index. </div>\n"
   ]
  },
  {
   "cell_type": "code",
   "execution_count": 101,
   "id": "60093e81",
   "metadata": {},
   "outputs": [
    {
     "data": {
      "text/html": [
       "<div>\n",
       "<style scoped>\n",
       "    .dataframe tbody tr th:only-of-type {\n",
       "        vertical-align: middle;\n",
       "    }\n",
       "\n",
       "    .dataframe tbody tr th {\n",
       "        vertical-align: top;\n",
       "    }\n",
       "\n",
       "    .dataframe thead th {\n",
       "        text-align: right;\n",
       "    }\n",
       "</style>\n",
       "<table border=\"1\" class=\"dataframe\">\n",
       "  <thead>\n",
       "    <tr style=\"text-align: right;\">\n",
       "      <th></th>\n",
       "      <th>user_id</th>\n",
       "      <th>month</th>\n",
       "      <th>calls</th>\n",
       "      <th>duration</th>\n",
       "      <th>messages</th>\n",
       "      <th>gb_used</th>\n",
       "    </tr>\n",
       "  </thead>\n",
       "  <tbody>\n",
       "    <tr>\n",
       "      <th>0</th>\n",
       "      <td>1000</td>\n",
       "      <td>5</td>\n",
       "      <td>22.0</td>\n",
       "      <td>159.0</td>\n",
       "      <td>22.0</td>\n",
       "      <td>3.0</td>\n",
       "    </tr>\n",
       "    <tr>\n",
       "      <th>1</th>\n",
       "      <td>1000</td>\n",
       "      <td>6</td>\n",
       "      <td>43.0</td>\n",
       "      <td>172.0</td>\n",
       "      <td>60.0</td>\n",
       "      <td>23.0</td>\n",
       "    </tr>\n",
       "    <tr>\n",
       "      <th>2</th>\n",
       "      <td>1000</td>\n",
       "      <td>7</td>\n",
       "      <td>47.0</td>\n",
       "      <td>340.0</td>\n",
       "      <td>75.0</td>\n",
       "      <td>14.0</td>\n",
       "    </tr>\n",
       "    <tr>\n",
       "      <th>3</th>\n",
       "      <td>1000</td>\n",
       "      <td>8</td>\n",
       "      <td>52.0</td>\n",
       "      <td>408.0</td>\n",
       "      <td>81.0</td>\n",
       "      <td>14.0</td>\n",
       "    </tr>\n",
       "    <tr>\n",
       "      <th>4</th>\n",
       "      <td>1000</td>\n",
       "      <td>9</td>\n",
       "      <td>58.0</td>\n",
       "      <td>466.0</td>\n",
       "      <td>57.0</td>\n",
       "      <td>15.0</td>\n",
       "    </tr>\n",
       "  </tbody>\n",
       "</table>\n",
       "</div>"
      ],
      "text/plain": [
       "   user_id  month  calls  duration  messages  gb_used\n",
       "0     1000      5   22.0     159.0      22.0      3.0\n",
       "1     1000      6   43.0     172.0      60.0     23.0\n",
       "2     1000      7   47.0     340.0      75.0     14.0\n",
       "3     1000      8   52.0     408.0      81.0     14.0\n",
       "4     1000      9   58.0     466.0      57.0     15.0"
      ]
     },
     "execution_count": 101,
     "metadata": {},
     "output_type": "execute_result"
    }
   ],
   "source": [
    "whole_user.reset_index(inplace = True)\n",
    "whole_user.head()"
   ]
  },
  {
   "cell_type": "markdown",
   "id": "8fb17bd6",
   "metadata": {},
   "source": [
    "<div class=\"alert alert-block alert-info\"><h4><strong>- Monthly Revenue from Each User</strong></h4></div>\n",
    "<div class=\"alert alert-block alert-info\"> Adding the name of the tariff used by each user. </div>\n"
   ]
  },
  {
   "cell_type": "code",
   "execution_count": 102,
   "id": "ec8477ff",
   "metadata": {},
   "outputs": [
    {
     "data": {
      "text/html": [
       "<div>\n",
       "<style scoped>\n",
       "    .dataframe tbody tr th:only-of-type {\n",
       "        vertical-align: middle;\n",
       "    }\n",
       "\n",
       "    .dataframe tbody tr th {\n",
       "        vertical-align: top;\n",
       "    }\n",
       "\n",
       "    .dataframe thead th {\n",
       "        text-align: right;\n",
       "    }\n",
       "</style>\n",
       "<table border=\"1\" class=\"dataframe\">\n",
       "  <thead>\n",
       "    <tr style=\"text-align: right;\">\n",
       "      <th></th>\n",
       "      <th>user_id</th>\n",
       "      <th>month</th>\n",
       "      <th>calls</th>\n",
       "      <th>duration</th>\n",
       "      <th>messages</th>\n",
       "      <th>gb_used</th>\n",
       "      <th>tariff</th>\n",
       "    </tr>\n",
       "  </thead>\n",
       "  <tbody>\n",
       "    <tr>\n",
       "      <th>0</th>\n",
       "      <td>1000</td>\n",
       "      <td>5</td>\n",
       "      <td>22.0</td>\n",
       "      <td>159.0</td>\n",
       "      <td>22.0</td>\n",
       "      <td>3.0</td>\n",
       "      <td>ultra</td>\n",
       "    </tr>\n",
       "    <tr>\n",
       "      <th>1</th>\n",
       "      <td>1000</td>\n",
       "      <td>6</td>\n",
       "      <td>43.0</td>\n",
       "      <td>172.0</td>\n",
       "      <td>60.0</td>\n",
       "      <td>23.0</td>\n",
       "      <td>ultra</td>\n",
       "    </tr>\n",
       "    <tr>\n",
       "      <th>2</th>\n",
       "      <td>1000</td>\n",
       "      <td>7</td>\n",
       "      <td>47.0</td>\n",
       "      <td>340.0</td>\n",
       "      <td>75.0</td>\n",
       "      <td>14.0</td>\n",
       "      <td>ultra</td>\n",
       "    </tr>\n",
       "    <tr>\n",
       "      <th>3</th>\n",
       "      <td>1000</td>\n",
       "      <td>8</td>\n",
       "      <td>52.0</td>\n",
       "      <td>408.0</td>\n",
       "      <td>81.0</td>\n",
       "      <td>14.0</td>\n",
       "      <td>ultra</td>\n",
       "    </tr>\n",
       "    <tr>\n",
       "      <th>4</th>\n",
       "      <td>1000</td>\n",
       "      <td>9</td>\n",
       "      <td>58.0</td>\n",
       "      <td>466.0</td>\n",
       "      <td>57.0</td>\n",
       "      <td>15.0</td>\n",
       "      <td>ultra</td>\n",
       "    </tr>\n",
       "    <tr>\n",
       "      <th>...</th>\n",
       "      <td>...</td>\n",
       "      <td>...</td>\n",
       "      <td>...</td>\n",
       "      <td>...</td>\n",
       "      <td>...</td>\n",
       "      <td>...</td>\n",
       "      <td>...</td>\n",
       "    </tr>\n",
       "    <tr>\n",
       "      <th>3209</th>\n",
       "      <td>1498</td>\n",
       "      <td>10</td>\n",
       "      <td>41.0</td>\n",
       "      <td>247.0</td>\n",
       "      <td>42.0</td>\n",
       "      <td>21.0</td>\n",
       "      <td>smart</td>\n",
       "    </tr>\n",
       "    <tr>\n",
       "      <th>3210</th>\n",
       "      <td>1499</td>\n",
       "      <td>9</td>\n",
       "      <td>9.0</td>\n",
       "      <td>70.0</td>\n",
       "      <td>11.0</td>\n",
       "      <td>2.0</td>\n",
       "      <td>smart</td>\n",
       "    </tr>\n",
       "    <tr>\n",
       "      <th>3211</th>\n",
       "      <td>1499</td>\n",
       "      <td>10</td>\n",
       "      <td>68.0</td>\n",
       "      <td>449.0</td>\n",
       "      <td>48.0</td>\n",
       "      <td>18.0</td>\n",
       "      <td>smart</td>\n",
       "    </tr>\n",
       "    <tr>\n",
       "      <th>3212</th>\n",
       "      <td>1499</td>\n",
       "      <td>11</td>\n",
       "      <td>74.0</td>\n",
       "      <td>612.0</td>\n",
       "      <td>59.0</td>\n",
       "      <td>18.0</td>\n",
       "      <td>smart</td>\n",
       "    </tr>\n",
       "    <tr>\n",
       "      <th>3213</th>\n",
       "      <td>1499</td>\n",
       "      <td>12</td>\n",
       "      <td>69.0</td>\n",
       "      <td>492.0</td>\n",
       "      <td>66.0</td>\n",
       "      <td>13.0</td>\n",
       "      <td>smart</td>\n",
       "    </tr>\n",
       "  </tbody>\n",
       "</table>\n",
       "<p>3214 rows × 7 columns</p>\n",
       "</div>"
      ],
      "text/plain": [
       "      user_id  month  calls  duration  messages  gb_used tariff\n",
       "0        1000      5   22.0     159.0      22.0      3.0  ultra\n",
       "1        1000      6   43.0     172.0      60.0     23.0  ultra\n",
       "2        1000      7   47.0     340.0      75.0     14.0  ultra\n",
       "3        1000      8   52.0     408.0      81.0     14.0  ultra\n",
       "4        1000      9   58.0     466.0      57.0     15.0  ultra\n",
       "...       ...    ...    ...       ...       ...      ...    ...\n",
       "3209     1498     10   41.0     247.0      42.0     21.0  smart\n",
       "3210     1499      9    9.0      70.0      11.0      2.0  smart\n",
       "3211     1499     10   68.0     449.0      48.0     18.0  smart\n",
       "3212     1499     11   74.0     612.0      59.0     18.0  smart\n",
       "3213     1499     12   69.0     492.0      66.0     13.0  smart\n",
       "\n",
       "[3214 rows x 7 columns]"
      ]
     },
     "execution_count": 102,
     "metadata": {},
     "output_type": "execute_result"
    }
   ],
   "source": [
    "whole_user_tarif = whole_user.merge(users[['user_id','tariff']], on='user_id',how = 'left')\n",
    "whole_user_tarif"
   ]
  },
  {
   "cell_type": "raw",
   "id": "764e2163",
   "metadata": {},
   "source": [
    "whole_user_tarif.rename(columns = {'tariff':'tariff_name'}, inplace = True)\n",
    "whole_user_tarif"
   ]
  },
  {
   "cell_type": "markdown",
   "id": "f2952433",
   "metadata": {},
   "source": [
    "<div class=\"alert alert-block alert-info\"> To facilitate understanding, we convert the included traffic into gigabytes. </div>\n"
   ]
  },
  {
   "cell_type": "code",
   "execution_count": 103,
   "id": "a845f24c",
   "metadata": {},
   "outputs": [
    {
     "data": {
      "text/html": [
       "<div>\n",
       "<style scoped>\n",
       "    .dataframe tbody tr th:only-of-type {\n",
       "        vertical-align: middle;\n",
       "    }\n",
       "\n",
       "    .dataframe tbody tr th {\n",
       "        vertical-align: top;\n",
       "    }\n",
       "\n",
       "    .dataframe thead th {\n",
       "        text-align: right;\n",
       "    }\n",
       "</style>\n",
       "<table border=\"1\" class=\"dataframe\">\n",
       "  <thead>\n",
       "    <tr style=\"text-align: right;\">\n",
       "      <th></th>\n",
       "      <th>messages_included</th>\n",
       "      <th>mb_per_month_included</th>\n",
       "      <th>minutes_included</th>\n",
       "      <th>rub_monthly_fee</th>\n",
       "      <th>rub_per_gb</th>\n",
       "      <th>rub_per_message</th>\n",
       "      <th>rub_per_minute</th>\n",
       "      <th>tariff_name</th>\n",
       "      <th>gb_included</th>\n",
       "    </tr>\n",
       "  </thead>\n",
       "  <tbody>\n",
       "    <tr>\n",
       "      <th>0</th>\n",
       "      <td>50</td>\n",
       "      <td>15360</td>\n",
       "      <td>500</td>\n",
       "      <td>550</td>\n",
       "      <td>200</td>\n",
       "      <td>3</td>\n",
       "      <td>3</td>\n",
       "      <td>smart</td>\n",
       "      <td>15.0</td>\n",
       "    </tr>\n",
       "    <tr>\n",
       "      <th>1</th>\n",
       "      <td>1000</td>\n",
       "      <td>30720</td>\n",
       "      <td>3000</td>\n",
       "      <td>1950</td>\n",
       "      <td>150</td>\n",
       "      <td>1</td>\n",
       "      <td>1</td>\n",
       "      <td>ultra</td>\n",
       "      <td>30.0</td>\n",
       "    </tr>\n",
       "  </tbody>\n",
       "</table>\n",
       "</div>"
      ],
      "text/plain": [
       "   messages_included  mb_per_month_included  minutes_included  \\\n",
       "0                 50                  15360               500   \n",
       "1               1000                  30720              3000   \n",
       "\n",
       "   rub_monthly_fee  rub_per_gb  rub_per_message  rub_per_minute tariff_name  \\\n",
       "0              550         200                3               3       smart   \n",
       "1             1950         150                1               1       ultra   \n",
       "\n",
       "   gb_included  \n",
       "0         15.0  \n",
       "1         30.0  "
      ]
     },
     "execution_count": 103,
     "metadata": {},
     "output_type": "execute_result"
    }
   ],
   "source": [
    "tariffs['gb_included'] = (tariffs['mb_per_month_included']/1024)\n",
    "tariffs"
   ]
  },
  {
   "cell_type": "markdown",
   "id": "6f5383d3",
   "metadata": {},
   "source": [
    "<div class=\"alert alert-block alert-info\"> We remove the redundant column with included megabytes because we have converted it into a column with gigabytes andd duplicated 'tariff_name' column. </div>\n"
   ]
  },
  {
   "cell_type": "code",
   "execution_count": 104,
   "id": "19844678",
   "metadata": {},
   "outputs": [
    {
     "name": "stdout",
     "output_type": "stream",
     "text": [
      "<class 'pandas.core.frame.DataFrame'>\n",
      "RangeIndex: 3214 entries, 0 to 3213\n",
      "Data columns (total 14 columns):\n",
      " #   Column             Non-Null Count  Dtype  \n",
      "---  ------             --------------  -----  \n",
      " 0   user_id            3214 non-null   int64  \n",
      " 1   month              3214 non-null   int32  \n",
      " 2   calls              3214 non-null   float64\n",
      " 3   duration           3214 non-null   float64\n",
      " 4   messages           3214 non-null   float64\n",
      " 5   gb_used            3214 non-null   float64\n",
      " 6   tariff             3214 non-null   object \n",
      " 7   messages_included  3214 non-null   int64  \n",
      " 8   minutes_included   3214 non-null   int64  \n",
      " 9   rub_monthly_fee    3214 non-null   int64  \n",
      " 10  rub_per_gb         3214 non-null   int64  \n",
      " 11  rub_per_message    3214 non-null   int64  \n",
      " 12  rub_per_minute     3214 non-null   int64  \n",
      " 13  gb_included        3214 non-null   float64\n",
      "dtypes: float64(5), int32(1), int64(7), object(1)\n",
      "memory usage: 339.1+ KB\n"
     ]
    }
   ],
   "source": [
    "money = whole_user_tarif.merge(tariffs, left_on = 'tariff', right_on = 'tariff_name', how = 'left')\n",
    "columns_to_drop = ['tariff_name', 'mb_per_month_included']\n",
    "money.drop(columns = columns_to_drop, axis=1, inplace=True)\n",
    "money.info()"
   ]
  },
  {
   "cell_type": "markdown",
   "id": "22e58201",
   "metadata": {},
   "source": [
    "<div class=\"alert alert-block alert-info\"> We calculate the components of revenue: messages, minutes, and gigabytes beyond the tariff limits. </div>\n",
    "\n"
   ]
  },
  {
   "cell_type": "code",
   "execution_count": 105,
   "id": "60566f17",
   "metadata": {},
   "outputs": [
    {
     "data": {
      "text/html": [
       "<div>\n",
       "<style scoped>\n",
       "    .dataframe tbody tr th:only-of-type {\n",
       "        vertical-align: middle;\n",
       "    }\n",
       "\n",
       "    .dataframe tbody tr th {\n",
       "        vertical-align: top;\n",
       "    }\n",
       "\n",
       "    .dataframe thead th {\n",
       "        text-align: right;\n",
       "    }\n",
       "</style>\n",
       "<table border=\"1\" class=\"dataframe\">\n",
       "  <thead>\n",
       "    <tr style=\"text-align: right;\">\n",
       "      <th></th>\n",
       "      <th>user_id</th>\n",
       "      <th>month</th>\n",
       "      <th>calls</th>\n",
       "      <th>duration</th>\n",
       "      <th>messages</th>\n",
       "      <th>gb_used</th>\n",
       "      <th>tariff</th>\n",
       "      <th>messages_included</th>\n",
       "      <th>minutes_included</th>\n",
       "      <th>rub_monthly_fee</th>\n",
       "      <th>rub_per_gb</th>\n",
       "      <th>rub_per_message</th>\n",
       "      <th>rub_per_minute</th>\n",
       "      <th>gb_included</th>\n",
       "      <th>money_message</th>\n",
       "      <th>money_calls</th>\n",
       "      <th>money_internet</th>\n",
       "      <th>customer_gross</th>\n",
       "    </tr>\n",
       "  </thead>\n",
       "  <tbody>\n",
       "    <tr>\n",
       "      <th>0</th>\n",
       "      <td>1000</td>\n",
       "      <td>5</td>\n",
       "      <td>22.0</td>\n",
       "      <td>159.0</td>\n",
       "      <td>22.0</td>\n",
       "      <td>3.0</td>\n",
       "      <td>ultra</td>\n",
       "      <td>1000</td>\n",
       "      <td>3000</td>\n",
       "      <td>1950</td>\n",
       "      <td>150</td>\n",
       "      <td>1</td>\n",
       "      <td>1</td>\n",
       "      <td>30.0</td>\n",
       "      <td>0.0</td>\n",
       "      <td>0.0</td>\n",
       "      <td>0.0</td>\n",
       "      <td>1950.0</td>\n",
       "    </tr>\n",
       "    <tr>\n",
       "      <th>1</th>\n",
       "      <td>1000</td>\n",
       "      <td>6</td>\n",
       "      <td>43.0</td>\n",
       "      <td>172.0</td>\n",
       "      <td>60.0</td>\n",
       "      <td>23.0</td>\n",
       "      <td>ultra</td>\n",
       "      <td>1000</td>\n",
       "      <td>3000</td>\n",
       "      <td>1950</td>\n",
       "      <td>150</td>\n",
       "      <td>1</td>\n",
       "      <td>1</td>\n",
       "      <td>30.0</td>\n",
       "      <td>0.0</td>\n",
       "      <td>0.0</td>\n",
       "      <td>0.0</td>\n",
       "      <td>1950.0</td>\n",
       "    </tr>\n",
       "    <tr>\n",
       "      <th>2</th>\n",
       "      <td>1000</td>\n",
       "      <td>7</td>\n",
       "      <td>47.0</td>\n",
       "      <td>340.0</td>\n",
       "      <td>75.0</td>\n",
       "      <td>14.0</td>\n",
       "      <td>ultra</td>\n",
       "      <td>1000</td>\n",
       "      <td>3000</td>\n",
       "      <td>1950</td>\n",
       "      <td>150</td>\n",
       "      <td>1</td>\n",
       "      <td>1</td>\n",
       "      <td>30.0</td>\n",
       "      <td>0.0</td>\n",
       "      <td>0.0</td>\n",
       "      <td>0.0</td>\n",
       "      <td>1950.0</td>\n",
       "    </tr>\n",
       "    <tr>\n",
       "      <th>3</th>\n",
       "      <td>1000</td>\n",
       "      <td>8</td>\n",
       "      <td>52.0</td>\n",
       "      <td>408.0</td>\n",
       "      <td>81.0</td>\n",
       "      <td>14.0</td>\n",
       "      <td>ultra</td>\n",
       "      <td>1000</td>\n",
       "      <td>3000</td>\n",
       "      <td>1950</td>\n",
       "      <td>150</td>\n",
       "      <td>1</td>\n",
       "      <td>1</td>\n",
       "      <td>30.0</td>\n",
       "      <td>0.0</td>\n",
       "      <td>0.0</td>\n",
       "      <td>0.0</td>\n",
       "      <td>1950.0</td>\n",
       "    </tr>\n",
       "    <tr>\n",
       "      <th>4</th>\n",
       "      <td>1000</td>\n",
       "      <td>9</td>\n",
       "      <td>58.0</td>\n",
       "      <td>466.0</td>\n",
       "      <td>57.0</td>\n",
       "      <td>15.0</td>\n",
       "      <td>ultra</td>\n",
       "      <td>1000</td>\n",
       "      <td>3000</td>\n",
       "      <td>1950</td>\n",
       "      <td>150</td>\n",
       "      <td>1</td>\n",
       "      <td>1</td>\n",
       "      <td>30.0</td>\n",
       "      <td>0.0</td>\n",
       "      <td>0.0</td>\n",
       "      <td>0.0</td>\n",
       "      <td>1950.0</td>\n",
       "    </tr>\n",
       "    <tr>\n",
       "      <th>5</th>\n",
       "      <td>1000</td>\n",
       "      <td>10</td>\n",
       "      <td>57.0</td>\n",
       "      <td>350.0</td>\n",
       "      <td>73.0</td>\n",
       "      <td>15.0</td>\n",
       "      <td>ultra</td>\n",
       "      <td>1000</td>\n",
       "      <td>3000</td>\n",
       "      <td>1950</td>\n",
       "      <td>150</td>\n",
       "      <td>1</td>\n",
       "      <td>1</td>\n",
       "      <td>30.0</td>\n",
       "      <td>0.0</td>\n",
       "      <td>0.0</td>\n",
       "      <td>0.0</td>\n",
       "      <td>1950.0</td>\n",
       "    </tr>\n",
       "    <tr>\n",
       "      <th>6</th>\n",
       "      <td>1000</td>\n",
       "      <td>11</td>\n",
       "      <td>43.0</td>\n",
       "      <td>338.0</td>\n",
       "      <td>58.0</td>\n",
       "      <td>15.0</td>\n",
       "      <td>ultra</td>\n",
       "      <td>1000</td>\n",
       "      <td>3000</td>\n",
       "      <td>1950</td>\n",
       "      <td>150</td>\n",
       "      <td>1</td>\n",
       "      <td>1</td>\n",
       "      <td>30.0</td>\n",
       "      <td>0.0</td>\n",
       "      <td>0.0</td>\n",
       "      <td>0.0</td>\n",
       "      <td>1950.0</td>\n",
       "    </tr>\n",
       "    <tr>\n",
       "      <th>7</th>\n",
       "      <td>1000</td>\n",
       "      <td>12</td>\n",
       "      <td>46.0</td>\n",
       "      <td>333.0</td>\n",
       "      <td>70.0</td>\n",
       "      <td>10.0</td>\n",
       "      <td>ultra</td>\n",
       "      <td>1000</td>\n",
       "      <td>3000</td>\n",
       "      <td>1950</td>\n",
       "      <td>150</td>\n",
       "      <td>1</td>\n",
       "      <td>1</td>\n",
       "      <td>30.0</td>\n",
       "      <td>0.0</td>\n",
       "      <td>0.0</td>\n",
       "      <td>0.0</td>\n",
       "      <td>1950.0</td>\n",
       "    </tr>\n",
       "    <tr>\n",
       "      <th>8</th>\n",
       "      <td>1001</td>\n",
       "      <td>11</td>\n",
       "      <td>59.0</td>\n",
       "      <td>430.0</td>\n",
       "      <td>0.0</td>\n",
       "      <td>18.0</td>\n",
       "      <td>smart</td>\n",
       "      <td>50</td>\n",
       "      <td>500</td>\n",
       "      <td>550</td>\n",
       "      <td>200</td>\n",
       "      <td>3</td>\n",
       "      <td>3</td>\n",
       "      <td>15.0</td>\n",
       "      <td>0.0</td>\n",
       "      <td>0.0</td>\n",
       "      <td>600.0</td>\n",
       "      <td>1150.0</td>\n",
       "    </tr>\n",
       "    <tr>\n",
       "      <th>9</th>\n",
       "      <td>1001</td>\n",
       "      <td>12</td>\n",
       "      <td>63.0</td>\n",
       "      <td>414.0</td>\n",
       "      <td>0.0</td>\n",
       "      <td>14.0</td>\n",
       "      <td>smart</td>\n",
       "      <td>50</td>\n",
       "      <td>500</td>\n",
       "      <td>550</td>\n",
       "      <td>200</td>\n",
       "      <td>3</td>\n",
       "      <td>3</td>\n",
       "      <td>15.0</td>\n",
       "      <td>0.0</td>\n",
       "      <td>0.0</td>\n",
       "      <td>0.0</td>\n",
       "      <td>550.0</td>\n",
       "    </tr>\n",
       "    <tr>\n",
       "      <th>10</th>\n",
       "      <td>1002</td>\n",
       "      <td>6</td>\n",
       "      <td>15.0</td>\n",
       "      <td>117.0</td>\n",
       "      <td>4.0</td>\n",
       "      <td>11.0</td>\n",
       "      <td>smart</td>\n",
       "      <td>50</td>\n",
       "      <td>500</td>\n",
       "      <td>550</td>\n",
       "      <td>200</td>\n",
       "      <td>3</td>\n",
       "      <td>3</td>\n",
       "      <td>15.0</td>\n",
       "      <td>0.0</td>\n",
       "      <td>0.0</td>\n",
       "      <td>0.0</td>\n",
       "      <td>550.0</td>\n",
       "    </tr>\n",
       "    <tr>\n",
       "      <th>11</th>\n",
       "      <td>1002</td>\n",
       "      <td>7</td>\n",
       "      <td>26.0</td>\n",
       "      <td>214.0</td>\n",
       "      <td>11.0</td>\n",
       "      <td>18.0</td>\n",
       "      <td>smart</td>\n",
       "      <td>50</td>\n",
       "      <td>500</td>\n",
       "      <td>550</td>\n",
       "      <td>200</td>\n",
       "      <td>3</td>\n",
       "      <td>3</td>\n",
       "      <td>15.0</td>\n",
       "      <td>0.0</td>\n",
       "      <td>0.0</td>\n",
       "      <td>600.0</td>\n",
       "      <td>1150.0</td>\n",
       "    </tr>\n",
       "    <tr>\n",
       "      <th>12</th>\n",
       "      <td>1002</td>\n",
       "      <td>8</td>\n",
       "      <td>42.0</td>\n",
       "      <td>289.0</td>\n",
       "      <td>13.0</td>\n",
       "      <td>20.0</td>\n",
       "      <td>smart</td>\n",
       "      <td>50</td>\n",
       "      <td>500</td>\n",
       "      <td>550</td>\n",
       "      <td>200</td>\n",
       "      <td>3</td>\n",
       "      <td>3</td>\n",
       "      <td>15.0</td>\n",
       "      <td>0.0</td>\n",
       "      <td>0.0</td>\n",
       "      <td>1000.0</td>\n",
       "      <td>1550.0</td>\n",
       "    </tr>\n",
       "    <tr>\n",
       "      <th>13</th>\n",
       "      <td>1002</td>\n",
       "      <td>9</td>\n",
       "      <td>36.0</td>\n",
       "      <td>206.0</td>\n",
       "      <td>4.0</td>\n",
       "      <td>17.0</td>\n",
       "      <td>smart</td>\n",
       "      <td>50</td>\n",
       "      <td>500</td>\n",
       "      <td>550</td>\n",
       "      <td>200</td>\n",
       "      <td>3</td>\n",
       "      <td>3</td>\n",
       "      <td>15.0</td>\n",
       "      <td>0.0</td>\n",
       "      <td>0.0</td>\n",
       "      <td>400.0</td>\n",
       "      <td>950.0</td>\n",
       "    </tr>\n",
       "    <tr>\n",
       "      <th>14</th>\n",
       "      <td>1002</td>\n",
       "      <td>10</td>\n",
       "      <td>33.0</td>\n",
       "      <td>212.0</td>\n",
       "      <td>10.0</td>\n",
       "      <td>14.0</td>\n",
       "      <td>smart</td>\n",
       "      <td>50</td>\n",
       "      <td>500</td>\n",
       "      <td>550</td>\n",
       "      <td>200</td>\n",
       "      <td>3</td>\n",
       "      <td>3</td>\n",
       "      <td>15.0</td>\n",
       "      <td>0.0</td>\n",
       "      <td>0.0</td>\n",
       "      <td>0.0</td>\n",
       "      <td>550.0</td>\n",
       "    </tr>\n",
       "  </tbody>\n",
       "</table>\n",
       "</div>"
      ],
      "text/plain": [
       "    user_id  month  calls  duration  messages  gb_used tariff  \\\n",
       "0      1000      5   22.0     159.0      22.0      3.0  ultra   \n",
       "1      1000      6   43.0     172.0      60.0     23.0  ultra   \n",
       "2      1000      7   47.0     340.0      75.0     14.0  ultra   \n",
       "3      1000      8   52.0     408.0      81.0     14.0  ultra   \n",
       "4      1000      9   58.0     466.0      57.0     15.0  ultra   \n",
       "5      1000     10   57.0     350.0      73.0     15.0  ultra   \n",
       "6      1000     11   43.0     338.0      58.0     15.0  ultra   \n",
       "7      1000     12   46.0     333.0      70.0     10.0  ultra   \n",
       "8      1001     11   59.0     430.0       0.0     18.0  smart   \n",
       "9      1001     12   63.0     414.0       0.0     14.0  smart   \n",
       "10     1002      6   15.0     117.0       4.0     11.0  smart   \n",
       "11     1002      7   26.0     214.0      11.0     18.0  smart   \n",
       "12     1002      8   42.0     289.0      13.0     20.0  smart   \n",
       "13     1002      9   36.0     206.0       4.0     17.0  smart   \n",
       "14     1002     10   33.0     212.0      10.0     14.0  smart   \n",
       "\n",
       "    messages_included  minutes_included  rub_monthly_fee  rub_per_gb  \\\n",
       "0                1000              3000             1950         150   \n",
       "1                1000              3000             1950         150   \n",
       "2                1000              3000             1950         150   \n",
       "3                1000              3000             1950         150   \n",
       "4                1000              3000             1950         150   \n",
       "5                1000              3000             1950         150   \n",
       "6                1000              3000             1950         150   \n",
       "7                1000              3000             1950         150   \n",
       "8                  50               500              550         200   \n",
       "9                  50               500              550         200   \n",
       "10                 50               500              550         200   \n",
       "11                 50               500              550         200   \n",
       "12                 50               500              550         200   \n",
       "13                 50               500              550         200   \n",
       "14                 50               500              550         200   \n",
       "\n",
       "    rub_per_message  rub_per_minute  gb_included  money_message  money_calls  \\\n",
       "0                 1               1         30.0            0.0          0.0   \n",
       "1                 1               1         30.0            0.0          0.0   \n",
       "2                 1               1         30.0            0.0          0.0   \n",
       "3                 1               1         30.0            0.0          0.0   \n",
       "4                 1               1         30.0            0.0          0.0   \n",
       "5                 1               1         30.0            0.0          0.0   \n",
       "6                 1               1         30.0            0.0          0.0   \n",
       "7                 1               1         30.0            0.0          0.0   \n",
       "8                 3               3         15.0            0.0          0.0   \n",
       "9                 3               3         15.0            0.0          0.0   \n",
       "10                3               3         15.0            0.0          0.0   \n",
       "11                3               3         15.0            0.0          0.0   \n",
       "12                3               3         15.0            0.0          0.0   \n",
       "13                3               3         15.0            0.0          0.0   \n",
       "14                3               3         15.0            0.0          0.0   \n",
       "\n",
       "    money_internet  customer_gross  \n",
       "0              0.0          1950.0  \n",
       "1              0.0          1950.0  \n",
       "2              0.0          1950.0  \n",
       "3              0.0          1950.0  \n",
       "4              0.0          1950.0  \n",
       "5              0.0          1950.0  \n",
       "6              0.0          1950.0  \n",
       "7              0.0          1950.0  \n",
       "8            600.0          1150.0  \n",
       "9              0.0           550.0  \n",
       "10             0.0           550.0  \n",
       "11           600.0          1150.0  \n",
       "12          1000.0          1550.0  \n",
       "13           400.0           950.0  \n",
       "14             0.0           550.0  "
      ]
     },
     "execution_count": 105,
     "metadata": {},
     "output_type": "execute_result"
    }
   ],
   "source": [
    "money['money_message'] = np.maximum(money.messages - money.messages_included, 0)*money.rub_per_message\n",
    "money['money_calls'] = np.maximum(money.duration - money.minutes_included, 0)*money.rub_per_minute\n",
    "money['money_internet'] = np.maximum(money.gb_used - money.gb_included, 0)*money.rub_per_gb\n",
    "money['customer_gross'] = money.rub_monthly_fee+money.money_internet+money.money_calls+money.money_message\n",
    "money.head(15)"
   ]
  },
  {
   "cell_type": "code",
   "execution_count": 106,
   "id": "a8c7c6a9",
   "metadata": {},
   "outputs": [
    {
     "data": {
      "text/html": [
       "<div>\n",
       "<style scoped>\n",
       "    .dataframe tbody tr th:only-of-type {\n",
       "        vertical-align: middle;\n",
       "    }\n",
       "\n",
       "    .dataframe tbody tr th {\n",
       "        vertical-align: top;\n",
       "    }\n",
       "\n",
       "    .dataframe thead th {\n",
       "        text-align: right;\n",
       "    }\n",
       "</style>\n",
       "<table border=\"1\" class=\"dataframe\">\n",
       "  <thead>\n",
       "    <tr style=\"text-align: right;\">\n",
       "      <th></th>\n",
       "      <th>user_id</th>\n",
       "      <th>month</th>\n",
       "      <th>calls</th>\n",
       "      <th>duration</th>\n",
       "      <th>messages</th>\n",
       "      <th>gb_used</th>\n",
       "      <th>tariff</th>\n",
       "      <th>messages_included</th>\n",
       "      <th>minutes_included</th>\n",
       "      <th>rub_monthly_fee</th>\n",
       "      <th>rub_per_gb</th>\n",
       "      <th>rub_per_message</th>\n",
       "      <th>rub_per_minute</th>\n",
       "      <th>gb_included</th>\n",
       "      <th>money_message</th>\n",
       "      <th>money_calls</th>\n",
       "      <th>money_internet</th>\n",
       "      <th>customer_gross</th>\n",
       "    </tr>\n",
       "  </thead>\n",
       "  <tbody>\n",
       "    <tr>\n",
       "      <th>3210</th>\n",
       "      <td>1499</td>\n",
       "      <td>9</td>\n",
       "      <td>9.0</td>\n",
       "      <td>70.0</td>\n",
       "      <td>11.0</td>\n",
       "      <td>2.0</td>\n",
       "      <td>smart</td>\n",
       "      <td>50</td>\n",
       "      <td>500</td>\n",
       "      <td>550</td>\n",
       "      <td>200</td>\n",
       "      <td>3</td>\n",
       "      <td>3</td>\n",
       "      <td>15.0</td>\n",
       "      <td>0.0</td>\n",
       "      <td>0.0</td>\n",
       "      <td>0.0</td>\n",
       "      <td>550.0</td>\n",
       "    </tr>\n",
       "    <tr>\n",
       "      <th>3211</th>\n",
       "      <td>1499</td>\n",
       "      <td>10</td>\n",
       "      <td>68.0</td>\n",
       "      <td>449.0</td>\n",
       "      <td>48.0</td>\n",
       "      <td>18.0</td>\n",
       "      <td>smart</td>\n",
       "      <td>50</td>\n",
       "      <td>500</td>\n",
       "      <td>550</td>\n",
       "      <td>200</td>\n",
       "      <td>3</td>\n",
       "      <td>3</td>\n",
       "      <td>15.0</td>\n",
       "      <td>0.0</td>\n",
       "      <td>0.0</td>\n",
       "      <td>600.0</td>\n",
       "      <td>1150.0</td>\n",
       "    </tr>\n",
       "    <tr>\n",
       "      <th>3212</th>\n",
       "      <td>1499</td>\n",
       "      <td>11</td>\n",
       "      <td>74.0</td>\n",
       "      <td>612.0</td>\n",
       "      <td>59.0</td>\n",
       "      <td>18.0</td>\n",
       "      <td>smart</td>\n",
       "      <td>50</td>\n",
       "      <td>500</td>\n",
       "      <td>550</td>\n",
       "      <td>200</td>\n",
       "      <td>3</td>\n",
       "      <td>3</td>\n",
       "      <td>15.0</td>\n",
       "      <td>27.0</td>\n",
       "      <td>336.0</td>\n",
       "      <td>600.0</td>\n",
       "      <td>1513.0</td>\n",
       "    </tr>\n",
       "    <tr>\n",
       "      <th>3213</th>\n",
       "      <td>1499</td>\n",
       "      <td>12</td>\n",
       "      <td>69.0</td>\n",
       "      <td>492.0</td>\n",
       "      <td>66.0</td>\n",
       "      <td>13.0</td>\n",
       "      <td>smart</td>\n",
       "      <td>50</td>\n",
       "      <td>500</td>\n",
       "      <td>550</td>\n",
       "      <td>200</td>\n",
       "      <td>3</td>\n",
       "      <td>3</td>\n",
       "      <td>15.0</td>\n",
       "      <td>48.0</td>\n",
       "      <td>0.0</td>\n",
       "      <td>0.0</td>\n",
       "      <td>598.0</td>\n",
       "    </tr>\n",
       "  </tbody>\n",
       "</table>\n",
       "</div>"
      ],
      "text/plain": [
       "      user_id  month  calls  duration  messages  gb_used tariff  \\\n",
       "3210     1499      9    9.0      70.0      11.0      2.0  smart   \n",
       "3211     1499     10   68.0     449.0      48.0     18.0  smart   \n",
       "3212     1499     11   74.0     612.0      59.0     18.0  smart   \n",
       "3213     1499     12   69.0     492.0      66.0     13.0  smart   \n",
       "\n",
       "      messages_included  minutes_included  rub_monthly_fee  rub_per_gb  \\\n",
       "3210                 50               500              550         200   \n",
       "3211                 50               500              550         200   \n",
       "3212                 50               500              550         200   \n",
       "3213                 50               500              550         200   \n",
       "\n",
       "      rub_per_message  rub_per_minute  gb_included  money_message  \\\n",
       "3210                3               3         15.0            0.0   \n",
       "3211                3               3         15.0            0.0   \n",
       "3212                3               3         15.0           27.0   \n",
       "3213                3               3         15.0           48.0   \n",
       "\n",
       "      money_calls  money_internet  customer_gross  \n",
       "3210          0.0             0.0           550.0  \n",
       "3211          0.0           600.0          1150.0  \n",
       "3212        336.0           600.0          1513.0  \n",
       "3213          0.0             0.0           598.0  "
      ]
     },
     "execution_count": 106,
     "metadata": {},
     "output_type": "execute_result"
    }
   ],
   "source": [
    "money[money['user_id']== 1499]"
   ]
  },
  {
   "cell_type": "markdown",
   "id": "297ccd7c",
   "metadata": {},
   "source": [
    "<div class=\"alert alert-block alert-info\"> Если бы делал проект для менеджера - только следующая таблица его интересовала бы из всех что были до этого ))  </div>"
   ]
  },
  {
   "cell_type": "code",
   "execution_count": 107,
   "id": "eb04eb64",
   "metadata": {},
   "outputs": [
    {
     "data": {
      "text/html": [
       "<div>\n",
       "<style scoped>\n",
       "    .dataframe tbody tr th:only-of-type {\n",
       "        vertical-align: middle;\n",
       "    }\n",
       "\n",
       "    .dataframe tbody tr th {\n",
       "        vertical-align: top;\n",
       "    }\n",
       "\n",
       "    .dataframe thead th {\n",
       "        text-align: right;\n",
       "    }\n",
       "</style>\n",
       "<table border=\"1\" class=\"dataframe\">\n",
       "  <thead>\n",
       "    <tr style=\"text-align: right;\">\n",
       "      <th></th>\n",
       "      <th>user_id</th>\n",
       "      <th>month</th>\n",
       "      <th>tariff</th>\n",
       "      <th>customer_gross</th>\n",
       "    </tr>\n",
       "  </thead>\n",
       "  <tbody>\n",
       "    <tr>\n",
       "      <th>0</th>\n",
       "      <td>1000</td>\n",
       "      <td>5</td>\n",
       "      <td>ultra</td>\n",
       "      <td>1950.0</td>\n",
       "    </tr>\n",
       "    <tr>\n",
       "      <th>1</th>\n",
       "      <td>1000</td>\n",
       "      <td>6</td>\n",
       "      <td>ultra</td>\n",
       "      <td>1950.0</td>\n",
       "    </tr>\n",
       "    <tr>\n",
       "      <th>2</th>\n",
       "      <td>1000</td>\n",
       "      <td>7</td>\n",
       "      <td>ultra</td>\n",
       "      <td>1950.0</td>\n",
       "    </tr>\n",
       "    <tr>\n",
       "      <th>3</th>\n",
       "      <td>1000</td>\n",
       "      <td>8</td>\n",
       "      <td>ultra</td>\n",
       "      <td>1950.0</td>\n",
       "    </tr>\n",
       "    <tr>\n",
       "      <th>4</th>\n",
       "      <td>1000</td>\n",
       "      <td>9</td>\n",
       "      <td>ultra</td>\n",
       "      <td>1950.0</td>\n",
       "    </tr>\n",
       "    <tr>\n",
       "      <th>...</th>\n",
       "      <td>...</td>\n",
       "      <td>...</td>\n",
       "      <td>...</td>\n",
       "      <td>...</td>\n",
       "    </tr>\n",
       "    <tr>\n",
       "      <th>3209</th>\n",
       "      <td>1498</td>\n",
       "      <td>10</td>\n",
       "      <td>smart</td>\n",
       "      <td>1750.0</td>\n",
       "    </tr>\n",
       "    <tr>\n",
       "      <th>3210</th>\n",
       "      <td>1499</td>\n",
       "      <td>9</td>\n",
       "      <td>smart</td>\n",
       "      <td>550.0</td>\n",
       "    </tr>\n",
       "    <tr>\n",
       "      <th>3211</th>\n",
       "      <td>1499</td>\n",
       "      <td>10</td>\n",
       "      <td>smart</td>\n",
       "      <td>1150.0</td>\n",
       "    </tr>\n",
       "    <tr>\n",
       "      <th>3212</th>\n",
       "      <td>1499</td>\n",
       "      <td>11</td>\n",
       "      <td>smart</td>\n",
       "      <td>1513.0</td>\n",
       "    </tr>\n",
       "    <tr>\n",
       "      <th>3213</th>\n",
       "      <td>1499</td>\n",
       "      <td>12</td>\n",
       "      <td>smart</td>\n",
       "      <td>598.0</td>\n",
       "    </tr>\n",
       "  </tbody>\n",
       "</table>\n",
       "<p>3214 rows × 4 columns</p>\n",
       "</div>"
      ],
      "text/plain": [
       "      user_id  month tariff  customer_gross\n",
       "0        1000      5  ultra          1950.0\n",
       "1        1000      6  ultra          1950.0\n",
       "2        1000      7  ultra          1950.0\n",
       "3        1000      8  ultra          1950.0\n",
       "4        1000      9  ultra          1950.0\n",
       "...       ...    ...    ...             ...\n",
       "3209     1498     10  smart          1750.0\n",
       "3210     1499      9  smart           550.0\n",
       "3211     1499     10  smart          1150.0\n",
       "3212     1499     11  smart          1513.0\n",
       "3213     1499     12  smart           598.0\n",
       "\n",
       "[3214 rows x 4 columns]"
      ]
     },
     "execution_count": 107,
     "metadata": {},
     "output_type": "execute_result"
    }
   ],
   "source": [
    "gross = money[['user_id','month','tariff','customer_gross']]\n",
    "gross"
   ]
  },
  {
   "cell_type": "markdown",
   "id": "7aaa467f",
   "metadata": {},
   "source": [
    "<strong><em><h2>Step 3. Analyzing the Data</h2></em></strong>\n"
   ]
  },
  {
   "cell_type": "markdown",
   "id": "6bb5f004",
   "metadata": {},
   "source": [
    "<div class=\"alert alert-block alert-info\">\n",
    "    We will describe the behavior of the operator's customers based on the sample.\n",
    "    We will determine how many minutes of conversation, how many messages, and what volume of internet traffic users of each tariff need per month.\n",
    "    We will calculate the mean, variance, and standard deviation. We will also create histograms and describe the distributions.\n",
    "</div>\n"
   ]
  },
  {
   "cell_type": "markdown",
   "id": "dcb3b7c3",
   "metadata": {},
   "source": [
    "<div class=\"alert alert-block alert-info\"> \n",
    "    We will create a table with the necessary columns for analysis, referred to as \"user pattern\" (up).\n",
    "</div>\n"
   ]
  },
  {
   "cell_type": "code",
   "execution_count": 108,
   "id": "f66aa240",
   "metadata": {},
   "outputs": [
    {
     "data": {
      "text/html": [
       "<div>\n",
       "<style scoped>\n",
       "    .dataframe tbody tr th:only-of-type {\n",
       "        vertical-align: middle;\n",
       "    }\n",
       "\n",
       "    .dataframe tbody tr th {\n",
       "        vertical-align: top;\n",
       "    }\n",
       "\n",
       "    .dataframe thead th {\n",
       "        text-align: right;\n",
       "    }\n",
       "</style>\n",
       "<table border=\"1\" class=\"dataframe\">\n",
       "  <thead>\n",
       "    <tr style=\"text-align: right;\">\n",
       "      <th></th>\n",
       "      <th>duration</th>\n",
       "      <th>messages</th>\n",
       "      <th>gb_used</th>\n",
       "      <th>tariff</th>\n",
       "    </tr>\n",
       "  </thead>\n",
       "  <tbody>\n",
       "    <tr>\n",
       "      <th>0</th>\n",
       "      <td>159.0</td>\n",
       "      <td>22.0</td>\n",
       "      <td>3.0</td>\n",
       "      <td>ultra</td>\n",
       "    </tr>\n",
       "    <tr>\n",
       "      <th>1</th>\n",
       "      <td>172.0</td>\n",
       "      <td>60.0</td>\n",
       "      <td>23.0</td>\n",
       "      <td>ultra</td>\n",
       "    </tr>\n",
       "    <tr>\n",
       "      <th>2</th>\n",
       "      <td>340.0</td>\n",
       "      <td>75.0</td>\n",
       "      <td>14.0</td>\n",
       "      <td>ultra</td>\n",
       "    </tr>\n",
       "    <tr>\n",
       "      <th>3</th>\n",
       "      <td>408.0</td>\n",
       "      <td>81.0</td>\n",
       "      <td>14.0</td>\n",
       "      <td>ultra</td>\n",
       "    </tr>\n",
       "    <tr>\n",
       "      <th>4</th>\n",
       "      <td>466.0</td>\n",
       "      <td>57.0</td>\n",
       "      <td>15.0</td>\n",
       "      <td>ultra</td>\n",
       "    </tr>\n",
       "  </tbody>\n",
       "</table>\n",
       "</div>"
      ],
      "text/plain": [
       "   duration  messages  gb_used tariff\n",
       "0     159.0      22.0      3.0  ultra\n",
       "1     172.0      60.0     23.0  ultra\n",
       "2     340.0      75.0     14.0  ultra\n",
       "3     408.0      81.0     14.0  ultra\n",
       "4     466.0      57.0     15.0  ultra"
      ]
     },
     "execution_count": 108,
     "metadata": {},
     "output_type": "execute_result"
    }
   ],
   "source": [
    "pattern = money[['duration','messages','gb_used','tariff']]\n",
    "pattern.head()"
   ]
  },
  {
   "cell_type": "markdown",
   "id": "02d7f37f",
   "metadata": {},
   "source": [
    "<div class=\"alert alert-block alert-info\"> \n",
    "    We will calculate the mean, variance, and standard deviation for the entire dataset.\n",
    "</div>\n"
   ]
  },
  {
   "cell_type": "code",
   "execution_count": 109,
   "id": "92a10691",
   "metadata": {},
   "outputs": [
    {
     "data": {
      "text/html": [
       "<div>\n",
       "<style scoped>\n",
       "    .dataframe tbody tr th:only-of-type {\n",
       "        vertical-align: middle;\n",
       "    }\n",
       "\n",
       "    .dataframe tbody tr th {\n",
       "        vertical-align: top;\n",
       "    }\n",
       "\n",
       "    .dataframe thead th {\n",
       "        text-align: right;\n",
       "    }\n",
       "</style>\n",
       "<table border=\"1\" class=\"dataframe\">\n",
       "  <thead>\n",
       "    <tr style=\"text-align: right;\">\n",
       "      <th></th>\n",
       "      <th>duration</th>\n",
       "      <th>messages</th>\n",
       "      <th>gb_used</th>\n",
       "    </tr>\n",
       "  </thead>\n",
       "  <tbody>\n",
       "    <tr>\n",
       "      <th>mean</th>\n",
       "      <td>451.244866</td>\n",
       "      <td>38.281269</td>\n",
       "      <td>17.299004</td>\n",
       "    </tr>\n",
       "    <tr>\n",
       "      <th>var</th>\n",
       "      <td>58520.437688</td>\n",
       "      <td>1306.701442</td>\n",
       "      <td>54.768645</td>\n",
       "    </tr>\n",
       "    <tr>\n",
       "      <th>std</th>\n",
       "      <td>241.909978</td>\n",
       "      <td>36.148326</td>\n",
       "      <td>7.400584</td>\n",
       "    </tr>\n",
       "  </tbody>\n",
       "</table>\n",
       "</div>"
      ],
      "text/plain": [
       "          duration     messages    gb_used\n",
       "mean    451.244866    38.281269  17.299004\n",
       "var   58520.437688  1306.701442  54.768645\n",
       "std     241.909978    36.148326   7.400584"
      ]
     },
     "execution_count": 109,
     "metadata": {},
     "output_type": "execute_result"
    }
   ],
   "source": [
    "#up = money[['user_id','month','calls','duration','messages','gb_used','tariff_name','gross']]\n",
    "\n",
    "#.duration.agg(['count','sum'])\n",
    "pattern[['duration','messages','gb_used']].agg(['mean','var','std'])"
   ]
  },
  {
   "cell_type": "markdown",
   "id": "659f9dc8",
   "metadata": {},
   "source": [
    "<div class=\"alert alert-block alert-info\"> \n",
    "    We will calculate the mean, variance, and standard deviation for the \"smart\" tariff.\n",
    "</div>\n"
   ]
  },
  {
   "cell_type": "code",
   "execution_count": 110,
   "id": "2d8e22e0",
   "metadata": {},
   "outputs": [
    {
     "data": {
      "text/html": [
       "<div>\n",
       "<style scoped>\n",
       "    .dataframe tbody tr th:only-of-type {\n",
       "        vertical-align: middle;\n",
       "    }\n",
       "\n",
       "    .dataframe tbody tr th {\n",
       "        vertical-align: top;\n",
       "    }\n",
       "\n",
       "    .dataframe thead th {\n",
       "        text-align: right;\n",
       "    }\n",
       "</style>\n",
       "<table border=\"1\" class=\"dataframe\">\n",
       "  <thead>\n",
       "    <tr style=\"text-align: right;\">\n",
       "      <th></th>\n",
       "      <th>duration</th>\n",
       "      <th>messages</th>\n",
       "      <th>gb_used</th>\n",
       "    </tr>\n",
       "  </thead>\n",
       "  <tbody>\n",
       "    <tr>\n",
       "      <th>mean</th>\n",
       "      <td>417.934948</td>\n",
       "      <td>33.384029</td>\n",
       "      <td>16.328847</td>\n",
       "    </tr>\n",
       "    <tr>\n",
       "      <th>var</th>\n",
       "      <td>36219.315784</td>\n",
       "      <td>796.812958</td>\n",
       "      <td>33.028705</td>\n",
       "    </tr>\n",
       "    <tr>\n",
       "      <th>std</th>\n",
       "      <td>190.313730</td>\n",
       "      <td>28.227876</td>\n",
       "      <td>5.747061</td>\n",
       "    </tr>\n",
       "  </tbody>\n",
       "</table>\n",
       "</div>"
      ],
      "text/plain": [
       "          duration    messages    gb_used\n",
       "mean    417.934948   33.384029  16.328847\n",
       "var   36219.315784  796.812958  33.028705\n",
       "std     190.313730   28.227876   5.747061"
      ]
     },
     "execution_count": 110,
     "metadata": {},
     "output_type": "execute_result"
    }
   ],
   "source": [
    "smart_up = pattern.query('tariff == \"smart\"')[['duration','messages','gb_used']].agg(['mean','var','std'])\n",
    "smart_up"
   ]
  },
  {
   "cell_type": "markdown",
   "id": "58eaec8f",
   "metadata": {},
   "source": [
    "<div class=\"alert alert-block alert-info\"> \n",
    "    We will calculate the mean, variance, and standard deviation for the \"ultra\" tariff.\n",
    "</div>\n"
   ]
  },
  {
   "cell_type": "code",
   "execution_count": 111,
   "id": "e52f2820",
   "metadata": {},
   "outputs": [
    {
     "data": {
      "text/html": [
       "<div>\n",
       "<style scoped>\n",
       "    .dataframe tbody tr th:only-of-type {\n",
       "        vertical-align: middle;\n",
       "    }\n",
       "\n",
       "    .dataframe tbody tr th {\n",
       "        vertical-align: top;\n",
       "    }\n",
       "\n",
       "    .dataframe thead th {\n",
       "        text-align: right;\n",
       "    }\n",
       "</style>\n",
       "<table border=\"1\" class=\"dataframe\">\n",
       "  <thead>\n",
       "    <tr style=\"text-align: right;\">\n",
       "      <th></th>\n",
       "      <th>duration</th>\n",
       "      <th>messages</th>\n",
       "      <th>gb_used</th>\n",
       "    </tr>\n",
       "  </thead>\n",
       "  <tbody>\n",
       "    <tr>\n",
       "      <th>mean</th>\n",
       "      <td>526.623350</td>\n",
       "      <td>49.363452</td>\n",
       "      <td>19.494416</td>\n",
       "    </tr>\n",
       "    <tr>\n",
       "      <th>var</th>\n",
       "      <td>100873.633397</td>\n",
       "      <td>2285.266143</td>\n",
       "      <td>97.091686</td>\n",
       "    </tr>\n",
       "    <tr>\n",
       "      <th>std</th>\n",
       "      <td>317.606098</td>\n",
       "      <td>47.804457</td>\n",
       "      <td>9.853511</td>\n",
       "    </tr>\n",
       "  </tbody>\n",
       "</table>\n",
       "</div>"
      ],
      "text/plain": [
       "           duration     messages    gb_used\n",
       "mean     526.623350    49.363452  19.494416\n",
       "var   100873.633397  2285.266143  97.091686\n",
       "std      317.606098    47.804457   9.853511"
      ]
     },
     "execution_count": 111,
     "metadata": {},
     "output_type": "execute_result"
    }
   ],
   "source": [
    "ultra_up = pattern.query('tariff == \"ultra\"')[['duration','messages','gb_used']].agg(['mean','var','std'])\n",
    "ultra_up"
   ]
  },
  {
   "cell_type": "markdown",
   "id": "49f5b216",
   "metadata": {},
   "source": [
    "<div class=\"alert alert-block alert-info\"> \n",
    "    We are creating distribution histograms.\n",
    "</div>\n"
   ]
  },
  {
   "cell_type": "markdown",
   "id": "86fd16c5",
   "metadata": {},
   "source": [
    "<div class=\"alert alert-block alert-info\"> \n",
    "    Call duration.\n",
    "</div>\n"
   ]
  },
  {
   "cell_type": "code",
   "execution_count": 112,
   "id": "a4cd5e11",
   "metadata": {},
   "outputs": [],
   "source": [
    "from matplotlib.ticker import PercentFormatter"
   ]
  },
  {
   "cell_type": "code",
   "execution_count": 113,
   "id": "10835e60",
   "metadata": {},
   "outputs": [
    {
     "data": {
      "image/png": "[encoded data removed]",
      "text/plain": [
       "<Figure size 1000x600 with 1 Axes>"
      ]
     },
     "metadata": {},
     "output_type": "display_data"
    }
   ],
   "source": [
    "plt.figure(figsize=(10, 6))\n",
    "plt.hist(pattern.duration, label = 'common', alpha = 0.7, density = True) \n",
    "plt.hist(pattern.query('tariff == \"smart\"').duration, alpha = 0.7, label = 'smart', density = True)\n",
    "plt.hist(pattern.query('tariff == \"ultra\"').duration, alpha = 0.7, label = 'ultra', density = True)\n",
    "plt.ylabel('Density')\n",
    "plt.xlabel('Minutes')\n",
    "plt.title('Call duration')\n",
    "plt.legend()\n",
    "plt.show()\n",
    "\n"
   ]
  },
  {
   "cell_type": "markdown",
   "id": "786a99c4",
   "metadata": {},
   "source": [
    "<div class=\"alert alert-block alert-info\"> \n",
    "\n",
    "    The histogram for the ultra tariff is more distributed - considering the large buffer of free minutes, everyone speaks as much as they can and need, whereas in the histogram for the smart tariff, it is evident that customers are cautious about the number of minutes, and after reaching the threshold of 500 free minutes, they speak very conservatively.\n",
    "    However, even with a larger reserve of minutes, ultra tariff users rarely exceed 700 minutes.\n",
    "</div>\n"
   ]
  },
  {
   "cell_type": "markdown",
   "id": "3494d7f0",
   "metadata": {},
   "source": [
    "<div class=\"alert alert-block alert-info\"> \n",
    "\n",
    "    Number of messages.\n",
    "</div>\n"
   ]
  },
  {
   "cell_type": "code",
   "execution_count": 114,
   "id": "9599f4be",
   "metadata": {},
   "outputs": [
    {
     "data": {
      "image/png": "[encoded data removed]",
      "text/plain": [
       "<Figure size 1000x600 with 1 Axes>"
      ]
     },
     "metadata": {},
     "output_type": "display_data"
    }
   ],
   "source": [
    "\n",
    "plt.figure(figsize=(10, 6))\n",
    "plt.hist(pattern.messages, label = 'common', alpha = 0.7, density = True)  #up.query('tariff_name == \"ultra\"')['duration']\n",
    "plt.hist(pattern.query('tariff == \"smart\"').messages, alpha = 0.7, label = 'smart', density = True)\n",
    "plt.hist(pattern.query('tariff == \"ultra\"').messages, alpha = 0.7, label = 'ultra', density = True)\n",
    "plt.ylabel('Density')\n",
    "plt.xlabel('Messages')\n",
    "plt.title('Messanges amount')\n",
    "plt.legend()\n",
    "plt.show()"
   ]
  },
  {
   "cell_type": "markdown",
   "id": "e73b483a",
   "metadata": {},
   "source": [
    "<div class=\"alert alert-block alert-info\"> \n",
    "    Based on the histogram, owners of both tariffs rarely use SMS messages - the majority of people send no more than one message per month, and it doesn't vary significantly depending on the tariff. Messaging apps rule the day.\n",
    "</div>\n"
   ]
  },
  {
   "cell_type": "markdown",
   "id": "0b744f2d",
   "metadata": {},
   "source": [
    "<div class=\"alert alert-block alert-info\"> \n",
    "    Volume of used traffic.\n",
    "</div>\n"
   ]
  },
  {
   "cell_type": "code",
   "execution_count": 115,
   "id": "121215dc",
   "metadata": {},
   "outputs": [
    {
     "data": {
      "image/png": "[encoded data removed]",
      "text/plain": [
       "<Figure size 1000x600 with 1 Axes>"
      ]
     },
     "metadata": {},
     "output_type": "display_data"
    }
   ],
   "source": [
    "\n",
    "\n",
    "plt.figure(figsize=(10, 6))\n",
    "plt.hist(pattern.gb_used, label = 'common', alpha = 0.7, density = True) \n",
    "plt.hist(pattern.query('tariff == \"smart\"').gb_used, alpha = 0.7, label = 'smart', density = True)\n",
    "plt.hist(pattern.query('tariff == \"ultra\"').gb_used, alpha = 0.7, label = 'ultra', density = True)\n",
    "plt.ylabel('Density')\n",
    "plt.xlabel('gb_used')\n",
    "plt.title('Internet usage')\n",
    "plt.legend()\n",
    "plt.show()"
   ]
  },
  {
   "cell_type": "markdown",
   "id": "a48accd1",
   "metadata": {},
   "source": [
    "<div class=\"alert alert-block alert-info\"> \n",
    "    The overall need for 17-18 GB of incoming traffic is characteristic of both tariffs. Despite the greater distribution, less than 2% of customers on the ultra tariff exceed 30 GB.\n",
    "</div>\n"
   ]
  },
  {
   "cell_type": "markdown",
   "id": "44e8ab32",
   "metadata": {},
   "source": [
    "<strong><em><h2>Step 4. Testing Hypotheses</h2></em></strong>\n"
   ]
  },
  {
   "cell_type": "markdown",
   "id": "8ff20a18",
   "metadata": {},
   "source": [
    "<div class=\"alert alert-block alert-info\"> \n",
    "    Hypothesis 1: The average revenue of users on the \"Ultra\" and \"Smart\" tariffs differs.\n",
    "</div>\n"
   ]
  },
  {
   "cell_type": "markdown",
   "id": "8834aeae",
   "metadata": {},
   "source": [
    "<div class=\"alert alert-block alert-info\"> \n",
    "    Accordingly, we formulate the null hypothesis as \"The Smart and Ultra tariffs have the same average user revenue,\" and the alternative hypothesis will suggest that they are not equal.\n",
    "</div>\n"
   ]
  },
  {
   "cell_type": "markdown",
   "id": "af9f9047",
   "metadata": {},
   "source": [
    "<div class=\"alert alert-block alert-info\"> \n",
    "    To begin with, we clean the revenue data for each of the tariffs from outliers. To clean it, I will calculate an appropriate sample using the three-sigma rule.\n",
    "</div>\n"
   ]
  },
  {
   "cell_type": "code",
   "execution_count": 116,
   "id": "df4002c4",
   "metadata": {},
   "outputs": [
    {
     "name": "stdout",
     "output_type": "stream",
     "text": [
      "Mean value before cleaning: 2070.1522842639592\n",
      "Standart deviation before cleaning: 376.1871144505328\n",
      "Cleaned Ultra tariff dataset:\n"
     ]
    },
    {
     "data": {
      "text/plain": [
       "count     951.000000\n",
       "mean     2012.145110\n",
       "std       210.493715\n",
       "min      1950.000000\n",
       "25%      1950.000000\n",
       "50%      1950.000000\n",
       "75%      1950.000000\n",
       "max      3150.000000\n",
       "Name: customer_gross, dtype: float64"
      ]
     },
     "execution_count": 116,
     "metadata": {},
     "output_type": "execute_result"
    }
   ],
   "source": [
    "mean_value_ultra = gross.query('tariff == \"ultra\"')['customer_gross'].mean()\n",
    "std_deviation_ultra = gross.query('tariff == \"ultra\"')['customer_gross'].std()\n",
    "\n",
    "lower_bound_ultra = mean_value_ultra - 3 * std_deviation_ultra\n",
    "upper_bound_ultra = mean_value_ultra + 3 * std_deviation_ultra\n",
    "\n",
    "cleaned_data_ultra = gross[(gross['tariff'] == 'ultra') & (gross['customer_gross'] >= lower_bound_ultra) & (gross['customer_gross'] <= upper_bound_ultra)]\n",
    "print('Mean value before cleaning:', mean_value_ultra)\n",
    "print('Standart deviation before cleaning:', std_deviation_ultra)\n",
    "print('Cleaned Ultra tariff dataset:')\n",
    "cleaned_data_ultra.customer_gross.describe()\n"
   ]
  },
  {
   "cell_type": "code",
   "execution_count": 137,
   "id": "1a3e7868",
   "metadata": {},
   "outputs": [
    {
     "name": "stdout",
     "output_type": "stream",
     "text": [
      "Mean value before cleaning: 1289.9735307312696\n",
      "Standart deviation before cleaning: 818.4043670499469\n",
      "Cleaned Smart tariff dataset:\n"
     ]
    },
    {
     "data": {
      "text/plain": [
       "count    2202.000000\n",
       "mean     1250.492734\n",
       "std       736.344550\n",
       "min       550.000000\n",
       "25%       550.000000\n",
       "50%      1008.000000\n",
       "75%      1750.000000\n",
       "max      3693.000000\n",
       "Name: customer_gross, dtype: float64"
      ]
     },
     "execution_count": 137,
     "metadata": {},
     "output_type": "execute_result"
    }
   ],
   "source": [
    "mean_value_smart = gross.query('tariff == \"smart\"')['customer_gross'].mean()\n",
    "std_deviation_smart = gross.query('tariff == \"smart\"')['customer_gross'].std()\n",
    "\n",
    "lower_bound_smart = mean_value_smart - 3 * std_deviation_smart\n",
    "upper_bound_smart = mean_value_smart + 3 * std_deviation_smart\n",
    "\n",
    "cleaned_data_smart = gross[(gross['tariff'] == 'smart') & (gross['customer_gross'] >= lower_bound_smart) & (gross['customer_gross'] <= upper_bound_smart)]\n",
    "print('Mean value before cleaning:', mean_value_smart)\n",
    "print('Standart deviation before cleaning:', std_deviation_smart)\n",
    "print('Cleaned Smart tariff dataset:')\n",
    "cleaned_data_smart.customer_gross.describe()"
   ]
  },
  {
   "cell_type": "markdown",
   "id": "7378b4e6",
   "metadata": {},
   "source": [
    "<div class=\"alert alert-block alert-info\"> \n",
    "Формируем датафрейм с необходимой выборкой усредненной выручки\n",
    "\n",
    "</div>"
   ]
  },
  {
   "cell_type": "markdown",
   "id": "be7111b1",
   "metadata": {},
   "source": [
    "<div class=\"alert alert-success\">\n",
    "    \n",
    "<b> Комментарий от ревьюера 2</b>\n",
    "\n",
    "Спасибо за комментарий\n",
    "\n",
    "</div>"
   ]
  },
  {
   "cell_type": "code",
   "execution_count": 118,
   "id": "0b65bc0d",
   "metadata": {},
   "outputs": [
    {
     "data": {
      "image/png": "[encoded data removed]",
      "text/plain": [
       "<Figure size 1000x600 with 1 Axes>"
      ]
     },
     "metadata": {},
     "output_type": "display_data"
    }
   ],
   "source": [
    "plt.figure(figsize=(10, 6))\n",
    "#plt.hist(pattern.gb_used, label = 'common', alpha = 0.7, density = True) \n",
    "plt.hist(cleaned_data_smart.customer_gross, alpha = 0.7, label = 'smart', density = True)\n",
    "plt.hist(cleaned_data_ultra.customer_gross, alpha = 0.7, label = 'ultra', density = True)\n",
    "plt.ylabel('Density', fontsize = '14')\n",
    "plt.xlabel('Gross', fontsize = '14')\n",
    "plt.title('Customer gross comparasing')\n",
    "plt.legend()\n",
    "plt.show()"
   ]
  },
  {
   "cell_type": "code",
   "execution_count": 119,
   "id": "0749f383",
   "metadata": {
    "scrolled": true
   },
   "outputs": [
    {
     "data": {
      "text/plain": [
       "5.4407469482712685e-188"
      ]
     },
     "execution_count": 119,
     "metadata": {},
     "output_type": "execute_result"
    }
   ],
   "source": [
    "alpha = .05\n",
    "results = st.ttest_ind(cleaned_data_ultra.customer_gross, cleaned_data_smart.customer_gross)\n",
    "results.pvalue\n"
   ]
  },
  {
   "cell_type": "markdown",
   "id": "c94857da",
   "metadata": {},
   "source": [
    "<div class=\"alert alert-block alert-info\"> \n",
    "    We reject the null hypothesis - the revenue is different.\n",
    "</div>\n"
   ]
  },
  {
   "cell_type": "markdown",
   "id": "327db725",
   "metadata": {},
   "source": [
    "<div class=\"alert alert-block alert-info\"> \n",
    "    Hypothesis 2: The average revenue of users from Moscow differs from the revenue of users from other regions.\n",
    "</div>\n"
   ]
  },
  {
   "cell_type": "markdown",
   "id": "6a85a518",
   "metadata": {},
   "source": [
    "<div class=\"alert alert-block alert-info\"> \n",
    "    The corresponding null hypothesis is \"revenue is the same,\" so the alternative hypothesis would be \"revenue is different.\"\n",
    "</div>\n"
   ]
  },
  {
   "cell_type": "markdown",
   "id": "0c383473",
   "metadata": {},
   "source": [
    "<div class=\"alert alert-block alert-info\"> \n",
    "    To obtain the necessary samples, we filter the revenue table based on the city parameter from the users table.\n",
    "</div>\n"
   ]
  },
  {
   "cell_type": "code",
   "execution_count": 120,
   "id": "feb2cd9b",
   "metadata": {},
   "outputs": [
    {
     "name": "stdout",
     "output_type": "stream",
     "text": [
      "<class 'pandas.core.frame.DataFrame'>\n",
      "Index: 99 entries, 1 to 490\n",
      "Data columns (total 8 columns):\n",
      " #   Column      Non-Null Count  Dtype \n",
      "---  ------      --------------  ----- \n",
      " 0   user_id     99 non-null     int64 \n",
      " 1   age         99 non-null     int64 \n",
      " 2   churn_date  9 non-null      object\n",
      " 3   city        99 non-null     object\n",
      " 4   first_name  99 non-null     object\n",
      " 5   last_name   99 non-null     object\n",
      " 6   reg_date    99 non-null     object\n",
      " 7   tariff      99 non-null     object\n",
      "dtypes: int64(2), object(6)\n",
      "memory usage: 7.0+ KB\n"
     ]
    }
   ],
   "source": [
    "Moscow_users = users.query('city == \"Москва\"')\n",
    "Moscow_users.info()"
   ]
  },
  {
   "cell_type": "code",
   "execution_count": 121,
   "id": "3015edfc",
   "metadata": {},
   "outputs": [
    {
     "name": "stdout",
     "output_type": "stream",
     "text": [
      "<class 'pandas.core.frame.DataFrame'>\n",
      "Index: 401 entries, 0 to 499\n",
      "Data columns (total 8 columns):\n",
      " #   Column      Non-Null Count  Dtype \n",
      "---  ------      --------------  ----- \n",
      " 0   user_id     401 non-null    int64 \n",
      " 1   age         401 non-null    int64 \n",
      " 2   churn_date  29 non-null     object\n",
      " 3   city        401 non-null    object\n",
      " 4   first_name  401 non-null    object\n",
      " 5   last_name   401 non-null    object\n",
      " 6   reg_date    401 non-null    object\n",
      " 7   tariff      401 non-null    object\n",
      "dtypes: int64(2), object(6)\n",
      "memory usage: 28.2+ KB\n"
     ]
    }
   ],
   "source": [
    "other_city_users = users.query('city != \"Москва\"')\n",
    "other_city_users.info()"
   ]
  },
  {
   "cell_type": "code",
   "execution_count": 129,
   "id": "f13aaa3e",
   "metadata": {},
   "outputs": [
    {
     "name": "stdout",
     "output_type": "stream",
     "text": [
      "Mean value before cleaning: 1546.7135842880523\n",
      "Standart deviation before cleaning: 752.0880713133841\n",
      "Cleaned Moscow users gross dataset:\n"
     ]
    },
    {
     "data": {
      "text/plain": [
       "count     607.000000\n",
       "mean     1528.261944\n",
       "std       717.739292\n",
       "min       550.000000\n",
       "25%       764.000000\n",
       "50%      1750.000000\n",
       "75%      1950.000000\n",
       "max      3750.000000\n",
       "Name: customer_gross, dtype: float64"
      ]
     },
     "execution_count": 129,
     "metadata": {},
     "output_type": "execute_result"
    }
   ],
   "source": [
    "mean_value_Moscow = gross.query('user_id in @Moscow_users.user_id')['customer_gross'].mean()\n",
    "std_deviation_Moscow = gross.query('user_id in @Moscow_users.user_id')['customer_gross'].std()\n",
    "\n",
    "lower_bound_Moscow = mean_value_Moscow - 3 * std_deviation_Moscow\n",
    "upper_bound_Moscow = mean_value_Moscow + 3 * std_deviation_Moscow\n",
    "\n",
    "cleaned_data_Moscow = gross[(gross['user_id'].isin(Moscow_users['user_id'])) & (gross['customer_gross'] >= lower_bound_Moscow) & (gross['customer_gross'] <= upper_bound_Moscow)]\n",
    "print('Mean value before cleaning:', mean_value_Moscow)\n",
    "print('Standart deviation before cleaning:', std_deviation_Moscow)\n",
    "print('Cleaned Moscow users gross dataset:')\n",
    "cleaned_data_Moscow.customer_gross.describe()"
   ]
  },
  {
   "cell_type": "code",
   "execution_count": 131,
   "id": "3488a117",
   "metadata": {},
   "outputs": [
    {
     "name": "stdout",
     "output_type": "stream",
     "text": [
      "Mean value before cleaning: 1524.9362274298885\n",
      "Standart deviation before cleaning: 808.7877524553716\n",
      "Cleaned Other cities users gross dataset:\n"
     ]
    },
    {
     "data": {
      "text/plain": [
       "count    2583.000000\n",
       "mean     1499.795199\n",
       "std       757.075877\n",
       "min       550.000000\n",
       "25%       750.000000\n",
       "50%      1565.000000\n",
       "75%      1950.000000\n",
       "max      3950.000000\n",
       "Name: customer_gross, dtype: float64"
      ]
     },
     "execution_count": 131,
     "metadata": {},
     "output_type": "execute_result"
    }
   ],
   "source": [
    "mean_value_other_cities = gross.query('user_id in @other_city_users.user_id')['customer_gross'].mean()\n",
    "std_deviation_other_cities = gross.query('user_id in @other_city_users.user_id')['customer_gross'].std()\n",
    "\n",
    "lower_bound_other_cities = mean_value_other_cities - 3 * std_deviation_other_cities\n",
    "upper_bound_other_cities = mean_value_other_cities + 3 * std_deviation_other_cities\n",
    "\n",
    "cleaned_data_other_cities = gross[(gross['user_id'].isin(other_city_users['user_id'])) & (gross['customer_gross'] >= lower_bound_other_cities) & (gross['customer_gross'] <= upper_bound_other_cities)]\n",
    "print('Mean value before cleaning:', mean_value_other_cities)\n",
    "print('Standart deviation before cleaning:', std_deviation_other_cities)\n",
    "print('Cleaned Other cities users gross dataset:')\n",
    "cleaned_data_other_cities.customer_gross.describe()"
   ]
  },
  {
   "cell_type": "code",
   "execution_count": 136,
   "id": "b11736c5",
   "metadata": {},
   "outputs": [
    {
     "data": {
      "text/plain": [
       "0.39999630105665085"
      ]
     },
     "execution_count": 136,
     "metadata": {},
     "output_type": "execute_result"
    }
   ],
   "source": [
    "alpha = 0.05\n",
    "rev1 = st.ttest_ind(cleaned_data_Moscow.customer_gross, cleaned_data_other_cities.customer_gross)\n",
    "rev1.pvalue\n",
    "\n"
   ]
  },
  {
   "cell_type": "markdown",
   "id": "aeb44eaa",
   "metadata": {},
   "source": [
    "<div class=\"alert alert-block alert-info\"> \n",
    "\n",
    "p-value = 0.399\n",
    "\n",
    "In the null hypothesis, we assume that the means of the samples are the same.\n",
    "\n",
    "With alpha = 0.05, we cannot reject the hypothesis of equal means between the samples.\n",
    "\n",
    "\n",
    "</div>"
   ]
  },
  {
   "cell_type": "markdown",
   "id": "7578e2e5",
   "metadata": {},
   "source": [
    " <strong><em><h2>\n",
    " Шаг 5. Общие выводы </em></strong></h2>"
   ]
  },
  {
   "cell_type": "markdown",
   "id": "76cfa4e1",
   "metadata": {},
   "source": [
    "After conducting all the research and testing hypotheses, it can be unequivocally concluded that the \"Ultra\" tariff is highly beneficial for the operator. On average, it generates nearly twice as much revenue, even though when analyzing customer behavior, it becomes evident that fewer than half of the users actually utilize the extra minutes, SMS, and gigabytes included in the plan. Many of them could have comfortably settled for the more affordable \"Smart\" tariff.\n",
    "\n",
    "There is a general trend of high internet traffic consumption: in both tariffs, the majority of users consumed around 18 GB per month while sending minimal SMS messages.\n",
    "\n",
    "Analyzing the tariffs and observing the overages incurred by \"Smart\" tariff users who exceeded their data limits, it is possible to propose a new tariff to the operator. This new tariff could offer the same number of minutes and SMS messages but with a significantly higher data allowance, nearly double the price of the subscription fee (1,350 rubles). This makes sense as people are effectively already paying these amounts, but as excess charges.\n"
   ]
  },
  {
   "cell_type": "code",
   "execution_count": 90,
   "id": "d02e32e4",
   "metadata": {},
   "outputs": [
    {
     "data": {
      "text/plain": [
       "count     797.000000\n",
       "mean     2153.281054\n",
       "std       720.192654\n",
       "min      1350.000000\n",
       "25%      1577.000000\n",
       "50%      1969.000000\n",
       "75%      2550.000000\n",
       "max      6770.000000\n",
       "Name: gross, dtype: float64"
      ]
     },
     "execution_count": 90,
     "metadata": {},
     "output_type": "execute_result"
    }
   ],
   "source": [
    "money.query('tariff_name == \"smart\" and gb_used > 18')['gross'].describe()"
   ]
  }
 ],
 "metadata": {
  "ExecuteTimeLog": [
   {
    "duration": 1186,
    "start_time": "2021-09-11T19:02:03.636Z"
   },
   {
    "duration": 997,
    "start_time": "2021-09-11T19:02:04.824Z"
   },
   {
    "duration": 17,
    "start_time": "2021-09-11T19:02:05.826Z"
   },
   {
    "duration": 13,
    "start_time": "2021-09-11T19:02:05.845Z"
   },
   {
    "duration": 10,
    "start_time": "2021-09-11T19:02:05.860Z"
   },
   {
    "duration": 7,
    "start_time": "2021-09-11T19:02:05.872Z"
   },
   {
    "duration": 12,
    "start_time": "2021-09-11T19:02:05.882Z"
   },
   {
    "duration": 5,
    "start_time": "2021-09-11T19:02:05.897Z"
   },
   {
    "duration": 40,
    "start_time": "2021-09-11T19:02:05.904Z"
   },
   {
    "duration": 8,
    "start_time": "2021-09-11T19:02:05.946Z"
   },
   {
    "duration": 46,
    "start_time": "2021-09-11T19:02:05.955Z"
   },
   {
    "duration": 42,
    "start_time": "2021-09-11T19:02:06.003Z"
   },
   {
    "duration": 21,
    "start_time": "2021-09-11T19:02:06.046Z"
   },
   {
    "duration": 37,
    "start_time": "2021-09-11T19:02:06.068Z"
   },
   {
    "duration": 47,
    "start_time": "2021-09-11T19:02:06.107Z"
   },
   {
    "duration": 14,
    "start_time": "2021-09-11T19:02:06.156Z"
   },
   {
    "duration": 5,
    "start_time": "2021-09-11T19:02:06.172Z"
   },
   {
    "duration": 23,
    "start_time": "2021-09-11T19:02:06.178Z"
   },
   {
    "duration": 41,
    "start_time": "2021-09-11T19:02:06.202Z"
   },
   {
    "duration": 12,
    "start_time": "2021-09-11T19:02:06.245Z"
   },
   {
    "duration": 31,
    "start_time": "2021-09-11T19:02:06.259Z"
   },
   {
    "duration": 21,
    "start_time": "2021-09-11T19:02:06.294Z"
   },
   {
    "duration": 43,
    "start_time": "2021-09-11T19:02:06.319Z"
   },
   {
    "duration": 9,
    "start_time": "2021-09-11T19:02:06.364Z"
   },
   {
    "duration": 32,
    "start_time": "2021-09-11T19:02:06.375Z"
   },
   {
    "duration": 48,
    "start_time": "2021-09-11T19:02:06.409Z"
   },
   {
    "duration": 11,
    "start_time": "2021-09-11T19:02:06.459Z"
   },
   {
    "duration": 29,
    "start_time": "2021-09-11T19:02:06.471Z"
   },
   {
    "duration": 8,
    "start_time": "2021-09-11T19:02:06.502Z"
   },
   {
    "duration": 42,
    "start_time": "2021-09-11T19:02:06.512Z"
   },
   {
    "duration": 6,
    "start_time": "2021-09-11T19:02:06.556Z"
   },
   {
    "duration": 10,
    "start_time": "2021-09-11T19:02:06.564Z"
   },
   {
    "duration": 8,
    "start_time": "2021-09-11T19:02:06.576Z"
   },
   {
    "duration": 14,
    "start_time": "2021-09-11T19:02:06.586Z"
   },
   {
    "duration": 46,
    "start_time": "2021-09-11T19:02:06.602Z"
   },
   {
    "duration": 18,
    "start_time": "2021-09-11T19:02:06.650Z"
   },
   {
    "duration": 14,
    "start_time": "2021-09-11T19:02:06.669Z"
   },
   {
    "duration": 9,
    "start_time": "2021-09-11T19:02:06.685Z"
   },
   {
    "duration": 48,
    "start_time": "2021-09-11T19:02:06.696Z"
   },
   {
    "duration": 19,
    "start_time": "2021-09-11T19:02:06.746Z"
   },
   {
    "duration": 18,
    "start_time": "2021-09-11T19:02:06.767Z"
   },
   {
    "duration": 10,
    "start_time": "2021-09-11T19:02:06.787Z"
   },
   {
    "duration": 10,
    "start_time": "2021-09-11T19:02:06.799Z"
   },
   {
    "duration": 30,
    "start_time": "2021-09-11T19:02:06.841Z"
   },
   {
    "duration": 11,
    "start_time": "2021-09-11T19:02:06.873Z"
   },
   {
    "duration": 34,
    "start_time": "2021-09-11T19:02:06.885Z"
   },
   {
    "duration": 38,
    "start_time": "2021-09-11T19:02:06.920Z"
   },
   {
    "duration": 21,
    "start_time": "2021-09-11T19:02:06.960Z"
   },
   {
    "duration": 4,
    "start_time": "2021-09-11T19:02:06.982Z"
   },
   {
    "duration": 7,
    "start_time": "2021-09-11T19:02:06.987Z"
   },
   {
    "duration": 15,
    "start_time": "2021-09-11T19:02:06.996Z"
   },
   {
    "duration": 40,
    "start_time": "2021-09-11T19:02:07.013Z"
   },
   {
    "duration": 30,
    "start_time": "2021-09-11T19:02:07.054Z"
   },
   {
    "duration": 27,
    "start_time": "2021-09-11T19:02:07.086Z"
   },
   {
    "duration": 36,
    "start_time": "2021-09-11T19:02:07.115Z"
   },
   {
    "duration": 26,
    "start_time": "2021-09-11T19:02:07.152Z"
   },
   {
    "duration": 25,
    "start_time": "2021-09-11T19:02:07.180Z"
   },
   {
    "duration": 42,
    "start_time": "2021-09-11T19:02:07.207Z"
   },
   {
    "duration": 13,
    "start_time": "2021-09-11T19:02:07.250Z"
   },
   {
    "duration": 7,
    "start_time": "2021-09-11T19:02:07.265Z"
   },
   {
    "duration": 8,
    "start_time": "2021-09-11T19:02:07.274Z"
   },
   {
    "duration": 10,
    "start_time": "2021-09-11T19:02:07.284Z"
   },
   {
    "duration": 17,
    "start_time": "2021-09-11T19:02:07.295Z"
   },
   {
    "duration": 9,
    "start_time": "2021-09-11T19:02:07.314Z"
   },
   {
    "duration": 252,
    "start_time": "2021-09-11T19:02:07.324Z"
   },
   {
    "duration": 263,
    "start_time": "2021-09-11T19:02:07.578Z"
   },
   {
    "duration": 241,
    "start_time": "2021-09-11T19:02:07.846Z"
   },
   {
    "duration": 10,
    "start_time": "2021-09-11T19:02:08.089Z"
   },
   {
    "duration": 6,
    "start_time": "2021-09-11T19:02:08.101Z"
   },
   {
    "duration": 11,
    "start_time": "2021-09-11T19:02:08.108Z"
   },
   {
    "duration": 27,
    "start_time": "2021-09-11T19:02:08.121Z"
   },
   {
    "duration": 6,
    "start_time": "2021-09-11T19:02:08.150Z"
   },
   {
    "duration": 10,
    "start_time": "2021-09-11T19:02:08.158Z"
   },
   {
    "duration": 229,
    "start_time": "2021-09-11T19:02:08.169Z"
   },
   {
    "duration": 223,
    "start_time": "2021-09-11T19:02:08.400Z"
   },
   {
    "duration": 16,
    "start_time": "2021-09-11T19:02:08.625Z"
   },
   {
    "duration": 13,
    "start_time": "2021-09-11T19:02:08.643Z"
   },
   {
    "duration": 17,
    "start_time": "2021-09-11T19:02:08.657Z"
   },
   {
    "duration": 17,
    "start_time": "2021-09-11T19:02:08.676Z"
   },
   {
    "duration": 50,
    "start_time": "2021-09-11T19:02:08.694Z"
   },
   {
    "duration": 22,
    "start_time": "2021-09-11T19:02:08.745Z"
   },
   {
    "duration": 5,
    "start_time": "2021-09-11T19:02:08.768Z"
   },
   {
    "duration": 13,
    "start_time": "2021-09-11T19:02:08.775Z"
   },
   {
    "duration": 25,
    "start_time": "2021-09-11T19:16:30.186Z"
   },
   {
    "duration": 249,
    "start_time": "2021-09-11T19:24:22.190Z"
   },
   {
    "duration": 19,
    "start_time": "2021-09-11T19:26:13.237Z"
   },
   {
    "duration": 22,
    "start_time": "2021-09-11T19:26:25.160Z"
   },
   {
    "duration": 21,
    "start_time": "2021-09-11T19:39:37.419Z"
   },
   {
    "duration": 23,
    "start_time": "2021-09-11T19:40:59.848Z"
   },
   {
    "duration": 5,
    "start_time": "2021-09-11T19:42:54.461Z"
   },
   {
    "duration": 5,
    "start_time": "2021-09-11T19:43:09.791Z"
   },
   {
    "duration": 5,
    "start_time": "2021-09-11T19:43:13.793Z"
   },
   {
    "duration": 6,
    "start_time": "2021-09-11T19:47:06.205Z"
   },
   {
    "duration": 19,
    "start_time": "2021-09-11T19:47:40.151Z"
   },
   {
    "duration": 6,
    "start_time": "2021-09-11T19:51:20.808Z"
   },
   {
    "duration": 14,
    "start_time": "2021-09-11T19:58:18.510Z"
   },
   {
    "duration": 11,
    "start_time": "2021-09-11T20:03:43.404Z"
   },
   {
    "duration": 86,
    "start_time": "2021-09-11T20:03:51.349Z"
   },
   {
    "duration": 8,
    "start_time": "2021-09-11T20:03:54.205Z"
   },
   {
    "duration": 10,
    "start_time": "2021-09-11T20:04:06.465Z"
   },
   {
    "duration": 11,
    "start_time": "2021-09-11T20:04:11.233Z"
   },
   {
    "duration": 12,
    "start_time": "2021-09-11T20:04:18.621Z"
   },
   {
    "duration": 9,
    "start_time": "2021-09-11T20:04:54.708Z"
   },
   {
    "duration": 8,
    "start_time": "2021-09-11T20:09:33.994Z"
   },
   {
    "duration": 8,
    "start_time": "2021-09-11T20:09:38.943Z"
   },
   {
    "duration": 8,
    "start_time": "2021-09-11T20:09:41.696Z"
   },
   {
    "duration": 5,
    "start_time": "2021-09-11T20:10:01.660Z"
   },
   {
    "duration": 5,
    "start_time": "2021-09-11T20:10:05.908Z"
   },
   {
    "duration": 1390,
    "start_time": "2021-09-12T19:12:37.193Z"
   },
   {
    "duration": 1325,
    "start_time": "2021-09-12T19:12:38.586Z"
   },
   {
    "duration": 27,
    "start_time": "2021-09-12T19:12:39.915Z"
   },
   {
    "duration": 20,
    "start_time": "2021-09-12T19:12:39.945Z"
   },
   {
    "duration": 56,
    "start_time": "2021-09-12T19:12:39.968Z"
   },
   {
    "duration": 15,
    "start_time": "2021-09-12T19:12:40.027Z"
   },
   {
    "duration": 20,
    "start_time": "2021-09-12T19:12:40.045Z"
   },
   {
    "duration": 7,
    "start_time": "2021-09-12T19:12:40.070Z"
   },
   {
    "duration": 10,
    "start_time": "2021-09-12T19:12:40.117Z"
   },
   {
    "duration": 8,
    "start_time": "2021-09-12T19:12:40.129Z"
   },
   {
    "duration": 10,
    "start_time": "2021-09-12T19:12:40.139Z"
   },
   {
    "duration": 8,
    "start_time": "2021-09-12T19:12:40.152Z"
   },
   {
    "duration": 9,
    "start_time": "2021-09-12T19:12:40.162Z"
   },
   {
    "duration": 6,
    "start_time": "2021-09-12T19:12:40.216Z"
   },
   {
    "duration": 8,
    "start_time": "2021-09-12T19:12:40.225Z"
   },
   {
    "duration": 14,
    "start_time": "2021-09-12T19:12:40.236Z"
   },
   {
    "duration": 12,
    "start_time": "2021-09-12T19:12:40.252Z"
   },
   {
    "duration": 89,
    "start_time": "2021-09-12T19:12:40.266Z"
   },
   {
    "duration": 39,
    "start_time": "2021-09-12T19:12:40.358Z"
   },
   {
    "duration": 39,
    "start_time": "2021-09-12T19:12:40.400Z"
   },
   {
    "duration": 84,
    "start_time": "2021-09-12T19:12:40.442Z"
   },
   {
    "duration": 37,
    "start_time": "2021-09-12T19:12:40.529Z"
   },
   {
    "duration": 47,
    "start_time": "2021-09-12T19:12:40.572Z"
   },
   {
    "duration": 7,
    "start_time": "2021-09-12T19:12:40.625Z"
   },
   {
    "duration": 32,
    "start_time": "2021-09-12T19:12:40.635Z"
   },
   {
    "duration": 46,
    "start_time": "2021-09-12T19:12:40.670Z"
   },
   {
    "duration": 16,
    "start_time": "2021-09-12T19:12:40.719Z"
   },
   {
    "duration": 50,
    "start_time": "2021-09-12T19:12:40.738Z"
   },
   {
    "duration": 46,
    "start_time": "2021-09-12T19:12:40.791Z"
   },
   {
    "duration": 31,
    "start_time": "2021-09-12T19:12:40.840Z"
   },
   {
    "duration": 10,
    "start_time": "2021-09-12T19:12:40.873Z"
   },
   {
    "duration": 67,
    "start_time": "2021-09-12T19:12:40.885Z"
   },
   {
    "duration": 23,
    "start_time": "2021-09-12T19:12:40.955Z"
   },
   {
    "duration": 13,
    "start_time": "2021-09-12T19:12:40.980Z"
   },
   {
    "duration": 56,
    "start_time": "2021-09-12T19:12:40.995Z"
   },
   {
    "duration": 12,
    "start_time": "2021-09-12T19:12:41.053Z"
   },
   {
    "duration": 50,
    "start_time": "2021-09-12T19:12:41.068Z"
   },
   {
    "duration": 34,
    "start_time": "2021-09-12T19:12:41.121Z"
   },
   {
    "duration": 16,
    "start_time": "2021-09-12T19:12:41.158Z"
   },
   {
    "duration": 42,
    "start_time": "2021-09-12T19:12:41.177Z"
   },
   {
    "duration": 22,
    "start_time": "2021-09-12T19:12:41.221Z"
   },
   {
    "duration": 24,
    "start_time": "2021-09-12T19:12:41.245Z"
   },
   {
    "duration": 50,
    "start_time": "2021-09-12T19:12:41.272Z"
   },
   {
    "duration": 21,
    "start_time": "2021-09-12T19:12:41.324Z"
   },
   {
    "duration": 20,
    "start_time": "2021-09-12T19:12:41.348Z"
   },
   {
    "duration": 50,
    "start_time": "2021-09-12T19:12:41.370Z"
   },
   {
    "duration": 30,
    "start_time": "2021-09-12T19:12:41.423Z"
   },
   {
    "duration": 29,
    "start_time": "2021-09-12T19:12:41.455Z"
   },
   {
    "duration": 44,
    "start_time": "2021-09-12T19:12:41.486Z"
   },
   {
    "duration": 20,
    "start_time": "2021-09-12T19:12:41.533Z"
   },
   {
    "duration": 9,
    "start_time": "2021-09-12T19:12:41.556Z"
   },
   {
    "duration": 66,
    "start_time": "2021-09-12T19:12:41.568Z"
   },
   {
    "duration": 36,
    "start_time": "2021-09-12T19:12:41.636Z"
   },
   {
    "duration": 15,
    "start_time": "2021-09-12T19:12:41.674Z"
   },
   {
    "duration": 67,
    "start_time": "2021-09-12T19:12:41.692Z"
   },
   {
    "duration": 65,
    "start_time": "2021-09-12T19:12:41.762Z"
   },
   {
    "duration": 37,
    "start_time": "2021-09-12T19:12:41.830Z"
   },
   {
    "duration": 4,
    "start_time": "2021-09-12T19:12:41.869Z"
   },
   {
    "duration": 45,
    "start_time": "2021-09-12T19:12:41.875Z"
   },
   {
    "duration": 21,
    "start_time": "2021-09-12T19:12:41.923Z"
   },
   {
    "duration": 19,
    "start_time": "2021-09-12T19:12:41.946Z"
   },
   {
    "duration": 55,
    "start_time": "2021-09-12T19:12:41.967Z"
   },
   {
    "duration": 40,
    "start_time": "2021-09-12T19:12:42.025Z"
   },
   {
    "duration": 16,
    "start_time": "2021-09-12T19:12:42.067Z"
   },
   {
    "duration": 43,
    "start_time": "2021-09-12T19:12:42.085Z"
   },
   {
    "duration": 24,
    "start_time": "2021-09-12T19:12:42.131Z"
   },
   {
    "duration": 19,
    "start_time": "2021-09-12T19:12:42.158Z"
   },
   {
    "duration": 49,
    "start_time": "2021-09-12T19:12:42.185Z"
   },
   {
    "duration": 4,
    "start_time": "2021-09-12T19:12:42.237Z"
   },
   {
    "duration": 451,
    "start_time": "2021-09-12T19:12:42.243Z"
   },
   {
    "duration": 423,
    "start_time": "2021-09-12T19:12:42.696Z"
   },
   {
    "duration": 409,
    "start_time": "2021-09-12T19:12:43.122Z"
   },
   {
    "duration": 16,
    "start_time": "2021-09-12T19:12:43.535Z"
   },
   {
    "duration": 24,
    "start_time": "2021-09-12T19:12:43.554Z"
   },
   {
    "duration": 36,
    "start_time": "2021-09-12T19:12:43.581Z"
   },
   {
    "duration": 15,
    "start_time": "2021-09-12T19:12:43.620Z"
   },
   {
    "duration": 25,
    "start_time": "2021-09-12T19:12:43.638Z"
   },
   {
    "duration": 28,
    "start_time": "2021-09-12T19:12:43.665Z"
   },
   {
    "duration": 320,
    "start_time": "2021-09-12T19:12:43.696Z"
   },
   {
    "duration": 323,
    "start_time": "2021-09-12T19:12:44.018Z"
   },
   {
    "duration": 7,
    "start_time": "2021-09-12T19:12:44.344Z"
   },
   {
    "duration": 32,
    "start_time": "2021-09-12T19:12:44.353Z"
   },
   {
    "duration": 39,
    "start_time": "2021-09-12T19:12:44.387Z"
   },
   {
    "duration": 21,
    "start_time": "2021-09-12T19:12:44.428Z"
   },
   {
    "duration": 16,
    "start_time": "2021-09-12T19:12:44.451Z"
   },
   {
    "duration": 21,
    "start_time": "2021-09-12T19:12:44.469Z"
   },
   {
    "duration": 32,
    "start_time": "2021-09-12T19:12:44.493Z"
   },
   {
    "duration": 7,
    "start_time": "2021-09-12T19:12:44.527Z"
   },
   {
    "duration": 27,
    "start_time": "2021-09-12T19:12:44.536Z"
   },
   {
    "duration": 27,
    "start_time": "2021-09-12T19:12:44.565Z"
   },
   {
    "duration": 38,
    "start_time": "2021-09-12T19:20:31.324Z"
   },
   {
    "duration": 11,
    "start_time": "2021-09-12T19:25:54.179Z"
   },
   {
    "duration": 11,
    "start_time": "2021-09-12T19:26:02.013Z"
   }
  ],
  "kernelspec": {
   "display_name": "Python 3 (ipykernel)",
   "language": "python",
   "name": "python3"
  },
  "language_info": {
   "codemirror_mode": {
    "name": "ipython",
    "version": 3
   },
   "file_extension": ".py",
   "mimetype": "text/x-python",
   "name": "python",
   "nbconvert_exporter": "python",
   "pygments_lexer": "ipython3",
   "version": "3.11.5"
  },
  "toc": {
   "base_numbering": 1,
   "nav_menu": {},
   "number_sections": true,
   "sideBar": true,
   "skip_h1_title": true,
   "title_cell": "Table of Contents",
   "title_sidebar": "Contents",
   "toc_cell": false,
   "toc_position": {},
   "toc_section_display": true,
   "toc_window_display": false
  }
 },
 "nbformat": 4,
 "nbformat_minor": 5
}
